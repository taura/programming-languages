{
  "cells": [
    {
      "cell_type": "markdown",
      "metadata": {
        "kernel": "SoS",
        "nbgrader": {
          "grade": false,
          "grade_id": "c-001",
          "locked": true,
          "schema_version": 3,
          "solution": false,
          "task": false
        }
      },
      "source": [
        "\n",
        "#  Programming Languages (3) --- Object-Oriented Programming Basics",
        ""
      ]
    },
    {
      "cell_type": "markdown",
      "metadata": {
        "kernel": "SoS",
        "nbgrader": {
          "grade": false,
          "grade_id": "c-002",
          "locked": false,
          "schema_version": 3,
          "solution": false,
          "task": false
        }
      },
      "source": [
        "\n",
        "Enter your name and student ID.\n",
        "\n",
        " * Name:\n",
        " * Student ID:\n",
        ""
      ]
    },
    {
      "cell_type": "markdown",
      "metadata": {
        "kernel": "SoS",
        "nbgrader": {
          "grade": false,
          "grade_id": "c-003",
          "locked": true,
          "schema_version": 3,
          "solution": false,
          "task": false
        }
      },
      "source": [
        "# 1. Choose your language",
        "\n",
        "Choose a language you want to work on for today from the following.\n",
        "\n",
        "* Go --- designed as a \"better C\"\n",
        "* Julia --- popular for scientific computing\n",
        "* OCaml --- a practical functional language\n",
        "* Rust --- a system programming language with memory safety without garbage collection\n",
        "\n",
        "Declare your choice in the following cell.  In this notebook, I will work on\n",
        ""
      ]
    },
    {
      "cell_type": "markdown",
      "metadata": {
        "kernel": "SoS",
        "nbgrader": {
          "grade": true,
          "grade_id": "p-001",
          "locked": false,
          "schema_version": 3,
          "solution": true,
          "task": false,
          "points": 1
        }
      },
      "source": [
        "BEGIN SOLUTION\n",
        "END SOLUTION"
      ]
    },
    {
      "cell_type": "markdown",
      "metadata": {
        "kernel": "SoS",
        "nbgrader": {
          "grade": false,
          "grade_id": "c-004",
          "locked": true,
          "schema_version": 3,
          "solution": false,
          "task": false
        }
      },
      "source": [
        "# 2. Roadmap",
        "\n",
        "* Below, you are going to learn the basics of object-oriented programming, a cornerstone of all modern programming languages\n",
        "\n",
        "1. define two data types representing _rectangles_ (`rect`) and _ellipses_ (`ellipse`)\n",
        "1. define functions or methods that compute their areas\n",
        "1. have an array or a similar container that _mixes_ both rectangles and ellipses\n",
        "1. some languages require you to define another type (something like `shape` or `Shape` encompassing both rectangles and ellipses)\n",
        "\n",
        "* Note: follow case conventions/requirements about type names of your language; Go, Julia and Rust conventionally capitalize them and OCaml requires them to be in lowercase\n",
        "\n",
        "# <font color=\"green\"> Problem 1 :  Read documents</font>",
        "\n",
        "* Before you start, spend some time to go through relevant sections of your language manual\n",
        "\n",
        " |     |                                     |\n",
        " | :-- | :---------------------------------- |\n",
        " |Go   |[Data](https://go.dev/doc/effective_go#data)|\n",
        " |     |[Methods](https://go.dev/doc/effective_go#methods)|\n",
        " |     |[Interfaces and other types](https://go.dev/doc/effective_go#interfaces_and_types)|\n",
        " |Julia|[Composite Types](https://docs.julialang.org/en/v1/manual/types/#Composite-Types)|\n",
        " |     |[Methods](https://docs.julialang.org/en/v1/manual/methods/#Methods)|\n",
        " |OCaml|[Objects in OCaml](https://ocaml.org/manual/objectexamples.html)|\n",
        " |     |[Data types](https://ocaml.org/manual/coreexamples.html#s:datatypes)|\n",
        " |Rust |[Using Structs to Structure Related Data](https://doc.rust-lang.org/book/ch05-00-structs.html)|\n",
        " |     |[Method Syntax](https://doc.rust-lang.org/book/ch05-03-method-syntax.html?highlight=impl#method-syntax)|\n",
        " |     |[Traits: Defining Shared Behavior](https://doc.rust-lang.org/book/ch10-02-traits.html)|\n",
        "\n",
        "\n",
        "# 3. Prepare AI Tutor",
        "\n",
        "* Execute the following cell to set up your tutor"
      ]
    },
    {
      "cell_type": "code",
      "metadata": {
        "kernel": "Python 3 (ipykernel)",
        "nbgrader": {
          "grade": false,
          "grade_id": "c-005",
          "locked": false,
          "schema_version": 3,
          "solution": false,
          "task": false
        }
      },
      "source": [
        "from heytutor import *\n",
        "config(default_lang=\" ... \")  # choose one of Go/Julia/OCaml/Rust"
      ],
      "execution_count": null,
      "outputs": []
    },
    {
      "cell_type": "markdown",
      "metadata": {
        "kernel": "SoS",
        "nbgrader": {
          "grade": false,
          "grade_id": "c-006",
          "locked": true,
          "schema_version": 3,
          "solution": false,
          "task": false
        }
      },
      "source": [
        "* You may want to ask a few basics"
      ]
    },
    {
      "cell_type": "code",
      "metadata": {
        "kernel": "Python 3 (ipykernel)",
        "nbgrader": {
          "grade": false,
          "grade_id": "c-007",
          "locked": false,
          "schema_version": 3,
          "solution": false,
          "task": false
        }
      },
      "source": [
        "I(\"how to define a class or something equivalent\")\n",
        "#I(\"how to make an instance of a class\")"
      ],
      "execution_count": null,
      "outputs": []
    },
    {
      "cell_type": "markdown",
      "metadata": {
        "kernel": "SoS",
        "nbgrader": {
          "grade": false,
          "grade_id": "c-008",
          "locked": true,
          "schema_version": 3,
          "solution": false,
          "task": false
        }
      },
      "source": [
        "# 4. Class definition",
        "\n",
        "* A _class_ is a way to define a composite type along with some functions associated with it (_methods_)\n",
        "* Different languages call the mechanism differently; it is called `struct` in C++, Go, Julia, and Rust, or `class` in C++, Java, Python and OCaml\n",
        "* No matter how it's called in your language, it generally defines what kind of fields or functions (typically called _methods_) data of that class have\n",
        "\n",
        "## <font color=\"green\"> Problem 2 :  Define data structure representing a rectangle and an ellipse</font>",
        "\n",
        "* Define two new data types `rect` (or `Rect`) and `ellipse` (or `Ellipse`) representing a rectangle and an ellipse, respectively \n",
        "* For simplicity, you may assume sides of rectangles and axes of ellipses are parallel to x- or y-axis\n",
        "* We will later define a type that encompasses both of them (which might be named `shape` or `Shape`) if necessary and other shapes such as lines, polygons, etc.\n",
        "* Relevant constructs and related sections in the documentation\n",
        "\n",
        " |     |      |                                     |\n",
        " | :-- | :--- | :---------------------------------- |\n",
        " |Go   |struct|[Data](https://go.dev/doc/effective_go#data) |\n",
        " |Julia|struct|[Composite Types](https://docs.julialang.org/en/v1/manual/types/#Composite-Types)|\n",
        " |OCaml|class |[Objects in OCaml](https://ocaml.org/manual/objectexamples.html)|\n",
        " |Rust |struct|[Using Structs to Structure Related Data](https://doc.rust-lang.org/book/ch05-00-structs.html)|\n",
        "\n",
        "* Note: In OCaml, you could use `type` construct to define just a single type `shape` with two constructors (perhaps `Rect` and `Ellipse`).  Similarly, you can use `enum` with multiple constructors in Rust.\n",
        "* In this exercise, however, use `class`/`object` of OCaml or `struct` of Rust to define each of rectangle and ellipse as a separate type\n",
        "\n",
        "* Note: when using `class`/`object` of OCaml, you need to define its methods at the same time.  You can do it here or the problem below\n",
        "\n",
        "**解答セル/Answer Cell**"
      ]
    },
    {
      "cell_type": "code",
      "metadata": {
        "kernel": "Python 3 (ipykernel)",
        "nbgrader": {
          "grade": true,
          "grade_id": "p-002",
          "locked": false,
          "schema_version": 3,
          "solution": true,
          "task": false,
          "points": 1
        }
      },
      "source": [
        "BEGIN SOLUTION\n",
        "END SOLUTION"
      ],
      "execution_count": null,
      "outputs": []
    },
    {
      "cell_type": "markdown",
      "metadata": {
        "kernel": "SoS",
        "nbgrader": {
          "grade": false,
          "grade_id": "c-009",
          "locked": true,
          "schema_version": 3,
          "solution": false,
          "task": false
        }
      },
      "source": [
        "# 5. Methods",
        "\n",
        "* _Methods_ are similar to functions, except that a method of the same name can be defined (i.e., implemented differently) for different classes\n",
        "* When you call a method, which of the different implementations of the same name gets called is determined by the type(s) of its argument(s) (_dynamic dispatch_)\n",
        "\n",
        " |     |        |                                       |\n",
        " | :-- | :----- | :------------------------------------ |\n",
        " |Go   |func    |[Methods](https://go.dev/doc/effective_go#methods)|\n",
        " |Julia|function|[Methods](https://docs.julialang.org/en/v1/manual/methods/#Methods)|\n",
        " |OCaml|method  |[Objects in OCaml](https://ocaml.org/manual/objectexamples.html)|\n",
        " |Rust |impl    |[Method Syntax](https://doc.rust-lang.org/book/ch05-03-method-syntax.html?highlight=impl#method-syntax)|\n",
        "\n",
        "## <font color=\"green\"> Problem 3 :  Define a method that computes the area of rect/ellipse</font>",
        "\n",
        "* Define `area` method for `rect` and `ellipse` that computes its area\n",
        "\n",
        "**解答セル/Answer Cell**"
      ]
    },
    {
      "cell_type": "code",
      "metadata": {
        "kernel": "Python 3 (ipykernel)",
        "nbgrader": {
          "grade": true,
          "grade_id": "p-003",
          "locked": false,
          "schema_version": 3,
          "solution": true,
          "task": false,
          "points": 1
        }
      },
      "source": [
        "BEGIN SOLUTION\n",
        "END SOLUTION"
      ],
      "execution_count": null,
      "outputs": []
    },
    {
      "cell_type": "markdown",
      "metadata": {
        "kernel": "SoS",
        "nbgrader": {
          "grade": false,
          "grade_id": "c-010",
          "locked": true,
          "schema_version": 3,
          "solution": false,
          "task": false
        }
      },
      "source": [
        "# 6. Subtypes and similar concepts (interface, trait, etc.)",
        "\n",
        "* Now that we have defined two different methods with the same name `area`, but it wouldn't be that useful, unless you can have _a_ variable that holds values of both types at different points of an execution\n",
        "* For example, we like to have an array (or any container data) that has both rectangles and ellipses and iterate over them, assigning a variable elements of different types over time, e.g., like this in Python\n",
        "```\n",
        "for s in shapes:\n",
        "    s.area()\n",
        "```    \n",
        "* An issue is, _what should be the type of the variable `s` or `shapes` above?_  How to declare their types?\n",
        "* Intuitively, we need a type that encompasses both rectangles and ellipses (and perhaps other shapes defined in future), perhaps called `shape`\n",
        "* Approaches differ between languages\n",
        "  * some languages (e.g., Java, C/C++) let you define `shape` explicitly and _extend_ it to define rectangles and ellipses\n",
        "  * Go and Rust introduce _interface_ or _trait_, that look like types but do not allow creation of actual data that belong to them (some would call them _abstract types_); they basically specify what kind of methods must be implemented for any data to claim a particular interface or trait\n",
        "* Superficially, it does not appear to be an issue in languages that do not require any type declarations (e.g., Python, Julia, or OCaml)\n",
        "* It is true to some extent, but a more profound issue is whether the language can guarantee, prior to execution, that type errors do not happen during runtime\n",
        "\n",
        " |     |         |                           |\n",
        " | :-- | :------ |:--------------------------|\n",
        " |Go   |interface|[Interfaces and other types](https://go.dev/doc/effective_go#interfaces_and_types)|\n",
        " |Julia|         ||\n",
        " |OCaml|         ||\n",
        " |Rust |trait    |[Traits: Defining Shared Behavior](https://doc.rust-lang.org/book/ch10-02-traits.html)|\n",
        "\n",
        "## <font color=\"green\"> Problem 4 :  Create an array/a list/a vector/a slice </font>",
        "\n",
        "* Create an array-like data structure that has _both_ rectangle(s) and ellipse(s)\n",
        "* For simplicity, create a two-element array whose\n",
        "  * first element : a rectangle whose lower left corner is (0,0) and upper right corner is (100,100)\n",
        "  * second element : an ellipse whose center is (0,0) and the radius along x-axis 100 and the radius along y-axis is 50\n",
        "* Depending on the language you chose, you may have to define a type encompassing rect and ellipse and perhaps have to redefine rect and ellipse too\n",
        "\n",
        "* Some languages have idiosyncrasies for arrays and similar containers, which you might find confusing\n",
        "* Some pointers about ways to create arrays or similar containers in each language\n",
        "\n",
        " |     |      |        |                                       |\n",
        " |:----|:-----|:-------|:--------------------------------------|\n",
        " |Go   |array |new     |[Arrays](https://go.dev/doc/effective_go#arrays) |\n",
        " |Go   |slice |make    |[Slices](https://go.dev/doc/effective_go#slices) |\n",
        " |Julia|array |[a,b,..]|[Array literals](https://docs.julialang.org/en/v1/manual/arrays/#man-array-literals)|\n",
        " |OCaml|list  |[a;b;..]   |[Data types](https://ocaml.org/manual/coreexamples.html#s:datatypes)|\n",
        " |OCaml|array |[\\|a;b;..\\|] |[Imperative features](https://ocaml.org/manual/coreexamples.html#s:imperative-features)|\n",
        " |Rust |array |[a,b,..]   |[The Array Type](https://doc.rust-lang.org/book/ch03-02-data-types.html#the-array-type)|\n",
        " |Rust |slice |&array   |[The Slice Type](https://doc.rust-lang.org/book/ch04-03-slices.html)|\n",
        " |Rust |Vec   |Vec::new|[Storing Lists of Values with Vectors](https://doc.rust-lang.org/book/ch08-01-vectors.html#storing-lists-of-values-with-vectors)|\n",
        "\n",
        "**解答セル/Answer Cell**"
      ]
    },
    {
      "cell_type": "code",
      "metadata": {
        "kernel": "Python 3 (ipykernel)",
        "nbgrader": {
          "grade": true,
          "grade_id": "p-004",
          "locked": false,
          "schema_version": 3,
          "solution": true,
          "task": false,
          "points": 1
        }
      },
      "source": [
        "BEGIN SOLUTION\n",
        "END SOLUTION"
      ],
      "execution_count": null,
      "outputs": []
    },
    {
      "cell_type": "markdown",
      "metadata": {
        "kernel": "SoS",
        "nbgrader": {
          "grade": false,
          "grade_id": "c-011",
          "locked": true,
          "schema_version": 3,
          "solution": false,
          "task": false
        }
      },
      "source": [
        "# 7. Working on mixed collections",
        "\n",
        "## <font color=\"green\"> Problem 5 :  Scan an array of shapes</font>",
        "\n",
        "* Write a function, named `sum_area`, which scans an array of shapes and returns the sum of each shape's area\n",
        "* Apply `sum_area` to the list created above \n",
        "\n",
        " |     |      |                                              |\n",
        " | :-- | :--- | :------------------------------------------- |\n",
        " |Go   |for   |[For](https://go.dev/doc/effective_go#for)    |\n",
        " |Julia|for   |[Repeated Evaluation: Loops](https://docs.julialang.org/en/v1/manual/control-flow/#man-loops)|\n",
        " |OCaml|List  |[Module List](https://ocaml.org/api/List.html)|\n",
        " |OCaml|for   |[Loops](https://ocaml.org/manual/expr.html#sss:expr-loops)|\n",
        " |Rust |for   |[Looping Through a Collection with for](https://doc.rust-lang.org/book/ch03-05-control-flow.html#looping-through-a-collection-with-for)|\n",
        "\n",
        "**解答セル/Answer Cell**"
      ]
    },
    {
      "cell_type": "code",
      "metadata": {
        "kernel": "Python 3 (ipykernel)",
        "nbgrader": {
          "grade": true,
          "grade_id": "p-005",
          "locked": false,
          "schema_version": 3,
          "solution": true,
          "task": false,
          "points": 1
        }
      },
      "source": [
        "BEGIN SOLUTION\n",
        "END SOLUTION"
      ],
      "execution_count": null,
      "outputs": []
    },
    {
      "cell_type": "markdown",
      "metadata": {
        "kernel": "SoS",
        "nbgrader": {
          "grade": false,
          "grade_id": "c-012",
          "locked": true,
          "schema_version": 3,
          "solution": false,
          "task": false
        }
      },
      "source": [
        "# 8. Static vs. dynamic type checking",
        "\n",
        "* What if you pass an array some of whose element do not have `area` method?\n",
        "* Some languages simply allow such a program to start execution and raise an error (type error) _at runtime_ (_dynamic type checking_), while others do not allow such programs to compile, by detecting such errors prior to execution (_static type checking_)\n",
        "* A profound language design issue is how to statically type-check, while allowing maximum flexibility\n",
        ""
      ]
    }
  ],
  "metadata": {
    "celltoolbar": "Create Assignment",
    "kernelspec": {
      "display_name": "SoS",
      "language": "sos",
      "name": "sos"
    },
    "language_info": {
      "codemirror_mode": "sos",
      "file_extension": ".sos",
      "mimetype": "text/x-sos",
      "name": "sos",
      "nbconvert_exporter": "sos_notebook.converter.SoS_Exporter",
      "pygments_lexer": "sos"
    },
    "sos": {
      "kernels": [
        [
          "Bash",
          "bash",
          "bash",
          "",
          "shell"
        ],
        [
          "C",
          "c_kernel",
          "c",
          "",
          ""
        ],
        [
          "Go",
          "gophernotes",
          "go",
          "",
          ""
        ],
        [
          "Julia 1.11.4",
          "julia-1.11",
          "julia",
          "",
          ""
        ],
        [
          "OCaml 4.14.2",
          "ocaml-jupyter",
          "OCaml",
          "",
          "text/x-ocaml"
        ],
        [
          "Python 3 (ipykernel)",
          "python3",
          "python3",
          "",
          {
            "name": "ipython",
            "version": 3
          }
        ],
        [
          "Rust",
          "rust",
          "rust",
          "",
          ""
        ]
      ],
      "panel": {
        "displayed": true,
        "height": 0
      },
      "version": "0.23.3"
    }
  },
  "nbformat": 4,
  "nbformat_minor": 4
}