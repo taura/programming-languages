{
  "cells": [
    {
      "cell_type": "markdown",
      "metadata": {
        "kernel": "SoS",
        "nbgrader": {
          "grade": false,
          "grade_id": "c-001",
          "locked": true,
          "schema_version": 3,
          "solution": false,
          "task": false
        }
      },
      "source": [
        "#  Programming Languages (9) --- Observing and measuring memory management",
        ""
      ]
    },
    {
      "cell_type": "markdown",
      "metadata": {
        "kernel": "SoS",
        "nbgrader": {
          "grade": false,
          "grade_id": "c-002",
          "locked": false,
          "schema_version": 3,
          "solution": false,
          "task": false
        }
      },
      "source": [
        "\n",
        "Enter your name and student ID.\n",
        "\n",
        " * Name:\n",
        " * Student ID:\n",
        ""
      ]
    },
    {
      "cell_type": "markdown",
      "metadata": {
        "kernel": "SoS",
        "nbgrader": {
          "grade": false,
          "grade_id": "c-003",
          "locked": true,
          "schema_version": 3,
          "solution": false,
          "task": false
        }
      },
      "source": [
        "# 1. Introduction",
        "\n",
        "* in this notebook, you are going to observe, measure, and tune memory management\n",
        "\n",
        "# 2. Prepare AI Tutor",
        "\n",
        "* execute the following cell to set up your tutor"
      ]
    },
    {
      "cell_type": "code",
      "metadata": {
        "kernel": "Python 3 (ipykernel)",
        "nbgrader": {
          "grade": false,
          "grade_id": "c-004",
          "locked": false,
          "schema_version": 3,
          "solution": false,
          "task": false
        }
      },
      "source": [
        "from heytutor import *\n",
        "config(default_lang=\" ... \")  # choose one of Go/Julia/OCaml/Rust"
      ],
      "execution_count": null,
      "outputs": []
    },
    {
      "cell_type": "markdown",
      "metadata": {
        "kernel": "SoS",
        "nbgrader": {
          "grade": false,
          "grade_id": "c-005",
          "locked": true,
          "schema_version": 3,
          "solution": false,
          "task": false
        }
      },
      "source": [
        "* you may want to ask a few basics"
      ]
    },
    {
      "cell_type": "code",
      "metadata": {
        "kernel": "Python 3 (ipykernel)",
        "nbgrader": {
          "grade": false,
          "grade_id": "c-006",
          "locked": false,
          "schema_version": 3,
          "solution": false,
          "task": false
        }
      },
      "source": [
        "I(\"\"\"memory allocation basics\"\"\")"
      ],
      "execution_count": null,
      "outputs": []
    },
    {
      "cell_type": "markdown",
      "metadata": {
        "kernel": "SoS",
        "nbgrader": {
          "grade": false,
          "grade_id": "c-007",
          "locked": true,
          "schema_version": 3,
          "solution": false,
          "task": false
        }
      },
      "source": [
        "# 3. Roadmap",
        "\n",
        "* I have given you a benchmark program that stresses memory allocator in the four programming languages\n",
        "* you collaborate with members in your team to measure and compare the performance of the four languages from several angles \n",
        "  * <font color=\"blue\">speed</font>\n",
        "  * <font color=\"blue\">memory consumption</font>\n",
        "  * <font color=\"blue\">pause time</font>\n",
        "* you also investigate performance knobs of your language (e.g., heap size) and try to improve a performance criteria if possible\n",
        "\n",
        "# 4. Benchmark program",
        "\n",
        "* You are given a program that performs the following\n",
        "1. allocate an array $A$ of $M$ elements, each element of which is a reference to an array of $S$ 64-bit integers (that is, $A$ is an array of array of 64-bit integers)\n",
        "1. repeat $N$ times allocating $S$-element array of 64-bit integers and put it in one of the elements of $A$\n",
        "\n",
        "* default values for $S$, $M$, and $N$ are as follows (they can be specified by the command line)\n",
        "  * <font color=\"blue\">$S$ : $1000 \\times 1000$</font>\n",
        "  * <font color=\"blue\">$M$ : $100$</font>\n",
        "  * <font color=\"blue\">$N$ : $M \\times 10$</font>\n",
        "\n",
        "## 4-1. Go",
        "\n",
        "<font color=\"blue\">Note: you do not have to execute the following cell</font>\n",
        ""
      ]
    },
    {
      "cell_type": "code",
      "metadata": {
        "kernel": "Go",
        "nbgrader": {
          "grade": false,
          "grade_id": "c-008",
          "locked": false,
          "schema_version": 3,
          "solution": false,
          "task": false
        }
      },
      "source": [
        "package main\n",
        "import (\n",
        "    \"os\"\n",
        "    \"strconv\"\n",
        "    \"fmt\"\n",
        ")\n",
        "\n",
        "func get_int64(args []string, i int, def_val int64) int64 {\n",
        "\tif i < len(args)  {\n",
        "\t\tx, _ := strconv.Atoi(args[i])\n",
        "\t\treturn int64(x)\n",
        "\t} else {\n",
        "\t\treturn def_val\n",
        "\t}\n",
        "}\n",
        "\n",
        "\n",
        "func main() {\n",
        "\ts := get_int64(os.Args, 1, int64(1000 * 1000))\n",
        "\tm := get_int64(os.Args, 2, int64(100))\n",
        "\tn := get_int64(os.Args, 3, m * 10)\n",
        "    sizeof_elem := int64(8)\n",
        "    if sizeof_elem * s * m > (1 << 30) {\n",
        "        fmt.Printf(\"you'd better not allocate that much memory\\n\")\n",
        "        fmt.Printf(\"sizeof_element(8) * s(%d) * m(%d) = %d > 1GB\\n\", s, m, sizeof_elem * s * m)\n",
        "        os.Exit(1)\n",
        "    }\n",
        "    a := make([][]int64, m)\n",
        "    for i := int64(0); i < n; i++ {\n",
        "        b := make([]int64, s)\n",
        "        a[i % m] = b\n",
        "    }\n",
        "}"
      ],
      "execution_count": null,
      "outputs": []
    },
    {
      "cell_type": "markdown",
      "metadata": {
        "kernel": "SoS",
        "nbgrader": {
          "grade": false,
          "grade_id": "c-009",
          "locked": true,
          "schema_version": 3,
          "solution": false,
          "task": false
        }
      },
      "source": [
        "## 4-2. Julia",
        "\n",
        "<font color=\"blue\">Note: you do not have to execute the following cell</font>\n",
        ""
      ]
    },
    {
      "cell_type": "code",
      "metadata": {
        "kernel": "Julia 1.11.4",
        "nbgrader": {
          "grade": false,
          "grade_id": "c-010",
          "locked": false,
          "schema_version": 3,
          "solution": false,
          "task": false
        }
      },
      "source": [
        "import Printf\n",
        "\n",
        "function main()\n",
        "    argc = length(ARGS)\n",
        "    s = if argc >= 1 parse(Int64, ARGS[1]) else 1000 * 1000 end\n",
        "    m = if argc >= 2 parse(Int64, ARGS[2]) else 100 end\n",
        "    n = if argc >= 3 parse(Int64, ARGS[3]) else m * 10 end\n",
        "    if sizeof(Int64) * s * m > (1 << 30)\n",
        "        Printf.@printf(\"you'd better not allocate that much memory\")\n",
        "        Printf.@printf(\"sizeof element(8) * s(%d) * m(%d) = %d > 1GB\\n\", s, m, sizeof(Int64) * s * m)\n",
        "        exit(1)\n",
        "    end\n",
        "    a = Vector{Vector{Int64}}(undef, m)\n",
        "    for i = 1:n\n",
        "        b = fill(0, s)\n",
        "        a[(i - 1) % m + 1] = b\n",
        "    end\n",
        "end\n",
        "\n",
        "main()"
      ],
      "execution_count": null,
      "outputs": []
    },
    {
      "cell_type": "markdown",
      "metadata": {
        "kernel": "SoS",
        "nbgrader": {
          "grade": false,
          "grade_id": "c-011",
          "locked": true,
          "schema_version": 3,
          "solution": false,
          "task": false
        }
      },
      "source": [
        "## 4-3. OCaml",
        "\n",
        "<font color=\"blue\">Note: you do not have to execute the following cell</font>\n",
        ""
      ]
    },
    {
      "cell_type": "code",
      "metadata": {
        "kernel": "OCaml 4.14.2",
        "nbgrader": {
          "grade": false,
          "grade_id": "c-012",
          "locked": false,
          "schema_version": 3,
          "solution": false,
          "task": false
        }
      },
      "source": [
        "let main () = \n",
        "  let argv = Sys.argv in\n",
        "  let argc = Array.length argv in\n",
        "  let s = if argc > 1 then int_of_string argv.(1) else 1000 * 1000 in\n",
        "  let m = if argc > 2 then int_of_string argv.(2) else 100 in\n",
        "  let n = if argc > 3 then int_of_string argv.(3) else m * 10 in\n",
        "  let sizeof_elem = 8 in\n",
        "  let _ = if sizeof_elem * s * m > (1 lsl 30) then\n",
        "            (Printf.printf \"you'd better not allocate that much memory\\n\" ;\n",
        "             Printf.printf \"sizeof element(8) * s(%d) * m(%d) = %d > 1GB\\n\" s m (sizeof_elem * s * m);\n",
        "             exit 1) in\n",
        "  let b = Array.make s 0L in\n",
        "  let a = Array.make m b in\n",
        "  let rec allocate_loop i =\n",
        "    if i < n then\n",
        "      let b = Array.make s 0L in\n",
        "      let _ = a.(i mod m) <- b in\n",
        "      allocate_loop (i + 1)\n",
        "  in\n",
        "  allocate_loop 0\n",
        ";;\n",
        "\n",
        "main ()"
      ],
      "execution_count": null,
      "outputs": []
    },
    {
      "cell_type": "markdown",
      "metadata": {
        "kernel": "SoS",
        "nbgrader": {
          "grade": false,
          "grade_id": "c-013",
          "locked": true,
          "schema_version": 3,
          "solution": false,
          "task": false
        }
      },
      "source": [
        "## 4-4. Rust",
        "\n",
        "<font color=\"blue\">Note: you do not have to execute the following cell</font>\n",
        ""
      ]
    },
    {
      "cell_type": "code",
      "metadata": {
        "kernel": "Rust",
        "nbgrader": {
          "grade": false,
          "grade_id": "c-014",
          "locked": false,
          "schema_version": 3,
          "solution": false,
          "task": false
        }
      },
      "source": [
        "fn main() {\n",
        "    let args : Vec<String> = std::env::args().collect();\n",
        "    let argc = args.len();\n",
        "    let s = if argc > 1 { args[1].parse::<usize>().unwrap() } else { 1_000_000 };\n",
        "    let m = if argc > 2 { args[2].parse::<usize>().unwrap() } else { 100 };\n",
        "    let n = if argc > 3 { args[3].parse::<usize>().unwrap() } else { m * 10 };\n",
        "    let sizeof_elem = 8;\n",
        "    if sizeof_elem * s * m > (1 << 30) {\n",
        "        println!(\"you'd better not allocate that much memory\");\n",
        "        println!(\"sizeof element(8) * s({}) * m({}) = {} > 1GB\", s, m, sizeof_elem * s * m);\n",
        "        std::process::exit(1)\n",
        "    }\n",
        "    let b = Box::new(vec![0i64; s]);\n",
        "    let mut a = Box::new(vec![b; m]);\n",
        "    for i in 0..n {\n",
        "        let b = Box::new(vec![0i64; s]);\n",
        "        a[i % m] = b;\n",
        "    }\n",
        "}"
      ],
      "execution_count": null,
      "outputs": []
    },
    {
      "cell_type": "markdown",
      "metadata": {
        "kernel": "SoS",
        "nbgrader": {
          "grade": false,
          "grade_id": "c-015",
          "locked": true,
          "schema_version": 3,
          "solution": false,
          "task": false
        }
      },
      "source": [
        "# <font color=\"green\"> Problem 1 :  Discuss this program</font>",
        "\n",
        "* Discuss these programs with your team members and confirm they are doing what I said they do\n",
        "* <font color=\"green\">Q1:</font> Assuming the memory management system is \"perfect\" in the sense it retains only those objects that are reachable from the root, what is the minimum amount of memory this program requires for those arrays?  Express it in terms of $S$, $M$, and $N$\n",
        "* Write your team's answer in the Excel book I gave to each team on OneDrive\n",
        "\n",
        "# 5. A C program that leaks",
        "\n",
        "* Before looking at Go/Julia/OCaml/Rust, let's look at C version that does not free allocated memory and see what happens\n",
        "* To observe \"what happens,\" we print the address of each allocated array\n",
        "* In C, a pointer is actually an address; you can print it just by casting it into an integer of an appropriate size (e.g., `printf(\"%p\", (long)p)`)\n",
        "\n",
        "* Prepare a working directory\n",
        ""
      ]
    },
    {
      "cell_type": "code",
      "metadata": {
        "kernel": "Bash",
        "nbgrader": {
          "grade": false,
          "grade_id": "c-016",
          "locked": false,
          "schema_version": 3,
          "solution": false,
          "task": false
        }
      },
      "source": [
        "mkdir -p ~/notebooks/pl09_memory_management/p2/cc/show_addr_no_gc"
      ],
      "execution_count": null,
      "outputs": []
    },
    {
      "cell_type": "markdown",
      "metadata": {
        "kernel": "SoS",
        "nbgrader": {
          "grade": false,
          "grade_id": "c-017",
          "locked": true,
          "schema_version": 3,
          "solution": false,
          "task": false
        }
      },
      "source": [
        "* Write the souce file\n",
        ""
      ]
    },
    {
      "cell_type": "code",
      "metadata": {
        "kernel": "Python 3 (ipykernel)",
        "nbgrader": {
          "grade": false,
          "grade_id": "c-018",
          "locked": false,
          "schema_version": 3,
          "solution": false,
          "task": false
        }
      },
      "source": [
        "%%writefile p2/cc/show_addr_no_gc/show_addr_no_gc.cc\n",
        "#include <stdio.h>\n",
        "#include <stdlib.h>\n",
        "#include <time.h>\n",
        "\n",
        "\n",
        "typedef long T;\n",
        "\n",
        "int main(int argc, char ** argv) {\n",
        "  long s = (1 < argc ? atol(argv[1]) : 1000 * 1000);\n",
        "  long m = (2 < argc ? atol(argv[2]) : 100);\n",
        "  long n = (3 < argc ? atol(argv[3]) : m * 10);\n",
        "  if (sizeof(T) * s * n > (1L << 31)) {\n",
        "      fprintf(stderr, \"you'd better not allocate that much memory\\n\");\n",
        "      fprintf(stderr, \"sizeof element(8) * s(%ld) * n(%ld) > 2GB\\n\", s, n);\n",
        "      exit(1);\n",
        "  }\n",
        "  T ** a = (T **)malloc(sizeof(T *) * m);\n",
        "  for (long i = 0; i < n; i++) {\n",
        "    T * b = (T *)malloc(sizeof(T) * s);\n",
        "    a[i % m] = b;\n",
        "    printf(\"%ld\\t%ld\\n\", i, (long)&b[0]);\n",
        "  }\n",
        "  return 0;\n",
        "}\n",
        ""
      ],
      "execution_count": null,
      "outputs": []
    },
    {
      "cell_type": "markdown",
      "metadata": {
        "kernel": "SoS",
        "nbgrader": {
          "grade": false,
          "grade_id": "c-019",
          "locked": true,
          "schema_version": 3,
          "solution": false,
          "task": false
        }
      },
      "source": [
        "* Compile it\n",
        ""
      ]
    },
    {
      "cell_type": "code",
      "metadata": {
        "kernel": "Bash",
        "nbgrader": {
          "grade": false,
          "grade_id": "c-020",
          "locked": false,
          "schema_version": 3,
          "solution": false,
          "task": false
        }
      },
      "source": [
        "cd ~/notebooks/pl09_memory_management/p2/cc/show_addr_no_gc\n",
        "gcc -O3 -Wall -Wextra -o show_addr_no_gc show_addr_no_gc.cc"
      ],
      "execution_count": null,
      "outputs": []
    },
    {
      "cell_type": "markdown",
      "metadata": {
        "kernel": "SoS",
        "nbgrader": {
          "grade": false,
          "grade_id": "c-021",
          "locked": true,
          "schema_version": 3,
          "solution": false,
          "task": false
        }
      },
      "source": [
        "* Execute it\n",
        "* The following command prints N lines; be careful not to make it too large\n",
        ""
      ]
    },
    {
      "cell_type": "code",
      "metadata": {
        "kernel": "Bash",
        "nbgrader": {
          "grade": false,
          "grade_id": "c-022",
          "locked": false,
          "schema_version": 3,
          "solution": false,
          "task": false
        }
      },
      "source": [
        "cd ~/notebooks/pl09_memory_management/p2/cc/show_addr_no_gc\n",
        "S=$((1000 * 1000))\n",
        "M=10\n",
        "N=$((M * 10))\n",
        "/usr/bin/time ./show_addr_no_gc ${S} ${M} ${N}"
      ],
      "execution_count": null,
      "outputs": []
    },
    {
      "cell_type": "markdown",
      "metadata": {
        "kernel": "SoS",
        "nbgrader": {
          "grade": false,
          "grade_id": "c-023",
          "locked": true,
          "schema_version": 3,
          "solution": false,
          "task": false
        }
      },
      "source": [
        "# <font color=\"green\"> Problem 2 :  Observe leak</font>",
        "\n",
        "* Visualize these addresses in the Excel book I made for each team on OneDrive\n",
        "  * The x-axis: the number of times you allocated (iteration number)\n",
        "  * The y-axis: the address offset (see below)\n",
        "* In order to easily grasp how many bytes they are spread across, show addresses as their offsets from the minimum of all addresses (so that the minimum address is shown as zero)\n",
        "* e.g., if the result is\n",
        "```\n",
        "0,100000000\n",
        "1,100010000\n",
        "2,100020000\n",
        "3,100030000\n",
        "```\n",
        "you should visualize it as follows\n",
        "```\n",
        "0,0\n",
        "1,10000\n",
        "2,20000\n",
        "3,30000\n",
        "```\n",
        "* You can perform this conversion to offsets either with Excel formula or by a program\n",
        "* To put data in the Excel book, copy-and-paste from Jupyter is not recommended; you instead redirect the output of the program into a file (e.g., _command_ > out.csv) and download it.  Open it in the text editor or Excel and copy it in the Excel book on OneDrive\n",
        "* Hint : use scatter-plot\n",
        "* Discuss the visualized data and understand what it means\n",
        "  * <font color=\"green\">Q2:</font> : what is the sign that memory is \"leaked\"?\n",
        "  * <font color=\"green\">Q3:</font> : how many bytes two consecutive arrays are apart?  How it relates to $S$, $M$, or $N$?\n",
        "\n",
        "# 6. Automatic memory management (reclamation)",
        "\n",
        "* Now let's see what happens in languages doing automatic memory management\n",
        "* We do what we did for C in each of the four languages; print the addresses of allocated arrays\n",
        "* Execute the program of the language you are assigned to\n",
        "\n",
        "## 6-1. Go",
        "\n",
        "* In Go, you can simply print an address of an array `b` by something like\n",
        "```\n",
        "fmt.Printf(\"%d\\n\", &b[0])\n",
        "```\n",
        "* check if you can run `go` command\n",
        ""
      ]
    },
    {
      "cell_type": "code",
      "metadata": {
        "kernel": "Bash",
        "nbgrader": {
          "grade": false,
          "grade_id": "c-024",
          "locked": false,
          "schema_version": 3,
          "solution": false,
          "task": false
        }
      },
      "source": [
        "go version"
      ],
      "execution_count": null,
      "outputs": []
    },
    {
      "cell_type": "markdown",
      "metadata": {
        "kernel": "SoS",
        "nbgrader": {
          "grade": false,
          "grade_id": "c-025",
          "locked": true,
          "schema_version": 3,
          "solution": false,
          "task": false
        }
      },
      "source": [
        "* if it raises an error indicating `go` command is not found, add `~/go/bin` to your `PATH` environment variable\n",
        ""
      ]
    },
    {
      "cell_type": "code",
      "metadata": {
        "kernel": "Bash",
        "nbgrader": {
          "grade": false,
          "grade_id": "c-026",
          "locked": false,
          "schema_version": 3,
          "solution": false,
          "task": false
        }
      },
      "source": [
        "export PATH=~/go/bin:$PATH"
      ],
      "execution_count": null,
      "outputs": []
    },
    {
      "cell_type": "code",
      "metadata": {
        "kernel": "Bash",
        "nbgrader": {
          "grade": false,
          "grade_id": "c-027",
          "locked": false,
          "schema_version": 3,
          "solution": false,
          "task": false
        }
      },
      "source": [
        "mkdir -p ~/notebooks/pl09_memory_management/p3/go/show_addr\n",
        "cd ~/notebooks/pl09_memory_management/p3/go/show_addr\n",
        "go mod init show_addr"
      ],
      "execution_count": null,
      "outputs": []
    },
    {
      "cell_type": "code",
      "metadata": {
        "kernel": "Python 3 (ipykernel)",
        "nbgrader": {
          "grade": false,
          "grade_id": "c-028",
          "locked": false,
          "schema_version": 3,
          "solution": false,
          "task": false
        }
      },
      "source": [
        "%%writefile p3/go/show_addr/show_addr.go\n",
        "package main\n",
        "import (\n",
        "    \"os\"\n",
        "    \"strconv\"\n",
        "    \"fmt\"\n",
        ")\n",
        "\n",
        "func get_int64(args []string, i int, def_val int64) int64 {\n",
        "\tif i < len(args)  {\n",
        "\t\tx, _ := strconv.Atoi(args[i])\n",
        "\t\treturn int64(x)\n",
        "\t} else {\n",
        "\t\treturn def_val\n",
        "\t}\n",
        "}\n",
        "\n",
        "\n",
        "func main() {\n",
        "\ts := get_int64(os.Args, 1, int64(1000 * 1000))\n",
        "\tm := get_int64(os.Args, 2, int64(100))\n",
        "\tn := get_int64(os.Args, 3, m * 10)\n",
        "    sizeof_elem := int64(8)\n",
        "    if sizeof_elem * s * m > (1 << 30) {\n",
        "        fmt.Printf(\"you'd better not allocate that much memory\\n\")\n",
        "        fmt.Printf(\"sizeof_element(8) * s(%d) * m(%d) = %d > 1GB\\n\", s, m, sizeof_elem * s * m)\n",
        "        os.Exit(1)\n",
        "    }\n",
        "    a := make([][]int64, m)\n",
        "    for i := int64(0); i < n; i++ {\n",
        "        b := make([]int64, s)\n",
        "        a[i % m] = b\n",
        "        fmt.Printf(\"%d\\t%d\\n\", i, &b[0])\n",
        "    }\n",
        "}"
      ],
      "execution_count": null,
      "outputs": []
    },
    {
      "cell_type": "code",
      "metadata": {
        "kernel": "Bash",
        "nbgrader": {
          "grade": false,
          "grade_id": "c-029",
          "locked": false,
          "schema_version": 3,
          "solution": false,
          "task": false
        }
      },
      "source": [
        "cd ~/notebooks/pl09_memory_management/p3/go/show_addr\n",
        "go build"
      ],
      "execution_count": null,
      "outputs": []
    },
    {
      "cell_type": "code",
      "metadata": {
        "kernel": "Bash",
        "nbgrader": {
          "grade": false,
          "grade_id": "c-030",
          "locked": false,
          "schema_version": 3,
          "solution": false,
          "task": false
        }
      },
      "source": [
        "cd ~/notebooks/pl09_memory_management/p3/go/show_addr\n",
        "S=$((1000 * 1000))\n",
        "M=100\n",
        "N=$((M * 10))\n",
        "/usr/bin/time ./show_addr ${S} ${M} ${N}"
      ],
      "execution_count": null,
      "outputs": []
    },
    {
      "cell_type": "markdown",
      "metadata": {
        "kernel": "SoS",
        "nbgrader": {
          "grade": false,
          "grade_id": "c-031",
          "locked": true,
          "schema_version": 3,
          "solution": false,
          "task": false
        }
      },
      "source": [
        "## 6-2. Julia",
        "\n",
        "* In Julia, to print an address of an array `b`, you first get a pointer by `p = pointer(b)` and cast it into an integer by `Int64(p)`\n",
        "* Check if you can run `julia` command\n",
        ""
      ]
    },
    {
      "cell_type": "code",
      "metadata": {
        "kernel": "Bash",
        "nbgrader": {
          "grade": false,
          "grade_id": "c-032",
          "locked": false,
          "schema_version": 3,
          "solution": false,
          "task": false
        }
      },
      "source": [
        "julia --version"
      ],
      "execution_count": null,
      "outputs": []
    },
    {
      "cell_type": "markdown",
      "metadata": {
        "kernel": "SoS",
        "nbgrader": {
          "grade": false,
          "grade_id": "c-033",
          "locked": true,
          "schema_version": 3,
          "solution": false,
          "task": false
        }
      },
      "source": [
        "* If it raises an error indicating `julia` command is not found, add `~/.juliaup/bin` to your `PATH` environment variable\n",
        ""
      ]
    },
    {
      "cell_type": "code",
      "metadata": {
        "kernel": "Bash",
        "nbgrader": {
          "grade": false,
          "grade_id": "c-034",
          "locked": false,
          "schema_version": 3,
          "solution": false,
          "task": false
        }
      },
      "source": [
        "export PATH=~/.juliaup/bin:$PATH"
      ],
      "execution_count": null,
      "outputs": []
    },
    {
      "cell_type": "code",
      "metadata": {
        "kernel": "Bash",
        "nbgrader": {
          "grade": false,
          "grade_id": "c-035",
          "locked": false,
          "schema_version": 3,
          "solution": false,
          "task": false
        }
      },
      "source": [
        "mkdir -p ~/notebooks/pl09_memory_management/p3/jl/show_addr"
      ],
      "execution_count": null,
      "outputs": []
    },
    {
      "cell_type": "code",
      "metadata": {
        "kernel": "Python 3 (ipykernel)",
        "nbgrader": {
          "grade": false,
          "grade_id": "c-036",
          "locked": false,
          "schema_version": 3,
          "solution": false,
          "task": false
        }
      },
      "source": [
        "%%writefile p3/jl/show_addr/show_addr.jl\n",
        "import Printf\n",
        "\n",
        "function main()\n",
        "    argc = length(ARGS)\n",
        "    s = if argc >= 1 parse(Int64, ARGS[1]) else 1000 * 1000 end\n",
        "    m = if argc >= 2 parse(Int64, ARGS[2]) else 100 end\n",
        "    n = if argc >= 3 parse(Int64, ARGS[3]) else m * 10 end\n",
        "    if sizeof(Int64) * s * m > (1 << 30)\n",
        "        Printf.@printf(\"you'd better not allocate that much memory\")\n",
        "        Printf.@printf(\"sizeof element(8) * s(%d) * m(%d) = %d > 1GB\\n\", s, m, sizeof(Int64) * s * m)\n",
        "        exit(1)\n",
        "    end\n",
        "    a = Vector{Vector{Int64}}(undef, m)\n",
        "    for i = 1:n\n",
        "        b = fill(0, s)\n",
        "        p = pointer(b)\n",
        "        a[(i - 1) % m + 1] = b\n",
        "        Printf.@printf(\"%ld\\t%ld\\n\", i, Int64(p))\n",
        "    end\n",
        "end\n",
        "\n",
        "main()"
      ],
      "execution_count": null,
      "outputs": []
    },
    {
      "cell_type": "code",
      "metadata": {
        "kernel": "Bash",
        "nbgrader": {
          "grade": false,
          "grade_id": "c-037",
          "locked": false,
          "schema_version": 3,
          "solution": false,
          "task": false
        }
      },
      "source": [
        "cd ~/notebooks/pl09_memory_management/p3/jl/show_addr\n",
        "S=$((1000 * 1000))\n",
        "M=100\n",
        "N=$((M * 10))\n",
        "/usr/bin/time julia ./show_addr.jl ${S} ${M} ${N}"
      ],
      "execution_count": null,
      "outputs": []
    },
    {
      "cell_type": "markdown",
      "metadata": {
        "kernel": "SoS",
        "nbgrader": {
          "grade": false,
          "grade_id": "c-038",
          "locked": true,
          "schema_version": 3,
          "solution": false,
          "task": false
        }
      },
      "source": [
        "## 6-3. OCaml",
        "\n",
        "* In OCaml, to print an address of an array `b`, `Obj.magic (Obj.repr b)` does the trick\n",
        "* Check if you can run `ocamlc` command\n",
        ""
      ]
    },
    {
      "cell_type": "code",
      "metadata": {
        "kernel": "Bash",
        "nbgrader": {
          "grade": false,
          "grade_id": "c-039",
          "locked": false,
          "schema_version": 3,
          "solution": false,
          "task": false
        }
      },
      "source": [
        "ocamlc --version"
      ],
      "execution_count": null,
      "outputs": []
    },
    {
      "cell_type": "markdown",
      "metadata": {
        "kernel": "SoS",
        "nbgrader": {
          "grade": false,
          "grade_id": "c-040",
          "locked": true,
          "schema_version": 3,
          "solution": false,
          "task": false
        }
      },
      "source": [
        "* if it raises an error indicating `ocamlc` command is not found, execute the following in your shell\n",
        ""
      ]
    },
    {
      "cell_type": "code",
      "metadata": {
        "kernel": "Bash",
        "nbgrader": {
          "grade": false,
          "grade_id": "c-041",
          "locked": false,
          "schema_version": 3,
          "solution": false,
          "task": false
        }
      },
      "source": [
        "eval $(opam env)"
      ],
      "execution_count": null,
      "outputs": []
    },
    {
      "cell_type": "code",
      "metadata": {
        "kernel": "Bash",
        "nbgrader": {
          "grade": false,
          "grade_id": "c-042",
          "locked": false,
          "schema_version": 3,
          "solution": false,
          "task": false
        }
      },
      "source": [
        "mkdir -p ~/notebooks/pl09_memory_management/p3/ml\n",
        "cd ~/notebooks/pl09_memory_management/p3/ml\n",
        "dune init project show_addr"
      ],
      "execution_count": null,
      "outputs": []
    },
    {
      "cell_type": "code",
      "metadata": {
        "kernel": "Python 3 (ipykernel)",
        "nbgrader": {
          "grade": false,
          "grade_id": "c-043",
          "locked": false,
          "schema_version": 3,
          "solution": false,
          "task": false
        }
      },
      "source": [
        "%%writefile p3/ml/show_addr/bin/main.ml\n",
        "let main () = \n",
        "  let argv = Sys.argv in\n",
        "  let argc = Array.length argv in\n",
        "  let s = if argc > 1 then int_of_string argv.(1) else 1000 * 1000 in\n",
        "  let m = if argc > 2 then int_of_string argv.(2) else 100 in\n",
        "  let n = if argc > 3 then int_of_string argv.(3) else m * 10 in\n",
        "  let sizeof_elem = 8 in\n",
        "  let _ = if sizeof_elem * s * m > (1 lsl 30) then\n",
        "            (Printf.printf \"you'd better not allocate that much memory\\n\" ;\n",
        "             Printf.printf \"sizeof element(8) * s(%d) * m(%d) = %d > 1GB\\n\" s m (sizeof_elem * s * m);\n",
        "             exit 1) in\n",
        "  let b = Array.make s 0L in\n",
        "  let a = Array.make m b in\n",
        "  let rec allocate_loop i =\n",
        "    if i < n then\n",
        "      let b = Array.make s 0L in\n",
        "      let p = Obj.magic (Obj.repr b) in\n",
        "      let _ = a.(i mod m) <- b in\n",
        "      let _ = Printf.printf \"%d\\t%d\\n\" i p in\n",
        "      allocate_loop (i + 1)\n",
        "  in\n",
        "  allocate_loop 0\n",
        ";;\n",
        "\n",
        "main ()"
      ],
      "execution_count": null,
      "outputs": []
    },
    {
      "cell_type": "code",
      "metadata": {
        "kernel": "Bash",
        "nbgrader": {
          "grade": false,
          "grade_id": "c-044",
          "locked": false,
          "schema_version": 3,
          "solution": false,
          "task": false
        }
      },
      "source": [
        "cd ~/notebooks/pl09_memory_management/p3/ml/show_addr\n",
        "dune build --profile release"
      ],
      "execution_count": null,
      "outputs": []
    },
    {
      "cell_type": "code",
      "metadata": {
        "kernel": "Bash",
        "nbgrader": {
          "grade": false,
          "grade_id": "c-045",
          "locked": false,
          "schema_version": 3,
          "solution": false,
          "task": false
        }
      },
      "source": [
        "cd ~/notebooks/pl09_memory_management/p3/ml/show_addr\n",
        "S=$((1000 * 1000))\n",
        "M=100\n",
        "N=$((M * 10))\n",
        "/usr/bin/time ./_build/default/bin/main.exe ${S} ${M} ${N}"
      ],
      "execution_count": null,
      "outputs": []
    },
    {
      "cell_type": "markdown",
      "metadata": {
        "kernel": "SoS",
        "nbgrader": {
          "grade": false,
          "grade_id": "c-046",
          "locked": true,
          "schema_version": 3,
          "solution": false,
          "task": false
        }
      },
      "source": [
        "## 6-4. Rust",
        "\n",
        "* In Rust, for an array `b`, `b.as_ptr() as usize` is the address of it cast into an integer (`usize`)\n",
        "* check if you can run `rustc` command\n",
        ""
      ]
    },
    {
      "cell_type": "code",
      "metadata": {
        "kernel": "Bash",
        "nbgrader": {
          "grade": false,
          "grade_id": "c-047",
          "locked": false,
          "schema_version": 3,
          "solution": false,
          "task": false
        }
      },
      "source": [
        "rustc --version"
      ],
      "execution_count": null,
      "outputs": []
    },
    {
      "cell_type": "markdown",
      "metadata": {
        "kernel": "SoS",
        "nbgrader": {
          "grade": false,
          "grade_id": "c-048",
          "locked": true,
          "schema_version": 3,
          "solution": false,
          "task": false
        }
      },
      "source": [
        "* if it raises an error indicating `rustc` command is not found, execute the following in your shell\n",
        ""
      ]
    },
    {
      "cell_type": "code",
      "metadata": {
        "kernel": "Bash",
        "nbgrader": {
          "grade": false,
          "grade_id": "c-049",
          "locked": false,
          "schema_version": 3,
          "solution": false,
          "task": false
        }
      },
      "source": [
        ". ~/.cargo/env"
      ],
      "execution_count": null,
      "outputs": []
    },
    {
      "cell_type": "code",
      "metadata": {
        "kernel": "Bash",
        "nbgrader": {
          "grade": false,
          "grade_id": "c-050",
          "locked": false,
          "schema_version": 3,
          "solution": false,
          "task": false
        }
      },
      "source": [
        "mkdir -p ~/notebooks/pl09_memory_management/p3/rs\n",
        "cd ~/notebooks/pl09_memory_management/p3/rs\n",
        "cargo new show_addr"
      ],
      "execution_count": null,
      "outputs": []
    },
    {
      "cell_type": "code",
      "metadata": {
        "kernel": "Python 3 (ipykernel)",
        "nbgrader": {
          "grade": false,
          "grade_id": "c-051",
          "locked": false,
          "schema_version": 3,
          "solution": false,
          "task": false
        }
      },
      "source": [
        "%%writefile p3/rs/show_addr/src/main.rs\n",
        "fn main() {\n",
        "    let args : Vec<String> = std::env::args().collect();\n",
        "    let argc = args.len();\n",
        "    let s = if argc > 1 { args[1].parse::<usize>().unwrap() } else { 1_000_000 };\n",
        "    let m = if argc > 2 { args[2].parse::<usize>().unwrap() } else { 100 };\n",
        "    let n = if argc > 3 { args[3].parse::<usize>().unwrap() } else { m * 10 };\n",
        "    let sizeof_elem = 8;\n",
        "    if sizeof_elem * s * m > (1 << 30) {\n",
        "        println!(\"you'd better not allocate that much memory\");\n",
        "        println!(\"sizeof element(8) * s({}) * m({}) = {} > 1GB\", s, m, sizeof_elem * s * m);\n",
        "        std::process::exit(1)\n",
        "    }\n",
        "    let b = Box::new(vec![0i64; s]);\n",
        "    let mut a = Box::new(vec![b; m]);\n",
        "    for i in 0..n {\n",
        "        let b = Box::new(vec![0i64; s]);\n",
        "        let p = b.as_ptr() as usize;\n",
        "        a[i % m] = b;\n",
        "        println!(\"{}\\t{}\", i, p);\n",
        "    }\n",
        "}"
      ],
      "execution_count": null,
      "outputs": []
    },
    {
      "cell_type": "code",
      "metadata": {
        "kernel": "Bash",
        "nbgrader": {
          "grade": false,
          "grade_id": "c-052",
          "locked": false,
          "schema_version": 3,
          "solution": false,
          "task": false
        }
      },
      "source": [
        "cd ~/notebooks/pl09_memory_management/p3/rs/show_addr\n",
        "cargo build --release"
      ],
      "execution_count": null,
      "outputs": []
    },
    {
      "cell_type": "code",
      "metadata": {
        "kernel": "Bash",
        "nbgrader": {
          "grade": false,
          "grade_id": "c-053",
          "locked": false,
          "schema_version": 3,
          "solution": false,
          "task": false
        }
      },
      "source": [
        "cd ~/notebooks/pl09_memory_management/p3/rs/show_addr\n",
        "S=$((1000 * 1000))\n",
        "M=100\n",
        "N=$((M * 10))\n",
        "/usr/bin/time ./target/release/show_addr ${S} ${M} ${N}"
      ],
      "execution_count": null,
      "outputs": []
    },
    {
      "cell_type": "markdown",
      "metadata": {
        "kernel": "SoS",
        "nbgrader": {
          "grade": false,
          "grade_id": "c-054",
          "locked": true,
          "schema_version": 3,
          "solution": false,
          "task": false
        }
      },
      "source": [
        "## 6-5. C + conservative GC library",
        "\n",
        "* <a href=\"https://hboehm.info/gc/\" target=\"_blank\" rel=\"noopener\">Boehm + Weiser Conservative GC</a> is a library that you can plug into your C/C++ programs\n",
        "* On Ubuntu, installation only takes\n",
        "```\n",
        "sudo apt install libgc-dev\n",
        "```\n",
        "* All you need to do is\n",
        "  * `#include <gc/gc.h>`\n",
        "  * replace `malloc` and `calloc` to `GC_MALLOC`\n",
        "  * you don't have to `free`\n",
        "  * link with `-lgc` (add this when you produce the executable, like\n",
        "```\n",
        "gcc -o foo.exe foo.c -lgc\n",
        "```\n",
        ""
      ]
    },
    {
      "cell_type": "code",
      "metadata": {
        "kernel": "Bash",
        "nbgrader": {
          "grade": false,
          "grade_id": "c-055",
          "locked": false,
          "schema_version": 3,
          "solution": false,
          "task": false
        }
      },
      "source": [
        "mkdir -p ~/notebooks/pl09_memory_management/p3/cc/show_addr"
      ],
      "execution_count": null,
      "outputs": []
    },
    {
      "cell_type": "code",
      "metadata": {
        "kernel": "Python 3 (ipykernel)",
        "nbgrader": {
          "grade": false,
          "grade_id": "c-056",
          "locked": false,
          "schema_version": 3,
          "solution": false,
          "task": false
        }
      },
      "source": [
        "%%writefile p3/cc/show_addr/show_addr.cc\n",
        "#include <stdio.h>\n",
        "#include <stdlib.h>\n",
        "#include <time.h>\n",
        "#include <gc/gc.h>\n",
        "\n",
        "\n",
        "typedef long T;\n",
        "\n",
        "int main(int argc, char ** argv) {\n",
        "  long s = (1 < argc ? atol(argv[1]) : 1000 * 1000);\n",
        "  long m = (2 < argc ? atol(argv[2]) : 100);\n",
        "  long n = (3 < argc ? atol(argv[3]) : m * 10);\n",
        "  if (sizeof(T) * s * m > (1L << 30)) {\n",
        "      fprintf(stderr, \"you'd better not allocate that much memory\\n\");\n",
        "      fprintf(stderr, \"sizeof(T)(8) * s(%ld) * m(%ld) > 1GB\\n\", s, m);\n",
        "      exit(1);\n",
        "  }\n",
        "  T ** a = (T **)GC_MALLOC(sizeof(T *) * m);\n",
        "  for (long i = 0; i < n; i++) {\n",
        "    T * b = (T *)GC_MALLOC_ATOMIC(sizeof(T) * s);\n",
        "    a[i % m] = b;\n",
        "    printf(\"%ld\\t%ld\\n\", i, (long)&b[0]);\n",
        "  }\n",
        "  return 0;\n",
        "}\n",
        ""
      ],
      "execution_count": null,
      "outputs": []
    },
    {
      "cell_type": "code",
      "metadata": {
        "kernel": "Bash",
        "nbgrader": {
          "grade": false,
          "grade_id": "c-057",
          "locked": false,
          "schema_version": 3,
          "solution": false,
          "task": false
        }
      },
      "source": [
        "cd ~/notebooks/pl09_memory_management/p3/cc/show_addr\n",
        "gcc -O3 -Wall -Wextra -o show_addr show_addr.cc -lgc"
      ],
      "execution_count": null,
      "outputs": []
    },
    {
      "cell_type": "code",
      "metadata": {
        "kernel": "Bash",
        "nbgrader": {
          "grade": false,
          "grade_id": "c-058",
          "locked": false,
          "schema_version": 3,
          "solution": false,
          "task": false
        }
      },
      "source": [
        "cd ~/notebooks/pl09_memory_management/p3/cc/show_addr\n",
        "S=$((1000 * 1000))\n",
        "M=100\n",
        "N=$((M * 10))\n",
        "/usr/bin/time ./show_addr ${S} ${M} ${N}"
      ],
      "execution_count": null,
      "outputs": []
    },
    {
      "cell_type": "markdown",
      "metadata": {
        "kernel": "SoS",
        "nbgrader": {
          "grade": false,
          "grade_id": "c-059",
          "locked": true,
          "schema_version": 3,
          "solution": false,
          "task": false
        }
      },
      "source": [
        "# <font color=\"green\"> Problem 3 :  Observe memory management at work</font>",
        "\n",
        "* Visualize these addresses in the Excel book I made for each team on OneDrive\n",
        "  * The x-axis: the number of times you allocated (iteration number)\n",
        "  * The y-axis: the address offset (see below)\n",
        "* As you did for the C program, addresses should be shown as offsets from the minimum address (the minimum taken over addresses in a particular language)\n",
        "* As you did for the C program, redirect the result into a file (e.g., out.csv) rather than copy-pasting from Jupyter\n",
        "* Addresses are typically contiguous (they are densely packed in a contiguous region), but in some languages they may be split into two (or a few) clusters, making it becomes difficult to grasp how much memory they actually occupy\n",
        "* If that happens, exclude all but one largest cluster from the visualization (only show addresses in the largest cluster)\n",
        "* Discuss the visualized data and understand what it means; in particular,\n",
        "  * <font color=\"green\">Q4:</font> From the visualization, how do you know the memory management is \"working\"\n",
        "  * <font color=\"green\">Q5:</font> Deduce from the visualization the amount of memory each language requires for these arrays\n",
        "  * <font color=\"green\">Q6:</font> Count the number of distinct addresses; write a shell command that takes the output (e.g., out.csv) and counts the number of distinct addresses (hint: combine sort, uniq, and wc)\n",
        "  * <font color=\"green\">Q7:</font> Confirm the former is close to \"the number of distinct addresses x the array size\"\n",
        "  * <font color=\"green\">Q8:</font> How large is it relative to the \"minimum\" amount of memory required you calculated in Problem 1?\n",
        "* Change the values of $S$, $M$, and $N$ and how the behavior changes (or does not change); you can copy the sheet in Excel book to record experimental results with different parameters\n",
        "\n",
        "# 7. Measuring allocation (pause) time",
        "\n",
        "* In this experiment, we measure the time taken for each allocation\n",
        "* In garbage-collected languages, an allocation _occasionally_ takes much time than usual\n",
        "* The maximum allocation time is essentially a \"pause time\" experienced by the user program, so a large spike in allocation time is a significant deal even if it is infrequent\n",
        "* Average time is important, too, as it indicates the basic performance of the language\n",
        "\n",
        "## 7-1. Go",
        ""
      ]
    },
    {
      "cell_type": "code",
      "metadata": {
        "kernel": "Bash",
        "nbgrader": {
          "grade": false,
          "grade_id": "c-060",
          "locked": false,
          "schema_version": 3,
          "solution": false,
          "task": false
        }
      },
      "source": [
        "mkdir -p ~/notebooks/pl09_memory_management/p4/go/measure_time\n",
        "cd ~/notebooks/pl09_memory_management/p4/go/measure_time\n",
        "go mod init measure_time"
      ],
      "execution_count": null,
      "outputs": []
    },
    {
      "cell_type": "code",
      "metadata": {
        "kernel": "Python 3 (ipykernel)",
        "nbgrader": {
          "grade": false,
          "grade_id": "c-061",
          "locked": false,
          "schema_version": 3,
          "solution": false,
          "task": false
        }
      },
      "source": [
        "%%writefile p4/go/measure_time/measure_time.go\n",
        "package main\n",
        "import (\n",
        "    \"os\"\n",
        "    \"strconv\"\n",
        "    \"fmt\"\n",
        "    \"github.com/loov/hrtime\"\n",
        ")\n",
        "\n",
        "func get_int64(args []string, i int, def_val int64) int64 {\n",
        "\tif i < len(args)  {\n",
        "\t\tx, _ := strconv.Atoi(args[i])\n",
        "\t\treturn int64(x)\n",
        "\t} else {\n",
        "\t\treturn def_val\n",
        "\t}\n",
        "}\n",
        "\n",
        "func time_ns() int64 {\n",
        "\treturn int64(hrtime.Now())\n",
        "}\n",
        "\n",
        "func main() {\n",
        "\ts := get_int64(os.Args, 1, int64(1000 * 1000))\n",
        "\tm := get_int64(os.Args, 2, int64(100))\n",
        "\tn := get_int64(os.Args, 3, m * 10)\n",
        "    sizeof_elem := int64(8)\n",
        "    if sizeof_elem * s * m > (1 << 30) {\n",
        "        fmt.Printf(\"you'd better not allocate that much memory\\n\")\n",
        "        fmt.Printf(\"sizeof_element(8) * s(%d) * m(%d) = %d > 1GB\\n\", s, m, sizeof_elem * s * m)\n",
        "        os.Exit(1)\n",
        "    }\n",
        "    a := make([][]int64, m)\n",
        "    for i := int64(0); i < n; i++ {\n",
        "        t0 := time_ns()\n",
        "        b := make([]int64, s)\n",
        "        a[i % m] = b\n",
        "        t1 := time_ns()\n",
        "        fmt.Printf(\"%d\\t%d\\t%d\\n\", i, &b[0], t1 - t0)\n",
        "    }\n",
        "}"
      ],
      "execution_count": null,
      "outputs": []
    },
    {
      "cell_type": "markdown",
      "metadata": {
        "kernel": "SoS",
        "nbgrader": {
          "grade": false,
          "grade_id": "c-062",
          "locked": true,
          "schema_version": 3,
          "solution": false,
          "task": false
        }
      },
      "source": [
        "* you will be complained when executing the following cell, and instructed to execute\n",
        "```\n",
        "go get github.com/loov/hrtime\n",
        "```\n",
        "* just do it when it happens\n",
        ""
      ]
    },
    {
      "cell_type": "code",
      "metadata": {
        "kernel": "Bash",
        "nbgrader": {
          "grade": false,
          "grade_id": "c-063",
          "locked": false,
          "schema_version": 3,
          "solution": false,
          "task": false
        }
      },
      "source": [
        "cd ~/notebooks/pl09_memory_management/p4/go/measure_time\n",
        "go build"
      ],
      "execution_count": null,
      "outputs": []
    },
    {
      "cell_type": "code",
      "metadata": {
        "kernel": "Bash",
        "nbgrader": {
          "grade": false,
          "grade_id": "c-064",
          "locked": false,
          "schema_version": 3,
          "solution": false,
          "task": false
        }
      },
      "source": [
        "cd ~/notebooks/pl09_memory_management/p4/go/measure_time\n",
        "S=$((1000 * 1000))\n",
        "M=100\n",
        "N=$((M * 10))\n",
        "/usr/bin/time ./measure_time ${S} ${M} ${N}"
      ],
      "execution_count": null,
      "outputs": []
    },
    {
      "cell_type": "markdown",
      "metadata": {
        "kernel": "SoS",
        "nbgrader": {
          "grade": false,
          "grade_id": "c-065",
          "locked": true,
          "schema_version": 3,
          "solution": false,
          "task": false
        }
      },
      "source": [
        "## 7-2. Julia",
        ""
      ]
    },
    {
      "cell_type": "code",
      "metadata": {
        "kernel": "Bash",
        "nbgrader": {
          "grade": false,
          "grade_id": "c-066",
          "locked": false,
          "schema_version": 3,
          "solution": false,
          "task": false
        }
      },
      "source": [
        "mkdir -p ~/notebooks/pl09_memory_management/p4/jl/measure_time"
      ],
      "execution_count": null,
      "outputs": []
    },
    {
      "cell_type": "code",
      "metadata": {
        "kernel": "Python 3 (ipykernel)",
        "nbgrader": {
          "grade": false,
          "grade_id": "c-067",
          "locked": false,
          "schema_version": 3,
          "solution": false,
          "task": false
        }
      },
      "source": [
        "%%writefile p4/jl/measure_time/measure_time.jl\n",
        "import Printf\n",
        "\n",
        "function main()\n",
        "    argc = length(ARGS)\n",
        "    s = if argc >= 1 parse(Int64, ARGS[1]) else 1000 * 1000 end\n",
        "    m = if argc >= 2 parse(Int64, ARGS[2]) else 100 end\n",
        "    n = if argc >= 3 parse(Int64, ARGS[3]) else m * 10 end\n",
        "    if sizeof(Int64) * s * m > (1 << 30)\n",
        "        Printf.@printf(\"you'd better not allocate that much memory\")\n",
        "        Printf.@printf(\"sizeof element(8) * s(%d) * m(%d) = %d > 1GB\\n\", s, m, sizeof(Int64) * s * m)\n",
        "        exit(1)\n",
        "    end\n",
        "    a = Vector{Vector{Int64}}(undef, m)\n",
        "    for i = 1:n\n",
        "        t0 = time_ns()\n",
        "        b = fill(0, s)\n",
        "        p = pointer(b)\n",
        "        a[(i - 1) % m + 1] = b\n",
        "        t1 = time_ns()\n",
        "        Printf.@printf(\"%ld\\t%ld\\t%ld\\n\", i, Int64(p), t1 - t0)\n",
        "    end\n",
        "end\n",
        "\n",
        "main()"
      ],
      "execution_count": null,
      "outputs": []
    },
    {
      "cell_type": "code",
      "metadata": {
        "kernel": "Bash",
        "nbgrader": {
          "grade": false,
          "grade_id": "c-068",
          "locked": false,
          "schema_version": 3,
          "solution": false,
          "task": false
        }
      },
      "source": [
        "cd ~/notebooks/pl09_memory_management/p4/jl/measure_time\n",
        "S=$((1000 * 1000))\n",
        "M=100\n",
        "N=$((M * 10))\n",
        "/usr/bin/time julia ./measure_time.jl ${S} ${M} ${N}"
      ],
      "execution_count": null,
      "outputs": []
    },
    {
      "cell_type": "markdown",
      "metadata": {
        "kernel": "SoS",
        "nbgrader": {
          "grade": false,
          "grade_id": "c-069",
          "locked": true,
          "schema_version": 3,
          "solution": false,
          "task": false
        }
      },
      "source": [
        "## 7-3. OCaml",
        ""
      ]
    },
    {
      "cell_type": "code",
      "metadata": {
        "kernel": "Bash",
        "nbgrader": {
          "grade": false,
          "grade_id": "c-070",
          "locked": false,
          "schema_version": 3,
          "solution": false,
          "task": false
        }
      },
      "source": [
        "mkdir -p ~/notebooks/pl09_memory_management/p4/ml\n",
        "cd ~/notebooks/pl09_memory_management/p4/ml\n",
        "dune init project measure_time"
      ],
      "execution_count": null,
      "outputs": []
    },
    {
      "cell_type": "code",
      "metadata": {
        "kernel": "Python 3 (ipykernel)",
        "nbgrader": {
          "grade": false,
          "grade_id": "c-071",
          "locked": false,
          "schema_version": 3,
          "solution": false,
          "task": false
        }
      },
      "source": [
        "%%writefile p4/ml/measure_time/bin/main.ml\n",
        "(* get current time in ns *)\n",
        "exception Couldnt_get_time\n",
        ";;\n",
        "\n",
        "let time_ns () = \n",
        "  match Base.Int63.to_int (Time_now.nanoseconds_since_unix_epoch()) with\n",
        "    Some(t) -> t\n",
        "  | None -> raise Couldnt_get_time\n",
        ";;\n",
        "let main () = \n",
        "  let argv = Sys.argv in\n",
        "  let argc = Array.length argv in\n",
        "  let s = if argc > 1 then int_of_string argv.(1) else 1000 * 1000 in\n",
        "  let m = if argc > 2 then int_of_string argv.(2) else 100 in\n",
        "  let n = if argc > 3 then int_of_string argv.(3) else m * 10 in\n",
        "  let sizeof_elem = 8 in\n",
        "  let _ = if sizeof_elem * s * m > (1 lsl 30) then\n",
        "            (Printf.printf \"you'd better not allocate that much memory\\n\" ;\n",
        "             Printf.printf \"sizeof element(8) * s(%d) * m(%d) = %d > 1GB\\n\" s m (sizeof_elem * s * m);\n",
        "             exit 1) in\n",
        "  let b = Array.make s 0L in\n",
        "  let a = Array.make m b in\n",
        "  let rec allocate_loop i =\n",
        "    if i < n then\n",
        "      let t0 = time_ns() in\n",
        "      let b = Array.make s 0L in\n",
        "      let p = Obj.magic (Obj.repr b) in\n",
        "      let _ = a.(i mod m) <- b in\n",
        "      let t1 = time_ns() in\n",
        "      let _ = Printf.printf \"%d\\t%d\\t%d\\n\" i p (t1 - t0) in\n",
        "      allocate_loop (i + 1)\n",
        "  in\n",
        "  allocate_loop 0\n",
        ";;\n",
        "\n",
        "main ()"
      ],
      "execution_count": null,
      "outputs": []
    },
    {
      "cell_type": "markdown",
      "metadata": {
        "kernel": "SoS",
        "nbgrader": {
          "grade": false,
          "grade_id": "c-072",
          "locked": true,
          "schema_version": 3,
          "solution": false,
          "task": false
        }
      },
      "source": [
        "* You will be complained when executing the following cell\n",
        "* <font color=\"red\">execute</font>\n",
        "```\n",
        "opam install time_now\n",
        "```\n",
        "in the terminal <font color=\"red\">(it takes a while and ask you if you want to go ahead)</font>\n",
        "* and add `time_now` in the `p4/ml/measure_time/bin/dune` file, as follows\n",
        "```\n",
        "(executable\n",
        " ( ... )\n",
        " ( ...\n",
        " (libraries measure_time time_now))\n",
        "```\n",
        ""
      ]
    },
    {
      "cell_type": "code",
      "metadata": {
        "kernel": "Bash",
        "nbgrader": {
          "grade": false,
          "grade_id": "c-073",
          "locked": false,
          "schema_version": 3,
          "solution": false,
          "task": false
        }
      },
      "source": [
        "cd ~/notebooks/pl09_memory_management/p4/ml/measure_time\n",
        "dune build --profile release"
      ],
      "execution_count": null,
      "outputs": []
    },
    {
      "cell_type": "code",
      "metadata": {
        "kernel": "Bash",
        "nbgrader": {
          "grade": false,
          "grade_id": "c-074",
          "locked": false,
          "schema_version": 3,
          "solution": false,
          "task": false
        }
      },
      "source": [
        "cd ~/notebooks/pl09_memory_management/p4/ml/measure_time\n",
        "S=$((1000 * 1000))\n",
        "M=100\n",
        "N=$((M * 10))\n",
        "/usr/bin/time ./_build/default/bin/main.exe ${S} ${M} ${N}"
      ],
      "execution_count": null,
      "outputs": []
    },
    {
      "cell_type": "markdown",
      "metadata": {
        "kernel": "SoS",
        "nbgrader": {
          "grade": false,
          "grade_id": "c-075",
          "locked": true,
          "schema_version": 3,
          "solution": false,
          "task": false
        }
      },
      "source": [
        "## 7-4. Rust",
        ""
      ]
    },
    {
      "cell_type": "code",
      "metadata": {
        "kernel": "Bash",
        "nbgrader": {
          "grade": false,
          "grade_id": "c-076",
          "locked": false,
          "schema_version": 3,
          "solution": false,
          "task": false
        }
      },
      "source": [
        "mkdir -p ~/notebooks/pl09_memory_management/p4/rs\n",
        "cd ~/notebooks/pl09_memory_management/p4/rs\n",
        "cargo new measure_time"
      ],
      "execution_count": null,
      "outputs": []
    },
    {
      "cell_type": "code",
      "metadata": {
        "kernel": "Python 3 (ipykernel)",
        "nbgrader": {
          "grade": false,
          "grade_id": "c-077",
          "locked": false,
          "schema_version": 3,
          "solution": false,
          "task": false
        }
      },
      "source": [
        "%%writefile p4/rs/measure_time/src/main.rs\n",
        "fn time_ns(now : &std::time::Instant) -> i64 {\n",
        "    now.elapsed().as_nanos() as i64\n",
        "}\n",
        "fn main() {\n",
        "    let args : Vec<String> = std::env::args().collect();\n",
        "    let argc = args.len();\n",
        "    let s = if argc > 1 { args[1].parse::<usize>().unwrap() } else { 1_000_000 };\n",
        "    let m = if argc > 2 { args[2].parse::<usize>().unwrap() } else { 100 };\n",
        "    let n = if argc > 3 { args[3].parse::<usize>().unwrap() } else { m * 10 };\n",
        "    let sizeof_elem = 8;\n",
        "    if sizeof_elem * s * m > (1 << 30) {\n",
        "        println!(\"you'd better not allocate that much memory\");\n",
        "        println!(\"sizeof element(8) * s({}) * m({}) = {} > 1GB\", s, m, sizeof_elem * s * m);\n",
        "        std::process::exit(1)\n",
        "    }\n",
        "    let b = Box::new(vec![0i64; s]);\n",
        "    let mut a = Box::new(vec![b; m]);\n",
        "    let ts = std::time::Instant::now();\n",
        "    for i in 0..n {\n",
        "        let t0 = time_ns(&ts);\n",
        "        let b = Box::new(vec![0i64; s]);\n",
        "        let p = b.as_ptr() as usize;\n",
        "        a[i % m] = b;\n",
        "        let t1 = time_ns(&ts);\n",
        "        println!(\"{}\\t{}\\t{}\", i, p, t1 - t0);\n",
        "    }\n",
        "}"
      ],
      "execution_count": null,
      "outputs": []
    },
    {
      "cell_type": "code",
      "metadata": {
        "kernel": "Bash",
        "nbgrader": {
          "grade": false,
          "grade_id": "c-078",
          "locked": false,
          "schema_version": 3,
          "solution": false,
          "task": false
        }
      },
      "source": [
        "cd ~/notebooks/pl09_memory_management/p4/rs/measure_time\n",
        "cargo build --release"
      ],
      "execution_count": null,
      "outputs": []
    },
    {
      "cell_type": "code",
      "metadata": {
        "kernel": "Bash",
        "nbgrader": {
          "grade": false,
          "grade_id": "c-079",
          "locked": false,
          "schema_version": 3,
          "solution": false,
          "task": false
        }
      },
      "source": [
        "cd ~/notebooks/pl09_memory_management/p4/rs/measure_time\n",
        "S=$((1000 * 1000))\n",
        "M=100\n",
        "N=$((M * 10))\n",
        "/usr/bin/time ./target/release/measure_time ${S} ${M} ${N}"
      ],
      "execution_count": null,
      "outputs": []
    },
    {
      "cell_type": "markdown",
      "metadata": {
        "kernel": "SoS",
        "nbgrader": {
          "grade": false,
          "grade_id": "c-080",
          "locked": true,
          "schema_version": 3,
          "solution": false,
          "task": false
        }
      },
      "source": [
        "# <font color=\"green\"> Problem 4 :  Observe pause time</font>",
        "\n",
        "* Visualize allocation time\n",
        "  * The x-axis: the number of times you allocated (iteration number)\n",
        "  * The y-axis: the time taken on that allocation\n",
        "* Discuss the visualized data and compare languages\n",
        "  * <font color=\"green\">Q9:</font> What is the maximum pause time of each language?  What makes the pause time longer for garbage-collected languages?\n",
        "  * <font color=\"green\">Q10:</font> What is the pause time of \"average cases\" in each language (i.e., when GC does not happen in garbage collected languages)?\n",
        "* Change the values of $S$, $M$, and $N$ and how the behavior changes (or does not change); you can copy the sheet in Excel book to record experimental results with different parameters\n",
        "\n",
        "# <font color=\"green\"> Problem 5 :  Show the tail of cumulative distribution </font>",
        "\n",
        "* Visualize allocation time\n",
        "  * The x-axis: the fraction (0 &le; x &le 1) of allocations that finished within the specified $y$\n",
        "  * The y-axis: allocation (pause) time\n",
        "  * for example, point (x, y) = (0.87, 2000) in the graph indicates 87% of allocations finish within 2000 nsec\n",
        "* Hint:\n",
        "  * Sort all pause times and scatter-plot $(i / N, y[i])$ for each $i = 1, 2, ..., N$\n",
        "\n",
        "# <font color=\"green\"> Problem 6 :  (Optional)</font>",
        "\n",
        "* Languages typically support a few knobs to control memory usage (and frequency of garbage collections) and to report when GC happens\n",
        "* Consult the manual of your language and play with them.  In particular,\n",
        "  * try to control GC less frequenty by using more memory\n",
        "  * try to shorten pause time of GCs if there is any such option\n",
        "\n",
        "\n",
        ""
      ]
    }
  ],
  "metadata": {
    "celltoolbar": "Create Assignment",
    "kernelspec": {
      "display_name": "SoS",
      "language": "sos",
      "name": "sos"
    },
    "language_info": {
      "codemirror_mode": "sos",
      "file_extension": ".sos",
      "mimetype": "text/x-sos",
      "name": "sos",
      "nbconvert_exporter": "sos_notebook.converter.SoS_Exporter",
      "pygments_lexer": "sos"
    },
    "sos": {
      "kernels": [
        [
          "Bash",
          "bash",
          "bash",
          "",
          "shell"
        ],
        [
          "C",
          "c_kernel",
          "c",
          "",
          ""
        ],
        [
          "Go",
          "gophernotes",
          "go",
          "",
          ""
        ],
        [
          "Julia 1.11.4",
          "julia-1.11",
          "julia",
          "",
          ""
        ],
        [
          "OCaml 4.14.2",
          "ocaml-jupyter",
          "OCaml",
          "",
          "text/x-ocaml"
        ],
        [
          "Python 3 (ipykernel)",
          "python3",
          "python3",
          "",
          {
            "name": "ipython",
            "version": 3
          }
        ],
        [
          "Rust",
          "rust",
          "rust",
          "",
          ""
        ]
      ],
      "panel": {
        "displayed": true,
        "height": 0
      },
      "version": "0.23.3"
    }
  },
  "nbformat": 4,
  "nbformat_minor": 4
}