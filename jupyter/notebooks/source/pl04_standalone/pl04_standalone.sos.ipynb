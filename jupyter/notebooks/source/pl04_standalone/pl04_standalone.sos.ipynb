{
  "cells": [
    {
      "cell_type": "markdown",
      "metadata": {
        "kernel": "SoS",
        "nbgrader": {
          "grade": false,
          "grade_id": "c-001",
          "locked": true,
          "schema_version": 3,
          "solution": false,
          "task": false
        }
      },
      "source": [
        "#  Programming Languages (4) --- Writing standalone programs using libraries",
        ""
      ]
    },
    {
      "cell_type": "markdown",
      "metadata": {
        "kernel": "SoS",
        "nbgrader": {
          "grade": false,
          "grade_id": "c-002",
          "locked": false,
          "schema_version": 3,
          "solution": false,
          "task": false
        }
      },
      "source": [
        "\n",
        "Enter your name and student ID.\n",
        "\n",
        " * Name:\n",
        " * Student ID:\n",
        ""
      ]
    },
    {
      "cell_type": "markdown",
      "metadata": {
        "kernel": "SoS",
        "nbgrader": {
          "grade": false,
          "grade_id": "c-003",
          "locked": true,
          "schema_version": 3,
          "solution": false,
          "task": false
        }
      },
      "source": [
        "# 1. Say your language",
        "\n",
        "Say the language you are assigned to.  I am working on\n",
        ""
      ]
    },
    {
      "cell_type": "markdown",
      "metadata": {
        "kernel": "SoS",
        "nbgrader": {
          "grade": true,
          "grade_id": "p-001",
          "locked": false,
          "schema_version": 3,
          "solution": true,
          "task": false,
          "points": 1
        }
      },
      "source": [
        "BEGIN SOLUTION\n",
        "END SOLUTION\n",
        "Go\n",
        "Julia\n",
        "OCaml\n",
        "Rust"
      ]
    },
    {
      "cell_type": "markdown",
      "metadata": {
        "kernel": "SoS",
        "nbgrader": {
          "grade": false,
          "grade_id": "c-004",
          "locked": true,
          "schema_version": 3,
          "solution": false,
          "task": false
        }
      },
      "source": [
        "# 2. Objective",
        "\n",
        "* In this notebook, you are going to learn *how to write a standalone program* in your language, rather than a program in Jpyter\n",
        "\n",
        "* Jupyter is a great environment to learn what a particular programming language smells like without getting caught on installations, command lines, options, files, and so on\n",
        "* In the real world, however, you need to be able to develop a program that \"does a job\" for you and users\n",
        "* Also, real programs must use libraries not available by default and have multiple files that call each other, realities difficult to learn by Jupyter alone\n",
        "* There is also a minimum boilerplate each language imposes, such as the `main` function of C or a class definition that has `public static void main(String[] args)` in Java; some languages allow you to write arbitrary expressions in the program toplevel, while others require them to be inside the main function; you may miss such basics if you write your programs only in Jupyter\n",
        "* To avoid missing such basics for developing real programs, this notebook's goal is to learn how to develop a somewhat useful program with command lines and terminals\n",
        "\n",
        "* This notebook is going to walk you through skills you need to master, but it only serves as an explanation and a convenient page to save typing commands by bash cells\n",
        "* <font color=\"red\">You are supposed to do your real work by SSH and command line terminals by yourself.  Cells in this page are given to make clear what you need to do (and to help you troubleshoot if anything goes wrong)</font>\n",
        "  * see [How to access Jupyter environment](https://taura.github.io/programming-languages/html/jupyter.html?lang=en) for how to SSH to taulec environment\n",
        "  * if you have difficulty setting up SSH right away you could use Jupyter terminal for now\n",
        "* Editors\n",
        "  * emacs, nano, vim are available on taulec; just use them within SSH terminal\n",
        "  * you can run vscode on your computer and use Remote-SSH extension to open files on taulec\n",
        "\n",
        "# 3. Roadmap",
        "\n",
        "1. compile and execute a simplest program by command lines\n",
        "1. use a build system to streamline library installation and dependency management\n",
        "1. import a library so you can use it in your program\n",
        "\n",
        "* Along the way, I encourage you to acquire skills to search for libraries that fit whatever tasks you will do in future and know details about a particular library (e.g., functions and types available in them), rather than simply following instructions written here to accomplish this particular task\n",
        "\n",
        "* You are encouraged to do the following exercise using SSH and command line, rather than merely pressing SHIFT + ENTER \n",
        "\n",
        "# 4. Prepare AI Tutor",
        "\n",
        "* Execute the following cell to set up your tutor"
      ]
    },
    {
      "cell_type": "code",
      "metadata": {
        "kernel": "Python 3 (ipykernel)",
        "nbgrader": {
          "grade": false,
          "grade_id": "c-005",
          "locked": false,
          "schema_version": 3,
          "solution": false,
          "task": false
        }
      },
      "source": [
        "from heytutor import *\n",
        "config(default_lang=\" ... \")  # choose one of Go/Julia/OCaml/Rust"
      ],
      "execution_count": null,
      "outputs": []
    },
    {
      "cell_type": "markdown",
      "metadata": {
        "kernel": "SoS",
        "nbgrader": {
          "grade": false,
          "grade_id": "c-006",
          "locked": true,
          "schema_version": 3,
          "solution": false,
          "task": false
        }
      },
      "source": [
        "* You may want to ask a few basics"
      ]
    },
    {
      "cell_type": "code",
      "metadata": {
        "kernel": "Python 3 (ipykernel)",
        "nbgrader": {
          "grade": false,
          "grade_id": "c-007",
          "locked": false,
          "schema_version": 3,
          "solution": false,
          "task": false
        }
      },
      "source": [
        "#I(\"how to write a standalone program\")\n",
        "#I(\"how to build a standalone program\")\n",
        "#I(\"how to run a standalone program\")"
      ],
      "execution_count": null,
      "outputs": []
    },
    {
      "cell_type": "markdown",
      "metadata": {
        "kernel": "SoS",
        "nbgrader": {
          "grade": false,
          "grade_id": "c-008",
          "locked": true,
          "schema_version": 3,
          "solution": false,
          "task": false
        }
      },
      "source": [
        "# 5. Compiling and executing a simplest program from a command line terminal",
        "\n",
        "* Go : go (compiler)\n",
        "* Julia : julia (compiler and interactive environment)\n",
        "* OCaml : ocamlc (compiler), ocaml (interactive and interactive environment)\n",
        "* Rust : rustc (compiler)\n",
        "\n",
        "## 5-1. Go",
        "\n",
        "* `go` is the command that does everything from compilation, execution, installation of the library, with its subcommands\n",
        "* `go build` is the subcommand to compile a program\n",
        "\n",
        "### 5-1-1. Setting up",
        "\n",
        "* check if you can run `go` command\n",
        ""
      ]
    },
    {
      "cell_type": "code",
      "metadata": {
        "kernel": "Bash",
        "nbgrader": {
          "grade": false,
          "grade_id": "c-009",
          "locked": false,
          "schema_version": 3,
          "solution": false,
          "task": false
        }
      },
      "source": [
        "go version"
      ],
      "execution_count": null,
      "outputs": []
    },
    {
      "cell_type": "markdown",
      "metadata": {
        "kernel": "SoS",
        "nbgrader": {
          "grade": false,
          "grade_id": "c-010",
          "locked": true,
          "schema_version": 3,
          "solution": false,
          "task": false
        }
      },
      "source": [
        "* if it raises an error indicating `go` command is not found, add `~/go/bin` to your `PATH` environment variable\n",
        ""
      ]
    },
    {
      "cell_type": "code",
      "metadata": {
        "kernel": "Bash",
        "nbgrader": {
          "grade": false,
          "grade_id": "c-011",
          "locked": false,
          "schema_version": 3,
          "solution": false,
          "task": false
        }
      },
      "source": [
        "export PATH=~/go/bin:$PATH"
      ],
      "execution_count": null,
      "outputs": []
    },
    {
      "cell_type": "markdown",
      "metadata": {
        "kernel": "SoS",
        "nbgrader": {
          "grade": false,
          "grade_id": "c-012",
          "locked": true,
          "schema_version": 3,
          "solution": false,
          "task": false
        }
      },
      "source": [
        "* you can put the above in your `~/.profile` so it automatically happens when you login with SSH\n",
        "* make sure you can now run `go` command and `which go` shows where it is\n",
        ""
      ]
    },
    {
      "cell_type": "code",
      "metadata": {
        "kernel": "Bash",
        "nbgrader": {
          "grade": false,
          "grade_id": "c-013",
          "locked": false,
          "schema_version": 3,
          "solution": false,
          "task": false
        }
      },
      "source": [
        "which go\n",
        "go version"
      ],
      "execution_count": null,
      "outputs": []
    },
    {
      "cell_type": "markdown",
      "metadata": {
        "kernel": "SoS",
        "nbgrader": {
          "grade": false,
          "grade_id": "c-014",
          "locked": true,
          "schema_version": 3,
          "solution": false,
          "task": false
        }
      },
      "source": [
        "### 5-1-2. Compiling and executing a program",
        "\n",
        "* move to a working directory\n",
        ""
      ]
    },
    {
      "cell_type": "code",
      "metadata": {
        "kernel": "Bash",
        "nbgrader": {
          "grade": false,
          "grade_id": "c-015",
          "locked": false,
          "schema_version": 3,
          "solution": false,
          "task": false
        }
      },
      "source": [
        "cd ~/notebooks/pl04_standalone/00hello/go"
      ],
      "execution_count": null,
      "outputs": []
    },
    {
      "cell_type": "markdown",
      "metadata": {
        "kernel": "SoS",
        "nbgrader": {
          "grade": false,
          "grade_id": "c-016",
          "locked": true,
          "schema_version": 3,
          "solution": false,
          "task": false
        }
      },
      "source": [
        "* a simplest program"
      ]
    },
    {
      "cell_type": "code",
      "metadata": {
        "kernel": "Bash",
        "nbgrader": {
          "grade": false,
          "grade_id": "c-017",
          "locked": false,
          "schema_version": 3,
          "solution": false,
          "task": false
        }
      },
      "source": [
        "cat hello.go"
      ],
      "execution_count": null,
      "outputs": []
    },
    {
      "cell_type": "markdown",
      "metadata": {
        "kernel": "SoS",
        "nbgrader": {
          "grade": false,
          "grade_id": "c-018",
          "locked": true,
          "schema_version": 3,
          "solution": false,
          "task": false
        }
      },
      "source": [
        "* compile it"
      ]
    },
    {
      "cell_type": "code",
      "metadata": {
        "kernel": "Bash",
        "nbgrader": {
          "grade": false,
          "grade_id": "c-019",
          "locked": false,
          "schema_version": 3,
          "solution": false,
          "task": false
        }
      },
      "source": [
        "go build hello.go"
      ],
      "execution_count": null,
      "outputs": []
    },
    {
      "cell_type": "markdown",
      "metadata": {
        "kernel": "SoS",
        "nbgrader": {
          "grade": false,
          "grade_id": "c-020",
          "locked": true,
          "schema_version": 3,
          "solution": false,
          "task": false
        }
      },
      "source": [
        "* execute it"
      ]
    },
    {
      "cell_type": "code",
      "metadata": {
        "kernel": "Bash",
        "nbgrader": {
          "grade": false,
          "grade_id": "c-021",
          "locked": false,
          "schema_version": 3,
          "solution": false,
          "task": false
        }
      },
      "source": [
        "./hello"
      ],
      "execution_count": null,
      "outputs": []
    },
    {
      "cell_type": "markdown",
      "metadata": {
        "kernel": "SoS",
        "nbgrader": {
          "grade": false,
          "grade_id": "c-022",
          "locked": true,
          "schema_version": 3,
          "solution": false,
          "task": false
        }
      },
      "source": [
        "### 5-1-3. Interactive environment",
        "\n",
        "* go is basically a batch-compiled language; there is no official interactive environment\n",
        "* Jupyter uses an external program called `gophernotes`, which unfortunately does not support the latest version of the go language\n",
        "* alternatively, you could use [The Go Playground](https://go.dev/play/) to interactively play with Go\n",
        "\n",
        "## 5-2. Julia",
        "\n",
        "* `julia` is the command that serves both as an interactive environment and a file executor\n",
        "* Julia does not separate compilation and execution; a program (whether it's from an interactive environment or in a file) is always parsed and gets executed immediately; everything is Just-In-Time compiled\n",
        "\n",
        "### 5-2-1. Setting up",
        "\n",
        "* check if you can run `julia` command\n",
        ""
      ]
    },
    {
      "cell_type": "code",
      "metadata": {
        "kernel": "Bash",
        "nbgrader": {
          "grade": false,
          "grade_id": "c-023",
          "locked": false,
          "schema_version": 3,
          "solution": false,
          "task": false
        }
      },
      "source": [
        "julia --version"
      ],
      "execution_count": null,
      "outputs": []
    },
    {
      "cell_type": "markdown",
      "metadata": {
        "kernel": "SoS",
        "nbgrader": {
          "grade": false,
          "grade_id": "c-024",
          "locked": true,
          "schema_version": 3,
          "solution": false,
          "task": false
        }
      },
      "source": [
        "* if it raises an error indicating `julia` command is not found, add `~/.juliaup/bin` to your `PATH` environment variable\n",
        ""
      ]
    },
    {
      "cell_type": "code",
      "metadata": {
        "kernel": "Bash",
        "nbgrader": {
          "grade": false,
          "grade_id": "c-025",
          "locked": false,
          "schema_version": 3,
          "solution": false,
          "task": false
        }
      },
      "source": [
        "export PATH=~/.juliaup/bin:$PATH"
      ],
      "execution_count": null,
      "outputs": []
    },
    {
      "cell_type": "markdown",
      "metadata": {
        "kernel": "SoS",
        "nbgrader": {
          "grade": false,
          "grade_id": "c-026",
          "locked": true,
          "schema_version": 3,
          "solution": false,
          "task": false
        }
      },
      "source": [
        "* you can put the above in your `~/.profile` so it automatically happens when you login with SSH\n",
        "* make sure you can now run `julia` command and `which julia` shows where it is"
      ]
    },
    {
      "cell_type": "code",
      "metadata": {
        "kernel": "Bash",
        "nbgrader": {
          "grade": false,
          "grade_id": "c-027",
          "locked": false,
          "schema_version": 3,
          "solution": false,
          "task": false
        }
      },
      "source": [
        "which julia\n",
        "julia --version"
      ],
      "execution_count": null,
      "outputs": []
    },
    {
      "cell_type": "markdown",
      "metadata": {
        "kernel": "SoS",
        "nbgrader": {
          "grade": false,
          "grade_id": "c-028",
          "locked": true,
          "schema_version": 3,
          "solution": false,
          "task": false
        }
      },
      "source": [
        "* <font color=\"red\">REMARK: _if it instructs you to run_ `juliaup update` _by the following, ignore it.  Running the command breaks your Julia environment in Jupyter._ </font> \n",
        "\n",
        "```\n",
        "The latest version of Julia in the `release` channel is y.yy.y+y.yyy.linux.gnu. You currently have `x.xx.x+x.xxx.linux.gnu` installed. Run:\n",
        "\n",
        "  juliaup update\n",
        "\n",
        "in your terminal shell to install Julia 1.11.5+0.x64.linux.gnu and update the `release` channel to that version.\n",
        "```\n",
        "\n",
        "\n",
        "### 5-2-2. Compiling and executing a program",
        "\n",
        "* move to a working directory\n",
        ""
      ]
    },
    {
      "cell_type": "code",
      "metadata": {
        "kernel": "Bash",
        "nbgrader": {
          "grade": false,
          "grade_id": "c-029",
          "locked": false,
          "schema_version": 3,
          "solution": false,
          "task": false
        }
      },
      "source": [
        "cd ~/notebooks/pl04_standalone/00hello/jl"
      ],
      "execution_count": null,
      "outputs": []
    },
    {
      "cell_type": "markdown",
      "metadata": {
        "kernel": "SoS",
        "nbgrader": {
          "grade": false,
          "grade_id": "c-030",
          "locked": true,
          "schema_version": 3,
          "solution": false,
          "task": false
        }
      },
      "source": [
        "* a simplest program"
      ]
    },
    {
      "cell_type": "code",
      "metadata": {
        "kernel": "Bash",
        "nbgrader": {
          "grade": false,
          "grade_id": "c-031",
          "locked": false,
          "schema_version": 3,
          "solution": false,
          "task": false
        }
      },
      "source": [
        "cat hello.jl"
      ],
      "execution_count": null,
      "outputs": []
    },
    {
      "cell_type": "markdown",
      "metadata": {
        "kernel": "SoS",
        "nbgrader": {
          "grade": false,
          "grade_id": "c-032",
          "locked": true,
          "schema_version": 3,
          "solution": false,
          "task": false
        }
      },
      "source": [
        "* execute it"
      ]
    },
    {
      "cell_type": "code",
      "metadata": {
        "kernel": "Bash",
        "nbgrader": {
          "grade": false,
          "grade_id": "c-033",
          "locked": false,
          "schema_version": 3,
          "solution": false,
          "task": false
        }
      },
      "source": [
        "julia hello.jl"
      ],
      "execution_count": null,
      "outputs": []
    },
    {
      "cell_type": "markdown",
      "metadata": {
        "kernel": "SoS",
        "nbgrader": {
          "grade": false,
          "grade_id": "c-034",
          "locked": true,
          "schema_version": 3,
          "solution": false,
          "task": false
        }
      },
      "source": [
        "### 5-2-3. Interactive environment",
        "\n",
        "* `julia` is an interactive environment\n",
        "* don't execute it within Jupyter\n",
        "* do it in SSH terminal (recommended) or Jupyter terminal\n",
        "\n",
        "```\n",
        "$ julia\n",
        "   _       _ _(_)_     |  Documentation: https://docs.julialang.org\n",
        "  (_)     | (_) (_)    |\n",
        "   _ _   _| |_  __ _   |  Type \"?\" for help, \"]?\" for Pkg help.\n",
        "  | | | | | | |/ _` |  |\n",
        "  | | |_| | | | (_| |  |  Version 1.10.2 (2024-03-01)\n",
        " _/ |\\__'_|_|_|\\__'_|  |  Official https://julialang.org/ release\n",
        "|__/                   |\n",
        "\n",
        "┌ Warning: Terminal not fully functional\n",
        "└ @ Base client.jl:422\n",
        "julia>\n",
        "```\n",
        "\n",
        "## 5-3. OCaml",
        "\n",
        "* `ocaml` is an interactive environment to which you input OCaml program interactively, somewhat similar to Jupyter\n",
        "* `ocamlc` is a compiler that converts OCaml program files to an executable file\n",
        "\n",
        "### 5-3-1. Setting up",
        "\n",
        "* check if you can run `ocamlc` command\n",
        ""
      ]
    },
    {
      "cell_type": "code",
      "metadata": {
        "kernel": "Bash",
        "nbgrader": {
          "grade": false,
          "grade_id": "c-035",
          "locked": false,
          "schema_version": 3,
          "solution": false,
          "task": false
        }
      },
      "source": [
        "ocamlc --version"
      ],
      "execution_count": null,
      "outputs": []
    },
    {
      "cell_type": "markdown",
      "metadata": {
        "kernel": "SoS",
        "nbgrader": {
          "grade": false,
          "grade_id": "c-036",
          "locked": true,
          "schema_version": 3,
          "solution": false,
          "task": false
        }
      },
      "source": [
        "* if it raises an error indicating `ocamlc` command is not found, execute the following in your shell\n",
        ""
      ]
    },
    {
      "cell_type": "code",
      "metadata": {
        "kernel": "Bash",
        "nbgrader": {
          "grade": false,
          "grade_id": "c-037",
          "locked": false,
          "schema_version": 3,
          "solution": false,
          "task": false
        }
      },
      "source": [
        "eval $(opam env)"
      ],
      "execution_count": null,
      "outputs": []
    },
    {
      "cell_type": "markdown",
      "metadata": {
        "kernel": "SoS",
        "nbgrader": {
          "grade": false,
          "grade_id": "c-038",
          "locked": true,
          "schema_version": 3,
          "solution": false,
          "task": false
        }
      },
      "source": [
        "* you can put the above in your `~/.profile` so it automatically happens when you login with SSH\n",
        "* make sure you can now run `ocamlc` command and `which ocamlc` shows where it is\n",
        ""
      ]
    },
    {
      "cell_type": "code",
      "metadata": {
        "kernel": "Bash",
        "nbgrader": {
          "grade": false,
          "grade_id": "c-039",
          "locked": false,
          "schema_version": 3,
          "solution": false,
          "task": false
        }
      },
      "source": [
        "which ocamlc\n",
        "ocamlc --version"
      ],
      "execution_count": null,
      "outputs": []
    },
    {
      "cell_type": "markdown",
      "metadata": {
        "kernel": "SoS",
        "nbgrader": {
          "grade": false,
          "grade_id": "c-040",
          "locked": true,
          "schema_version": 3,
          "solution": false,
          "task": false
        }
      },
      "source": [
        "### 5-3-2. Compiling and executing a program",
        "\n",
        "* move to a working directory\n",
        ""
      ]
    },
    {
      "cell_type": "code",
      "metadata": {
        "kernel": "Bash",
        "nbgrader": {
          "grade": false,
          "grade_id": "c-041",
          "locked": false,
          "schema_version": 3,
          "solution": false,
          "task": false
        }
      },
      "source": [
        "cd ~/notebooks/pl04_standalone/00hello/ml"
      ],
      "execution_count": null,
      "outputs": []
    },
    {
      "cell_type": "markdown",
      "metadata": {
        "kernel": "SoS",
        "nbgrader": {
          "grade": false,
          "grade_id": "c-042",
          "locked": true,
          "schema_version": 3,
          "solution": false,
          "task": false
        }
      },
      "source": [
        "* a simplest program"
      ]
    },
    {
      "cell_type": "code",
      "metadata": {
        "kernel": "Bash",
        "nbgrader": {
          "grade": false,
          "grade_id": "c-043",
          "locked": false,
          "schema_version": 3,
          "solution": false,
          "task": false
        }
      },
      "source": [
        "cat hello.ml"
      ],
      "execution_count": null,
      "outputs": []
    },
    {
      "cell_type": "markdown",
      "metadata": {
        "kernel": "SoS",
        "nbgrader": {
          "grade": false,
          "grade_id": "c-044",
          "locked": true,
          "schema_version": 3,
          "solution": false,
          "task": false
        }
      },
      "source": [
        "* compile it to get a standalone executable"
      ]
    },
    {
      "cell_type": "code",
      "metadata": {
        "kernel": "Bash",
        "nbgrader": {
          "grade": false,
          "grade_id": "c-045",
          "locked": false,
          "schema_version": 3,
          "solution": false,
          "task": false
        }
      },
      "source": [
        "ocamlc hello.ml"
      ],
      "execution_count": null,
      "outputs": []
    },
    {
      "cell_type": "markdown",
      "metadata": {
        "kernel": "SoS",
        "nbgrader": {
          "grade": false,
          "grade_id": "c-046",
          "locked": true,
          "schema_version": 3,
          "solution": false,
          "task": false
        }
      },
      "source": [
        "* execute it"
      ]
    },
    {
      "cell_type": "code",
      "metadata": {
        "kernel": "Bash",
        "nbgrader": {
          "grade": false,
          "grade_id": "c-047",
          "locked": false,
          "schema_version": 3,
          "solution": false,
          "task": false
        }
      },
      "source": [
        "./a.out"
      ],
      "execution_count": null,
      "outputs": []
    },
    {
      "cell_type": "markdown",
      "metadata": {
        "kernel": "SoS",
        "nbgrader": {
          "grade": false,
          "grade_id": "c-048",
          "locked": true,
          "schema_version": 3,
          "solution": false,
          "task": false
        }
      },
      "source": [
        "### 5-3-3. Interactive environment",
        "\n",
        "* `ocaml` is an interactive environment\n",
        "* don't execute it within Jupyter\n",
        "* do it in SSH terminal (recommended) or Jupyter terminal\n",
        "\n",
        "```\n",
        "$ ocaml\n",
        "        OCaml version 4.13.1\n",
        "\n",
        "#\n",
        "```\n",
        "\n",
        "## 5-4. Rust",
        "\n",
        "* `rustc` is the command that compiles a Rust source file\n",
        "\n",
        "### 5-4-1. Setting up",
        "\n",
        "* check if you can run `rustc` command\n",
        ""
      ]
    },
    {
      "cell_type": "code",
      "metadata": {
        "kernel": "Bash",
        "nbgrader": {
          "grade": false,
          "grade_id": "c-049",
          "locked": false,
          "schema_version": 3,
          "solution": false,
          "task": false
        }
      },
      "source": [
        "rustc --version"
      ],
      "execution_count": null,
      "outputs": []
    },
    {
      "cell_type": "markdown",
      "metadata": {
        "kernel": "SoS",
        "nbgrader": {
          "grade": false,
          "grade_id": "c-050",
          "locked": true,
          "schema_version": 3,
          "solution": false,
          "task": false
        }
      },
      "source": [
        "* if it raises an error indicating `rustc` command is not found, execute the following in your shell\n",
        ""
      ]
    },
    {
      "cell_type": "code",
      "metadata": {
        "kernel": "Bash",
        "nbgrader": {
          "grade": false,
          "grade_id": "c-051",
          "locked": false,
          "schema_version": 3,
          "solution": false,
          "task": false
        }
      },
      "source": [
        ". ~/.cargo/env"
      ],
      "execution_count": null,
      "outputs": []
    },
    {
      "cell_type": "markdown",
      "metadata": {
        "kernel": "SoS",
        "nbgrader": {
          "grade": false,
          "grade_id": "c-052",
          "locked": true,
          "schema_version": 3,
          "solution": false,
          "task": false
        }
      },
      "source": [
        "* you can put the above in your `~/.profile` so it automatically happens when you login with SSH\n",
        "* make sure you can now run `rustc` command and `which rustc` shows where it is\n",
        ""
      ]
    },
    {
      "cell_type": "code",
      "metadata": {
        "kernel": "Bash",
        "nbgrader": {
          "grade": false,
          "grade_id": "c-053",
          "locked": false,
          "schema_version": 3,
          "solution": false,
          "task": false
        }
      },
      "source": [
        "which rustc\n",
        "rustc --version"
      ],
      "execution_count": null,
      "outputs": []
    },
    {
      "cell_type": "markdown",
      "metadata": {
        "kernel": "SoS",
        "nbgrader": {
          "grade": false,
          "grade_id": "c-054",
          "locked": true,
          "schema_version": 3,
          "solution": false,
          "task": false
        }
      },
      "source": [
        "### 5-4-2. Compiling and executing a program",
        "\n",
        "* move to a working directory\n",
        ""
      ]
    },
    {
      "cell_type": "code",
      "metadata": {
        "kernel": "Bash",
        "nbgrader": {
          "grade": false,
          "grade_id": "c-055",
          "locked": false,
          "schema_version": 3,
          "solution": false,
          "task": false
        }
      },
      "source": [
        "cd ~/notebooks/pl04_standalone/00hello/rs"
      ],
      "execution_count": null,
      "outputs": []
    },
    {
      "cell_type": "markdown",
      "metadata": {
        "kernel": "SoS",
        "nbgrader": {
          "grade": false,
          "grade_id": "c-056",
          "locked": true,
          "schema_version": 3,
          "solution": false,
          "task": false
        }
      },
      "source": [
        "* a simplest program"
      ]
    },
    {
      "cell_type": "code",
      "metadata": {
        "kernel": "Bash",
        "nbgrader": {
          "grade": false,
          "grade_id": "c-057",
          "locked": false,
          "schema_version": 3,
          "solution": false,
          "task": false
        }
      },
      "source": [
        "cat hello.rs"
      ],
      "execution_count": null,
      "outputs": []
    },
    {
      "cell_type": "markdown",
      "metadata": {
        "kernel": "SoS",
        "nbgrader": {
          "grade": false,
          "grade_id": "c-058",
          "locked": true,
          "schema_version": 3,
          "solution": false,
          "task": false
        }
      },
      "source": [
        "* compile it"
      ]
    },
    {
      "cell_type": "code",
      "metadata": {
        "kernel": "Bash",
        "nbgrader": {
          "grade": false,
          "grade_id": "c-059",
          "locked": false,
          "schema_version": 3,
          "solution": false,
          "task": false
        }
      },
      "source": [
        "rustc hello.rs"
      ],
      "execution_count": null,
      "outputs": []
    },
    {
      "cell_type": "markdown",
      "metadata": {
        "kernel": "SoS",
        "nbgrader": {
          "grade": false,
          "grade_id": "c-060",
          "locked": true,
          "schema_version": 3,
          "solution": false,
          "task": false
        }
      },
      "source": [
        "* execute it"
      ]
    },
    {
      "cell_type": "code",
      "metadata": {
        "kernel": "Bash",
        "nbgrader": {
          "grade": false,
          "grade_id": "c-061",
          "locked": false,
          "schema_version": 3,
          "solution": false,
          "task": false
        }
      },
      "source": [
        "./hello"
      ],
      "execution_count": null,
      "outputs": []
    },
    {
      "cell_type": "markdown",
      "metadata": {
        "kernel": "SoS",
        "nbgrader": {
          "grade": false,
          "grade_id": "c-062",
          "locked": true,
          "schema_version": 3,
          "solution": false,
          "task": false
        }
      },
      "source": [
        "### 5-4-3. Interactive environment",
        "\n",
        "* rust is basically a batch-compiled language; there is no official interactive environment\n",
        "* Jupyter uses an external program called `evcxr_jupyter`\n",
        "* Alternatively, you could use [Rust Playground](https://play.rust-lang.org/?version=stable&mode=debug&edition=2021) to interactively play with Rust\n",
        "\n",
        "# 6. Build system",
        "\n",
        "* A build system is a program that helps you develop programs using external libraries and/or consisting of multiple files\n",
        "* OCaml, Go and Rust have their own build system, dune, go, and cargo, respectively\n",
        "* They have a command to create a project and build it\n",
        "\n",
        "## 6-1. go is Go's build system",
        "\n",
        "* `go` command also serves as go's build system\n",
        "* spend at least a few minutes to read the first few sections of [How to Write Go Code](https://go.dev/doc/code)\n",
        "\n",
        "* go to the directory,"
      ]
    },
    {
      "cell_type": "code",
      "metadata": {
        "kernel": "Bash",
        "nbgrader": {
          "grade": false,
          "grade_id": "c-063",
          "locked": false,
          "schema_version": 3,
          "solution": false,
          "task": false
        }
      },
      "source": [
        "cd ~/notebooks/pl04_standalone/01build_sys/go"
      ],
      "execution_count": null,
      "outputs": []
    },
    {
      "cell_type": "markdown",
      "metadata": {
        "kernel": "SoS",
        "nbgrader": {
          "grade": false,
          "grade_id": "c-064",
          "locked": true,
          "schema_version": 3,
          "solution": false,
          "task": false
        }
      },
      "source": [
        "* which contains only a file `_`"
      ]
    },
    {
      "cell_type": "code",
      "metadata": {
        "kernel": "Bash",
        "nbgrader": {
          "grade": false,
          "grade_id": "c-065",
          "locked": false,
          "schema_version": 3,
          "solution": false,
          "task": false
        }
      },
      "source": [
        "ls"
      ],
      "execution_count": null,
      "outputs": []
    },
    {
      "cell_type": "markdown",
      "metadata": {
        "kernel": "SoS",
        "nbgrader": {
          "grade": false,
          "grade_id": "c-066",
          "locked": true,
          "schema_version": 3,
          "solution": false,
          "task": false
        }
      },
      "source": [
        "* [create a project called foo](https://go.dev/doc/tutorial/create-module) by"
      ]
    },
    {
      "cell_type": "code",
      "metadata": {
        "kernel": "Bash",
        "nbgrader": {
          "grade": false,
          "grade_id": "c-067",
          "locked": false,
          "schema_version": 3,
          "solution": false,
          "task": false
        }
      },
      "source": [
        "mkdir -p foo\n",
        "cd foo\n",
        "go mod init foo"
      ],
      "execution_count": null,
      "outputs": []
    },
    {
      "cell_type": "markdown",
      "metadata": {
        "kernel": "SoS",
        "nbgrader": {
          "grade": false,
          "grade_id": "c-068",
          "locked": true,
          "schema_version": 3,
          "solution": false,
          "task": false
        }
      },
      "source": [
        "* it just creates `go.mod` file"
      ]
    },
    {
      "cell_type": "code",
      "metadata": {
        "kernel": "Bash",
        "nbgrader": {
          "grade": false,
          "grade_id": "c-069",
          "locked": false,
          "schema_version": 3,
          "solution": false,
          "task": false
        }
      },
      "source": [
        "ls -lR"
      ],
      "execution_count": null,
      "outputs": []
    },
    {
      "cell_type": "markdown",
      "metadata": {
        "kernel": "SoS",
        "nbgrader": {
          "grade": false,
          "grade_id": "c-070",
          "locked": true,
          "schema_version": 3,
          "solution": false,
          "task": false
        }
      },
      "source": [
        "* create a file `foo.go` with the following content (using editor)\n",
        "```\n",
        "package main\n",
        "func main() {\n",
        "     println(\"hello world\")\n",
        "}\n",
        "```\n",
        "\n",
        "* compile it by"
      ]
    },
    {
      "cell_type": "code",
      "metadata": {
        "kernel": "Bash",
        "nbgrader": {
          "grade": false,
          "grade_id": "c-071",
          "locked": false,
          "schema_version": 3,
          "solution": false,
          "task": false
        }
      },
      "source": [
        "go build"
      ],
      "execution_count": null,
      "outputs": []
    },
    {
      "cell_type": "markdown",
      "metadata": {
        "kernel": "SoS",
        "nbgrader": {
          "grade": false,
          "grade_id": "c-072",
          "locked": true,
          "schema_version": 3,
          "solution": false,
          "task": false
        }
      },
      "source": [
        "* which will create `foo`; run it by"
      ]
    },
    {
      "cell_type": "code",
      "metadata": {
        "kernel": "Bash",
        "nbgrader": {
          "grade": false,
          "grade_id": "c-073",
          "locked": false,
          "schema_version": 3,
          "solution": false,
          "task": false
        }
      },
      "source": [
        "./foo"
      ],
      "execution_count": null,
      "outputs": []
    },
    {
      "cell_type": "markdown",
      "metadata": {
        "kernel": "SoS",
        "nbgrader": {
          "grade": false,
          "grade_id": "c-074",
          "locked": true,
          "schema_version": 3,
          "solution": false,
          "task": false
        }
      },
      "source": [
        "## 6-2. Julia has no particular build system",
        "\n",
        "* Julia has no build system, as it does not require a separate step to compile source files into an executable file\n",
        "* you always just-in-time compile your source files and run them immediately\n",
        "\n",
        "## 6-3. dune: OCaml's build system",
        "\n",
        "* [dune](https://dune.build/) is a build system for OCaml\n",
        "* spend at least a few minutes on its [document](https://dune.readthedocs.io/en/stable/), including [Quickstart](https://dune.readthedocs.io/en/stable/quick-start.html) section\n",
        "\n",
        "* install dune for you (<font color=\"red\">do it from a terminal, not by SHIFT-ENTER below).  `$` below is a command prompt, not a part of your input\n",
        "```\n",
        "$ eval $(opam env)\n",
        "$ opam install dune\n",
        "```\n",
        "which says\n",
        "```\n",
        "Run eval $(opam env) to update the current shell environment\n",
        "```\n",
        "at the end.  Follow the instruction\n",
        "```\n",
        "$ eval $(opam env)\n",
        "```\n",
        "\n",
        "* go to the directory,"
      ]
    },
    {
      "cell_type": "code",
      "metadata": {
        "kernel": "Bash",
        "nbgrader": {
          "grade": false,
          "grade_id": "c-075",
          "locked": false,
          "schema_version": 3,
          "solution": false,
          "task": false
        }
      },
      "source": [
        "cd ~/notebooks/pl04_standalone/01build_sys/ml"
      ],
      "execution_count": null,
      "outputs": []
    },
    {
      "cell_type": "markdown",
      "metadata": {
        "kernel": "SoS",
        "nbgrader": {
          "grade": false,
          "grade_id": "c-076",
          "locked": true,
          "schema_version": 3,
          "solution": false,
          "task": false
        }
      },
      "source": [
        "* which contains only a file `_`"
      ]
    },
    {
      "cell_type": "code",
      "metadata": {
        "kernel": "Bash",
        "nbgrader": {
          "grade": false,
          "grade_id": "c-077",
          "locked": false,
          "schema_version": 3,
          "solution": false,
          "task": false
        }
      },
      "source": [
        "ls"
      ],
      "execution_count": null,
      "outputs": []
    },
    {
      "cell_type": "markdown",
      "metadata": {
        "kernel": "SoS",
        "nbgrader": {
          "grade": false,
          "grade_id": "c-078",
          "locked": true,
          "schema_version": 3,
          "solution": false,
          "task": false
        }
      },
      "source": [
        "* [create a project called foo](https://dune.readthedocs.io/en/stable/usage.html#initializing-a-project) by"
      ]
    },
    {
      "cell_type": "code",
      "metadata": {
        "kernel": "Bash",
        "nbgrader": {
          "grade": false,
          "grade_id": "c-079",
          "locked": false,
          "schema_version": 3,
          "solution": false,
          "task": false
        }
      },
      "source": [
        "dune init proj foo"
      ],
      "execution_count": null,
      "outputs": []
    },
    {
      "cell_type": "markdown",
      "metadata": {
        "kernel": "SoS",
        "nbgrader": {
          "grade": false,
          "grade_id": "c-080",
          "locked": true,
          "schema_version": 3,
          "solution": false,
          "task": false
        }
      },
      "source": [
        "* let's find files in it"
      ]
    },
    {
      "cell_type": "code",
      "metadata": {
        "kernel": "Bash",
        "nbgrader": {
          "grade": false,
          "grade_id": "c-081",
          "locked": false,
          "schema_version": 3,
          "solution": false,
          "task": false
        }
      },
      "source": [
        "ls -lR"
      ],
      "execution_count": null,
      "outputs": []
    },
    {
      "cell_type": "markdown",
      "metadata": {
        "kernel": "SoS",
        "nbgrader": {
          "grade": false,
          "grade_id": "c-082",
          "locked": true,
          "schema_version": 3,
          "solution": false,
          "task": false
        }
      },
      "source": [
        "* `foo/bin/main.ml` is the source file you are going to add your program"
      ]
    },
    {
      "cell_type": "code",
      "metadata": {
        "kernel": "Bash",
        "nbgrader": {
          "grade": false,
          "grade_id": "c-083",
          "locked": false,
          "schema_version": 3,
          "solution": false,
          "task": false
        }
      },
      "source": [
        "cat foo/bin/main.ml"
      ],
      "execution_count": null,
      "outputs": []
    },
    {
      "cell_type": "markdown",
      "metadata": {
        "kernel": "SoS",
        "nbgrader": {
          "grade": false,
          "grade_id": "c-084",
          "locked": true,
          "schema_version": 3,
          "solution": false,
          "task": false
        }
      },
      "source": [
        "* go to the top level directory of the project"
      ]
    },
    {
      "cell_type": "code",
      "metadata": {
        "kernel": "Bash",
        "nbgrader": {
          "grade": false,
          "grade_id": "c-085",
          "locked": false,
          "schema_version": 3,
          "solution": false,
          "task": false
        }
      },
      "source": [
        "cd foo"
      ],
      "execution_count": null,
      "outputs": []
    },
    {
      "cell_type": "markdown",
      "metadata": {
        "kernel": "SoS",
        "nbgrader": {
          "grade": false,
          "grade_id": "c-086",
          "locked": true,
          "schema_version": 3,
          "solution": false,
          "task": false
        }
      },
      "source": [
        "* build the executable by"
      ]
    },
    {
      "cell_type": "code",
      "metadata": {
        "kernel": "Bash",
        "nbgrader": {
          "grade": false,
          "grade_id": "c-087",
          "locked": false,
          "schema_version": 3,
          "solution": false,
          "task": false
        }
      },
      "source": [
        "eval $(opam env)\n",
        "dune build"
      ],
      "execution_count": null,
      "outputs": []
    },
    {
      "cell_type": "markdown",
      "metadata": {
        "kernel": "SoS",
        "nbgrader": {
          "grade": false,
          "grade_id": "c-088",
          "locked": true,
          "schema_version": 3,
          "solution": false,
          "task": false
        }
      },
      "source": [
        "* which will create ./_build/default/bin/main.exe; run it either by"
      ]
    },
    {
      "cell_type": "code",
      "metadata": {
        "kernel": "Bash",
        "nbgrader": {
          "grade": false,
          "grade_id": "c-089",
          "locked": false,
          "schema_version": 3,
          "solution": false,
          "task": false
        }
      },
      "source": [
        "dune exec foo"
      ],
      "execution_count": null,
      "outputs": []
    },
    {
      "cell_type": "markdown",
      "metadata": {
        "kernel": "SoS",
        "nbgrader": {
          "grade": false,
          "grade_id": "c-090",
          "locked": true,
          "schema_version": 3,
          "solution": false,
          "task": false
        }
      },
      "source": [
        "or "
      ]
    },
    {
      "cell_type": "code",
      "metadata": {
        "kernel": "Bash",
        "nbgrader": {
          "grade": false,
          "grade_id": "c-091",
          "locked": false,
          "schema_version": 3,
          "solution": false,
          "task": false
        }
      },
      "source": [
        "./_build/default/bin/main.exe"
      ],
      "execution_count": null,
      "outputs": []
    },
    {
      "cell_type": "markdown",
      "metadata": {
        "kernel": "SoS",
        "nbgrader": {
          "grade": false,
          "grade_id": "c-092",
          "locked": true,
          "schema_version": 3,
          "solution": false,
          "task": false
        }
      },
      "source": [
        "## 6-4. cargo: Rust's build system",
        "\n",
        "* [cargo](https://doc.rust-lang.org/book/ch01-03-hello-cargo.html) is the build system of Rust\n",
        "* spend a few minutes to read [Hello, Cargo!](https://doc.rust-lang.org/book/ch01-03-hello-cargo.html) section of the Rust book\n",
        "\n",
        "* go to the directory,"
      ]
    },
    {
      "cell_type": "code",
      "metadata": {
        "kernel": "Bash",
        "nbgrader": {
          "grade": false,
          "grade_id": "c-093",
          "locked": false,
          "schema_version": 3,
          "solution": false,
          "task": false
        }
      },
      "source": [
        "cd ~/notebooks/pl04_standalone/01build_sys/rs"
      ],
      "execution_count": null,
      "outputs": []
    },
    {
      "cell_type": "markdown",
      "metadata": {
        "kernel": "SoS",
        "nbgrader": {
          "grade": false,
          "grade_id": "c-094",
          "locked": true,
          "schema_version": 3,
          "solution": false,
          "task": false
        }
      },
      "source": [
        "* which contains only a file `_`"
      ]
    },
    {
      "cell_type": "code",
      "metadata": {
        "kernel": "Bash",
        "nbgrader": {
          "grade": false,
          "grade_id": "c-095",
          "locked": false,
          "schema_version": 3,
          "solution": false,
          "task": false
        }
      },
      "source": [
        "ls"
      ],
      "execution_count": null,
      "outputs": []
    },
    {
      "cell_type": "markdown",
      "metadata": {
        "kernel": "SoS",
        "nbgrader": {
          "grade": false,
          "grade_id": "c-096",
          "locked": true,
          "schema_version": 3,
          "solution": false,
          "task": false
        }
      },
      "source": [
        "* [create a project called foo](https://doc.rust-lang.org/book/ch01-03-hello-cargo.html) by"
      ]
    },
    {
      "cell_type": "code",
      "metadata": {
        "kernel": "Bash",
        "nbgrader": {
          "grade": false,
          "grade_id": "c-097",
          "locked": false,
          "schema_version": 3,
          "solution": false,
          "task": false
        }
      },
      "source": [
        "cargo new foo"
      ],
      "execution_count": null,
      "outputs": []
    },
    {
      "cell_type": "markdown",
      "metadata": {
        "kernel": "SoS",
        "nbgrader": {
          "grade": false,
          "grade_id": "c-098",
          "locked": true,
          "schema_version": 3,
          "solution": false,
          "task": false
        }
      },
      "source": [
        "* which will create a directory `foo`; go to the directory"
      ]
    },
    {
      "cell_type": "code",
      "metadata": {
        "kernel": "Bash",
        "nbgrader": {
          "grade": false,
          "grade_id": "c-099",
          "locked": false,
          "schema_version": 3,
          "solution": false,
          "task": false
        }
      },
      "source": [
        "cd foo"
      ],
      "execution_count": null,
      "outputs": []
    },
    {
      "cell_type": "markdown",
      "metadata": {
        "kernel": "SoS",
        "nbgrader": {
          "grade": false,
          "grade_id": "c-100",
          "locked": true,
          "schema_version": 3,
          "solution": false,
          "task": false
        }
      },
      "source": [
        "* let's find files in it"
      ]
    },
    {
      "cell_type": "code",
      "metadata": {
        "kernel": "Bash",
        "nbgrader": {
          "grade": false,
          "grade_id": "c-101",
          "locked": false,
          "schema_version": 3,
          "solution": false,
          "task": false
        }
      },
      "source": [
        "ls -lR"
      ],
      "execution_count": null,
      "outputs": []
    },
    {
      "cell_type": "markdown",
      "metadata": {
        "kernel": "SoS",
        "nbgrader": {
          "grade": false,
          "grade_id": "c-102",
          "locked": true,
          "schema_version": 3,
          "solution": false,
          "task": false
        }
      },
      "source": [
        "* `src/main.rs` is the source file you are going to add your program"
      ]
    },
    {
      "cell_type": "code",
      "metadata": {
        "kernel": "Bash",
        "nbgrader": {
          "grade": false,
          "grade_id": "c-103",
          "locked": false,
          "schema_version": 3,
          "solution": false,
          "task": false
        }
      },
      "source": [
        "cat src/main.rs"
      ],
      "execution_count": null,
      "outputs": []
    },
    {
      "cell_type": "markdown",
      "metadata": {
        "kernel": "SoS",
        "nbgrader": {
          "grade": false,
          "grade_id": "c-104",
          "locked": true,
          "schema_version": 3,
          "solution": false,
          "task": false
        }
      },
      "source": [
        "* build the executable by"
      ]
    },
    {
      "cell_type": "code",
      "metadata": {
        "kernel": "Bash",
        "nbgrader": {
          "grade": false,
          "grade_id": "c-105",
          "locked": false,
          "schema_version": 3,
          "solution": false,
          "task": false
        }
      },
      "source": [
        "cargo build"
      ],
      "execution_count": null,
      "outputs": []
    },
    {
      "cell_type": "markdown",
      "metadata": {
        "kernel": "SoS",
        "nbgrader": {
          "grade": false,
          "grade_id": "c-106",
          "locked": true,
          "schema_version": 3,
          "solution": false,
          "task": false
        }
      },
      "source": [
        "* which will create `target/debug/foo`; run it either by"
      ]
    },
    {
      "cell_type": "code",
      "metadata": {
        "kernel": "Bash",
        "nbgrader": {
          "grade": false,
          "grade_id": "c-107",
          "locked": false,
          "schema_version": 3,
          "solution": false,
          "task": false
        }
      },
      "source": [
        "cargo run"
      ],
      "execution_count": null,
      "outputs": []
    },
    {
      "cell_type": "markdown",
      "metadata": {
        "kernel": "SoS",
        "nbgrader": {
          "grade": false,
          "grade_id": "c-108",
          "locked": true,
          "schema_version": 3,
          "solution": false,
          "task": false
        }
      },
      "source": [
        "or"
      ]
    },
    {
      "cell_type": "code",
      "metadata": {
        "kernel": "Bash",
        "nbgrader": {
          "grade": false,
          "grade_id": "c-109",
          "locked": false,
          "schema_version": 3,
          "solution": false,
          "task": false
        }
      },
      "source": [
        "./target/debug/foo"
      ],
      "execution_count": null,
      "outputs": []
    },
    {
      "cell_type": "markdown",
      "metadata": {
        "kernel": "SoS",
        "nbgrader": {
          "grade": false,
          "grade_id": "c-110",
          "locked": true,
          "schema_version": 3,
          "solution": false,
          "task": false
        }
      },
      "source": [
        "* we will later explain how to use external libraries from `main.rs`\n",
        "\n",
        "# 7. Using libraries",
        "\n",
        "* Your program rarely consists of only the code you wrote; you rely on many programs written by others, which are generally called \"libraries\"; they provide your program with functions, variables, classes, types, and so on\n",
        "* When you need a function that is general enough so you reasonably believe is available as a library and complex enough so you do not want to develop yourself, you search for a library implementing it\n",
        "* Having a confidence on finding an appropriate library (on the web), knowing what kind of functions/variables/classes it provides and how to use them, and correctly using it from your program is an important step toward mastering a language\n",
        "* Using a library in general entails\n",
        "  * searching for a library you want \n",
        "  * installing it if necessary (e.g., Python's `pip` command or from a github)\n",
        "  * telling the compiler/interactive command where the library is, if it is installed at a place they don't know.  this is generally done via setting an environment variable (Python's `PYTHONPATH`), giving a command line, or setting a variable in the interactive environment (Python's `sys.path`)\n",
        "  * you write a statement or a command to import it in your program, so that your can mention its function, variables, etc. (Python's `import` statement)\n",
        "\n",
        "* Some libraries are _builtin_, in the sense that they do not require any of the above (e.g., Python's `open` function)\n",
        "* Some libraries are not builtin but _standard_, in the sense that they are already installed along with the language itself; you don't have to install it by yourself but just have to import it (e.g., Python's `re` module)\n",
        "* Some languages (OCaml, Go and Rust) have a build system that automatically install external libraries\n",
        "\n",
        "## 7-1. Libraries in Go",
        "\n",
        "### 7-1-1. Builtin libraries",
        "\n",
        "* Go's builtin libraries are called `builtin` package.  See [builtin package](https://pkg.go.dev/builtin) to find names in them.  They are available automatically in any program\n",
        "* if you find a _name_ in the above page, you can use it by just _name_ in your program\n",
        "* for example, there is `func println(args ...Type)` in the above page, so you can just write\n",
        "```println(10)```\n",
        "in any program\n",
        "\n",
        "### 7-1-2. Standard libraries",
        "\n",
        "* Go's [Standard library](https://pkg.go.dev/std) are packages that are installed with the Go system\n",
        "* your program refers to a _name_ in a package by saying in the beginning of a source file <font color=\"blue\">import \"_module-name_\"</font> (notice that the name is double-quoted) and with <font color=\"blue\">_module-name_._name_</font>\n",
        "\n",
        "* for example let's say you want to use `Abs` function in [math](https://pkg.go.dev/math) package. you write\n",
        "```\n",
        "import \"math\"\n",
        "```\n",
        "in the beginning of a file and \n",
        "```\n",
        "math.Abs(-3)\n",
        "```\n",
        "\n",
        "### 7-1-3. External libraries",
        "\n",
        "* See [Managing dependencies](https://go.dev/doc/modules/managing-dependencies) for general concepts\n",
        "* search [pkg.go.dev](https://pkg.go.dev/) for a library you want\n",
        "* once you find the package name, you import its repository name you can find on the right of the package page\n",
        "<font color=\"blue\">import \"_repository-name_\"</font>\n",
        "in your source file; `go build` does the rest from downloading the library to compiling it to linking with it\n",
        "* moreover, the same scheme works for code not in [pkg.go.dev](https://pkg.go.dev/)\n",
        "* for example, if you search [pkg.go.dev](https://pkg.go.dev/) for `xmldom`, you find it's repository \"github.com/subchen/go-xmldom\" under Repository section on the right of the [go-xmldom](https://pkg.go.dev/github.com/subchen/go-xmldom). so just change your `foo.go` file to something like\n",
        "```\n",
        "package main\n",
        "import \"github.com/subchen/go-xmldom\"\n",
        "func main() {\n",
        "        xmldom.ParseXML(\"<a>123</a>\")\n",
        "        println(\"hello world\")\n",
        "}\n",
        "```\n",
        "to your source file.\n",
        "* install it by\n",
        "```\n",
        "go get github.com/subchen/go-xmldom\n",
        "```\n",
        "and you are done\n",
        "* `go build` compiles it and links it with your program\n",
        "\n",
        "## 7-2. Libraries in Julia",
        "\n",
        "### 7-2-1. Builtin libraries",
        "\n",
        "* Julia's builtin libraries are called `Core` and `Base` modules.  See `Base` tab in [Julia documentation page](https://docs.julialang.org/en/v1/) to find names in them.  They are available automatically in any program\n",
        "* if you find <font color=\"blue\">Base._name_</font> in the above page, you can use it by just <font color=\"blue\">_name_</font> in your program\n",
        "\n",
        "### 7-2-2. Standard libraries",
        "\n",
        "* Julia's Standard Library in [Julia documentation](https://docs.julialang.org/en/v1/) are modules that are installed with the Julia system\n",
        "* your program refers to a _name_ in the standard library by saying in the beginning of a source file <font color=\"blue\">import _module-name_</font> and by <font color=\"blue\">_module-name_._name_</font>\n",
        "* alternatively, you can say\n",
        "<font color=\"blue\">using _module-name_</font>\n",
        "in the beginning of your program and\n",
        "<font color=\"blue\">_name_</font>\n",
        "without prefixing it with the module name\n",
        "\n",
        "* for example let's say you want to use `DateTime` function in [Dates](https://docs.julialang.org/en/v1/stdlib/Dates/) module. you either write\n",
        "\n",
        "1.\n",
        "```\n",
        "import Dates\n",
        "```\n",
        "in the beginning of a file and \n",
        "```\n",
        "Dates.DateTime(2022)\n",
        "```\n",
        "\n",
        "2. or\n",
        "```\n",
        "using Dates\n",
        "```\n",
        "in the beginning of a file and just\n",
        "```\n",
        "DateTime(2022)\n",
        "```\n",
        "\n",
        "### 7-2-3. External libraries in Julia",
        "\n",
        "* [Julia's general registry](https://github.com/JuliaRegistries/General); see [Julia Packages](https://julialang.org/packages/)\n",
        "* if you find a library you want, either in [JuliaHub](https://juliahub.com/ui/Packages) or [Julia Packages](https://juliapackages.com/), you can install it from julia interactive environment by\n",
        "```\n",
        "$ julia\n",
        "julia> import Pkg\n",
        "julia> Pkg.add(\"name\")\n",
        "```\n",
        "* Example: let's say you want to use [LightXML](https://juliahub.com/ui/Packages/LightXML/a89nj/0.9.0) package\n",
        "* install it by\n",
        "```\n",
        "$ julia\n",
        "julia> import Pkg\n",
        "julia> Pkg.add(\"LightXML\")\n",
        "```\n",
        "* in your program, write\n",
        "```\n",
        "import LightXML\n",
        "```\n",
        "or \n",
        "```\n",
        "using LightXML\n",
        "```\n",
        "* with the former, you use various functions in the module with `LightXML.parse_file`, `LightXML.root`, etc. whereas with the latter simply with `parse_file`, `root`, etc.\n",
        "\n",
        "## 7-3. Libraries in OCaml",
        "\n",
        "### 7-3-1. Builtin libraries",
        "\n",
        "* Builtin functions, types, etc. are in `Pervasives` module.  Names in the [pervasive module](https://v2.ocaml.org/releases/4.02/htmlman/libref/Pervasives.html) are available automatically in any program\n",
        "\n",
        "* Example: your program can use sin function just by `sin`, as it is in the [pervasive module](https://v2.ocaml.org/releases/4.02/htmlman/libref/Pervasives.html)\n",
        "\n",
        "### 7-3-2. Standard libraries",
        "\n",
        "* [OCaml's standard libraries](https://v2.ocaml.org/releases/4.02/htmlman/libref/Pervasives.html) are modules that are installed with the OCaml system.\n",
        "\n",
        "* Your program doesn't have to do anything special to use entities (functions, types, etc.) in a standard module\n",
        " * <font color=\"blue\">_module-name_._name_</font> refers to <font color=\"blue\">_name_</font> in module <font color=\"blue\">_module-name_</font>\n",
        " * or, add <font color=\"blue\">`open` _module-name_</font> in the beginning of your program file and just _name_ refers to _name_ in the module\n",
        "\n",
        "* Example: you can use a variable `argv` in [Module sys](https://v2.ocaml.org/releases/4.02/htmlman/libref/Sys.html) either by\n",
        "```\n",
        "Sys.argv\n",
        "```\n",
        "or by having\n",
        "```\n",
        "open Sys;;\n",
        "```\n",
        "in the beginning of your program and\n",
        "```\n",
        "argv\n",
        "```\n",
        "\n",
        "### 7-3-3. External libraries",
        "\n",
        "* Find a module you want to use in [opam](https://opam.ocaml.org/packages/)\n",
        "\n",
        "* If it is found, you can install it by `opam` command <font color=\"blue\">opam install _module-name_\n",
        "\n",
        "* Once installed, the simplest way is to use it is `dune`\n",
        "\n",
        "* Example: let's use [markup](https://opam.ocaml.org/packages/markup/\") module; find its [README.md at github](https://github.com/aantron/markup.ml) and [the documentation](http://aantron.github.io/markup.ml/)\n",
        "\n",
        "* go to the source directory"
      ]
    },
    {
      "cell_type": "code",
      "metadata": {
        "kernel": "Bash",
        "nbgrader": {
          "grade": false,
          "grade_id": "c-111",
          "locked": false,
          "schema_version": 3,
          "solution": false,
          "task": false
        }
      },
      "source": [
        "cd ~/notebooks/pl04_standalone/01build_sys/ml/foo"
      ],
      "execution_count": null,
      "outputs": []
    },
    {
      "cell_type": "markdown",
      "metadata": {
        "kernel": "SoS",
        "nbgrader": {
          "grade": false,
          "grade_id": "c-112",
          "locked": true,
          "schema_version": 3,
          "solution": false,
          "task": false
        }
      },
      "source": [
        "* modify `bin/dune` file, which should originally look like\n",
        "```\n",
        "(executable\n",
        " (name main)\n",
        " (libraries foo))\n",
        "```\n",
        "* confirm it "
      ]
    },
    {
      "cell_type": "code",
      "metadata": {
        "kernel": "Bash",
        "nbgrader": {
          "grade": false,
          "grade_id": "c-113",
          "locked": false,
          "schema_version": 3,
          "solution": false,
          "task": false
        }
      },
      "source": [
        "cat bin/dune"
      ],
      "execution_count": null,
      "outputs": []
    },
    {
      "cell_type": "markdown",
      "metadata": {
        "kernel": "SoS",
        "nbgrader": {
          "grade": false,
          "grade_id": "c-114",
          "locked": true,
          "schema_version": 3,
          "solution": false,
          "task": false
        }
      },
      "source": [
        "* <font color=\"red\">You must do the following steps in a terminal and a text editor</font>\n",
        "\n",
        "* add `markup` to the `(libraries foo)` clause in the `dune` file,  so it looks like\n",
        "```\n",
        "(executable\n",
        " (name main)\n",
        " (libraries foo markup))\n",
        "```\n",
        "* change the source file `bin/main.ml` so it looks like\n",
        "```\n",
        "Markup.parse_xml (Markup.string \"<a>123</a>\")\n",
        "```\n",
        "\n",
        "* install the library by doing\n",
        "```\n",
        "opam install markup\n",
        "```\n",
        "\n",
        "* build it again with `dune`\n",
        ""
      ]
    },
    {
      "cell_type": "code",
      "metadata": {
        "kernel": "Bash",
        "nbgrader": {
          "grade": false,
          "grade_id": "c-115",
          "locked": false,
          "schema_version": 3,
          "solution": false,
          "task": false
        }
      },
      "source": [
        "dune build"
      ],
      "execution_count": null,
      "outputs": []
    },
    {
      "cell_type": "markdown",
      "metadata": {
        "kernel": "SoS",
        "nbgrader": {
          "grade": false,
          "grade_id": "c-116",
          "locked": true,
          "schema_version": 3,
          "solution": false,
          "task": false
        }
      },
      "source": [
        "* and run it, just to make sure it does not raise an error"
      ]
    },
    {
      "cell_type": "code",
      "metadata": {
        "kernel": "Bash",
        "nbgrader": {
          "grade": false,
          "grade_id": "c-117",
          "locked": false,
          "schema_version": 3,
          "solution": false,
          "task": false
        }
      },
      "source": [
        "./_build/default/bin/main.exe "
      ],
      "execution_count": null,
      "outputs": []
    },
    {
      "cell_type": "markdown",
      "metadata": {
        "kernel": "SoS",
        "nbgrader": {
          "grade": false,
          "grade_id": "c-118",
          "locked": true,
          "schema_version": 3,
          "solution": false,
          "task": false
        }
      },
      "source": [
        "## 7-4. Libraries in Rust",
        "\n",
        "### 7-4-1. Builtin libraries",
        "\n",
        "* Rust's builtin libraries are called [std::prelude module](https://doc.rust-lang.org/std/prelude/index.html).  From this page, you go to [v1](https://doc.rust-lang.org/std/prelude/v1/index.html) and [Module core::prelude::rust_2021](https://doc.rust-lang.org/core/prelude/rust_2021/index.html) for specific names available in all Rust programs\n",
        "* if you find a name such as crate::_module_::_module_::_name_ in the above pages, you can use it by just _name_ in your program\n",
        "* for example, there is `crate::option::Option::None` in [v1](https://doc.rust-lang.org/std/prelude/v1/index.html), so you can write\n",
        "```None```\n",
        "in any program\n",
        "\n",
        "### 7-4-2. Standard libraries",
        "\n",
        "* Rust's [Crate std](https://docs.rs/rustc-std-workspace-std/latest/std/) is the set of modules and macros installed with the Rust system\n",
        "* navigating to a module, you can find entities such as structs, traits, functions of a module\n",
        " * for example, [fs](https://docs.rs/rustc-std-workspace-std/latest/std/fs/index.html) is a module in the Crate `std`, where you can find entities such as a struct [File](https://docs.rs/rustc-std-workspace-std/latest/std/fs/struct.File.html) and a function [read](https://docs.rs/rustc-std-workspace-std/latest/std/fs/fn.read.html)\n",
        "* a module may contain another module (submodule)\n",
        " * for example, [f64](https://docs.rs/rustc-std-workspace-std/latest/std/f64/index.html) module contains a submodule [consts](https://docs.rs/rustc-std-workspace-std/latest/std/f64/consts/index.html)\n",
        "* you can refer to an entity in a module either by its fully-qualified name starting from the toplevel name (such as `std`), to a module name (such as fs, f64), all the way down to the name of the entity.  there may be multiple module names in between.\n",
        "* your program refers to an entity by its fully-qualified name, such as\n",
        "```std::f64::consts::PI```\n",
        "(see [std::f64::consts::PI](https://docs.rs/rustc-std-workspace-std/latest/std/f64/consts/constant.PI.html)\n",
        "* or, you can refer to `std::f64::consts::PI` by saying\n",
        "```use std::f64::consts::PI```\n",
        "in the beginning of a program and with just\n",
        "```PI```\n",
        "* you can go the middle road; for example, you can also say\n",
        "```use std::f64```\n",
        "or\n",
        "```use std::f64::consts```\n",
        "in the beginning of a program and refer to `std::f64::consts::PI` by\n",
        "```f64::PI```\n",
        "or\n",
        "```consts::f64::PI```\n",
        "respectively\n",
        "\n",
        "### 7-4-3. External libraries",
        "\n",
        "* [crates.io](https://crates.io/) is a repository you can search for a library you want\n",
        "* the concepts you have just learned above applied to external libraries, too\n",
        "* an external library is just a module contained in a crate other than std\n",
        "* once you find a module in [crates.io](https://crates.io/), the simplest way is to let `cargo` command do the job\n",
        "* add the name of the crate that contains the module you want to use to `Cargo.toml` file, under [dependencies] section\n",
        "* example: let's say you want to use [minidom](https://crates.io/crates/minidom) module\n",
        "* press the copy button on the right to copy a string that looks like\n",
        "```\n",
        "minidom = \"0.14.0\"\n",
        "```\n",
        "and paste it below [dependencies] in `Cargo.toml` file\n",
        "* alternatively you can just write\n",
        "```\n",
        "minidom = \"*\"\n",
        "```\n",
        "to indicate you want the latest version of the library\n",
        "* consult the document, by following [the link below \"Documentation\"](https://docs.rs/minidom/0.14.0/minidom/)\n",
        "* change the source file `foo.rs` so it looks like\n",
        "```\n",
        "use minidom::Element;\n",
        "\n",
        "fn main() {\n",
        "   let s = \"<a xmlns=\\\"https://a.com\\\">123</a>\";\n",
        "   let _root : Element = s.parse().unwrap();\n",
        "}\n",
        "```\n",
        "\n",
        "* build it with\n",
        "```\n",
        "cargo build\n",
        "```\n",
        "which does everything from downloading the source to compiling it to linking it with the code you write\n",
        "* execute it with either by\n",
        "```\n",
        "./target/debug/foo\n",
        "```\n",
        "or\n",
        "```\n",
        "cargo run\n",
        "```\n",
        "\n",
        "# <font color=\"green\"> Problem 1 :  Print the command line arg (like `echo` command)</font>",
        "\n",
        "* write a standalone program that prints the first argument given in the command line followed by a newline, just like the echo command (`echo hello` prints `hello`)\n",
        "* it must be written under `~/notebooks/pl04_standalone/p1/<lang>` directory, where &lt;lang&gt; is one of ml, jl, go and rs\n",
        "* always create `echo` folder under the above directory, either manually or by creating a project with the respective build system\n",
        "* as a result, the source file name must be\n",
        "  * Go    : `~/notebooks/pl04_standalone/p1/go/echo/echo.go`\n",
        "  * Julia : `~/notebooks/pl04_standalone/p1/jl/echo/echo.jl`\n",
        "  * OCaml : `~/notebooks/pl04_standalone/p1/ml/echo/bin/main.ml`\n",
        "  * Rust  : `~/notebooks/pl04_standalone/p1/rs/echo/src/main.rs`\n",
        "* after writing the program, compile and run it with one of the following\n",
        "\n",
        "* Go"
      ]
    },
    {
      "cell_type": "code",
      "metadata": {
        "kernel": "Bash",
        "nbgrader": {
          "grade": false,
          "grade_id": "c-119",
          "locked": false,
          "schema_version": 3,
          "solution": false,
          "task": false
        }
      },
      "source": [
        "cd ~/notebooks/pl04_standalone/p1/go/echo\n",
        "go build\n",
        "./echo 123"
      ],
      "execution_count": null,
      "outputs": []
    },
    {
      "cell_type": "markdown",
      "metadata": {
        "kernel": "SoS",
        "nbgrader": {
          "grade": false,
          "grade_id": "c-120",
          "locked": true,
          "schema_version": 3,
          "solution": false,
          "task": false
        }
      },
      "source": [
        "* Julia"
      ]
    },
    {
      "cell_type": "code",
      "metadata": {
        "kernel": "Bash",
        "nbgrader": {
          "grade": false,
          "grade_id": "c-121",
          "locked": false,
          "schema_version": 3,
          "solution": false,
          "task": false
        }
      },
      "source": [
        "cd ~/notebooks/pl04_standalone/p1/jl/echo\n",
        "julia echo.jl 123"
      ],
      "execution_count": null,
      "outputs": []
    },
    {
      "cell_type": "markdown",
      "metadata": {
        "kernel": "SoS",
        "nbgrader": {
          "grade": false,
          "grade_id": "c-122",
          "locked": true,
          "schema_version": 3,
          "solution": false,
          "task": false
        }
      },
      "source": [
        "* OCaml "
      ]
    },
    {
      "cell_type": "code",
      "metadata": {
        "kernel": "Bash",
        "nbgrader": {
          "grade": false,
          "grade_id": "c-123",
          "locked": false,
          "schema_version": 3,
          "solution": false,
          "task": false
        }
      },
      "source": [
        "cd ~/notebooks/pl04_standalone/p1/ml/echo\n",
        "dune build\n",
        "./_build/default/bin/main.exe 123"
      ],
      "execution_count": null,
      "outputs": []
    },
    {
      "cell_type": "markdown",
      "metadata": {
        "kernel": "SoS",
        "nbgrader": {
          "grade": false,
          "grade_id": "c-124",
          "locked": true,
          "schema_version": 3,
          "solution": false,
          "task": false
        }
      },
      "source": [
        "* Rust"
      ]
    },
    {
      "cell_type": "code",
      "metadata": {
        "kernel": "Bash",
        "nbgrader": {
          "grade": false,
          "grade_id": "c-125",
          "locked": false,
          "schema_version": 3,
          "solution": false,
          "task": false
        }
      },
      "source": [
        "cd ~/notebooks/pl04_standalone/p1/rs/echo\n",
        "cargo build\n",
        "./target/debug/echo 123"
      ],
      "execution_count": null,
      "outputs": []
    },
    {
      "cell_type": "markdown",
      "metadata": {
        "kernel": "SoS",
        "nbgrader": {
          "grade": false,
          "grade_id": "c-126",
          "locked": true,
          "schema_version": 3,
          "solution": false,
          "task": false
        }
      },
      "source": [
        "* They all must print 123\n",
        "\n",
        "# <font color=\"green\"> Problem 2 :  Read a file (like `cat` command)</font>",
        "\n",
        "* write a standalone program that takes a filename in its command line and prints its content, just like `cat` command\n",
        "* filename convention is the same as p1. it must be written under `~/notebooks/pl04_standalone/p2/<lang>` directory, where &lt;lang&gt; is one of ml, jl, go and rs\n",
        "* always create `cat` folder under the above directory, either manually or by creating a project with the respective build system\n",
        "* as a result, the source file name must be\n",
        "  * Go    : `~/notebooks/pl04_standalone/p2/go/cat/cat.go`\n",
        "  * Julia : `~/notebooks/pl04_standalone/p2/jl/cat/cat.jl`\n",
        "  * OCaml : `~/notebooks/pl04_standalone/p2/ml/cat/bin/main.ml`\n",
        "  * Rust  : `~/notebooks/pl04_standalone/p2/rs/cat/src/main.rs`\n",
        "* create a file named `expr.xml` under the `cat` directory whose contents should be\n",
        "```\n",
        "<plus xmlns=\"https://expr.com\">\n",
        "  <num>1</num>\n",
        "  <div>\n",
        "    <num>2</num>\n",
        "    <num>3</num>\n",
        "  </div>\n",
        "</plus>\n",
        "```\n",
        "* after writing the program, compile and run it with one of the following\n",
        "\n",
        "* Go"
      ]
    },
    {
      "cell_type": "code",
      "metadata": {
        "kernel": "Bash",
        "nbgrader": {
          "grade": false,
          "grade_id": "c-127",
          "locked": false,
          "schema_version": 3,
          "solution": false,
          "task": false
        }
      },
      "source": [
        "cd ~/notebooks/pl04_standalone/p2/go/cat\n",
        "go build\n",
        "./cat expr.xml"
      ],
      "execution_count": null,
      "outputs": []
    },
    {
      "cell_type": "markdown",
      "metadata": {
        "kernel": "SoS",
        "nbgrader": {
          "grade": false,
          "grade_id": "c-128",
          "locked": true,
          "schema_version": 3,
          "solution": false,
          "task": false
        }
      },
      "source": [
        "* Julia"
      ]
    },
    {
      "cell_type": "code",
      "metadata": {
        "kernel": "Bash",
        "nbgrader": {
          "grade": false,
          "grade_id": "c-129",
          "locked": false,
          "schema_version": 3,
          "solution": false,
          "task": false
        }
      },
      "source": [
        "cd ~/notebooks/pl04_standalone/p2/jl/cat\n",
        "julia cat.jl expr.xml"
      ],
      "execution_count": null,
      "outputs": []
    },
    {
      "cell_type": "markdown",
      "metadata": {
        "kernel": "SoS",
        "nbgrader": {
          "grade": false,
          "grade_id": "c-130",
          "locked": true,
          "schema_version": 3,
          "solution": false,
          "task": false
        }
      },
      "source": [
        "* OCaml "
      ]
    },
    {
      "cell_type": "code",
      "metadata": {
        "kernel": "Bash",
        "nbgrader": {
          "grade": false,
          "grade_id": "c-131",
          "locked": false,
          "schema_version": 3,
          "solution": false,
          "task": false
        }
      },
      "source": [
        "eval $(opam env)\n",
        "cd ~/notebooks/pl04_standalone/p2/ml/cat\n",
        "dune build\n",
        "./_build/default/bin/main.exe expr.xml"
      ],
      "execution_count": null,
      "outputs": []
    },
    {
      "cell_type": "markdown",
      "metadata": {
        "kernel": "SoS",
        "nbgrader": {
          "grade": false,
          "grade_id": "c-132",
          "locked": true,
          "schema_version": 3,
          "solution": false,
          "task": false
        }
      },
      "source": [
        "* Rust"
      ]
    },
    {
      "cell_type": "code",
      "metadata": {
        "kernel": "Bash",
        "nbgrader": {
          "grade": false,
          "grade_id": "c-133",
          "locked": false,
          "schema_version": 3,
          "solution": false,
          "task": false
        }
      },
      "source": [
        "cd ~/notebooks/pl04_standalone/p2/rs/cat\n",
        "cargo build\n",
        "./target/debug/cat expr.xml"
      ],
      "execution_count": null,
      "outputs": []
    },
    {
      "cell_type": "markdown",
      "metadata": {
        "kernel": "SoS",
        "nbgrader": {
          "grade": false,
          "grade_id": "c-134",
          "locked": true,
          "schema_version": 3,
          "solution": false,
          "task": false
        }
      },
      "source": [
        "* They all must print the contents of `expr.xml`\n",
        "\n",
        "# <font color=\"green\"> Problem 3 :  Read an XML string</font>",
        "\n",
        "* write a standalone program that takes a filename in its command line and parses it into a DOM tree, using an appropriate XML parser\n",
        "  * Go : xmldom\n",
        "  * Julia : LightXML\n",
        "  * OCaml : markup\n",
        "  * Rust : minidom\n",
        "\n",
        "* filename convention is the same as p1. it must be written under `~/notebooks/pl04_standalone/p3/<lang>` directory, where &lt;lang&gt; is one of ml, jl, go and rs\n",
        "* always create `readxml` folder under the above directory, either manually or by creating a project with the respective build system\n",
        "* as a result, the source file name must be\n",
        "  * Go    : `~/notebooks/pl04_standalone/p3/go/readxml/readxml.go`\n",
        "  * Julia : `~/notebooks/pl04_standalone/p3/jl/readxml/readxml.jl`\n",
        "  * OCaml : `~/notebooks/pl04_standalone/p3/ml/readxml/bin/main.ml`\n",
        "  * Rust  : `~/notebooks/pl04_standalone/p3/rs/readxml/src/main.rs`\n",
        "* create `expr.xml` with the same contents as Problem 2\n",
        "```\n",
        "<plus xmlns=\"https://expr.com\">\n",
        "  <num>1</num>\n",
        "  <div>\n",
        "    <num>2</num>\n",
        "    <num>3</num>\n",
        "  </div>\n",
        "</plus>\n",
        "```\n",
        "* after writing the program, compile and run it with one of the following\n",
        "\n",
        "* Go"
      ]
    },
    {
      "cell_type": "code",
      "metadata": {
        "kernel": "Bash",
        "nbgrader": {
          "grade": false,
          "grade_id": "c-135",
          "locked": false,
          "schema_version": 3,
          "solution": false,
          "task": false
        }
      },
      "source": [
        "cd ~/notebooks/pl04_standalone/p3/go/readxml\n",
        "go build\n",
        "./readxml expr.xml"
      ],
      "execution_count": null,
      "outputs": []
    },
    {
      "cell_type": "markdown",
      "metadata": {
        "kernel": "SoS",
        "nbgrader": {
          "grade": false,
          "grade_id": "c-136",
          "locked": true,
          "schema_version": 3,
          "solution": false,
          "task": false
        }
      },
      "source": [
        "* Julia"
      ]
    },
    {
      "cell_type": "code",
      "metadata": {
        "kernel": "Bash",
        "nbgrader": {
          "grade": false,
          "grade_id": "c-137",
          "locked": false,
          "schema_version": 3,
          "solution": false,
          "task": false
        }
      },
      "source": [
        "cd ~/notebooks/pl04_standalone/p3/jl/readxml\n",
        "julia readxml.jl expr.xml"
      ],
      "execution_count": null,
      "outputs": []
    },
    {
      "cell_type": "markdown",
      "metadata": {
        "kernel": "SoS",
        "nbgrader": {
          "grade": false,
          "grade_id": "c-138",
          "locked": true,
          "schema_version": 3,
          "solution": false,
          "task": false
        }
      },
      "source": [
        "* OCaml "
      ]
    },
    {
      "cell_type": "code",
      "metadata": {
        "kernel": "Bash",
        "nbgrader": {
          "grade": false,
          "grade_id": "c-139",
          "locked": false,
          "schema_version": 3,
          "solution": false,
          "task": false
        }
      },
      "source": [
        "eval $(opam env)\n",
        "cd ~/notebooks/pl04_standalone/p3/ml/readxml\n",
        "dune build\n",
        "./_build/default/bin/main.exe expr.xml"
      ],
      "execution_count": null,
      "outputs": []
    },
    {
      "cell_type": "markdown",
      "metadata": {
        "kernel": "SoS",
        "nbgrader": {
          "grade": false,
          "grade_id": "c-140",
          "locked": true,
          "schema_version": 3,
          "solution": false,
          "task": false
        }
      },
      "source": [
        "* Rust"
      ]
    },
    {
      "cell_type": "code",
      "metadata": {
        "kernel": "Bash",
        "nbgrader": {
          "grade": false,
          "grade_id": "c-141",
          "locked": false,
          "schema_version": 3,
          "solution": false,
          "task": false
        }
      },
      "source": [
        "cd ~/notebooks/pl04_standalone/p3/rs/readxml\n",
        "cargo build\n",
        "./target/debug/readxml expr.xml"
      ],
      "execution_count": null,
      "outputs": []
    },
    {
      "cell_type": "markdown",
      "metadata": {
        "kernel": "SoS",
        "nbgrader": {
          "grade": false,
          "grade_id": "c-142",
          "locked": true,
          "schema_version": 3,
          "solution": false,
          "task": false
        }
      },
      "source": [
        "* make sure your program\n",
        "  * normally exits without raising an error if given a valid XML file\n",
        "  * raises an error if given a non-existing XML file\n",
        "* the behavior given a file containing an invalid (slightly broken) XML expression can be up to the behavior of underlying XML library (some raise an error, others automatically skip or fix broken parts)\n",
        "\n",
        "# <font color=\"green\"> Problem 4 :  Split it into multiple files</font>",
        "\n",
        "* split the program you just wrote into two files\n",
        "  * `readxml.{go,jl,ml,rs}`, which contains a function `readxml` that takes a filename and returns a DOM tree\n",
        "  * `readxml2.{go,jl}` or `main.{ml,rs}`, which contains a `main` function (Go or Rust) or a toplevel expression (Julia or OCaml) that calls `readxml` function\n",
        "\n",
        "* filename convention is the same as p1. it must be written under `~/notebooks/pl04_standalone/p4/<lang>` directory, where &lt;lang&gt; is one of ml, jl, go and rs\n",
        "* always create `readxml` folder under the above directory, either manually or by creating a project with the respective build system\n",
        "* as a result, the source file name must be\n",
        "  * Go    : `~/notebooks/pl04_standalone/p4/go/readxml/{readxml,readxml2}.go`\n",
        "  * Julia : `~/notebooks/pl04_standalone/p4/jl/readxml/{readxml,readxml2}.jl`\n",
        "  * OCaml : `~/notebooks/pl04_standalone/p4/ml/readxml/bin/{readxml,main}.ml`\n",
        "  * Rust  : `~/notebooks/pl04_standalone/p4/rs/readxml/src/{readxml,main}.rs`\n",
        "* create `expr.xml` with the same contents as Problem 2 and 3\n",
        "```\n",
        "<plus xmlns=\"https://expr.com\">\n",
        "  <num>1</num>\n",
        "  <div>\n",
        "    <num>2</num>\n",
        "    <num>3</num>\n",
        "  </div>\n",
        "</plus>\n",
        "```\n",
        "* after writing the program, compile and run it with one of the following\n",
        "\n",
        "* Go"
      ]
    },
    {
      "cell_type": "code",
      "metadata": {
        "kernel": "Bash",
        "nbgrader": {
          "grade": false,
          "grade_id": "c-143",
          "locked": false,
          "schema_version": 3,
          "solution": false,
          "task": false
        }
      },
      "source": [
        "cd ~/notebooks/pl04_standalone/p4/go/readxml2\n",
        "go build\n",
        "./readxml2 expr.xml"
      ],
      "execution_count": null,
      "outputs": []
    },
    {
      "cell_type": "markdown",
      "metadata": {
        "kernel": "SoS",
        "nbgrader": {
          "grade": false,
          "grade_id": "c-144",
          "locked": true,
          "schema_version": 3,
          "solution": false,
          "task": false
        }
      },
      "source": [
        "* Julia"
      ]
    },
    {
      "cell_type": "code",
      "metadata": {
        "kernel": "Bash",
        "nbgrader": {
          "grade": false,
          "grade_id": "c-145",
          "locked": false,
          "schema_version": 3,
          "solution": false,
          "task": false
        }
      },
      "source": [
        "cd ~/notebooks/pl04_standalone/p4/jl/readxml2\n",
        "julia readxml2.jl expr.xml"
      ],
      "execution_count": null,
      "outputs": []
    },
    {
      "cell_type": "markdown",
      "metadata": {
        "kernel": "SoS",
        "nbgrader": {
          "grade": false,
          "grade_id": "c-146",
          "locked": true,
          "schema_version": 3,
          "solution": false,
          "task": false
        }
      },
      "source": [
        "* OCaml "
      ]
    },
    {
      "cell_type": "code",
      "metadata": {
        "kernel": "Bash",
        "nbgrader": {
          "grade": false,
          "grade_id": "c-147",
          "locked": false,
          "schema_version": 3,
          "solution": false,
          "task": false
        }
      },
      "source": [
        "eval $(opam env)\n",
        "cd ~/notebooks/pl04_standalone/p4/ml/readxml2\n",
        "dune build\n",
        "./_build/default/bin/main.exe expr.xml"
      ],
      "execution_count": null,
      "outputs": []
    },
    {
      "cell_type": "markdown",
      "metadata": {
        "kernel": "SoS",
        "nbgrader": {
          "grade": false,
          "grade_id": "c-148",
          "locked": true,
          "schema_version": 3,
          "solution": false,
          "task": false
        }
      },
      "source": [
        "* Rust"
      ]
    },
    {
      "cell_type": "code",
      "metadata": {
        "kernel": "Bash",
        "nbgrader": {
          "grade": false,
          "grade_id": "c-149",
          "locked": false,
          "schema_version": 3,
          "solution": false,
          "task": false
        }
      },
      "source": [
        "cd ~/notebooks/pl04_standalone/p4/rs/readxml2\n",
        "cargo build\n",
        "./target/debug/readxml2 expr.xml"
      ],
      "execution_count": null,
      "outputs": []
    },
    {
      "cell_type": "markdown",
      "metadata": {
        "kernel": "SoS",
        "nbgrader": {
          "grade": false,
          "grade_id": "c-150",
          "locked": true,
          "schema_version": 3,
          "solution": false,
          "task": false
        }
      },
      "source": [
        "## 7-5. Hints",
        "\n",
        "* First separate your program into `readxml` function and its caller _in the same file_ and make sure it works\n",
        "* Only then start splitting them into the two files\n",
        "* What it takes to call a function defined in another file depends on the language\n",
        "* Consult appropriate sections of the language manual, but here are some hints\n",
        "\n",
        "### 7-5-1. Go",
        "\n",
        "* If both files are in the same package (i.e., have the same `package main` at the head of the file), things are straightforward\n",
        "* You can just call `readxml` from `main` and `go build` will take care of the rest\n",
        "* Things get trickier if you put them in separate packages, a topic we do not go into any further\n",
        "\n",
        "### 7-5-2. Julia",
        "\n",
        "* All it takes is to `include(\"readxml.jl\")` in the other file, whose effect is as if you put the contents of the file in place\n",
        "* You can then just call `readxml`\n",
        "* You could put them into separate \"modules\", in which case you have to qualify names in another module (we don't get into it)\n",
        "\n",
        "### 7-5-3. OCaml",
        "\n",
        "* All names defined in `readxml.ml` are put in `Readxml` module\n",
        "* You refer to names (e.g., `readxml` function) in the `Readxml` module by `Readxml.readxml`\n",
        "\n",
        "### 7-5-4. Rust",
        "\n",
        "* All names defined in `readxml.rs` are put in `readxml` module\n",
        "* To use anything in `readxml` module in another file (`main.rs`),\n",
        "  * you put in `main.rs`\n",
        "```\n",
        "pub use readxml\n",
        "```\n",
        "  * you also have to say in `readxml.rs` that the function `readxml` is \"public\" (callable from outside the module)\n",
        "```\n",
        "pub fn readxml(...) { ... }\n",
        "```\n",
        "\n",
        "# 8. Before you submit ...",
        "\n",
        "* Make sure you remove unnecessary files before you submit this assignment\n",
        "* If you press submit, it basically tries to submit everything under this directory, including files you created by `{go,dune,cargo} build` as well as all the libraries you installed or automatically installed\n",
        "* This causes errors due to too large submissions (> 100MB)\n",
        "* so make sure you do the following before you submit\n",
        "  * remove the executable under `00hello/<lang>`\n",
        "  * in each `{01build_sys,p1,p2,p3,p4}/<lang>/<project_name>`, run `{go,dune,cargo} clean` (whichever applies to your language); they will remove those produced files\n",
        "* before you submit, run\n",
        ""
      ]
    },
    {
      "cell_type": "code",
      "metadata": {
        "kernel": "Bash",
        "nbgrader": {
          "grade": false,
          "grade_id": "c-151",
          "locked": false,
          "schema_version": 3,
          "solution": false,
          "task": false
        }
      },
      "source": [
        "du -a"
      ],
      "execution_count": null,
      "outputs": []
    },
    {
      "cell_type": "markdown",
      "metadata": {
        "kernel": "SoS",
        "nbgrader": {
          "grade": false,
          "grade_id": "c-152",
          "locked": true,
          "schema_version": 3,
          "solution": false,
          "task": false
        }
      },
      "source": [
        "and see the total size of the directory.\n",
        "\n",
        "* make sure the last line is < 1000\n",
        "* otherwise find a large file in the output of `du -a` and do an appropriate command from the above\n",
        ""
      ]
    }
  ],
  "metadata": {
    "celltoolbar": "Create Assignment",
    "kernelspec": {
      "display_name": "SoS",
      "language": "sos",
      "name": "sos"
    },
    "language_info": {
      "codemirror_mode": "sos",
      "file_extension": ".sos",
      "mimetype": "text/x-sos",
      "name": "sos",
      "nbconvert_exporter": "sos_notebook.converter.SoS_Exporter",
      "pygments_lexer": "sos"
    },
    "sos": {
      "kernels": [
        [
          "Bash",
          "bash",
          "bash",
          "",
          "shell"
        ],
        [
          "C",
          "c_kernel",
          "c",
          "",
          ""
        ],
        [
          "Go",
          "gophernotes",
          "go",
          "",
          ""
        ],
        [
          "Julia 1.11.4",
          "julia-1.11",
          "julia",
          "",
          ""
        ],
        [
          "OCaml 4.14.2",
          "ocaml-jupyter",
          "OCaml",
          "",
          "text/x-ocaml"
        ],
        [
          "Python 3 (ipykernel)",
          "python3",
          "python3",
          "",
          {
            "name": "ipython",
            "version": 3
          }
        ],
        [
          "Rust",
          "rust",
          "rust",
          "",
          ""
        ]
      ],
      "panel": {
        "displayed": true,
        "height": 0
      },
      "version": "0.23.3"
    }
  },
  "nbformat": 4,
  "nbformat_minor": 4
}