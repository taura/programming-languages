{
  "cells": [
    {
      "cell_type": "markdown",
      "metadata": {
        "kernel": "SoS",
        "nbgrader": {
          "grade": false,
          "grade_id": "c-001",
          "locked": true,
          "schema_version": 3,
          "solution": false,
          "task": false
        }
      },
      "source": [
        "#  Programming Languages (10) --- Rust memory management",
        ""
      ]
    },
    {
      "cell_type": "markdown",
      "metadata": {
        "kernel": "SoS",
        "nbgrader": {
          "grade": false,
          "grade_id": "c-002",
          "locked": false,
          "schema_version": 3,
          "solution": false,
          "task": false
        }
      },
      "source": [
        "\n",
        "Enter your name and student ID.\n",
        "\n",
        " * Name:\n",
        " * Student ID:\n",
        ""
      ]
    },
    {
      "cell_type": "markdown",
      "metadata": {
        "kernel": "SoS",
        "nbgrader": {
          "grade": false,
          "grade_id": "c-003",
          "locked": true,
          "schema_version": 3,
          "solution": false,
          "task": false
        }
      },
      "source": [
        "# 1. Introduction",
        "\n",
        "* in this notebook, you are going to learn Rust memory management\n",
        "\n",
        "# 2. Prepare AI Tutor",
        "\n",
        "* execute the following cell to set up your tutor"
      ]
    },
    {
      "cell_type": "code",
      "metadata": {
        "kernel": "Python 3 (ipykernel)",
        "nbgrader": {
          "grade": false,
          "grade_id": "c-004",
          "locked": false,
          "schema_version": 3,
          "solution": false,
          "task": false
        }
      },
      "source": [
        "from heytutor import *\n",
        "config(default_lang=\"rust\")  # choose one of Go/Julia/OCaml/Rust"
      ],
      "execution_count": null,
      "outputs": []
    },
    {
      "cell_type": "markdown",
      "metadata": {
        "kernel": "SoS",
        "nbgrader": {
          "grade": false,
          "grade_id": "c-005",
          "locked": true,
          "schema_version": 3,
          "solution": false,
          "task": false
        }
      },
      "source": [
        "* you may want to ask a few basics"
      ]
    },
    {
      "cell_type": "code",
      "metadata": {
        "kernel": "Python 3 (ipykernel)",
        "nbgrader": {
          "grade": false,
          "grade_id": "c-006",
          "locked": false,
          "schema_version": 3,
          "solution": false,
          "task": false
        }
      },
      "source": [
        "I(\"\"\"borrow-checker basics\"\"\")"
      ],
      "execution_count": null,
      "outputs": []
    },
    {
      "cell_type": "markdown",
      "metadata": {
        "kernel": "SoS",
        "nbgrader": {
          "grade": false,
          "grade_id": "c-007",
          "locked": true,
          "schema_version": 3,
          "solution": false,
          "task": false
        }
      },
      "source": [
        "# 3. Roadmap",
        "\n",
        "# 4. Set up",
        "\n",
        "* check if you can run `rustc` command\n",
        ""
      ]
    },
    {
      "cell_type": "code",
      "metadata": {
        "kernel": "Bash",
        "nbgrader": {
          "grade": false,
          "grade_id": "c-008",
          "locked": false,
          "schema_version": 3,
          "solution": false,
          "task": false
        }
      },
      "source": [
        "rustc --version"
      ],
      "execution_count": null,
      "outputs": []
    },
    {
      "cell_type": "markdown",
      "metadata": {
        "kernel": "SoS",
        "nbgrader": {
          "grade": false,
          "grade_id": "c-009",
          "locked": true,
          "schema_version": 3,
          "solution": false,
          "task": false
        }
      },
      "source": [
        "* if it raises an error indicating `rustc` command is not found, execute the following in your shell\n",
        ""
      ]
    },
    {
      "cell_type": "code",
      "metadata": {
        "kernel": "Bash",
        "nbgrader": {
          "grade": false,
          "grade_id": "c-010",
          "locked": false,
          "schema_version": 3,
          "solution": false,
          "task": false
        }
      },
      "source": [
        ". ~/.cargo/env"
      ],
      "execution_count": null,
      "outputs": []
    },
    {
      "cell_type": "markdown",
      "metadata": {
        "kernel": "SoS",
        "nbgrader": {
          "grade": false,
          "grade_id": "c-011",
          "locked": true,
          "schema_version": 3,
          "solution": false,
          "task": false
        }
      },
      "source": [
        "# 5. Owning pointer",
        "\n",
        "## 5-1. Assignment of owning pointer does not copy a pointer but moves it",
        "\n",
        "* the following code does _not_ compile\n",
        "* confirm it compiles if you remove `a.x`\n",
        ""
      ]
    },
    {
      "cell_type": "code",
      "metadata": {
        "kernel": "Python 3 (ipykernel)",
        "nbgrader": {
          "grade": false,
          "grade_id": "c-012",
          "locked": false,
          "schema_version": 3,
          "solution": false,
          "task": false
        }
      },
      "source": [
        "%%writefile move.rs\n",
        "#![allow(unused_variables)]\n",
        "\n",
        "struct S {\n",
        "    x : i64,\n",
        "    y : i64,\n",
        "}\n",
        "\n",
        "fn main() {\n",
        "    let a = S{x : 123, y : 456};\n",
        "    a.x;\n",
        "    a.y;\n",
        "    let b = a;\n",
        "    a.x;\n",
        "    b.x;\n",
        "}"
      ],
      "execution_count": null,
      "outputs": []
    },
    {
      "cell_type": "code",
      "metadata": {
        "kernel": "Bash",
        "nbgrader": {
          "grade": false,
          "grade_id": "c-013",
          "locked": false,
          "schema_version": 3,
          "solution": false,
          "task": false
        }
      },
      "source": [
        "rustc move.rs"
      ],
      "execution_count": null,
      "outputs": []
    },
    {
      "cell_type": "markdown",
      "metadata": {
        "kernel": "SoS",
        "nbgrader": {
          "grade": false,
          "grade_id": "c-014",
          "locked": true,
          "schema_version": 3,
          "solution": false,
          "task": false
        }
      },
      "source": [
        "## 5-2. Passing argument to a function moves a pointer, too",
        "\n",
        "* the following code does _not_ compile either\n",
        "* confirm it compiles if you remove `a.x`\n",
        ""
      ]
    },
    {
      "cell_type": "code",
      "metadata": {
        "kernel": "Python 3 (ipykernel)",
        "nbgrader": {
          "grade": false,
          "grade_id": "c-015",
          "locked": false,
          "schema_version": 3,
          "solution": false,
          "task": false
        }
      },
      "source": [
        "%%writefile move_fun.rs\n",
        "#![allow(unused_variables)]\n",
        "\n",
        "struct S {\n",
        "    x : i64,\n",
        "    y : i64,\n",
        "}\n",
        "\n",
        "fn f(s : S) {\n",
        "    \n",
        "}\n",
        "\n",
        "fn main() {\n",
        "    let a = S{x : 123, y : 456};\n",
        "    a.x;\n",
        "    a.y;\n",
        "    f(a);\n",
        "    a.x;\n",
        "}"
      ],
      "execution_count": null,
      "outputs": []
    },
    {
      "cell_type": "code",
      "metadata": {
        "kernel": "Bash",
        "nbgrader": {
          "grade": false,
          "grade_id": "c-016",
          "locked": false,
          "schema_version": 3,
          "solution": false,
          "task": false
        }
      },
      "source": [
        "rustc move_fun.rs"
      ],
      "execution_count": null,
      "outputs": []
    },
    {
      "cell_type": "markdown",
      "metadata": {
        "kernel": "SoS",
        "nbgrader": {
          "grade": false,
          "grade_id": "c-017",
          "locked": true,
          "schema_version": 3,
          "solution": false,
          "task": false
        }
      },
      "source": [
        "## 5-3. `Box::new(e)` is just another way of making an owning pointer",
        "\n",
        "* the following code does _not_ compile\n",
        "* confirm it compiles if you remove `a.x`\n",
        ""
      ]
    },
    {
      "cell_type": "code",
      "metadata": {
        "kernel": "Python 3 (ipykernel)",
        "nbgrader": {
          "grade": false,
          "grade_id": "c-018",
          "locked": false,
          "schema_version": 3,
          "solution": false,
          "task": false
        }
      },
      "source": [
        "%%writefile move_box.rs\n",
        "#![allow(unused_variables)]\n",
        "\n",
        "struct S {\n",
        "    x : i64,\n",
        "    y : i64,\n",
        "}\n",
        "\n",
        "fn main() {\n",
        "    let a = S{x : 123, y : 456};\n",
        "    a.x;\n",
        "    a.y;\n",
        "    let b = Box::new(a);\n",
        "    a.x;\n",
        "    b.x;\n",
        "}"
      ],
      "execution_count": null,
      "outputs": []
    },
    {
      "cell_type": "code",
      "metadata": {
        "kernel": "Bash",
        "nbgrader": {
          "grade": false,
          "grade_id": "c-019",
          "locked": false,
          "schema_version": 3,
          "solution": false,
          "task": false
        }
      },
      "source": [
        "rustc move_box.rs"
      ],
      "execution_count": null,
      "outputs": []
    },
    {
      "cell_type": "markdown",
      "metadata": {
        "kernel": "SoS",
        "nbgrader": {
          "grade": false,
          "grade_id": "c-020",
          "locked": true,
          "schema_version": 3,
          "solution": false,
          "task": false
        }
      },
      "source": [
        "## 5-4. Compiler conservatively estimates where owning pointer is alive (OK to dereference)",
        "\n",
        "### 5-4-1. if expression",
        "\n",
        "* the following code does _not_ compile\n",
        "* if you look closely, we could get that it should be safe, as the condition `a.x == 1234` is always false\n",
        "* Rust compiler nevertheless rejects this code\n",
        "  * if either branch of an if expression moves the value out of `a`, the entire if expresson does so\n",
        ""
      ]
    },
    {
      "cell_type": "code",
      "metadata": {
        "kernel": "Python 3 (ipykernel)",
        "nbgrader": {
          "grade": false,
          "grade_id": "c-021",
          "locked": false,
          "schema_version": 3,
          "solution": false,
          "task": false
        }
      },
      "source": [
        "%%writefile move_if.rs\n",
        "#![allow(unused_variables)]\n",
        "\n",
        "struct S {\n",
        "    x : i64,\n",
        "    y : i64,\n",
        "}\n",
        "\n",
        "fn main() {\n",
        "    let a = S{x : 123, y : 456};\n",
        "    a.x;\n",
        "    a.y;\n",
        "    if a.x == 1234 {\n",
        "        let b = a;\n",
        "    }\n",
        "    a.x;\n",
        "}"
      ],
      "execution_count": null,
      "outputs": []
    },
    {
      "cell_type": "code",
      "metadata": {
        "kernel": "Bash",
        "nbgrader": {
          "grade": false,
          "grade_id": "c-022",
          "locked": false,
          "schema_version": 3,
          "solution": false,
          "task": false
        }
      },
      "source": [
        "rustc move_if.rs"
      ],
      "execution_count": null,
      "outputs": []
    },
    {
      "cell_type": "markdown",
      "metadata": {
        "kernel": "SoS",
        "nbgrader": {
          "grade": false,
          "grade_id": "c-023",
          "locked": true,
          "schema_version": 3,
          "solution": false,
          "task": false
        }
      },
      "source": [
        "### 5-4-2. loop expression",
        "\n",
        "* the following code does _not_ compile\n",
        "* again, if you look closely, we could get that it should be safe, as the loop iterates exactly once\n",
        "* Rust compiler nevertheless rejects this code\n",
        "  * if an iteration of a loop moves the value out of `a`, `a` becomes invalid at any iteration\n",
        ""
      ]
    },
    {
      "cell_type": "code",
      "metadata": {
        "kernel": "Python 3 (ipykernel)",
        "nbgrader": {
          "grade": false,
          "grade_id": "c-024",
          "locked": false,
          "schema_version": 3,
          "solution": false,
          "task": false
        }
      },
      "source": [
        "%%writefile move_loop.rs\n",
        "#![allow(unused_variables)]\n",
        "\n",
        "struct S {\n",
        "    x : i64,\n",
        "    y : i64,\n",
        "}\n",
        "\n",
        "fn main() {\n",
        "    let a = S{x : 123, y : 456};\n",
        "    a.x;\n",
        "    a.y;\n",
        "    for i in 0..1 {\n",
        "        let b = a;\n",
        "    }\n",
        "}"
      ],
      "execution_count": null,
      "outputs": []
    },
    {
      "cell_type": "code",
      "metadata": {
        "kernel": "Bash",
        "nbgrader": {
          "grade": false,
          "grade_id": "c-025",
          "locked": false,
          "schema_version": 3,
          "solution": false,
          "task": false
        }
      },
      "source": [
        "rustc move_loop.rs"
      ],
      "execution_count": null,
      "outputs": []
    },
    {
      "cell_type": "markdown",
      "metadata": {
        "kernel": "SoS",
        "nbgrader": {
          "grade": false,
          "grade_id": "c-026",
          "locked": true,
          "schema_version": 3,
          "solution": false,
          "task": false
        }
      },
      "source": [
        "## 5-5. You can never make a cycle solely with owning pointers",
        "\n",
        "* the single-owner rule implies you cannot make a cycle solely with owning pointers\n",
        "* here is an attempt to make one, which of course does not compile\n",
        "* it is istructive to see where the compiler complaints\n",
        ""
      ]
    },
    {
      "cell_type": "code",
      "metadata": {
        "kernel": "Python 3 (ipykernel)",
        "nbgrader": {
          "grade": false,
          "grade_id": "c-027",
          "locked": false,
          "schema_version": 3,
          "solution": false,
          "task": false
        }
      },
      "source": [
        "%%writefile cycle.rs\n",
        "#![allow(unused_variables)]\n",
        "#![allow(unused_mut)]\n",
        "\n",
        "struct S {\n",
        "    p : Option<Box<S>>\n",
        "}\n",
        "\n",
        "fn main() {\n",
        "    // an attemp to make a cyclic data structure\n",
        "    // a <-> b\n",
        "    let mut a = S{p : None};\n",
        "    let mut b = S{p : None};\n",
        "    a.p = Some(Box::new(b));\n",
        "    b.p = Some(Box::new(a));\n",
        "}"
      ],
      "execution_count": null,
      "outputs": []
    },
    {
      "cell_type": "code",
      "metadata": {
        "kernel": "Bash",
        "nbgrader": {
          "grade": false,
          "grade_id": "c-028",
          "locked": false,
          "schema_version": 3,
          "solution": false,
          "task": false
        }
      },
      "source": [
        "rustc cycle.rs"
      ],
      "execution_count": null,
      "outputs": []
    },
    {
      "cell_type": "markdown",
      "metadata": {
        "kernel": "SoS",
        "nbgrader": {
          "grade": false,
          "grade_id": "c-029",
          "locked": true,
          "schema_version": 3,
          "solution": false,
          "task": false
        }
      },
      "source": [
        "# 6. Borrowing pointer",
        "\n",
        "## 6-1. Basics",
        "\n",
        "* the following code _does_ compile\n",
        "* you can derive a borrowing point by `&e`\n",
        "* unlike assignment of owning pointer (`let b = a`), an assignment of borrowing pointer does not invalidate the righthand side\n",
        ""
      ]
    },
    {
      "cell_type": "code",
      "metadata": {
        "kernel": "Python 3 (ipykernel)",
        "nbgrader": {
          "grade": false,
          "grade_id": "c-030",
          "locked": false,
          "schema_version": 3,
          "solution": false,
          "task": false
        }
      },
      "source": [
        "%%writefile borrow.rs\n",
        "#![allow(unused_variables)]\n",
        "\n",
        "struct S {\n",
        "    x : i64,\n",
        "    y : i64,\n",
        "}\n",
        "\n",
        "fn main() {\n",
        "    let a = S{x : 123, y : 456};\n",
        "    a.x;\n",
        "    a.y;\n",
        "    let b = &a;\n",
        "    a.x;\n",
        "    b.x;\n",
        "}"
      ],
      "execution_count": null,
      "outputs": []
    },
    {
      "cell_type": "code",
      "metadata": {
        "kernel": "Bash",
        "nbgrader": {
          "grade": false,
          "grade_id": "c-031",
          "locked": false,
          "schema_version": 3,
          "solution": false,
          "task": false
        }
      },
      "source": [
        "rustc borrow.rs"
      ],
      "execution_count": null,
      "outputs": []
    },
    {
      "cell_type": "markdown",
      "metadata": {
        "kernel": "SoS",
        "nbgrader": {
          "grade": false,
          "grade_id": "c-032",
          "locked": true,
          "schema_version": 3,
          "solution": false,
          "task": false
        }
      },
      "source": [
        "## 6-2. Borrow checking in action",
        "\n",
        "* now the question is how Rust prevents borrowing pointers to already reclaimed data --- data whose owning pointer goes out of scope --- from being dereferenced\n",
        "* this is a simple example showing it in action\n",
        ""
      ]
    },
    {
      "cell_type": "code",
      "metadata": {
        "kernel": "Python 3 (ipykernel)",
        "nbgrader": {
          "grade": false,
          "grade_id": "c-033",
          "locked": false,
          "schema_version": 3,
          "solution": false,
          "task": false
        }
      },
      "source": [
        "%%writefile borrow_check.rs\n",
        "#![allow(unused_variables)]\n",
        "#![allow(unused_assignments)]\n",
        "#![allow(dead_code)]\n",
        "\n",
        "struct S {\n",
        "    x : i64,\n",
        "    y : i64,\n",
        "}\n",
        "\n",
        "fn main() {\n",
        "    let c : &S;\n",
        "    {\n",
        "        let b : &S;\n",
        "        let a = S{x : 123, y : 456};\n",
        "        b = &a;\n",
        "        c = b;\n",
        "    }\n",
        "    c.x;\n",
        "}"
      ],
      "execution_count": null,
      "outputs": []
    },
    {
      "cell_type": "code",
      "metadata": {
        "kernel": "Bash",
        "nbgrader": {
          "grade": false,
          "grade_id": "c-034",
          "locked": false,
          "schema_version": 3,
          "solution": false,
          "task": false
        }
      },
      "source": [
        "rustc borrow_check.rs"
      ],
      "execution_count": null,
      "outputs": []
    },
    {
      "cell_type": "markdown",
      "metadata": {
        "kernel": "SoS",
        "nbgrader": {
          "grade": false,
          "grade_id": "c-035",
          "locked": true,
          "schema_version": 3,
          "solution": false,
          "task": false
        }
      },
      "source": [
        "## 6-3. How borrow-checking actually works?",
        "\n",
        "* Rust tries to associate each borrowing pointer with _the lifetime_ of data it points to (_referent lifetime_)\n",
        "* roughly speaking,\n",
        "  * it tries to track from which owning pointer each borrowing pointer is derived from\n",
        "  * a borrowing pointer can be dereferenced only when the original owning pointer it is derived from is still alive (i.e., within its scope)\n",
        "* things become complicated due to\n",
        "  * assignments between borrowing pointers\n",
        "  * functions taking/returning borrowing pointers\n",
        "  * structures containing borrowing pointers\n",
        "* to make this tracking explicit, Rust introduces _lifetime parameters_ to each borrowing pointer\n",
        "  * `&'a T` ... an immutable borrowing pointer to `T` whose lifetime is `'a`\n",
        "  * `&mut 'a T` ... a mutable borrowing pointer to `T` whose lifetime is `'a`\n",
        "* imagine a lifetime parameter such as `'a` represents a _lifetime_ of the data it points to, or more specifically _the set of program points where the data it points to is still alive_\n",
        "\n",
        "## 6-4. Functions taking borrowing pointers",
        "\n",
        "* you have to attach lifetime parameters to each parameter having a borrowing pointer type (`&T`)\n",
        "\n",
        "* the following program does _not_ compile, because lifetime parameters are lacking\n",
        "* practice: annotate it with lifetime parameters\n",
        ""
      ]
    },
    {
      "cell_type": "code",
      "metadata": {
        "kernel": "Python 3 (ipykernel)",
        "nbgrader": {
          "grade": false,
          "grade_id": "c-036",
          "locked": false,
          "schema_version": 3,
          "solution": false,
          "task": false
        }
      },
      "source": [
        "%%writefile borrow_fun.rs\n",
        "#![allow(unused_variables)]\n",
        "#![allow(unused_assignments)]\n",
        "#![allow(dead_code)]\n",
        "#![allow(unused_must_use)]\n",
        "\n",
        "/*\n",
        "(1) need to add lifetime parameters to function parameter types\n",
        "(2) the function must take those lifetime parameters\n",
        " */\n",
        "fn foo(ra : &i32, rb : &i32, rc : &i32) -> &i32 {\n",
        "    ra\n",
        "}\n",
        "\n",
        "fn main() {\n",
        "    let r : &i32;\n",
        "    let a = 123;\n",
        "    {\n",
        "        let b = 456;\n",
        "        {\n",
        "            let c = 789;\n",
        "            r = foo(&a, &b, &c);\n",
        "        }\n",
        "    }\n",
        "    *r;\n",
        "}"
      ],
      "execution_count": null,
      "outputs": []
    },
    {
      "cell_type": "code",
      "metadata": {
        "kernel": "Bash",
        "nbgrader": {
          "grade": false,
          "grade_id": "c-037",
          "locked": false,
          "schema_version": 3,
          "solution": false,
          "task": false
        }
      },
      "source": [
        "rustc borrow_fun.rs"
      ],
      "execution_count": null,
      "outputs": []
    },
    {
      "cell_type": "markdown",
      "metadata": {
        "kernel": "SoS",
        "nbgrader": {
          "grade": false,
          "grade_id": "c-038",
          "locked": true,
          "schema_version": 3,
          "solution": false,
          "task": false
        }
      },
      "source": [
        "## 6-5. Structures having borrowing pointers",
        "\n",
        "* you have to attach lifetime parameters to each field having a borrowing pointer type (e.g., `&T` -> `&'a T`)\n",
        "* the resulting structure has to take these parameters (e.g., `S` -> `S<'a,'b,...>`)\n",
        "* the following program does _not_ compile, because lifetime parameters are lacking\n",
        "* practice: annotate it with lifetime parameters\n",
        "* even after fixing them by attaching lifetime parameters, it still does not compile because dereference `a.b.c.x` is unsafe\n",
        "* confirm that it compiles if you remove either `a.b.c.x` or replace the assignment `a.b = &b_` to `a.b = &b`\n",
        ""
      ]
    },
    {
      "cell_type": "code",
      "metadata": {
        "kernel": "Python 3 (ipykernel)",
        "nbgrader": {
          "grade": false,
          "grade_id": "c-039",
          "locked": false,
          "schema_version": 3,
          "solution": false,
          "task": false
        }
      },
      "source": [
        "%%writefile borrow_data.rs\n",
        "#![allow(unused_variables)]\n",
        "#![allow(unused_mut)]\n",
        "\n",
        "/*\n",
        "(1) need to add lifetime parameters to reference types\n",
        "(2) struct must take lifetime parameters that appear in fields\n",
        " */\n",
        "\n",
        "struct A { b : &B }\n",
        "struct B { c : &C }\n",
        "struct C { x : i32 }\n",
        "\n",
        "fn main() {\n",
        "    let c = C{x : 123};\n",
        "    let b = B{c : &c};\n",
        "    let mut a = A{b : &b};\n",
        "    {\n",
        "        let b_ = B{c : &c};\n",
        "        a.b = &b_;\n",
        "    }\n",
        "    a.b.c.x;                    // OK?\n",
        "}"
      ],
      "execution_count": null,
      "outputs": []
    },
    {
      "cell_type": "code",
      "metadata": {
        "kernel": "Bash",
        "nbgrader": {
          "grade": false,
          "grade_id": "c-040",
          "locked": false,
          "schema_version": 3,
          "solution": false,
          "task": false
        }
      },
      "source": [
        "rustc borrow_data.rs"
      ],
      "execution_count": null,
      "outputs": []
    },
    {
      "cell_type": "markdown",
      "metadata": {
        "kernel": "SoS",
        "nbgrader": {
          "grade": false,
          "grade_id": "c-041",
          "locked": true,
          "schema_version": 3,
          "solution": false,
          "task": false
        }
      },
      "source": [
        "## 6-6. An example using functions and data structures",
        "\n",
        "* practice: annotate the following program with lifetime parameters\n",
        "* even after fixing them by attaching lifetime parameters, it still does not compile because dereference `a.b.c.x` is unsafe\n",
        "* confirm that it compiles if you remove either `a.b.c.x` or replace the function call `baz(&mut a, &b_)` to `baz(&mut a, &b)`\n",
        ""
      ]
    },
    {
      "cell_type": "code",
      "metadata": {
        "kernel": "Python 3 (ipykernel)",
        "nbgrader": {
          "grade": false,
          "grade_id": "c-042",
          "locked": false,
          "schema_version": 3,
          "solution": false,
          "task": false
        }
      },
      "source": [
        "%%writefile borrow_data_fun.rs\n",
        "#![allow(unused_variables)]\n",
        "#![allow(unused_mut)]\n",
        "\n",
        "/*\n",
        "(1) need to add lifetime parameters to reference types\n",
        "(2) struct must take lifetime parameters that appear in fields\n",
        " */\n",
        "\n",
        "struct A { b : &B }\n",
        "struct B { c : &C }\n",
        "struct C { x : i32 }\n",
        "\n",
        "fn baz(a : &mut A, b : &B {\n",
        "    a.b = b\n",
        "}\n",
        "\n",
        "fn main() {\n",
        "    let c = C{x : 123};\n",
        "    let b = B{c : &c};\n",
        "    let mut a = A{b : &b};\n",
        "    {\n",
        "        let b_ = B{c : &c};\n",
        "        baz(&mut a, &b_);\n",
        "    }\n",
        "    a.b.c.x;                    // OK?\n",
        "}"
      ],
      "execution_count": null,
      "outputs": []
    },
    {
      "cell_type": "code",
      "metadata": {
        "kernel": "Bash",
        "nbgrader": {
          "grade": false,
          "grade_id": "c-043",
          "locked": false,
          "schema_version": 3,
          "solution": false,
          "task": false
        }
      },
      "source": [
        "rustc borrow_data_fun.rs"
      ],
      "execution_count": null,
      "outputs": []
    },
    {
      "cell_type": "markdown",
      "metadata": {
        "kernel": "SoS",
        "nbgrader": {
          "grade": false,
          "grade_id": "c-044",
          "locked": true,
          "schema_version": 3,
          "solution": false,
          "task": false
        }
      },
      "source": [
        "## 6-7. The exact contraint imposed on dereferencing data structure",
        "\n",
        "* the goal is to prevent borrowing pointers to reclaimed data from being dereferenced\n",
        "* that is, if a borrowing pointer has type `&'a T`, prevent it from being dereferenced at program points not contained in lifetime represented by `'a`\n",
        "* the actual rule is slightly more strict\n",
        "* Rust disallows dereferencing any data structure having lifetime parameters `'a, 'b, 'c, ...` at any program point outside any of them\n",
        "* that is, dereferencing a struct of type `S<'a,'b,'c,...>` is allowed only at program points contained in all of `'a,'b,'c,...`\n",
        "\n",
        "* the following program is actually _safe_ if you closely observe that at (*), `s.b` is a dangling pointer but `s.a` is not\n",
        "* this program nevertheless does not compile, as type of `s` (S<'a,'b>) has lifetime parameters `'a` and `'b` and\n",
        "  * `'b` represents a lifetime not containing the program point (*), due to the assignment `s.b = &b;`\n",
        ""
      ]
    },
    {
      "cell_type": "code",
      "metadata": {
        "kernel": "Python 3 (ipykernel)",
        "nbgrader": {
          "grade": false,
          "grade_id": "c-045",
          "locked": false,
          "schema_version": 3,
          "solution": false,
          "task": false
        }
      },
      "source": [
        "%%writefile partial_dangling.rs\n",
        "#![allow(dead_code)]\n",
        "#![allow(unused_mut)]\n",
        "#![allow(unused_must_use)]\n",
        "#![allow(unused_variables)]\n",
        "  \n",
        "struct S<'a,'b> {\n",
        "    a : &'a i32,\n",
        "    b : &'b i32\n",
        "}\n",
        "\n",
        "fn main() {\n",
        "    let a = 123;\n",
        "    let mut s = S{a: &a, b: &a};\n",
        "    {\n",
        "        let b = 456;\n",
        "        s.b = &b;\n",
        "    }\n",
        "    *s.a; // (*)\n",
        "}"
      ],
      "execution_count": null,
      "outputs": []
    },
    {
      "cell_type": "code",
      "metadata": {
        "kernel": "Bash",
        "nbgrader": {
          "grade": false,
          "grade_id": "c-046",
          "locked": false,
          "schema_version": 3,
          "solution": false,
          "task": false
        }
      },
      "source": [
        "rustc partial_dangling.rs"
      ],
      "execution_count": null,
      "outputs": []
    }
  ],
  "metadata": {
    "celltoolbar": "Create Assignment",
    "kernelspec": {
      "display_name": "SoS",
      "language": "sos",
      "name": "sos"
    },
    "language_info": {
      "codemirror_mode": "sos",
      "file_extension": ".sos",
      "mimetype": "text/x-sos",
      "name": "sos",
      "nbconvert_exporter": "sos_notebook.converter.SoS_Exporter",
      "pygments_lexer": "sos"
    },
    "sos": {
      "kernels": [
        [
          "Bash",
          "bash",
          "bash",
          "",
          "shell"
        ],
        [
          "C",
          "c_kernel",
          "c",
          "",
          ""
        ],
        [
          "Go",
          "gophernotes",
          "go",
          "",
          ""
        ],
        [
          "Julia 1.11.4",
          "julia-1.11",
          "julia",
          "",
          ""
        ],
        [
          "OCaml 4.14.2",
          "ocaml-jupyter",
          "OCaml",
          "",
          "text/x-ocaml"
        ],
        [
          "Python 3 (ipykernel)",
          "python3",
          "python3",
          "",
          {
            "name": "ipython",
            "version": 3
          }
        ],
        [
          "Rust",
          "rust",
          "rust",
          "",
          ""
        ]
      ],
      "panel": {
        "displayed": true,
        "height": 0
      },
      "version": "0.23.3"
    }
  },
  "nbformat": 4,
  "nbformat_minor": 4
}