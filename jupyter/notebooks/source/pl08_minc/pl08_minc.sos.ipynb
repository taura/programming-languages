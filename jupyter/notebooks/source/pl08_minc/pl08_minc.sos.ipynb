{
 "cells": [
  {
   "cell_type": "markdown",
   "metadata": {
    "kernel": "SoS",
    "nbgrader": {
     "grade": false,
     "grade_id": "c-001",
     "locked": true,
     "schema_version": 3,
     "solution": false,
     "task": false
    }
   },
   "source": [
    "\n",
    "#  Building a minC (minimum C) compiler"
   ]
  },
  {
   "cell_type": "markdown",
   "metadata": {
    "kernel": "SoS",
    "nbgrader": {
     "grade": false,
     "grade_id": "c-002",
     "locked": false,
     "schema_version": 3,
     "solution": false,
     "task": false
    }
   },
   "source": [
    "\n",
    "Enter your name and student ID.\n",
    "\n",
    " * Name:\n",
    " * Student ID:\n"
   ]
  },
  {
   "cell_type": "markdown",
   "metadata": {
    "kernel": "SoS",
    "nbgrader": {
     "grade": false,
     "grade_id": "c-003",
     "locked": true,
     "schema_version": 3,
     "solution": false,
     "task": false
    }
   },
   "source": [
    "\n",
    "<a name=\"intro\"> </a>\n",
    "# 1. Introduction\n",
    "* This is the instruction for those who choose Option A for the term report\n",
    "* You build a compiler for a minimum subset of C language, dubbed 'minC'\n",
    "* This page explains how you should work on it, but <font color=\"red\">your actual work is supposed to be done mostly in terminal and text editor</font>\n"
   ]
  },
  {
   "cell_type": "markdown",
   "metadata": {
    "kernel": "SoS",
    "nbgrader": {
     "grade": false,
     "grade_id": "c-004",
     "locked": true,
     "schema_version": 3,
     "solution": false,
     "task": false
    }
   },
   "source": [
    "# 2. Prepare AI Tutor\n",
    "* execute the following cell to set up your tutor"
   ]
  },
  {
   "cell_type": "code",
   "execution_count": 1,
   "metadata": {
    "kernel": "Python 3 (ipykernel)",
    "nbgrader": {
     "grade": false,
     "grade_id": "c-005",
     "locked": false,
     "schema_version": 3,
     "solution": false,
     "task": false
    }
   },
   "outputs": [],
   "source": [
    "from heytutor import *\n",
    "config(default_lang=\"C\")  # choose one of Go/Julia/OCaml/Rust"
   ]
  },
  {
   "cell_type": "markdown",
   "metadata": {
    "kernel": "SoS",
    "nbgrader": {
     "grade": false,
     "grade_id": "c-006",
     "locked": true,
     "schema_version": 3,
     "solution": false,
     "task": false
    }
   },
   "source": [
    "* you may want to ask a few basics"
   ]
  },
  {
   "cell_type": "code",
   "execution_count": 2,
   "metadata": {
    "kernel": "Python 3 (ipykernel)",
    "nbgrader": {
     "grade": false,
     "grade_id": "c-007",
     "locked": false,
     "schema_version": 3,
     "solution": false,
     "task": false
    }
   },
   "outputs": [
    {
     "data": {
      "text/markdown": [
       "The `csel` (Conditional Select) instruction in the ARM64 (AArch64) instruction set architecture is used to select one of two source registers based on a condition code. It's a predicated instruction that's particularly useful for avoiding conditional branches and achieving more efficient code execution in certain scenarios.\n",
       "\n",
       "### Explanation:\n",
       "The `csel` instruction performs the following operation:\n",
       "1. **Inputs**: It takes three registers (`Rn`, `Rm`, `Rd`) and a condition (`cond`).\n",
       "   - `Rn` and `Rm` are source registers.\n",
       "   - `Rd` is the destination register.\n",
       "   - `cond` is the condition code (e.g., EQ for equal, NE for not equal, etc.).\n",
       "\n",
       "2. **Output**: It writes the value from `Rn` if the condition is true, and the value from `Rm` if the condition is false. The result is stored in `Rd`.\n",
       "\n",
       "### Format:\n",
       "```\n",
       "CSEL <Xd>, <Xn>, <Xm>, <cond>\n",
       "```\n",
       "Or for 32-bit registers:\n",
       "```\n",
       "CSEL <Wd>, <Wn>, <Wm>, <cond>\n",
       "```\n",
       "Where:\n",
       "- `Xd` / `Wd`: Destination register (64-bit or 32-bit).\n",
       "- `Xn` / `Wn`: First source register.\n",
       "- `Xm` / `Wm`: Second source register.\n",
       "- `cond`: Condition code.\n",
       "\n",
       "### Example:\n",
       "\n",
       "Suppose you want to select between two registers `x1` and `x2`, and store the result in `x0`. Use the condition code `EQ` (Equal) to choose `x1` when the condition flag indicates equality and `x2` otherwise:\n",
       "\n",
       "```assembly\n",
       "CMP x3, x4      // Compare values in x3 and x4\n",
       "CSEL x0, x1, x2, EQ  // Select x1 if x3 == x4, else select x2\n",
       "```\n",
       "\n",
       "Here:\n",
       "- The `CMP` instruction sets the condition codes based on the comparison of `x3` and `x4`.\n",
       "- The `CSEL` instruction uses the condition code set by `CMP`. If `x3 == x4` (condition EQ is true), it sets `x0 = x1`. Otherwise, it sets `x0 = x2`.\n",
       "\n",
       "### Use Case:\n",
       "The `csel` instruction is useful when you want to avoid branching (e.g., `if` statements), reducing potential pipeline stalls or branch mispredictions. It is faster in situations where both source registers are ready, as the compiler avoids generating a branch instruction.\n",
       "\n",
       "For more detailed documentation, refer to the ARM Architecture Reference Manual: [ARM 64 Reference](https://developer.arm.com/documentation)."
      ],
      "text/plain": [
       "<IPython.core.display.Markdown object>"
      ]
     },
     "metadata": {},
     "output_type": "display_data"
    }
   ],
   "source": [
    "hey(\"\"\"what is csel instruction of ARM64 isa?\"\"\")"
   ]
  },
  {
   "cell_type": "markdown",
   "metadata": {
    "kernel": "SoS",
    "nbgrader": {
     "grade": false,
     "grade_id": "c-008",
     "locked": true,
     "schema_version": 3,
     "solution": false,
     "task": false
    }
   },
   "source": [
    "\n",
    "# 3. Files\n",
    "* `parser/` : a C -> XML parser written in Python + tatsu (parser generator), which converts a C source into an equivalent XML\n",
    "* `{ml,jl,go,rs}/minc` : a directory for each language\n",
    "* `test/` : test programs\n",
    "\n",
    "# 4. Parser (C -> XML)\n",
    "* `minc_grammar.y` : grammar definition of the minimum C language we work on, which is converted into a working python program (`minc_grammar.py`) using [tatsu](https://github.com/neogeny/TatSu) parser generator library"
   ]
  },
  {
   "cell_type": "code",
   "execution_count": 4,
   "metadata": {
    "kernel": "Bash",
    "nbgrader": {
     "grade": false,
     "grade_id": "c-009",
     "locked": false,
     "schema_version": 3,
     "solution": false,
     "task": false
    }
   },
   "outputs": [
    {
     "name": "stdout",
     "output_type": "stream",
     "text": [
      "------------------------------------------------------------------------\n",
      "         409  lines in grammar\n",
      "          21  rules in grammar\n",
      "         209  nodes in AST\n"
     ]
    }
   ],
   "source": [
    "cd ~/notebooks/pl08_minc/parser\n",
    "tatsu minc_grammar.y > minc_grammar.py"
   ]
  },
  {
   "cell_type": "markdown",
   "metadata": {
    "kernel": "SoS",
    "nbgrader": {
     "grade": false,
     "grade_id": "c-010",
     "locked": true,
     "schema_version": 3,
     "solution": false,
     "task": false
    }
   },
   "source": [
    "* `minc_to_xml.py` : the main parser program that drives minc_grammar.py to convert a C source into an equivalent XML"
   ]
  },
  {
   "cell_type": "code",
   "execution_count": 6,
   "metadata": {
    "kernel": "Bash",
    "nbgrader": {
     "grade": false,
     "grade_id": "c-011",
     "locked": false,
     "schema_version": 3,
     "solution": false,
     "task": false
    }
   },
   "outputs": [],
   "source": [
    "python minc_to_xml.py example/ex.c > ex.xml"
   ]
  },
  {
   "cell_type": "markdown",
   "metadata": {
    "kernel": "SoS",
    "nbgrader": {
     "grade": false,
     "grade_id": "c-012",
     "locked": true,
     "schema_version": 3,
     "solution": false,
     "task": false
    }
   },
   "source": [
    "* examine the result and understand how each C construct is converted into XML"
   ]
  },
  {
   "cell_type": "code",
   "execution_count": 7,
   "metadata": {
    "kernel": "Bash",
    "nbgrader": {
     "grade": false,
     "grade_id": "c-013",
     "locked": false,
     "schema_version": 3,
     "solution": false,
     "task": false
    }
   },
   "outputs": [
    {
     "name": "stdout",
     "output_type": "stream",
     "text": [
      "long f(long x, long y) {\n",
      "  long u;\n",
      "  u = x + y;\n",
      "  return u * 3;\n",
      "}\n"
     ]
    }
   ],
   "source": [
    "cat example/ex.c "
   ]
  },
  {
   "cell_type": "code",
   "execution_count": 8,
   "metadata": {
    "kernel": "Bash",
    "nbgrader": {
     "grade": false,
     "grade_id": "c-014",
     "locked": false,
     "schema_version": 3,
     "solution": false,
     "task": false
    }
   },
   "outputs": [
    {
     "name": "stdout",
     "output_type": "stream",
     "text": [
      "<program xmlns=\"https://program.com\">\n",
      " <fun_def>\n",
      "  <name>f</name>\n",
      "  <params>\n",
      "   <param>\n",
      "    <type>\n",
      "     <primitive_type>long</primitive_type>\n",
      "    </type>\n",
      "    <name>x</name>\n",
      "   </param>\n",
      "   <param>\n",
      "    <type>\n",
      "     <primitive_type>long</primitive_type>\n",
      "    </type>\n",
      "    <name>y</name>\n",
      "   </param>\n",
      "  </params>\n",
      "  <return_type>\n",
      "   <primitive_type>long</primitive_type>\n",
      "  </return_type>\n",
      "  <body>\n",
      "   <compound>\n",
      "    <decls>\n",
      "     <decl>\n",
      "      <type>\n",
      "       <primitive_type>long</primitive_type>\n",
      "      </type>\n",
      "      <name>u</name>\n",
      "     </decl>\n",
      "    </decls>\n",
      "    <stmts>\n",
      "     <expr_stmt>\n",
      "      <bin_op>\n",
      "       <op>=</op>\n",
      "       <left>\n",
      "        <var>u</var>\n",
      "       </left>\n",
      "       <right>\n",
      "        <bin_op>\n",
      "         <op>+</op>\n",
      "         <left>\n",
      "          <var>x</var>\n",
      "         </left>\n",
      "         <right>\n",
      "          <var>y</var>\n",
      "         </right>\n",
      "        </bin_op>\n",
      "       </right>\n",
      "      </bin_op>\n",
      "     </expr_stmt>\n",
      "     <return>\n",
      "      <bin_op>\n",
      "       <op>*</op>\n",
      "       <left>\n",
      "        <var>u</var>\n",
      "       </left>\n",
      "       <right>\n",
      "        <int_literal>3</int_literal>\n",
      "       </right>\n",
      "      </bin_op>\n",
      "     </return>\n",
      "    </stmts>\n",
      "   </compound>\n",
      "  </body>\n",
      " </fun_def>\n",
      "</program>\n",
      "\n"
     ]
    }
   ],
   "source": [
    "cat ex.xml"
   ]
  },
  {
   "cell_type": "markdown",
   "metadata": {
    "kernel": "SoS",
    "nbgrader": {
     "grade": false,
     "grade_id": "c-015",
     "locked": true,
     "schema_version": 3,
     "solution": false,
     "task": false
    }
   },
   "source": [
    "* you don't have to modify `minc_grammar.y` or `minc_to_xml.py` unless you extend the grammar for extra points\n",
    "* yet you are encouraged to see how simple does tatsu (or any parser generator, for that matter) make it to write a parser; just take a look at `minc_grammar.y`\n",
    "\n",
    "##  Note: why are we using XML?\n",
    "* it is unnecessary and unusual to convert the source program first into XML and then to the abstract syntax tree\n",
    "* more commonly, you use a parser generator for the language you write your compiler with (OCaml, Julia, Go, or Rust), which allows you to directly build the abstract syntax tree you can manipulate in that language\n",
    "* for example, C/C++ has [flex](https://en.wikipedia.org/wiki/Flex)/[bison](https://en.wikipedia.org/wiki/GNU_Bison) parser generator, whose grammar description file (analogous to minc_grammar.y) allows you to build any C/C++ data structure in it; OCaml has [ocamllex/ocamlyacc](https://v2.ocaml.org/manual/lexyacc.html) ([Menhir](http://gallium.inria.fr/~fpottier/menhir/) is a newer version of ocamlyacc).  there is a parser generator that supports multiple languages, most notably [ANTLR](https://www.antlr.org/), which supports Java and Python code generation.  in circumstances where there is a tool available for your language, it is much more straightforward and convenient to use these tools without going through XML\n",
    "* the reasons why we go through XML are\n",
    "  * I could not find a popular parser generator for some of the languages (Go and Julia)\n",
    "  * even if one exists in each language, there will be differences between them that make it difficult/tricky/cumbersome to explain them\n",
    "* so I arrived at a parser generator (tatsu) for Python as a common middle ground and XML as a common data structure all languages can easily read\n"
   ]
  },
  {
   "cell_type": "markdown",
   "metadata": {
    "kernel": "SoS",
    "nbgrader": {
     "grade": false,
     "grade_id": "c-016",
     "locked": true,
     "schema_version": 3,
     "solution": false,
     "task": false
    }
   },
   "source": [
    "# 5. {go,jl,ml,rs}/minc\n",
    "* in each language-specific directory (`go, jl, ml, rs`) , there is a toplevel directory `minc`\n",
    "* the code given there is a skeleton of a compiler that reads an XML file, builds its abstract syntax tree, and finally calls the code generator\n",
    "* the code generator is currently almost empty and raises an exception when called\n",
    "* your main job in the assignment is to complete the code generator"
   ]
  },
  {
   "cell_type": "markdown",
   "metadata": {
    "kernel": "SoS",
    "nbgrader": {
     "grade": false,
     "grade_id": "c-017",
     "locked": true,
     "schema_version": 3,
     "solution": false,
     "task": false
    }
   },
   "source": [
    "## 5-1. Go\n",
    "###  files\n",
    "* `go/`\n",
    "  * `minc/`\n",
    "    * `minc_ast.go` --- abstract syntax tree (AST) definition\n",
    "    * `minc_parse.go` --- XML -> AST converter\n",
    "    * `minc_cogen.go` --- AST -> assembly code\n",
    "    * `minc.go` --- the main file\n",
    "\n",
    "###  build"
   ]
  },
  {
   "cell_type": "code",
   "execution_count": 9,
   "metadata": {
    "kernel": "Bash",
    "nbgrader": {
     "grade": false,
     "grade_id": "c-018",
     "locked": false,
     "schema_version": 3,
     "solution": false,
     "task": false
    }
   },
   "outputs": [
    {
     "name": "stdout",
     "output_type": "stream",
     "text": [
      ".:\n",
      "total 36\n",
      "-rw-r--r-- 1 tau tau   156 Jun 23 00:39 go.mod\n",
      "-rw-r--r-- 1 tau tau   398 Jun 23 00:39 go.sum\n",
      "-rw-r--r-- 1 tau tau  6058 Jun 23 00:39 minc_ast.go\n",
      "-rw-r--r-- 1 tau tau   217 Jun 23 00:39 minc_cogen.go\n",
      "-rw-r--r-- 1 tau tau   698 Jun 23 00:39 minc.go\n",
      "-rw-r--r-- 1 tau tau 10653 Jun 23 00:39 minc_parse.go\n"
     ]
    }
   ],
   "source": [
    "export PATH=~/go/bin:$PATH\n",
    "cd ~/notebooks/pl08_minc/go/minc\n",
    "ls -lR"
   ]
  },
  {
   "cell_type": "code",
   "execution_count": 10,
   "metadata": {
    "kernel": "Bash",
    "nbgrader": {
     "grade": false,
     "grade_id": "c-019",
     "locked": false,
     "schema_version": 3,
     "solution": false,
     "task": false
    }
   },
   "outputs": [
    {
     "name": "stdout",
     "output_type": "stream",
     "text": [
      "go: downloading github.com/subchen/go-xmldom v1.1.2\n",
      "go: downloading github.com/antchfx/xpath v0.0.0-20170515025933-1f3266e77307\n"
     ]
    }
   ],
   "source": [
    "go build"
   ]
  },
  {
   "cell_type": "markdown",
   "metadata": {
    "kernel": "SoS",
    "nbgrader": {
     "grade": false,
     "grade_id": "c-020",
     "locked": true,
     "schema_version": 3,
     "solution": false,
     "task": false
    }
   },
   "source": [
    "###  run\n",
    "* be sure you have generated ex.xml by `minc_to_xml.py`\n",
    "* try to compile a small program and see that the code generator raises an exception\n"
   ]
  },
  {
   "cell_type": "code",
   "execution_count": 11,
   "metadata": {
    "kernel": "Bash",
    "nbgrader": {
     "grade": false,
     "grade_id": "c-021",
     "locked": false,
     "schema_version": 3,
     "solution": false,
     "task": false
    }
   },
   "outputs": [
    {
     "name": "stdout",
     "output_type": "stream",
     "text": [
      "panic: YOU MUST IMPLEMENT go/minc/minc_cogen.go:ast_to_asm_program\n",
      "\n",
      "goroutine 1 [running]:\n",
      "main.ast_to_asm_program(...)\n",
      "\t/home/tau/notebooks/pl08_minc/go/minc/minc_cogen.go:4\n",
      "main.file_xml_to_asm({0x7fff8cd6f69a?, 0x412451?})\n",
      "\t/home/tau/notebooks/pl08_minc/go/minc/minc.go:7 +0x2c\n",
      "main.file_xml_to_file_asm({0x7fff8cd6f69a?, 0x0?}, {0x7fff8cd6f6ae, 0x4})\n",
      "\t/home/tau/notebooks/pl08_minc/go/minc/minc.go:14 +0x25\n",
      "main.main()\n",
      "\t/home/tau/notebooks/pl08_minc/go/minc/minc.go:25 +0x45\n"
     ]
    },
    {
     "ename": "",
     "evalue": "2",
     "output_type": "error",
     "traceback": []
    }
   ],
   "source": [
    "./minc ../../parser/ex.xml ex.s"
   ]
  },
  {
   "cell_type": "markdown",
   "metadata": {
    "kernel": "SoS",
    "nbgrader": {
     "grade": false,
     "grade_id": "c-022",
     "locked": true,
     "schema_version": 3,
     "solution": false,
     "task": false
    }
   },
   "source": [
    "* take a look at the source code that caused the exception"
   ]
  },
  {
   "cell_type": "code",
   "execution_count": 12,
   "metadata": {
    "kernel": "Bash",
    "nbgrader": {
     "grade": false,
     "grade_id": "c-023",
     "locked": false,
     "schema_version": 3,
     "solution": false,
     "task": false
    }
   },
   "outputs": [
    {
     "name": "stdout",
     "output_type": "stream",
     "text": [
      "package main\n",
      "func ast_to_asm_program(program * Program) string {\n",
      "\tasm := \"this is an assembly code generated by minc compiler ...\\n\"\n",
      "\tpanic(\"YOU MUST IMPLEMENT go/minc/minc_cogen.go:ast_to_asm_program\")\n",
      "\treturn asm\n",
      "}\n"
     ]
    }
   ],
   "source": [
    "cat minc_cogen.go"
   ]
  },
  {
   "cell_type": "markdown",
   "metadata": {
    "kernel": "SoS",
    "nbgrader": {
     "grade": false,
     "grade_id": "c-024",
     "locked": true,
     "schema_version": 3,
     "solution": false,
     "task": false
    }
   },
   "source": [
    "* your job is to implement `ast_to_asm_program` function"
   ]
  },
  {
   "cell_type": "markdown",
   "metadata": {
    "kernel": "SoS",
    "nbgrader": {
     "grade": false,
     "grade_id": "c-025",
     "locked": true,
     "schema_version": 3,
     "solution": false,
     "task": false
    }
   },
   "source": [
    "## 5-2. Julia\n",
    "###  files\n",
    "* `jl/`\n",
    "  * `minc/`\n",
    "    * `minc_ast.jl` --- abstract syntax tree (AST) definition\n",
    "    * `minc_parse.jl` --- XML -> AST converter\n",
    "    * `minc_cogen.jl` --- AST -> assembly code\n",
    "    * `minc.jl` --- the main file\n",
    "\n",
    "###  build"
   ]
  },
  {
   "cell_type": "code",
   "execution_count": 19,
   "metadata": {
    "kernel": "Bash",
    "nbgrader": {
     "grade": false,
     "grade_id": "c-026",
     "locked": false,
     "schema_version": 3,
     "solution": false,
     "task": false
    }
   },
   "outputs": [
    {
     "name": "stdout",
     "output_type": "stream",
     "text": [
      ".:\n",
      "total 28\n",
      "-rw-r--r-- 1 tau tau  5352 Jun 23 00:39 minc_ast.jl\n",
      "-rw-r--r-- 1 tau tau   220 Jun 23 00:39 minc_cogen.jl\n",
      "-rwxr-xr-x 1 tau tau   765 Jun 23 00:39 minc.jl*\n",
      "-rw-r--r-- 1 tau tau 10455 Jun 23 00:39 minc_parse.jl\n"
     ]
    }
   ],
   "source": [
    "export PATH=~/.juliaup/bin:$PATH\n",
    "cd ~/notebooks/pl08_minc/jl/minc\n",
    "ls -lR"
   ]
  },
  {
   "cell_type": "code",
   "execution_count": 20,
   "metadata": {
    "kernel": "Bash",
    "nbgrader": {
     "grade": false,
     "grade_id": "c-027",
     "locked": false,
     "schema_version": 3,
     "solution": false,
     "task": false
    }
   },
   "outputs": [],
   "source": [
    "chmod +x minc.jl"
   ]
  },
  {
   "cell_type": "markdown",
   "metadata": {
    "kernel": "SoS",
    "nbgrader": {
     "grade": false,
     "grade_id": "c-028",
     "locked": true,
     "schema_version": 3,
     "solution": false,
     "task": false
    }
   },
   "source": [
    "###  run\n",
    "* be sure you have generated ex.xml by `minc_to_xml.py`\n",
    "* try to compile a small program and see that the code generator raises an exception\n"
   ]
  },
  {
   "cell_type": "code",
   "execution_count": 21,
   "metadata": {
    "kernel": "Bash",
    "nbgrader": {
     "grade": false,
     "grade_id": "c-029",
     "locked": false,
     "schema_version": 3,
     "solution": false,
     "task": false
    }
   },
   "outputs": [
    {
     "name": "stdout",
     "output_type": "stream",
     "text": [
      "The latest version of Julia in the `release` channel is 1.11.5+0.x64.linux.gnu. You currently have `1.11.4+0.x64.linux.gnu` installed. Run:\n",
      "\n",
      "  juliaup update\n",
      "\n",
      "in your terminal shell to install Julia 1.11.5+0.x64.linux.gnu and update the `release` channel to that version.\n",
      "\u001b]0;Julia\u0007\u001b]0;Julia\u0007\u001b[91m\u001b[1mERROR: \u001b[22m\u001b[39mLoadError: YOU MUST IMPLEMENT jl/minc/minc_cogen.jl:ast_to_asm_program\n",
      "Stacktrace:\n",
      " [1] \u001b[0m\u001b[1mast_to_asm_program\u001b[22m\u001b[0m\u001b[1m(\u001b[22m\u001b[90mprogram\u001b[39m::\u001b[0mProgram\u001b[0m\u001b[1m)\u001b[22m\n",
      "\u001b[90m   @\u001b[39m \u001b[35mMain\u001b[39m \u001b[90m~/lectures/programming-languages/jupyter/notebooks/source/pl08_minc/jl/minc/\u001b[39m\u001b[90m\u001b[4mminc_cogen.jl:4\u001b[24m\u001b[39m\n",
      " [2] \u001b[0m\u001b[1mfile_xml_to_asm\u001b[22m\u001b[0m\u001b[1m(\u001b[22m\u001b[90mfile_xml\u001b[39m::\u001b[0mString\u001b[0m\u001b[1m)\u001b[22m\n",
      "\u001b[90m   @\u001b[39m \u001b[35mMain\u001b[39m \u001b[90m~/lectures/programming-languages/jupyter/notebooks/source/pl08_minc/jl/minc/\u001b[39m\u001b[90m\u001b[4mminc.jl:9\u001b[24m\u001b[39m\n",
      " [3] \u001b[0m\u001b[1mfile_xml_to_file_asm\u001b[22m\u001b[0m\u001b[1m(\u001b[22m\u001b[90mfile_xml\u001b[39m::\u001b[0mString, \u001b[90mfile_asm\u001b[39m::\u001b[0mString\u001b[0m\u001b[1m)\u001b[22m\n",
      "\u001b[90m   @\u001b[39m \u001b[35mMain\u001b[39m \u001b[90m~/lectures/programming-languages/jupyter/notebooks/source/pl08_minc/jl/minc/\u001b[39m\u001b[90m\u001b[4mminc.jl:17\u001b[24m\u001b[39m\n",
      " [4] \u001b[0m\u001b[1mmain\u001b[22m\u001b[0m\u001b[1m(\u001b[22m\u001b[0m\u001b[1m)\u001b[22m\n",
      "\u001b[90m   @\u001b[39m \u001b[35mMain\u001b[39m \u001b[90m~/lectures/programming-languages/jupyter/notebooks/source/pl08_minc/jl/minc/\u001b[39m\u001b[90m\u001b[4mminc.jl:30\u001b[24m\u001b[39m\n",
      " [5] top-level scope\n",
      "\u001b[90m   @\u001b[39m \u001b[90m~/lectures/programming-languages/jupyter/notebooks/source/pl08_minc/jl/minc/\u001b[39m\u001b[90m\u001b[4mminc.jl:33\u001b[24m\u001b[39m\n",
      "in expression starting at /home/tau/lectures/programming-languages/jupyter/notebooks/source/pl08_minc/jl/minc/minc.jl:33\n"
     ]
    },
    {
     "ename": "",
     "evalue": "1",
     "output_type": "error",
     "traceback": []
    }
   ],
   "source": [
    "./minc.jl ../../parser/ex.xml ex.s"
   ]
  },
  {
   "cell_type": "markdown",
   "metadata": {
    "kernel": "SoS",
    "nbgrader": {
     "grade": false,
     "grade_id": "c-030",
     "locked": true,
     "schema_version": 3,
     "solution": false,
     "task": false
    }
   },
   "source": [
    "* take a look at the source code that caused the exception"
   ]
  },
  {
   "cell_type": "code",
   "execution_count": 22,
   "metadata": {
    "kernel": "Bash",
    "nbgrader": {
     "grade": false,
     "grade_id": "c-031",
     "locked": false,
     "schema_version": 3,
     "solution": false,
     "task": false
    }
   },
   "outputs": [
    {
     "name": "stdout",
     "output_type": "stream",
     "text": [
      "\n",
      "function ast_to_asm_program(program :: Program)\n",
      "    asm = \"this is an assembly code generated by minc compiler ...\\n\"\n",
      "    throw(ErrorException(\"YOU MUST IMPLEMENT jl/minc/minc_cogen.jl:ast_to_asm_program\"))\n",
      "    asm\n",
      "end\n"
     ]
    }
   ],
   "source": [
    "cat minc_cogen.jl"
   ]
  },
  {
   "cell_type": "markdown",
   "metadata": {
    "kernel": "SoS",
    "nbgrader": {
     "grade": false,
     "grade_id": "c-032",
     "locked": true,
     "schema_version": 3,
     "solution": false,
     "task": false
    }
   },
   "source": [
    "* your job is to implement `ast_to_asm_program` function"
   ]
  },
  {
   "cell_type": "markdown",
   "metadata": {
    "kernel": "SoS",
    "nbgrader": {
     "grade": false,
     "grade_id": "c-033",
     "locked": true,
     "schema_version": 3,
     "solution": false,
     "task": false
    }
   },
   "source": [
    "## 5-3. OCaml\n",
    "###  files\n",
    "* `ml/`\n",
    "  * `minc/`\n",
    "    * `libs/`\n",
    "      * `minc_ast.ml` --- abstract syntax tree (AST) definition\n",
    "      * `minc_parse.ml` --- XML -> AST converter\n",
    "      * `minc_cogen.ml` --- AST -> assembly code\n",
    "      * `dune` --- describes dependencies between them\n",
    "    * `bin/`\n",
    "      * `main.ml` --- the main file\n",
    "\n",
    "###  build"
   ]
  },
  {
   "cell_type": "code",
   "execution_count": 23,
   "metadata": {
    "kernel": "Bash",
    "nbgrader": {
     "grade": false,
     "grade_id": "c-034",
     "locked": false,
     "schema_version": 3,
     "solution": false,
     "task": false
    }
   },
   "outputs": [
    {
     "name": "stdout",
     "output_type": "stream",
     "text": [
      ".:\n",
      "total 20\n",
      "drwxr-xr-x 2 tau tau 4096 Jun 23 00:39 bin/\n",
      "-rw-r--r-- 1 tau tau  481 Jun 23 00:39 dune-project\n",
      "drwxr-xr-x 2 tau tau 4096 Jun 23 00:39 lib/\n",
      "-rw-r--r-- 1 tau tau  700 Jun 23 00:39 minc.opam\n",
      "drwxr-xr-x 2 tau tau 4096 Jun 23 00:39 test/\n",
      "\n",
      "./bin:\n",
      "total 8\n",
      "-rw-r--r-- 1 tau tau 156 Jun 23 00:39 dune\n",
      "-rw-r--r-- 1 tau tau 745 Jun 23 00:39 main.ml\n",
      "\n",
      "./lib:\n",
      "total 28\n",
      "-rw-r--r-- 1 tau tau  203 Jun 23 00:39 dune\n",
      "-rw-r--r-- 1 tau tau 4747 Jun 23 00:39 minc_ast.ml\n",
      "-rw-r--r-- 1 tau tau  447 Jun 23 00:39 minc_cogen.ml\n",
      "-rw-r--r-- 1 tau tau 8323 Jun 23 00:39 minc_parse.ml\n",
      "\n",
      "./test:\n",
      "total 4\n",
      "-rw-r--r-- 1 tau tau 20 Jun 23 00:39 dune\n",
      "-rw-r--r-- 1 tau tau  0 Jun 23 00:39 minc.ml\n"
     ]
    }
   ],
   "source": [
    "eval $(opam env)\n",
    "cd ~/notebooks/pl08_minc/ml/minc\n",
    "ls -lR"
   ]
  },
  {
   "cell_type": "code",
   "execution_count": 25,
   "metadata": {
    "kernel": "Bash",
    "nbgrader": {
     "grade": false,
     "grade_id": "c-035",
     "locked": false,
     "schema_version": 3,
     "solution": false,
     "task": false
    }
   },
   "outputs": [
    {
     "name": "stdout",
     "output_type": "stream",
     "text": [
      "                                    \r"
     ]
    }
   ],
   "source": [
    "dune build"
   ]
  },
  {
   "cell_type": "markdown",
   "metadata": {
    "kernel": "SoS",
    "nbgrader": {
     "grade": false,
     "grade_id": "c-036",
     "locked": true,
     "schema_version": 3,
     "solution": false,
     "task": false
    }
   },
   "source": [
    "###  run\n",
    "* be sure you have generated ex.xml by `minc_to_xml.py`\n",
    "* try to compile a small program and see that the code generator raises an exception\n"
   ]
  },
  {
   "cell_type": "code",
   "execution_count": 26,
   "metadata": {
    "kernel": "Bash",
    "nbgrader": {
     "grade": false,
     "grade_id": "c-037",
     "locked": false,
     "schema_version": 3,
     "solution": false,
     "task": false
    }
   },
   "outputs": [
    {
     "name": "stdout",
     "output_type": "stream",
     "text": [
      "Fatal error: exception Minc_cogen.NotImplemented(\"YOU MUST IMPLEMENT ml/minc/lib/minc_cogen.ml:ast_to_asm_program\")\n"
     ]
    },
    {
     "ename": "",
     "evalue": "2",
     "output_type": "error",
     "traceback": []
    }
   ],
   "source": [
    "_build/default/bin/main.exe ../../parser/ex.xml ex.s"
   ]
  },
  {
   "cell_type": "markdown",
   "metadata": {
    "kernel": "SoS",
    "nbgrader": {
     "grade": false,
     "grade_id": "c-038",
     "locked": true,
     "schema_version": 3,
     "solution": false,
     "task": false
    }
   },
   "source": [
    "* take a look at the source code that caused the exception"
   ]
  },
  {
   "cell_type": "code",
   "execution_count": null,
   "metadata": {
    "kernel": "Bash",
    "nbgrader": {
     "grade": false,
     "grade_id": "c-039",
     "locked": false,
     "schema_version": 3,
     "solution": false,
     "task": false
    }
   },
   "outputs": [],
   "source": [
    "cat lib/minc_cogen.ml"
   ]
  },
  {
   "cell_type": "markdown",
   "metadata": {
    "kernel": "SoS",
    "nbgrader": {
     "grade": false,
     "grade_id": "c-040",
     "locked": true,
     "schema_version": 3,
     "solution": false,
     "task": false
    }
   },
   "source": [
    "* your job is to implement `ast_to_asm_program` function"
   ]
  },
  {
   "cell_type": "markdown",
   "metadata": {
    "kernel": "SoS",
    "nbgrader": {
     "grade": false,
     "grade_id": "c-041",
     "locked": true,
     "schema_version": 3,
     "solution": false,
     "task": false
    }
   },
   "source": [
    "## 5-4. Rust\n",
    "###  files\n",
    "* `rs/`\n",
    "  * `minc/`\n",
    "    * `src/`\n",
    "      * `minc_ast.rs` --- abstract syntax tree (AST) definition\n",
    "      * `minc_parse.rs` --- XML -> AST converter\n",
    "      * `minc_cogen.rs` --- AST -> assembly code\n",
    "      * `main.rs` --- the main file\n",
    "\n",
    "###  build"
   ]
  },
  {
   "cell_type": "code",
   "execution_count": 27,
   "metadata": {
    "kernel": "Bash",
    "nbgrader": {
     "grade": false,
     "grade_id": "c-042",
     "locked": false,
     "schema_version": 3,
     "solution": false,
     "task": false
    }
   },
   "outputs": [
    {
     "name": "stdout",
     "output_type": "stream",
     "text": [
      ".:\n",
      "total 12\n",
      "-rw-r--r-- 1 tau tau 2353 Jun 23 00:39 Cargo.lock\n",
      "-rw-r--r-- 1 tau tau  187 Jun 23 00:39 Cargo.toml\n",
      "drwxr-xr-x 2 tau tau 4096 Jun 23 00:39 src/\n",
      "\n",
      "./src:\n",
      "total 32\n",
      "-rw-r--r-- 1 tau tau   963 Jun 23 00:39 main.rs\n",
      "-rw-r--r-- 1 tau tau  5561 Jun 23 00:39 minc_ast.rs\n",
      "-rw-r--r-- 1 tau tau   375 Jun 23 00:39 minc_cogen.rs\n",
      "-rw-r--r-- 1 tau tau 13184 Jun 23 00:39 minc_parse.rs\n"
     ]
    }
   ],
   "source": [
    ". ~/.cargo/env\n",
    "cd ~/notebooks/pl08_minc/rs/minc\n",
    "ls -lR"
   ]
  },
  {
   "cell_type": "code",
   "execution_count": 28,
   "metadata": {
    "kernel": "Bash",
    "nbgrader": {
     "grade": false,
     "grade_id": "c-043",
     "locked": false,
     "schema_version": 3,
     "solution": false,
     "task": false
    }
   },
   "outputs": [
    {
     "name": "stdout",
     "output_type": "stream",
     "text": [
      "\u001b[1m\u001b[32m    Updating\u001b[0m crates.io index\n",
      "\u001b[K\u001b[1m\u001b[32m  Downloaded\u001b[0m autocfg v1.1.0                                                \n",
      "\u001b[K\u001b[1m\u001b[32m  Downloaded\u001b[0m bytes v1.1.0                                                  \n",
      "\u001b[K\u001b[1m\u001b[32m  Downloaded\u001b[0m memchr v2.5.0                                                 \n",
      "\u001b[K\u001b[1m\u001b[32m  Downloaded\u001b[0m static_assertions v1.1.0619.7 KB                              \n",
      "\u001b[K\u001b[1m\u001b[32m  Downloaded\u001b[0m pin-project-lite v0.2.9 587.0 KB                              \n",
      "\u001b[K\u001b[1m\u001b[32m  Downloaded\u001b[0m tokio v1.20.0ing bytes: 487.5 KB                              \n",
      "\u001b[K\u001b[1m\u001b[32m  Downloaded\u001b[0m rxml_validation v0.8.1: 4.5 KB                                \n",
      "\u001b[K\u001b[1m\u001b[32m  Downloaded\u001b[0m minidom v0.15.0g bytes: 16.6 KB                               \n",
      "\u001b[K\u001b[1m\u001b[32m  Downloaded\u001b[0m smartstring v0.2.10tes: 96.4 KB                               \n",
      "\u001b[K\u001b[1m\u001b[32m  Downloaded\u001b[0m rxml v0.8.1ning bytes: 22.5 KB                                \n",
      "\u001b[K\u001b[1m\u001b[32m  Downloaded\u001b[0m 10 crates (920.4 KB) in 1.19s                                 \n",
      "\u001b[1m\u001b[32m   Compiling\u001b[0m memchr v2.5.0\n",
      "\u001b[1m\u001b[32m   Compiling\u001b[0m autocfg v1.1.0\n",
      "\u001b[1m\u001b[32m   Compiling\u001b[0m static_assertions v1.1.0\n",
      "\u001b[1m\u001b[32m   Compiling\u001b[0m pin-project-lite v0.2.9\n",
      "\u001b[1m\u001b[32m   Compiling\u001b[0m bytes v1.1.0\n",
      "\u001b[1m\u001b[32m   Compiling\u001b[0m rxml_validation v0.8.1\n",
      "\u001b[K\u001b[1m\u001b[32m   Compiling\u001b[0m smartstring v0.2.10       ] 0/15: bytes, memchr(build.rs), ...\n",
      "\u001b[K\u001b[1m\u001b[32m   Compiling\u001b[0m tokio v1.20.0             ] 5/15: bytes, autocfg, memchr(bu...\n",
      "\u001b[K\u001b[1m\u001b[32m   Compiling\u001b[0m rxml v0.8.1=====>        ] 11/15: tokio                       \n",
      "\u001b[K\u001b[1m\u001b[32m   Compiling\u001b[0m minidom v0.15.0===>      ] 12/15: rxml                        \n",
      "\u001b[K\u001b[1m\u001b[32m   Compiling\u001b[0m minc v0.1.0 (/home/tau/lectures/programming-languages/jupyter/notebooks/source/pl08_minc/rs/minc)\n",
      "\u001b[K\u001b[0m\u001b[1m\u001b[33mwarning\u001b[0m\u001b[0m\u001b[1m: field `0` is never read\u001b[0minc(bin)                   \n",
      "\u001b[0m  \u001b[0m\u001b[0m\u001b[1m\u001b[38;5;12m--> \u001b[0m\u001b[0msrc/minc_parse.rs:75:11\u001b[0m\n",
      "\u001b[0m   \u001b[0m\u001b[0m\u001b[1m\u001b[38;5;12m|\u001b[0m\n",
      "\u001b[0m\u001b[1m\u001b[38;5;12m75\u001b[0m\u001b[0m \u001b[0m\u001b[0m\u001b[1m\u001b[38;5;12m|\u001b[0m\u001b[0m \u001b[0m\u001b[0m    Error(String)\u001b[0m\n",
      "\u001b[0m   \u001b[0m\u001b[0m\u001b[1m\u001b[38;5;12m|\u001b[0m\u001b[0m     \u001b[0m\u001b[0m\u001b[1m\u001b[38;5;12m-----\u001b[0m\u001b[0m \u001b[0m\u001b[0m\u001b[1m\u001b[33m^^^^^^\u001b[0m\n",
      "\u001b[0m   \u001b[0m\u001b[0m\u001b[1m\u001b[38;5;12m|\u001b[0m\u001b[0m     \u001b[0m\u001b[0m\u001b[1m\u001b[38;5;12m|\u001b[0m\n",
      "\u001b[0m   \u001b[0m\u001b[0m\u001b[1m\u001b[38;5;12m|\u001b[0m\u001b[0m     \u001b[0m\u001b[0m\u001b[1m\u001b[38;5;12mfield in this variant\u001b[0m\n",
      "\u001b[0m   \u001b[0m\u001b[0m\u001b[1m\u001b[38;5;12m|\u001b[0m\n",
      "\u001b[0m   \u001b[0m\u001b[0m\u001b[1m\u001b[38;5;12m= \u001b[0m\u001b[0m\u001b[1mnote\u001b[0m\u001b[0m: `InvalidXML` has a derived impl for the trait `Debug`, but this is intentionally ignored during dead code analysis\u001b[0m\n",
      "\u001b[0m   \u001b[0m\u001b[0m\u001b[1m\u001b[38;5;12m= \u001b[0m\u001b[0m\u001b[1mnote\u001b[0m\u001b[0m: `#[warn(dead_code)]` on by default\u001b[0m\n",
      "\u001b[0m\u001b[1m\u001b[38;5;14mhelp\u001b[0m\u001b[0m: consider changing the field to be of unit type to suppress this warning while preserving the field numbering, or remove the field\u001b[0m\n",
      "\u001b[0m   \u001b[0m\u001b[0m\u001b[1m\u001b[38;5;12m|\u001b[0m\n",
      "\u001b[0m\u001b[1m\u001b[38;5;12m75\u001b[0m\u001b[0m \u001b[0m\u001b[0m\u001b[1m\u001b[38;5;12m| \u001b[0m\u001b[0m    Error(\u001b[0m\u001b[0m\u001b[38;5;10m()\u001b[0m\u001b[0m)\u001b[0m\n",
      "\u001b[0m   \u001b[0m\u001b[0m\u001b[1m\u001b[38;5;12m|\u001b[0m\u001b[0m           \u001b[0m\u001b[0m\u001b[38;5;10m~~\u001b[0m\n",
      "\n",
      "\u001b[K\u001b[1m\u001b[33mwarning\u001b[0m\u001b[1m:\u001b[0m `minc` (bin \"minc\") generated 1 warning                   \n",
      "\u001b[1m\u001b[32m    Finished\u001b[0m `dev` profile [unoptimized + debuginfo] target(s) in 5.16s\n"
     ]
    }
   ],
   "source": [
    "cargo build"
   ]
  },
  {
   "cell_type": "markdown",
   "metadata": {
    "kernel": "SoS",
    "nbgrader": {
     "grade": false,
     "grade_id": "c-044",
     "locked": true,
     "schema_version": 3,
     "solution": false,
     "task": false
    }
   },
   "source": [
    "###  run\n",
    "* be sure you have generated ex.xml by `minc_to_xml.py`\n",
    "* try to compile a small program and see that the code generator raises an exception\n"
   ]
  },
  {
   "cell_type": "code",
   "execution_count": 29,
   "metadata": {
    "kernel": "Bash",
    "nbgrader": {
     "grade": false,
     "grade_id": "c-045",
     "locked": false,
     "schema_version": 3,
     "solution": false,
     "task": false
    }
   },
   "outputs": [
    {
     "name": "stdout",
     "output_type": "stream",
     "text": [
      "\n",
      "thread 'main' panicked at src/minc_cogen.rs:10:5:\n",
      "YOU MUST IMPLEMENT rs/minc/src/minc_cogen.go:ast_to_asm_program\n",
      "note: run with `RUST_BACKTRACE=1` environment variable to display a backtrace\n"
     ]
    },
    {
     "ename": "",
     "evalue": "101",
     "output_type": "error",
     "traceback": []
    }
   ],
   "source": [
    "./target/debug/minc ../../parser/ex.xml ex.s"
   ]
  },
  {
   "cell_type": "markdown",
   "metadata": {
    "kernel": "SoS",
    "nbgrader": {
     "grade": false,
     "grade_id": "c-046",
     "locked": true,
     "schema_version": 3,
     "solution": false,
     "task": false
    }
   },
   "source": [
    "* take a look at the source code that caused the exception"
   ]
  },
  {
   "cell_type": "code",
   "execution_count": null,
   "metadata": {
    "kernel": "Bash",
    "nbgrader": {
     "grade": false,
     "grade_id": "c-047",
     "locked": false,
     "schema_version": 3,
     "solution": false,
     "task": false
    }
   },
   "outputs": [],
   "source": [
    "cat src/minc_cogen.rs"
   ]
  },
  {
   "cell_type": "markdown",
   "metadata": {
    "kernel": "SoS",
    "nbgrader": {
     "grade": false,
     "grade_id": "c-048",
     "locked": true,
     "schema_version": 3,
     "solution": false,
     "task": false
    }
   },
   "source": [
    "* your job is to implement `ast_to_asm_program` function"
   ]
  },
  {
   "cell_type": "markdown",
   "metadata": {
    "kernel": "SoS",
    "nbgrader": {
     "grade": false,
     "grade_id": "c-049",
     "locked": true,
     "schema_version": 3,
     "solution": false,
     "task": false
    }
   },
   "source": [
    "\n",
    "# 6. test\n",
    "* your primary goal is to pass all the tests\n",
    "\n",
    "##  files\n",
    "* `test/`\n",
    "  * `src/` \n",
    "    * `f00.c, f01.c, f02.c, ..., ` --- test programs each definint a function `f`\n",
    "  * `main.c` --- a file that calls function `f`\n",
    "  * `Makefile` --- executes all the tests\n",
    "\n",
    "the `Makefile` does the following for each test program (`src/f00.c, src/f01.c,` ...)\n",
    "\n",
    "1. convert `src/fXX.c` to `xml/fXX.xml` with `parser/minc_to_xml.py`\n",
    "1. compile `xml/fXX.xml` to `minc/fXX.s` with the minC compiler you are supposed to write\n",
    "1. compile `main.c` and `minc/fXX.s` into an executable\n",
    "1. compile `main.c` and `src/fXX.c` into an executable with gcc\n",
    "1. execute the two executables and compare their outputs\n",
    "\n",
    "* in the `Makefile`\n",
    " * <font color=red>you must set the variable `minc` to the path to your compiler (relative to the test directory)</font>\n",
    "```\n",
    "minc := ../ml/minc/_build/default/bin/main.exe\n",
    "```\n",
    " * you can set the variable `srcs` to change the functions tested. the default is all the 75 files in `src/`\n",
    "```\n",
    "srcs := $(wildcard src/f*.c)\n",
    "```\n",
    "for example, if you set this to\n",
    "```\n",
    "srcs := $(wildcard src/f00.c)\n",
    "```\n",
    "you can only test `src/f00.c`\n",
    "\n",
    " * `make -n` will show you what will be executed without actually executing it\n",
    " "
   ]
  },
  {
   "cell_type": "code",
   "execution_count": null,
   "metadata": {
    "kernel": "Bash",
    "nbgrader": {
     "grade": false,
     "grade_id": "c-050",
     "locked": false,
     "schema_version": 3,
     "solution": false,
     "task": false
    }
   },
   "outputs": [],
   "source": [
    "# make sure you set minc variable in Makefile\n",
    "cd ~/notebooks/pl08_minc/test\n",
    "make -n"
   ]
  },
  {
   "cell_type": "markdown",
   "metadata": {
    "kernel": "SoS",
    "nbgrader": {
     "grade": false,
     "grade_id": "c-051",
     "locked": true,
     "schema_version": 3,
     "solution": false,
     "task": false
    }
   },
   "source": [
    "to test a single file"
   ]
  },
  {
   "cell_type": "code",
   "execution_count": null,
   "metadata": {
    "kernel": "Bash",
    "nbgrader": {
     "grade": false,
     "grade_id": "c-052",
     "locked": false,
     "schema_version": 3,
     "solution": false,
     "task": false
    }
   },
   "outputs": [],
   "source": [
    "make -n srcs=src/f00.c"
   ]
  },
  {
   "cell_type": "markdown",
   "metadata": {
    "kernel": "SoS",
    "nbgrader": {
     "grade": false,
     "grade_id": "c-053",
     "locked": true,
     "schema_version": 3,
     "solution": false,
     "task": false
    }
   },
   "source": [
    "\n",
    "* if the test fails, identify which file it failed for and how\n",
    "\n",
    "* use\n",
    "```\n",
    "make srcs=src/fXX.c\n",
    "```\n",
    "to run the test on the particular file that failed\n",
    "\n",
    "* on each file (`src/fXX.c`), it first converts the C source file into XML using `minc_to_xml.py`; if the test fails here, it's not your fault, unless you modified the grammar\n",
    "\n",
    "```\n",
    "echo \"# convert src/f00.c to xml/f00.xml\"\n",
    "../parser/minc_to_xml.py src/f00.c > xml/f00.xml\n",
    "```\n",
    "\n",
    "* next it calls your compiler to convert the XML file into asm (the command line depends on the language you chose)\n",
    "\n",
    "```\n",
    "echo \"# compile xml/f00.xml to asm with your minC compiler\"\n",
    "../ml/minc/_build/default/bin/main.exe xml/f00.xml asm/f00.s\n",
    "```\n",
    "\n",
    "if this fails, examine the original C source file (`f00.c` in the case above) and XML source file to examine what kind of source code makes it fail\n",
    "\n",
    "* then it calls the gcc to compile the assembly you generated into an executable\n",
    "\n",
    "```\n",
    "echo \"# generate the executable that calls f with your minC compiler\"\n",
    "gcc -o minc/f00.exe -DTEST_NO=0 main.c asm/f00.s -O0 -g\n",
    "```\n",
    "\n",
    "if you generate a syntactically invalid assembly code, gcc will complain here.  read the gcc error message, examine the assembly you generated (`asm/f00.s` in the case above) and understand why it failed\n",
    "\n",
    "* then it calls executables generated by gcc as well as your minC compiler\n",
    "\n",
    "```\n",
    "echo \"# run the executable generated by gcc\"\n",
    "./gcc/f00.exe | tee out/f00.gcc\n",
    "echo \"# run the executable generated by your minC compiler\"\n",
    "./minc/f00.exe | tee out/f00.minc\n",
    "```\n",
    "the gcc-generated executable is unlikely to fail.  if your compiler-generated executable fails, you might be able to see the reason just by looking at the assembly code you generated; otherwise, run the executable with a debugger. GDB, for example, can step-execute an assembly program and allow you to examine the value of registers.\n",
    "\n",
    "* it finally compares the output of the two executables\n",
    "\n",
    "```\n",
    "echo \"# take the diff of the two\"\n",
    "diff out/f00.gcc out/f00.minc\n",
    "```\n",
    "\n",
    "if it fails, the debugging strategy is the same as above; you might be able to see the reason just by looking at the assembly code you generated; otherwise, run the executable with a debugger. GDB, for example, can step-execute an assembly program and allow you to examine the value of registers.\n",
    "\n",
    "## 6-1. How to add new test programs\n",
    "* if you work on any of the extension, you are likely to add test programs too\n",
    "* src/src/fun.c contains all the C functions to test, each one being guarded by\n",
    "```\n",
    "#if TEST_NO == ???\n",
    "\n",
    "#endif\n",
    "```\n",
    "add your test case at the end of the file, using the next number as your TEST_NO\n",
    "* modify the following line in `test/src/src/Makefile`\n",
    "```\n",
    "tests := $(shell seq -f \"%02.0f\" 0 74)\n",
    "```\n",
    "to reflect the tests you added.  for example, if you add two test cases (TEST_NO = 75 and 76), you should change it to \n",
    "```\n",
    "tests := $(shell seq -f \"%02.0f\" 0 76)\n",
    "```\n",
    "and run make in `test/src/src`"
   ]
  },
  {
   "cell_type": "code",
   "execution_count": null,
   "metadata": {
    "kernel": "Bash",
    "nbgrader": {
     "grade": false,
     "grade_id": "c-054",
     "locked": false,
     "schema_version": 3,
     "solution": false,
     "task": false
    }
   },
   "outputs": [],
   "source": [
    "cd ~/notebooks/pl08_minc/test/src/src\n",
    "make"
   ]
  },
  {
   "cell_type": "markdown",
   "metadata": {
    "kernel": "SoS",
    "nbgrader": {
     "grade": false,
     "grade_id": "c-055",
     "locked": true,
     "schema_version": 3,
     "solution": false,
     "task": false
    }
   },
   "source": [
    "* do a similar thing for `test/main.c`; as long as all functions take only `long` arguments and return a `long` value, you can use the same `main` function. in that case you just change\n",
    "```\n",
    "#if 0 <= TEST_NO && TEST_NO <= 74\n",
    "...\n",
    "#endif\n",
    "```\n",
    "to, say, \n",
    "```\n",
    "#if 0 <= TEST_NO && TEST_NO <= 76\n",
    "...\n",
    "#endif\n",
    "```\n",
    "\n",
    "* if you support types other than `long`, you are likely to add a different main function. modify `main.c` accordingly\n"
   ]
  },
  {
   "cell_type": "markdown",
   "metadata": {
    "kernel": "SoS",
    "nbgrader": {
     "grade": false,
     "grade_id": "c-056",
     "locked": true,
     "schema_version": 3,
     "solution": false,
     "task": false
    }
   },
   "source": [
    "\n",
    "# 7. Format of the report and how to submit your work\n",
    "## 7-1. Baseline requirements (Level 1)\n",
    "* implement the compiler for minC (you will mainly write `minc_cogen.{go,jl,ml,rs}`)\n",
    "* your code generator must be heavily commented (explain how it works, as if you are writing a report, except you write it in the source code)\n",
    "* pass all the tests, that is, the following command executes without an error"
   ]
  },
  {
   "cell_type": "code",
   "execution_count": null,
   "metadata": {
    "kernel": "Bash",
    "nbgrader": {
     "grade": true,
     "grade_id": "p-001",
     "locked": false,
     "points": 1,
     "schema_version": 3,
     "solution": true,
     "task": false
    }
   },
   "outputs": [],
   "source": [
    "BEGIN SOLUTION\n",
    "END SOLUTION\n",
    "cd ~/notebooks/pl08_minc/test\n",
    "make -B"
   ]
  },
  {
   "cell_type": "markdown",
   "metadata": {
    "kernel": "SoS",
    "nbgrader": {
     "grade": false,
     "grade_id": "c-057",
     "locked": true,
     "schema_version": 3,
     "solution": false,
     "task": false
    }
   },
   "source": [
    "* by default, the entire test stops as soon as any test fails. you may want to try `-k` option for make, to skip files that fails and go ahead to others"
   ]
  },
  {
   "cell_type": "code",
   "execution_count": null,
   "metadata": {
    "kernel": "Bash",
    "nbgrader": {
     "grade": true,
     "grade_id": "p-002",
     "locked": false,
     "points": 1,
     "schema_version": 3,
     "solution": true,
     "task": false
    }
   },
   "outputs": [],
   "source": [
    "BEGIN SOLUTION\n",
    "END SOLUTION\n",
    "cd ~/notebooks/pl08_minc/test\n",
    "make -B -k"
   ]
  },
  {
   "cell_type": "markdown",
   "metadata": {
    "kernel": "SoS",
    "nbgrader": {
     "grade": false,
     "grade_id": "c-058",
     "locked": true,
     "schema_version": 3,
     "solution": false,
     "task": false
    }
   },
   "source": [
    "* write the summary of tests that passed/failed, in the online Excel `teamXX/pl08_minc/results.xlsx`\n",
    " * P : passed\n",
    " * C : cannot assemble (your compiler fails to produce assembly)\n",
    " * I : invalid assembly (your compiler produced an assembly code but it does not compile with gcc)\n",
    " * R : runtime error (your compiler produced an executable, but it does not terminate successfully)\n",
    " * W : wrong result (your compiler produced an executable that terminates successfully, but the output result is different from that of gcc-generated executable)\n",
    "\n",
    "* members of each team must get togeter at least once to show their test results each other\n",
    "* you are encouraged to get together with team members working on this option in other occassions to discuss progress and help each other (team members working on other options are not requierd to participate)"
   ]
  },
  {
   "cell_type": "markdown",
   "metadata": {
    "kernel": "SoS",
    "nbgrader": {
     "grade": false,
     "grade_id": "c-059",
     "locked": true,
     "schema_version": 3,
     "solution": false,
     "task": false
    }
   },
   "source": [
    "\n",
    "* <font color=red>before submitting your work, make sure you clean up your working directory,</font>  in the manner described in [Writing standalone programs using libraries](https://taura.github.io/programming-languages/html/errata/pl04_standalone.sos.html)"
   ]
  },
  {
   "cell_type": "markdown",
   "metadata": {
    "kernel": "SoS",
    "nbgrader": {
     "grade": false,
     "grade_id": "c-060",
     "locked": true,
     "schema_version": 3,
     "solution": false,
     "task": false
    }
   },
   "source": [
    "* Go"
   ]
  },
  {
   "cell_type": "code",
   "execution_count": null,
   "metadata": {
    "kernel": "Bash",
    "nbgrader": {
     "grade": false,
     "grade_id": "c-061",
     "locked": false,
     "schema_version": 3,
     "solution": false,
     "task": false
    }
   },
   "outputs": [],
   "source": [
    "cd ~/notebooks/pl08_minc/go/minc\n",
    "go clean"
   ]
  },
  {
   "cell_type": "markdown",
   "metadata": {
    "kernel": "SoS",
    "nbgrader": {
     "grade": false,
     "grade_id": "c-062",
     "locked": true,
     "schema_version": 3,
     "solution": false,
     "task": false
    }
   },
   "source": [
    "* OCaml\n",
    "  * ignore `Error: rmdir(_build): Directory not empty` if you see it (I don't know why it happens)\n",
    "  "
   ]
  },
  {
   "cell_type": "code",
   "execution_count": null,
   "metadata": {
    "kernel": "Bash",
    "nbgrader": {
     "grade": false,
     "grade_id": "c-063",
     "locked": false,
     "schema_version": 3,
     "solution": false,
     "task": false
    }
   },
   "outputs": [],
   "source": [
    "cd ~/notebooks/pl08_minc/ml/minc\n",
    "dune clean"
   ]
  },
  {
   "cell_type": "markdown",
   "metadata": {
    "kernel": "SoS",
    "nbgrader": {
     "grade": false,
     "grade_id": "c-064",
     "locked": true,
     "schema_version": 3,
     "solution": false,
     "task": false
    }
   },
   "source": [
    "* Rust"
   ]
  },
  {
   "cell_type": "code",
   "execution_count": null,
   "metadata": {
    "kernel": "Bash",
    "nbgrader": {
     "grade": false,
     "grade_id": "c-065",
     "locked": false,
     "schema_version": 3,
     "solution": false,
     "task": false
    }
   },
   "outputs": [],
   "source": [
    "cd ~/notebooks/pl08_minc/rs/minc\n",
    "cargo clean"
   ]
  },
  {
   "cell_type": "markdown",
   "metadata": {
    "kernel": "SoS",
    "nbgrader": {
     "grade": false,
     "grade_id": "c-066",
     "locked": true,
     "schema_version": 3,
     "solution": false,
     "task": false
    }
   },
   "source": [
    "* <font color=\"red\">also make sure you execute `make clean` in the test directory</font>"
   ]
  },
  {
   "cell_type": "code",
   "execution_count": null,
   "metadata": {
    "kernel": "Bash",
    "nbgrader": {
     "grade": false,
     "grade_id": "c-067",
     "locked": false,
     "schema_version": 3,
     "solution": false,
     "task": false
    }
   },
   "outputs": [],
   "source": [
    "cd ~/notebooks/pl08_minc/test\n",
    "make clean"
   ]
  },
  {
   "cell_type": "markdown",
   "metadata": {
    "kernel": "SoS",
    "nbgrader": {
     "grade": false,
     "grade_id": "c-068",
     "locked": true,
     "schema_version": 3,
     "solution": false,
     "task": false
    }
   },
   "source": [
    "* submit your work through Jupyter (modify and add files in place under `~/notebooks/pl08_minc`); make sure you execute the above cell (`make -B -k`)\n",
    "* submit \"Term Report Option A (pl08_minc; build a compiler)\" through UTOL\n",
    "* all the essential work is submitted through Juptyer and Excel; you only have to submit a brief report to UTOL\n",
    "\n",
    "## 7-2. Extra points [Level 2+]\n",
    "* you get extra points by doing more than required above\n",
    "\n",
    "* you can extend the minC language in any ways, but possible extensions include (but are not limited to):\n",
    "  * syntactic extensions\n",
    "    * [difficulty level 2] for loop\n",
    "    * [difficulty level 2.5] initializing declaration (e.g., int x = y + 2)\n",
    "  * type extensions and type checks\n",
    "    * note that supporting a type other than long requires the compiler know the type of an expression; it's a heavy lifting\n",
    "    * [difficulty level 3] pointers (long*, long**, etc.)\n",
    "    * [difficulty level 4] floating point numbers (double)\n",
    "    * [difficulty level 5] types of different sizes (int, float)\n",
    "    * [difficulty level 6] structures and typedefs\n",
    "  * optimization\n",
    "    * use registers more aggressively\n",
    "    * inline-expand function calls\n",
    "\n",
    "* if you have done extra work beyond requirements, describe what you did in the extra.docx. clearly indicate the author of each section (who did what)"
   ]
  }
 ],
 "metadata": {
  "celltoolbar": "Create Assignment",
  "kernelspec": {
   "display_name": "SoS",
   "language": "sos",
   "name": "sos"
  },
  "language_info": {
   "codemirror_mode": "sos",
   "file_extension": ".sos",
   "mimetype": "text/x-sos",
   "name": "sos",
   "nbconvert_exporter": "sos_notebook.converter.SoS_Exporter",
   "pygments_lexer": "sos"
  },
  "sos": {
   "kernels": [
    [
     "Bash",
     "bash",
     "bash",
     "",
     "shell"
    ],
    [
     "C",
     "c_kernel",
     "c",
     "",
     ""
    ],
    [
     "Go",
     "gophernotes",
     "go",
     "",
     ""
    ],
    [
     "Julia 1.11.4",
     "julia-1.11",
     "julia",
     "",
     ""
    ],
    [
     "OCaml 4.14.2",
     "ocaml-jupyter",
     "OCaml",
     "",
     "text/x-ocaml"
    ],
    [
     "Python 3 (ipykernel)",
     "python3",
     "python3",
     "",
     {
      "name": "ipython",
      "version": 3
     }
    ],
    [
     "Rust",
     "rust",
     "rust",
     "",
     ""
    ]
   ],
   "panel": {
    "displayed": true,
    "height": 0
   },
   "version": "0.23.3"
  }
 },
 "nbformat": 4,
 "nbformat_minor": 4
}
