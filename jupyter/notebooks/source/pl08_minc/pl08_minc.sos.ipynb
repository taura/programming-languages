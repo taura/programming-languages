{
  "cells": [
    {
      "cell_type": "markdown",
      "metadata": {
        "kernel": "SoS",
        "nbgrader": {
          "grade": false,
          "grade_id": "c-001",
          "locked": true,
          "schema_version": 3,
          "solution": false,
          "task": false
        }
      },
      "source": [
        "\n",
        "#  Building a minC (minimum C) compiler",
        ""
      ]
    },
    {
      "cell_type": "markdown",
      "metadata": {
        "kernel": "SoS",
        "nbgrader": {
          "grade": false,
          "grade_id": "c-002",
          "locked": false,
          "schema_version": 3,
          "solution": false,
          "task": false
        }
      },
      "source": [
        "\n",
        "Enter your name and student ID.\n",
        "\n",
        " * Name:\n",
        " * Student ID:\n",
        ""
      ]
    },
    {
      "cell_type": "markdown",
      "metadata": {
        "kernel": "SoS",
        "nbgrader": {
          "grade": false,
          "grade_id": "c-003",
          "locked": true,
          "schema_version": 3,
          "solution": false,
          "task": false
        }
      },
      "source": [
        "\n",
        "<a name=\"intro\"> </a>\n",
        "# 1. Introduction",
        "\n",
        "* This is the instruction for those who choose Option A for the term report\n",
        "* You build a compiler for a minimum subset of C language, dubbed 'minC'\n",
        "* This page explains how you should work on it, but <font color=\"red\">your actual work is supposed to be done mostly in terminal and text editor</font>\n",
        ""
      ]
    },
    {
      "cell_type": "markdown",
      "metadata": {
        "kernel": "SoS",
        "nbgrader": {
          "grade": false,
          "grade_id": "c-004",
          "locked": true,
          "schema_version": 3,
          "solution": false,
          "task": false
        }
      },
      "source": [
        "\n",
        "# 2. Files",
        "\n",
        "* `parser/` : a C -> XML parser written in Python + tatsu (parser generator), which converts a C source into an equivalent XML\n",
        "* `{ml,jl,go,rs}/minc` : a directory for each language\n",
        "* `test/` : test programs\n",
        "\n",
        "# 3. Parser (C -> XML)",
        "\n",
        "* `minc_grammar.y` : grammar definition of the minimum C language we work on, which is converted into a working python program (`minc_grammar.py`) using [tatsu](https://github.com/neogeny/TatSu) parser generator library"
      ]
    },
    {
      "cell_type": "code",
      "metadata": {
        "kernel": "Bash",
        "nbgrader": {
          "grade": false,
          "grade_id": "c-005",
          "locked": false,
          "schema_version": 3,
          "solution": false,
          "task": false
        }
      },
      "source": [
        "cd ~/notebooks/pl09_minc/parser\n",
        "tatsu minc_grammar.y > minc_grammar.py"
      ],
      "execution_count": null,
      "outputs": []
    },
    {
      "cell_type": "markdown",
      "metadata": {
        "kernel": "SoS",
        "nbgrader": {
          "grade": false,
          "grade_id": "c-006",
          "locked": true,
          "schema_version": 3,
          "solution": false,
          "task": false
        }
      },
      "source": [
        "* `minc_to_xml.py` : the main parser program that drives minc_grammar.py to convert a C source into an equivalent XML"
      ]
    },
    {
      "cell_type": "code",
      "metadata": {
        "kernel": "Bash",
        "nbgrader": {
          "grade": false,
          "grade_id": "c-007",
          "locked": false,
          "schema_version": 3,
          "solution": false,
          "task": false
        }
      },
      "source": [
        "python3 minc_to_xml.py example/ex.c > ex.xml"
      ],
      "execution_count": null,
      "outputs": []
    },
    {
      "cell_type": "markdown",
      "metadata": {
        "kernel": "SoS",
        "nbgrader": {
          "grade": false,
          "grade_id": "c-008",
          "locked": true,
          "schema_version": 3,
          "solution": false,
          "task": false
        }
      },
      "source": [
        "* examine the result and understand how each C construct is converted into XML"
      ]
    },
    {
      "cell_type": "code",
      "metadata": {
        "kernel": "Bash",
        "nbgrader": {
          "grade": false,
          "grade_id": "c-009",
          "locked": false,
          "schema_version": 3,
          "solution": false,
          "task": false
        }
      },
      "source": [
        "cat example/ex.c "
      ],
      "execution_count": null,
      "outputs": []
    },
    {
      "cell_type": "code",
      "metadata": {
        "kernel": "Bash",
        "nbgrader": {
          "grade": false,
          "grade_id": "c-010",
          "locked": false,
          "schema_version": 3,
          "solution": false,
          "task": false
        }
      },
      "source": [
        "cat ex.xml"
      ],
      "execution_count": null,
      "outputs": []
    },
    {
      "cell_type": "markdown",
      "metadata": {
        "kernel": "SoS",
        "nbgrader": {
          "grade": false,
          "grade_id": "c-011",
          "locked": true,
          "schema_version": 3,
          "solution": false,
          "task": false
        }
      },
      "source": [
        "* you don't have to modify `minc_grammar.y` or `minc_to_xml.py` unless you extend the grammar for extra points\n",
        "* yet you are encouraged to see how simple does tatsu (or any parser generator, for that matter) make it to write a parser; just take a look at `minc_grammar.y`\n",
        "\n",
        "##  Note: why are we using XML?",
        "\n",
        "* it is unnecessary and unusual to convert the source program first into XML and then to the abstract syntax tree\n",
        "* more commonly, you use a parser generator for the language you write your compiler with (OCaml, Julia, Go, or Rust), which allows you to directly build the abstract syntax tree you can manipulate in that language\n",
        "* for example, C/C++ has [flex](https://en.wikipedia.org/wiki/Flex)/[bison](https://en.wikipedia.org/wiki/GNU_Bison) parser generator, whose grammar description file (analogous to minc_grammar.y) allows you to build any C/C++ data structure in it; OCaml has [ocamllex/ocamlyacc](https://v2.ocaml.org/manual/lexyacc.html) ([Menhir](http://gallium.inria.fr/~fpottier/menhir/) is a newer version of ocamlyacc).  there is a parser generator that supports multiple languages, most notably [ANTLR](https://www.antlr.org/), which supports Java and Python code generation.  in circumstances where there is a tool available for your language, it is much more straightforward and convenient to use these tools without going through XML\n",
        "* the reasons why we go through XML are\n",
        "  * I could not find a popular parser generator for some of the languages (Go and Julia)\n",
        "  * even if one exists in each language, there will be differences between them that make it difficult/tricky/cumbersome to explain them\n",
        "* so I arrived at a parser generator (tatsu) for Python as a common middle ground and XML as a common data structure all languages can easily read\n",
        ""
      ]
    },
    {
      "cell_type": "markdown",
      "metadata": {
        "kernel": "SoS",
        "nbgrader": {
          "grade": false,
          "grade_id": "c-012",
          "locked": true,
          "schema_version": 3,
          "solution": false,
          "task": false
        }
      },
      "source": [
        "# 4. {go,jl,ml,rs}/minc",
        "\n",
        "* in each language-specific directory (`go, jl, ml, rs`) , there is a toplevel directory `minc`\n",
        "* the code given there is a skeleton of a compiler that reads an XML file, builds its abstract syntax tree, and finally calls the code generator\n",
        "* the code generator is currently almost empty and raises an exception when called\n",
        "* your main job in the assignment is to complete the code generator"
      ]
    },
    {
      "cell_type": "markdown",
      "metadata": {
        "kernel": "SoS",
        "nbgrader": {
          "grade": false,
          "grade_id": "c-013",
          "locked": true,
          "schema_version": 3,
          "solution": false,
          "task": false
        }
      },
      "source": [
        "## 4-1. Go",
        "\n",
        "###  files",
        "\n",
        "* `go/`\n",
        "  * `minc/`\n",
        "    * `minc_ast.go` --- abstract syntax tree (AST) definition\n",
        "    * `minc_parse.go` --- XML -> AST converter\n",
        "    * `minc_cogen.go` --- AST -> assembly code\n",
        "    * `minc.go` --- the main file\n",
        "\n",
        "###  build"
      ]
    },
    {
      "cell_type": "code",
      "metadata": {
        "kernel": "Bash",
        "nbgrader": {
          "grade": false,
          "grade_id": "c-014",
          "locked": false,
          "schema_version": 3,
          "solution": false,
          "task": false
        }
      },
      "source": [
        "export PATH=~/go/bin:$PATH\n",
        "cd ~/notebooks/pl09_minc/go/minc\n",
        "ls -lR"
      ],
      "execution_count": null,
      "outputs": []
    },
    {
      "cell_type": "code",
      "metadata": {
        "kernel": "Bash",
        "nbgrader": {
          "grade": false,
          "grade_id": "c-015",
          "locked": false,
          "schema_version": 3,
          "solution": false,
          "task": false
        }
      },
      "source": [
        "go build"
      ],
      "execution_count": null,
      "outputs": []
    },
    {
      "cell_type": "markdown",
      "metadata": {
        "kernel": "SoS",
        "nbgrader": {
          "grade": false,
          "grade_id": "c-016",
          "locked": true,
          "schema_version": 3,
          "solution": false,
          "task": false
        }
      },
      "source": [
        "###  run",
        "\n",
        "* be sure you have generated ex.xml by `minc_to_xml.py`\n",
        "* try to compile a small program and see that the code generator raises an exception\n",
        ""
      ]
    },
    {
      "cell_type": "code",
      "metadata": {
        "kernel": "Bash",
        "nbgrader": {
          "grade": false,
          "grade_id": "c-017",
          "locked": false,
          "schema_version": 3,
          "solution": false,
          "task": false
        }
      },
      "source": [
        "./minc ../../parser/ex.xml ex.s"
      ],
      "execution_count": null,
      "outputs": []
    },
    {
      "cell_type": "markdown",
      "metadata": {
        "kernel": "SoS",
        "nbgrader": {
          "grade": false,
          "grade_id": "c-018",
          "locked": true,
          "schema_version": 3,
          "solution": false,
          "task": false
        }
      },
      "source": [
        "* take a look at the source code that caused the exception"
      ]
    },
    {
      "cell_type": "code",
      "metadata": {
        "kernel": "Bash",
        "nbgrader": {
          "grade": false,
          "grade_id": "c-019",
          "locked": false,
          "schema_version": 3,
          "solution": false,
          "task": false
        }
      },
      "source": [
        "cat minc_cogen.go"
      ],
      "execution_count": null,
      "outputs": []
    },
    {
      "cell_type": "markdown",
      "metadata": {
        "kernel": "SoS",
        "nbgrader": {
          "grade": false,
          "grade_id": "c-020",
          "locked": true,
          "schema_version": 3,
          "solution": false,
          "task": false
        }
      },
      "source": [
        "* your job is to implement `ast_to_asm_program` function"
      ]
    },
    {
      "cell_type": "markdown",
      "metadata": {
        "kernel": "SoS",
        "nbgrader": {
          "grade": false,
          "grade_id": "c-021",
          "locked": true,
          "schema_version": 3,
          "solution": false,
          "task": false
        }
      },
      "source": [
        "## 4-2. Julia",
        "\n",
        "###  files",
        "\n",
        "* `jl/`\n",
        "  * `minc/`\n",
        "    * `minc_ast.jl` --- abstract syntax tree (AST) definition\n",
        "    * `minc_parse.jl` --- XML -> AST converter\n",
        "    * `minc_cogen.jl` --- AST -> assembly code\n",
        "    * `minc.jl` --- the main file\n",
        "\n",
        "###  build"
      ]
    },
    {
      "cell_type": "code",
      "metadata": {
        "kernel": "Bash",
        "nbgrader": {
          "grade": false,
          "grade_id": "c-022",
          "locked": false,
          "schema_version": 3,
          "solution": false,
          "task": false
        }
      },
      "source": [
        "export PATH=~/.juliaup/bin:$PATH\n",
        "cd ~/notebooks/pl09_minc/jl/minc\n",
        "ls -lR"
      ],
      "execution_count": null,
      "outputs": []
    },
    {
      "cell_type": "code",
      "metadata": {
        "kernel": "Bash",
        "nbgrader": {
          "grade": false,
          "grade_id": "c-023",
          "locked": false,
          "schema_version": 3,
          "solution": false,
          "task": false
        }
      },
      "source": [
        "chmod +x minc.jl"
      ],
      "execution_count": null,
      "outputs": []
    },
    {
      "cell_type": "markdown",
      "metadata": {
        "kernel": "SoS",
        "nbgrader": {
          "grade": false,
          "grade_id": "c-024",
          "locked": true,
          "schema_version": 3,
          "solution": false,
          "task": false
        }
      },
      "source": [
        "###  run",
        "\n",
        "* be sure you have generated ex.xml by `minc_to_xml.py`\n",
        "* try to compile a small program and see that the code generator raises an exception\n",
        ""
      ]
    },
    {
      "cell_type": "code",
      "metadata": {
        "kernel": "Bash",
        "nbgrader": {
          "grade": false,
          "grade_id": "c-025",
          "locked": false,
          "schema_version": 3,
          "solution": false,
          "task": false
        }
      },
      "source": [
        "./minc.jl ../../parser/ex.xml ex.s"
      ],
      "execution_count": null,
      "outputs": []
    },
    {
      "cell_type": "markdown",
      "metadata": {
        "kernel": "SoS",
        "nbgrader": {
          "grade": false,
          "grade_id": "c-026",
          "locked": true,
          "schema_version": 3,
          "solution": false,
          "task": false
        }
      },
      "source": [
        "* take a look at the source code that caused the exception"
      ]
    },
    {
      "cell_type": "code",
      "metadata": {
        "kernel": "Bash",
        "nbgrader": {
          "grade": false,
          "grade_id": "c-027",
          "locked": false,
          "schema_version": 3,
          "solution": false,
          "task": false
        }
      },
      "source": [
        "cat minc_cogen.jl"
      ],
      "execution_count": null,
      "outputs": []
    },
    {
      "cell_type": "markdown",
      "metadata": {
        "kernel": "SoS",
        "nbgrader": {
          "grade": false,
          "grade_id": "c-028",
          "locked": true,
          "schema_version": 3,
          "solution": false,
          "task": false
        }
      },
      "source": [
        "* your job is to implement `ast_to_asm_program` function"
      ]
    },
    {
      "cell_type": "markdown",
      "metadata": {
        "kernel": "SoS",
        "nbgrader": {
          "grade": false,
          "grade_id": "c-029",
          "locked": true,
          "schema_version": 3,
          "solution": false,
          "task": false
        }
      },
      "source": [
        "## 4-3. OCaml",
        "\n",
        "###  files",
        "\n",
        "* `ml/`\n",
        "  * `minc/`\n",
        "    * `libs/`\n",
        "      * `minc_ast.ml` --- abstract syntax tree (AST) definition\n",
        "      * `minc_parse.ml` --- XML -> AST converter\n",
        "      * `minc_cogen.ml` --- AST -> assembly code\n",
        "      * `dune` --- describes dependencies between them\n",
        "    * `bin/`\n",
        "      * `main.ml` --- the main file\n",
        "\n",
        "###  build"
      ]
    },
    {
      "cell_type": "code",
      "metadata": {
        "kernel": "Bash",
        "nbgrader": {
          "grade": false,
          "grade_id": "c-030",
          "locked": false,
          "schema_version": 3,
          "solution": false,
          "task": false
        }
      },
      "source": [
        "eval $(opam env)\n",
        "cd ~/notebooks/pl09_minc/ml/minc\n",
        "ls -lR"
      ],
      "execution_count": null,
      "outputs": []
    },
    {
      "cell_type": "code",
      "metadata": {
        "kernel": "Bash",
        "nbgrader": {
          "grade": false,
          "grade_id": "c-031",
          "locked": false,
          "schema_version": 3,
          "solution": false,
          "task": false
        }
      },
      "source": [
        "dune build"
      ],
      "execution_count": null,
      "outputs": []
    },
    {
      "cell_type": "markdown",
      "metadata": {
        "kernel": "SoS",
        "nbgrader": {
          "grade": false,
          "grade_id": "c-032",
          "locked": true,
          "schema_version": 3,
          "solution": false,
          "task": false
        }
      },
      "source": [
        "###  run",
        "\n",
        "* be sure you have generated ex.xml by `minc_to_xml.py`\n",
        "* try to compile a small program and see that the code generator raises an exception\n",
        ""
      ]
    },
    {
      "cell_type": "code",
      "metadata": {
        "kernel": "Bash",
        "nbgrader": {
          "grade": false,
          "grade_id": "c-033",
          "locked": false,
          "schema_version": 3,
          "solution": false,
          "task": false
        }
      },
      "source": [
        "_build/default/bin/main.exe ../../parser/ex.xml ex.s"
      ],
      "execution_count": null,
      "outputs": []
    },
    {
      "cell_type": "markdown",
      "metadata": {
        "kernel": "SoS",
        "nbgrader": {
          "grade": false,
          "grade_id": "c-034",
          "locked": true,
          "schema_version": 3,
          "solution": false,
          "task": false
        }
      },
      "source": [
        "* take a look at the source code that caused the exception"
      ]
    },
    {
      "cell_type": "code",
      "metadata": {
        "kernel": "Bash",
        "nbgrader": {
          "grade": false,
          "grade_id": "c-035",
          "locked": false,
          "schema_version": 3,
          "solution": false,
          "task": false
        }
      },
      "source": [
        "cat lib/minc_cogen.ml"
      ],
      "execution_count": null,
      "outputs": []
    },
    {
      "cell_type": "markdown",
      "metadata": {
        "kernel": "SoS",
        "nbgrader": {
          "grade": false,
          "grade_id": "c-036",
          "locked": true,
          "schema_version": 3,
          "solution": false,
          "task": false
        }
      },
      "source": [
        "* your job is to implement `ast_to_asm_program` function"
      ]
    },
    {
      "cell_type": "markdown",
      "metadata": {
        "kernel": "SoS",
        "nbgrader": {
          "grade": false,
          "grade_id": "c-037",
          "locked": true,
          "schema_version": 3,
          "solution": false,
          "task": false
        }
      },
      "source": [
        "## 4-4. Rust",
        "\n",
        "###  files",
        "\n",
        "* `rs/`\n",
        "  * `minc/`\n",
        "    * `src/`\n",
        "      * `minc_ast.rs` --- abstract syntax tree (AST) definition\n",
        "      * `minc_parse.rs` --- XML -> AST converter\n",
        "      * `minc_cogen.rs` --- AST -> assembly code\n",
        "      * `main.rs` --- the main file\n",
        "\n",
        "###  build"
      ]
    },
    {
      "cell_type": "code",
      "metadata": {
        "kernel": "Bash",
        "nbgrader": {
          "grade": false,
          "grade_id": "c-038",
          "locked": false,
          "schema_version": 3,
          "solution": false,
          "task": false
        }
      },
      "source": [
        ". ~/.cargo/env\n",
        "cd ~/notebooks/pl09_minc/rs/minc\n",
        "ls -lR"
      ],
      "execution_count": null,
      "outputs": []
    },
    {
      "cell_type": "code",
      "metadata": {
        "kernel": "Bash",
        "nbgrader": {
          "grade": false,
          "grade_id": "c-039",
          "locked": false,
          "schema_version": 3,
          "solution": false,
          "task": false
        }
      },
      "source": [
        "cargo build"
      ],
      "execution_count": null,
      "outputs": []
    },
    {
      "cell_type": "markdown",
      "metadata": {
        "kernel": "SoS",
        "nbgrader": {
          "grade": false,
          "grade_id": "c-040",
          "locked": true,
          "schema_version": 3,
          "solution": false,
          "task": false
        }
      },
      "source": [
        "###  run",
        "\n",
        "* be sure you have generated ex.xml by `minc_to_xml.py`\n",
        "* try to compile a small program and see that the code generator raises an exception\n",
        ""
      ]
    },
    {
      "cell_type": "code",
      "metadata": {
        "kernel": "Bash",
        "nbgrader": {
          "grade": false,
          "grade_id": "c-041",
          "locked": false,
          "schema_version": 3,
          "solution": false,
          "task": false
        }
      },
      "source": [
        "./target/debug/minc ../../parser/ex.xml ex.s"
      ],
      "execution_count": null,
      "outputs": []
    },
    {
      "cell_type": "markdown",
      "metadata": {
        "kernel": "SoS",
        "nbgrader": {
          "grade": false,
          "grade_id": "c-042",
          "locked": true,
          "schema_version": 3,
          "solution": false,
          "task": false
        }
      },
      "source": [
        "* take a look at the source code that caused the exception"
      ]
    },
    {
      "cell_type": "code",
      "metadata": {
        "kernel": "Bash",
        "nbgrader": {
          "grade": false,
          "grade_id": "c-043",
          "locked": false,
          "schema_version": 3,
          "solution": false,
          "task": false
        }
      },
      "source": [
        "cat src/minc_cogen.rs"
      ],
      "execution_count": null,
      "outputs": []
    },
    {
      "cell_type": "markdown",
      "metadata": {
        "kernel": "SoS",
        "nbgrader": {
          "grade": false,
          "grade_id": "c-044",
          "locked": true,
          "schema_version": 3,
          "solution": false,
          "task": false
        }
      },
      "source": [
        "* your job is to implement `ast_to_asm_program` function"
      ]
    },
    {
      "cell_type": "markdown",
      "metadata": {
        "kernel": "SoS",
        "nbgrader": {
          "grade": false,
          "grade_id": "c-045",
          "locked": true,
          "schema_version": 3,
          "solution": false,
          "task": false
        }
      },
      "source": [
        "\n",
        "# 5. test",
        "\n",
        "* your primary goal is to pass all the tests\n",
        "\n",
        "##  files",
        "\n",
        "* `test/`\n",
        "  * `src/` \n",
        "    * `f00.c, f01.c, f02.c, ..., ` --- test programs each definint a function `f`\n",
        "  * `main.c` --- a file that calls function `f`\n",
        "  * `Makefile` --- executes all the tests\n",
        "\n",
        "the `Makefile` does the following for each test program (`src/f00.c, src/f01.c,` ...)\n",
        "\n",
        "1. convert `src/fXX.c` to `xml/fXX.xml` with `parser/minc_to_xml.py`\n",
        "1. compile `xml/fXX.xml` to `minc/fXX.s` with the minC compiler you are supposed to write\n",
        "1. compile `main.c` and `minc/fXX.s` into an executable\n",
        "1. compile `main.c` and `src/fXX.c` into an executable with gcc\n",
        "1. execute the two executables and compare their outputs\n",
        "\n",
        "* in the `Makefile`\n",
        " * <font color=red>you must set the variable `minc` to the path to your compiler (relative to the test directory)</font>\n",
        "```\n",
        "minc := ../ml/minc/_build/default/bin/main.exe\n",
        "```\n",
        " * you can set the variable `srcs` to change the functions tested. the default is all the 75 files in `src/`\n",
        "```\n",
        "srcs := $(wildcard src/f*.c)\n",
        "```\n",
        "for example, if you set this to\n",
        "```\n",
        "srcs := $(wildcard src/f00.c)\n",
        "```\n",
        "you can only test `src/f00.c`\n",
        "\n",
        " * `make -n` will show you what will be executed without actually executing it\n",
        " "
      ]
    },
    {
      "cell_type": "code",
      "metadata": {
        "kernel": "Bash",
        "nbgrader": {
          "grade": false,
          "grade_id": "c-046",
          "locked": false,
          "schema_version": 3,
          "solution": false,
          "task": false
        }
      },
      "source": [
        "# make sure you set minc variable in Makefile\n",
        "cd ~/notebooks/pl09_minc/test\n",
        "make -n"
      ],
      "execution_count": null,
      "outputs": []
    },
    {
      "cell_type": "markdown",
      "metadata": {
        "kernel": "SoS",
        "nbgrader": {
          "grade": false,
          "grade_id": "c-047",
          "locked": true,
          "schema_version": 3,
          "solution": false,
          "task": false
        }
      },
      "source": [
        "to test a single file"
      ]
    },
    {
      "cell_type": "code",
      "metadata": {
        "kernel": "Bash",
        "nbgrader": {
          "grade": false,
          "grade_id": "c-048",
          "locked": false,
          "schema_version": 3,
          "solution": false,
          "task": false
        }
      },
      "source": [
        "make -n srcs=src/f00.c"
      ],
      "execution_count": null,
      "outputs": []
    },
    {
      "cell_type": "markdown",
      "metadata": {
        "kernel": "SoS",
        "nbgrader": {
          "grade": false,
          "grade_id": "c-049",
          "locked": true,
          "schema_version": 3,
          "solution": false,
          "task": false
        }
      },
      "source": [
        "\n",
        "* if the test fails, identify which file it failed for and how\n",
        "\n",
        "* use\n",
        "```\n",
        "make srcs=src/fXX.c\n",
        "```\n",
        "to run the test on the particular file that failed\n",
        "\n",
        "* on each file (`src/fXX.c`), it first converts the C source file into XML using `minc_to_xml.py`; if the test fails here, it's not your fault, unless you modified the grammar\n",
        "\n",
        "```\n",
        "echo \"# convert src/f00.c to xml/f00.xml\"\n",
        "../parser/minc_to_xml.py src/f00.c > xml/f00.xml\n",
        "```\n",
        "\n",
        "* next it calls your compiler to convert the XML file into asm (the command line depends on the language you chose)\n",
        "\n",
        "```\n",
        "echo \"# compile xml/f00.xml to asm with your minC compiler\"\n",
        "../ml/minc/_build/default/bin/main.exe xml/f00.xml asm/f00.s\n",
        "```\n",
        "\n",
        "if this fails, examine the original C source file (`f00.c` in the case above) and XML source file to examine what kind of source code makes it fail\n",
        "\n",
        "* then it calls the gcc to compile the assembly you generated into an executable\n",
        "\n",
        "```\n",
        "echo \"# generate the executable that calls f with your minC compiler\"\n",
        "gcc -o minc/f00.exe -DTEST_NO=0 main.c asm/f00.s -O0 -g\n",
        "```\n",
        "\n",
        "if you generate a syntactically invalid assembly code, gcc will complain here.  read the gcc error message, examine the assembly you generated (`asm/f00.s` in the case above) and understand why it failed\n",
        "\n",
        "* then it calls executables generated by gcc as well as your minC compiler\n",
        "\n",
        "```\n",
        "echo \"# run the executable generated by gcc\"\n",
        "./gcc/f00.exe | tee out/f00.gcc\n",
        "echo \"# run the executable generated by your minC compiler\"\n",
        "./minc/f00.exe | tee out/f00.minc\n",
        "```\n",
        "the gcc-generated executable is unlikely to fail.  if your compiler-generated executable fails, you might be able to see the reason just by looking at the assembly code you generated; otherwise, run the executable with a debugger. GDB, for example, can step-execute an assembly program and allow you to examine the value of registers.\n",
        "\n",
        "* it finally compares the output of the two executables\n",
        "\n",
        "```\n",
        "echo \"# take the diff of the two\"\n",
        "diff out/f00.gcc out/f00.minc\n",
        "```\n",
        "\n",
        "if it fails, the debugging strategy is the same as above; you might be able to see the reason just by looking at the assembly code you generated; otherwise, run the executable with a debugger. GDB, for example, can step-execute an assembly program and allow you to examine the value of registers.\n",
        "\n",
        "## 5-1. How to add new test programs",
        "\n",
        "* if you work on any of the extension, you are likely to add test programs too\n",
        "* src/src/fun.c contains all the C functions to test, each one being guarded by\n",
        "```\n",
        "#if TEST_NO == ???\n",
        "\n",
        "#endif\n",
        "```\n",
        "add your test case at the end of the file, using the next number as your TEST_NO\n",
        "* modify the following line in `test/src/src/Makefile`\n",
        "```\n",
        "tests := $(shell seq -f \"%02.0f\" 0 74)\n",
        "```\n",
        "to reflect the tests you added.  for example, if you add two test cases (TEST_NO = 75 and 76), you should change it to \n",
        "```\n",
        "tests := $(shell seq -f \"%02.0f\" 0 76)\n",
        "```\n",
        "and run make in `test/src/src`"
      ]
    },
    {
      "cell_type": "code",
      "metadata": {
        "kernel": "Bash",
        "nbgrader": {
          "grade": false,
          "grade_id": "c-050",
          "locked": false,
          "schema_version": 3,
          "solution": false,
          "task": false
        }
      },
      "source": [
        "cd ~/notebooks/pl09_minc/test/src/src\n",
        "make"
      ],
      "execution_count": null,
      "outputs": []
    },
    {
      "cell_type": "markdown",
      "metadata": {
        "kernel": "SoS",
        "nbgrader": {
          "grade": false,
          "grade_id": "c-051",
          "locked": true,
          "schema_version": 3,
          "solution": false,
          "task": false
        }
      },
      "source": [
        "* do a similar thing for `test/main.c`; as long as all functions take only `long` arguments and return a `long` value, you can use the same `main` function. in that case you just change\n",
        "```\n",
        "#if 0 <= TEST_NO && TEST_NO <= 74\n",
        "...\n",
        "#endif\n",
        "```\n",
        "to, say, \n",
        "```\n",
        "#if 0 <= TEST_NO && TEST_NO <= 76\n",
        "...\n",
        "#endif\n",
        "```\n",
        "\n",
        "* if you support types other than `long`, you are likely to add a different main function. modify `main.c` accordingly\n",
        ""
      ]
    },
    {
      "cell_type": "markdown",
      "metadata": {
        "kernel": "SoS",
        "nbgrader": {
          "grade": false,
          "grade_id": "c-052",
          "locked": true,
          "schema_version": 3,
          "solution": false,
          "task": false
        }
      },
      "source": [
        "\n",
        "# 6. Format of the report and how to submit your work",
        "\n",
        "## 6-1. Baseline requirements (Level 1)",
        "\n",
        "* implement the compiler for minC (you will mainly write `minc_cogen.{go,jl,ml,rs}`)\n",
        "* your code generator must be heavily commented (explain how it works, as if you are writing a report, except you write it in the source code)\n",
        "* pass all the tests, that is, the following command executes without an error"
      ]
    },
    {
      "cell_type": "code",
      "metadata": {
        "kernel": "Bash",
        "nbgrader": {
          "grade": true,
          "grade_id": "p-001",
          "locked": false,
          "schema_version": 3,
          "solution": true,
          "task": false,
          "points": 1
        }
      },
      "source": [
        "BEGIN SOLUTION\n",
        "END SOLUTION\n",
        "cd ~/notebooks/pl09_minc/test\n",
        "make -B"
      ],
      "execution_count": null,
      "outputs": []
    },
    {
      "cell_type": "markdown",
      "metadata": {
        "kernel": "SoS",
        "nbgrader": {
          "grade": false,
          "grade_id": "c-053",
          "locked": true,
          "schema_version": 3,
          "solution": false,
          "task": false
        }
      },
      "source": [
        "* by default, the entire test stops as soon as any test fails. you may want to try `-k` option for make, to skip files that fails and go ahead to others"
      ]
    },
    {
      "cell_type": "code",
      "metadata": {
        "kernel": "Bash",
        "nbgrader": {
          "grade": true,
          "grade_id": "p-002",
          "locked": false,
          "schema_version": 3,
          "solution": true,
          "task": false,
          "points": 1
        }
      },
      "source": [
        "BEGIN SOLUTION\n",
        "END SOLUTION\n",
        "cd ~/notebooks/pl09_minc/test\n",
        "make -B -k"
      ],
      "execution_count": null,
      "outputs": []
    },
    {
      "cell_type": "markdown",
      "metadata": {
        "kernel": "SoS",
        "nbgrader": {
          "grade": false,
          "grade_id": "c-054",
          "locked": true,
          "schema_version": 3,
          "solution": false,
          "task": false
        }
      },
      "source": [
        "* write the summary of tests that passed/failed, in the online Excel `teamXX/pl09_minc/results.xlsx`\n",
        " * P : passed\n",
        " * C : cannot assemble (your compiler fails to produce assembly)\n",
        " * I : invalid assembly (your compiler produced an assembly code but it does not compile with gcc)\n",
        " * R : runtime error (your compiler produced an executable, but it does not terminate successfully)\n",
        " * W : wrong result (your compiler produced an executable that terminates successfully, but the output result is different from that of gcc-generated executable)\n",
        "\n",
        "* members of each team must get togeter at least once to show their test results each other\n",
        "* you are encouraged to get together with team members working on this option in other occassions to discuss progress and help each other (team members working on other options are not requierd to participate)"
      ]
    },
    {
      "cell_type": "markdown",
      "metadata": {
        "kernel": "SoS",
        "nbgrader": {
          "grade": false,
          "grade_id": "c-055",
          "locked": true,
          "schema_version": 3,
          "solution": false,
          "task": false
        }
      },
      "source": [
        "\n",
        "* <font color=red>before submitting your work, make sure you clean up your working directory,</font>  in the manner described in [Writing standalone programs using libraries](https://taura.github.io/programming-languages/html/errata/pl04_standalone.sos.html)"
      ]
    },
    {
      "cell_type": "markdown",
      "metadata": {
        "kernel": "SoS",
        "nbgrader": {
          "grade": false,
          "grade_id": "c-056",
          "locked": true,
          "schema_version": 3,
          "solution": false,
          "task": false
        }
      },
      "source": [
        "* Go"
      ]
    },
    {
      "cell_type": "code",
      "metadata": {
        "kernel": "Bash",
        "nbgrader": {
          "grade": false,
          "grade_id": "c-057",
          "locked": false,
          "schema_version": 3,
          "solution": false,
          "task": false
        }
      },
      "source": [
        "cd ~/notebooks/pl09_minc/go/minc\n",
        "go clean"
      ],
      "execution_count": null,
      "outputs": []
    },
    {
      "cell_type": "markdown",
      "metadata": {
        "kernel": "SoS",
        "nbgrader": {
          "grade": false,
          "grade_id": "c-058",
          "locked": true,
          "schema_version": 3,
          "solution": false,
          "task": false
        }
      },
      "source": [
        "* OCaml\n",
        "  * ignore `Error: rmdir(_build): Directory not empty` if you see it (I don't know why it happens)\n",
        "  "
      ]
    },
    {
      "cell_type": "code",
      "metadata": {
        "kernel": "Bash",
        "nbgrader": {
          "grade": false,
          "grade_id": "c-059",
          "locked": false,
          "schema_version": 3,
          "solution": false,
          "task": false
        }
      },
      "source": [
        "cd ~/notebooks/pl09_minc/ml/minc\n",
        "dune clean"
      ],
      "execution_count": null,
      "outputs": []
    },
    {
      "cell_type": "markdown",
      "metadata": {
        "kernel": "SoS",
        "nbgrader": {
          "grade": false,
          "grade_id": "c-060",
          "locked": true,
          "schema_version": 3,
          "solution": false,
          "task": false
        }
      },
      "source": [
        "* Rust"
      ]
    },
    {
      "cell_type": "code",
      "metadata": {
        "kernel": "Bash",
        "nbgrader": {
          "grade": false,
          "grade_id": "c-061",
          "locked": false,
          "schema_version": 3,
          "solution": false,
          "task": false
        }
      },
      "source": [
        "cd ~/notebooks/pl09_minc/rs/minc\n",
        "cargo clean"
      ],
      "execution_count": null,
      "outputs": []
    },
    {
      "cell_type": "markdown",
      "metadata": {
        "kernel": "SoS",
        "nbgrader": {
          "grade": false,
          "grade_id": "c-062",
          "locked": true,
          "schema_version": 3,
          "solution": false,
          "task": false
        }
      },
      "source": [
        "* <font color=\"red\">also make sure you execute `make clean` in the test directory</font>"
      ]
    },
    {
      "cell_type": "code",
      "metadata": {
        "kernel": "Bash",
        "nbgrader": {
          "grade": false,
          "grade_id": "c-063",
          "locked": false,
          "schema_version": 3,
          "solution": false,
          "task": false
        }
      },
      "source": [
        "cd ~/notebooks/pl09_minc/test\n",
        "make clean"
      ],
      "execution_count": null,
      "outputs": []
    },
    {
      "cell_type": "markdown",
      "metadata": {
        "kernel": "SoS",
        "nbgrader": {
          "grade": false,
          "grade_id": "c-064",
          "locked": true,
          "schema_version": 3,
          "solution": false,
          "task": false
        }
      },
      "source": [
        "* submit your work through Jupyter (modify and add files in place under `~/notebooks/pl09_minc`); make sure you execute the above cell (`make -B -k`)\n",
        "* submit \"Term Report Option A (pl09_minc; build a compiler)\" through UTOL\n",
        "* all the essential work is submitted through Juptyer and Excel; you only have to submit a brief report to UTOL\n",
        "\n",
        "## 6-2. Extra points [Level 2+]",
        "\n",
        "* you get extra points by doing more than required above\n",
        "\n",
        "* you can extend the minC language in any ways, but possible extensions include (but are not limited to):\n",
        "  * syntactic extensions\n",
        "    * [difficulty level 2] for loop\n",
        "    * [difficulty level 2.5] initializing declaration (e.g., int x = y + 2)\n",
        "  * type extensions and type checks\n",
        "    * note that supporting a type other than long requires the compiler know the type of an expression; it's a heavy lifting\n",
        "    * [difficulty level 3] pointers (long*, long**, etc.)\n",
        "    * [difficulty level 4] floating point numbers (double)\n",
        "    * [difficulty level 5] types of different sizes (int, float)\n",
        "    * [difficulty level 6] structures and typedefs\n",
        "  * optimization\n",
        "    * use registers more aggressively\n",
        "    * inline-expand function calls\n",
        "\n",
        "* if you have done extra work beyond requirements, describe what you did in the extra.docx. clearly indicate the author of each section (who did what)"
      ]
    }
  ],
  "metadata": {
    "celltoolbar": "Create Assignment",
    "kernelspec": {
      "display_name": "SoS",
      "language": "sos",
      "name": "sos"
    },
    "language_info": {
      "codemirror_mode": "sos",
      "file_extension": ".sos",
      "mimetype": "text/x-sos",
      "name": "sos",
      "nbconvert_exporter": "sos_notebook.converter.SoS_Exporter",
      "pygments_lexer": "sos"
    },
    "sos": {
      "kernels": [
        [
          "Bash",
          "bash",
          "bash",
          "",
          "shell"
        ],
        [
          "C",
          "c_kernel",
          "c",
          "",
          ""
        ],
        [
          "Go",
          "gophernotes",
          "go",
          "",
          ""
        ],
        [
          "Julia 1.11.4",
          "julia-1.11",
          "julia",
          "",
          ""
        ],
        [
          "OCaml 4.14.2",
          "ocaml-jupyter",
          "OCaml",
          "",
          "text/x-ocaml"
        ],
        [
          "Python 3 (ipykernel)",
          "python3",
          "python3",
          "",
          {
            "name": "ipython",
            "version": 3
          }
        ],
        [
          "Rust",
          "rust",
          "rust",
          "",
          ""
        ]
      ],
      "panel": {
        "displayed": true,
        "height": 0
      },
      "version": "0.23.3"
    }
  },
  "nbformat": 4,
  "nbformat_minor": 4
}