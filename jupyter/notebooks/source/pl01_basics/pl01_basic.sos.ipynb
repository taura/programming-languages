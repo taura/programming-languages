{
 "cells": [
  {
   "cell_type": "markdown",
   "metadata": {
    "kernel": "SoS",
    "nbgrader": {
     "grade": false,
     "grade_id": "c-001",
     "locked": true,
     "schema_version": 3,
     "solution": false,
     "task": false
    }
   },
   "source": [
    "#  Programming Languages (1)"
   ]
  },
  {
   "cell_type": "markdown",
   "metadata": {
    "kernel": "SoS",
    "nbgrader": {
     "grade": false,
     "grade_id": "c-002",
     "locked": false,
     "schema_version": 3,
     "solution": false,
     "task": false
    }
   },
   "source": [
    "\n",
    "Enter your name and student ID.\n",
    "\n",
    " * Name:\n",
    " * Student ID:\n"
   ]
  },
  {
   "cell_type": "markdown",
   "metadata": {
    "kernel": "SoS",
    "nbgrader": {
     "grade": false,
     "grade_id": "c-003",
     "locked": true,
     "schema_version": 3,
     "solution": false,
     "task": false
    }
   },
   "source": [
    "# 1. Choose your language\n",
    "Choose a language you want to work on for today from the following.\n",
    "\n",
    "* Go --- designed as a \"better C\"\n",
    "* Julia --- popular for scientific computing\n",
    "* OCaml --- a practical functional language\n",
    "* Rust --- a system programming language with memory safety without garbage collection\n",
    "\n",
    "\n",
    "* Choose a language you want to learn instead of one you already know.\n",
    "* The choice you made for today is not final, however; the language you work on in the rest of the course will be determined based on your preference as well as the balance.\n",
    "\n",
    "Declare your choice in the following cell.  You can write any number of languages you actually worked on.  In this notebook, I will work on the following language(s).\n"
   ]
  },
  {
   "cell_type": "markdown",
   "metadata": {
    "kernel": "SoS",
    "nbgrader": {
     "grade": true,
     "grade_id": "p-001",
     "locked": false,
     "points": 1,
     "schema_version": 3,
     "solution": true,
     "task": false
    }
   },
   "source": [
    "BEGIN SOLUTION\n",
    "END SOLUTION"
   ]
  },
  {
   "cell_type": "markdown",
   "metadata": {
    "kernel": "SoS",
    "nbgrader": {
     "grade": false,
     "grade_id": "c-004",
     "locked": true,
     "schema_version": 3,
     "solution": false,
     "task": false
    }
   },
   "source": [
    "# 2. Prepare\n",
    "* Find an authoritive documentation for the language you chose by Google (e.g., google with [_the language name_ documentation])\n",
    "* I recommend you to find them by yourself, but in case you have a hard time finding it, here they are\n",
    "\n",
    "* [Go:](https://go.dev/doc/)\n",
    "* [Julia:](https://docs.julialang.org/en/v1/)\n",
    "* [OCaml:](https://ocaml.org/manual/)\n",
    "* Rust: [language manual](https://doc.rust-lang.org/book/) and [other docs](https://www.rust-lang.org/learn)\n",
    "\n",
    "# 3. Prepare AI Tutor\n",
    "* Execute the following cell to set up your tutor"
   ]
  },
  {
   "cell_type": "code",
   "execution_count": 2,
   "metadata": {
    "kernel": "Python 3 (ipykernel)",
    "nbgrader": {
     "grade": false,
     "grade_id": "c-005",
     "locked": false,
     "schema_version": 3,
     "solution": false,
     "task": false
    }
   },
   "outputs": [
    {
     "data": {
      "text/plain": [
       "{'azure_endpoint': 'https://deepseektesthu5843508078.openai.azure.com/',\n",
       " 'api_key': 'CzkVcTxQuclA6wvymyAzdXQ4Iy2SlKgorKD8LJSlLrUo6FVatTtTJQQJ99BBACYeBjFXJ3w3AAAAACOGZMYy',\n",
       " 'api_version': '2024-08-01-preview',\n",
       " 'messages_db': 'messages.sqlite',\n",
       " 'system_prompt': '\\nYou are a cheerful and kind tutor for programming in Go, Julia, OCaml, Rust, Python, C, and C++. Regarding a specific topic in programming:\\n* When asked to give a coding problem, provide a problem where the student must write code.\\n* When asked to give a reading problem, provide a piece of code and ask the student to explain what it outputs for a specific input.\\n* When asked to give a debugging problem, provide the specification and a slightly incorrect version of the code and ask the student to identify the mistake.\\n* When asked to give an explanation, provide a general explanation of the topic with an example or two without giving a problem.\\n* When a topic does not exist in a particular programming language, suggest a topic close to it.\\n* When asked to give an answer to a problem you gave, do not immediately tell them an answer.  Give some hints instead, saying it\\'s good for them to solve it by themselves.  But add \"if you want to know the answer leaving this problem behind, I could give you an answer and move on to a similar problem if you like\" or something like that.\\n* When asked to give a feedback on a working code, suggest if any simpler way to write the same function; students often use unnecessary conditional expressions, mutable variables, and so on.\\n\\nThe topics will be taught in the following order:\\n\\n* Numbers and Arithmetic Expressions\\n* Simple Printing\\n* Defining Functions\\n* Conditional Expressions/Statements\\n* Defining Recursive Functions\\n* Variable Definitions\\n* Iterations (while, for, etc.)\\n* Tail Recursions (iterations without \\'loops\\')\\n* Builtin Data Types\\n  * Strings\\n  * Lists\\n  * Arrays\\n  * Dictionary or Map\\n* Defining Data Types\\n  * Struct\\n  * Variant\\n* Classes and Objects\\n* Defining Recursive Types\\n* Solving Problems with Recursions\\n* \"Dealing with Errors\"\\n  * Exceptions\\n  * Using the Result Type\\n* Modules and Standard Library\\n\\nWhen giving problems on a topic, do not assume knowledge of later topics, but assume earlier topics have been learned.  For example, a problem on \"Conditional Expressions/Statements\" must not assume knowledge on \"Iterations\" but can assume knowledge on \"Defining Functions\"  For coding problems on \"Defining Functions\" and later topics, specify the inputs and ask for a function that returns the correct output. Also, specify the function name and provide test code that must pass. For reading problems on \"Defining Functions\" and later topics, provide a function and ask the student to explain it. For debugging problems on \"Defining Functions\" and later topics, provide a specification and a function including a bug and ask the student to identify the mistake.\\n',\n",
       " 'trunc': 0,\n",
       " 'model': 'gpt-4o',\n",
       " 'default_lang': 'OCaml'}"
      ]
     },
     "execution_count": 2,
     "metadata": {},
     "output_type": "execute_result"
    }
   ],
   "source": [
    "from heytutor import hey,  I,  C,  R,  D, config\n",
    "from heytutor import hey_, I_, C_, R_, D_\n",
    "\n",
    "config(default_lang=\"OCaml\")  # choose one of Go/Julia/OCaml/Rust"
   ]
  },
  {
   "cell_type": "markdown",
   "metadata": {
    "kernel": "SoS",
    "nbgrader": {
     "grade": false,
     "grade_id": "c-006",
     "locked": true,
     "schema_version": 3,
     "solution": false,
     "task": false
    }
   },
   "source": [
    "# 4. Roadmap\n",
    "* In this notebook, you will learn most basic elements of virtually all programming languages\n",
    "* You will find the following a useful recipe when learning a new programming language\n",
    "\n",
    "# 5. Defining functions\n",
    "* Defining a function is probably the most basic yet most important tool for any programming language\n",
    "* Consider using AI tutor to learn the basics and work on an exercise problem or two before the following\n"
   ]
  },
  {
   "cell_type": "code",
   "execution_count": 3,
   "metadata": {
    "kernel": "Python 3 (ipykernel)",
    "nbgrader": {
     "grade": false,
     "grade_id": "c-007",
     "locked": false,
     "schema_version": 3,
     "solution": false,
     "task": false
    }
   },
   "outputs": [
    {
     "data": {
      "text/markdown": [
       "### 💬 Introduction to defining functions:\n",
       "\n",
       "Certainly! Let's dive into defining functions in OCaml.\n",
       "\n",
       "In OCaml, functions are fundamental building blocks. A function is defined using the keyword `let`. To specify that a function takes arguments and produces results, you use the following syntax:\n",
       "\n",
       "```ocaml\n",
       "let function_name argument1 argument2 ... argumentN = expression\n",
       "```\n",
       "\n",
       "### Key Points:\n",
       "1. **Function Syntax**:  \n",
       "   Functions are defined with the `let` keyword and are followed by the function name and its arguments.  \n",
       "   The expression after the `=` defines what the function computes.\n",
       "\n",
       "2. **Multiple Arguments**:  \n",
       "   OCaml avoids parentheses when passing arguments; instead, arguments are separated by spaces.\n",
       "\n",
       "3. **Type Inference**:  \n",
       "   OCaml has strong type inference; you don’t need to explicitly specify types for most functions unless it's helpful for clarity.\n",
       "\n",
       "4. **Evaluation**:  \n",
       "   Functions can be called by providing their arguments, and the result is returned.\n",
       "\n",
       "---\n",
       "\n",
       "### Example 1: A Function to Compute the Square of a Number  \n",
       "\n",
       "Here’s how you define and use a function that computes the square of a number:\n",
       "\n",
       "```ocaml\n",
       "let square x = x * x\n",
       "\n",
       "(* Example usage *)\n",
       "let result = square 4\n",
       "(* result is 16 *)\n",
       "```\n",
       "\n",
       "Here:  \n",
       "- `square` is the name of the function.\n",
       "- `x` is the argument to the function.\n",
       "- `x * x` is the return value of the function.\n",
       "\n",
       "---\n",
       "\n",
       "### Example 2: A Function that Checks if a Number is Even  \n",
       "\n",
       "Define a function to check if an integer is even:\n",
       "\n",
       "```ocaml\n",
       "let is_even n = n mod 2 = 0\n",
       "\n",
       "(* Example usage *)\n",
       "let result1 = is_even 4  (* result1 is true *)\n",
       "let result2 = is_even 7  (* result2 is false *)\n",
       "```\n",
       "\n",
       "Here:  \n",
       "- `is_even` is the function name.  \n",
       "- `n` is the argument.  \n",
       "- `n mod 2 = 0` is the expression that evaluates to `true` if `n` is even and `false` otherwise.\n",
       "\n",
       "---\n",
       "\n",
       "### Functions with Multiple Arguments  \n",
       "\n",
       "Functions can take multiple arguments. Here’s an example where a function adds two numbers:\n",
       "\n",
       "```ocaml\n",
       "let add x y = x + y\n",
       "\n",
       "(* Example usage *)\n",
       "let sum = add 3 5\n",
       "(* sum is 8 *)\n",
       "```\n",
       "\n",
       "Notice that there are no parentheses around arguments in OCaml. Also, OCaml applies functions in a curried form. This means that calling `add` with one argument (like `add 3`) returns a new function waiting for the second argument.\n",
       "\n",
       "---\n",
       "\n",
       "### Summary  \n",
       "\n",
       "OCaml makes it simple to define functions concisely and intuitively. Functions can have as few or as many arguments as needed, and code tends to be compact due to its type inference and elegant syntax. Functions can also be composed into more complex computations, giving OCaml its functional programming essence.\n",
       "\n",
       "Would you like to practice writing functions by solving a coding problem? 😊"
      ],
      "text/plain": [
       "<IPython.core.display.Markdown object>"
      ]
     },
     "metadata": {},
     "output_type": "display_data"
    }
   ],
   "source": [
    "# uncomment the line you want to execute\n",
    "I(\"defining functions\") # Introduction\n",
    "# C(\"defining functions\") # Coding problem"
   ]
  },
  {
   "cell_type": "markdown",
   "metadata": {
    "kernel": "SoS",
    "nbgrader": {
     "grade": false,
     "grade_id": "c-008",
     "locked": true,
     "schema_version": 3,
     "solution": false,
     "task": false
    }
   },
   "source": [
    "# <font color=\"green\"> Problem 1 :  </font>\n",
    "<!---\n",
    "* In the language you chose, write a function `f` that takes a number $x$ and return $x + 1$. i.e.,\n",
    "\n",
    "$$ f(x) = x + 1 $$\n",
    "--->\n",
    "\n",
    "* In the language you chose, write a function `f` that takes three floating point numbers $a$, $b$, and $c$ and return $a^2 + b^2 - c^2$. In a mathematical expression,\n",
    "\n",
    "$$ f(a, b, c) = a^2 + b^2 - c^2 $$\n",
    "\n",
    "* In languages supporting multiple types of floating point numbers, use 64 bit floating point numbers unless otherwise stated.\n",
    "\n",
    "* <font color=\"red\">In cells that follow, choose your language from the language selection menu.</font>\n",
    "\n",
    "**解答セル/Answer Cell**"
   ]
  },
  {
   "cell_type": "code",
   "execution_count": 5,
   "metadata": {
    "kernel": "OCaml 4.14.2",
    "nbgrader": {
     "grade": true,
     "grade_id": "p-002",
     "locked": false,
     "points": 1,
     "schema_version": 3,
     "solution": true,
     "task": false
    }
   },
   "outputs": [
    {
     "data": {
      "text/plain": [
       "val f : float -> float -> float -> float = <fun>\n"
      ]
     },
     "execution_count": 5,
     "metadata": {},
     "output_type": "execute_result"
    }
   ],
   "source": [
    "let f a b c = a *. a +. b *. b -. c *. c "
   ]
  },
  {
   "cell_type": "markdown",
   "metadata": {
    "kernel": "SoS",
    "nbgrader": {
     "grade": false,
     "grade_id": "c-009",
     "locked": true,
     "schema_version": 3,
     "solution": false,
     "task": false
    }
   },
   "source": [
    "and test your function by computing ${\\tt f}(1, 1, 1)$, ${\\tt f}(3, 4, 5)$, and ${\\tt f}(2, 3, 4)$ which should be $1$, $0$, and $-3$, respectively\n",
    "\n",
    "**解答セル/Answer Cell**\n"
   ]
  },
  {
   "cell_type": "code",
   "execution_count": null,
   "metadata": {
    "kernel": "Python 3 (ipykernel)",
    "nbgrader": {
     "grade": true,
     "grade_id": "p-003",
     "locked": false,
     "points": 1,
     "schema_version": 3,
     "solution": true,
     "task": false
    }
   },
   "outputs": [],
   "source": [
    "BEGIN SOLUTION\n",
    "END SOLUTION"
   ]
  },
  {
   "cell_type": "markdown",
   "metadata": {
    "kernel": "SoS",
    "nbgrader": {
     "grade": false,
     "grade_id": "c-010",
     "locked": true,
     "schema_version": 3,
     "solution": false,
     "task": false
    }
   },
   "source": [
    "* After you think you have done, copy the contents of the above cell to the Python cell below, and call the tutor by putting `%%hey_` at the beginning (change the language name according to your choice)\n"
   ]
  },
  {
   "cell_type": "code",
   "execution_count": 6,
   "metadata": {
    "kernel": "Python 3 (ipykernel)",
    "nbgrader": {
     "grade": false,
     "grade_id": "c-011",
     "locked": false,
     "schema_version": 3,
     "solution": false,
     "task": false
    }
   },
   "outputs": [
    {
     "data": {
      "text/markdown": [
       "Ah, now that I know `a`, `b`, and `c` are floating-point numbers, your use of the floating-point arithmetic operators `*.` (multiplication of floats), `+.` (addition of floats), and `-.` (subtraction of floats) is indeed correct. Nice work! 🎉\n",
       "\n",
       "Your function:\n",
       "\n",
       "```ocaml\n",
       "let f a b c = a *. a +. b *. b -. c *. c\n",
       "```\n",
       "\n",
       "is properly written to calculate \\( a^2 + b^2 - c^2 \\) as intended for floating-point inputs.\n",
       "\n",
       "---\n",
       "\n",
       "### Example Usage:\n",
       "You can test your function like this:\n",
       "\n",
       "```ocaml\n",
       "let result = f 3.0 4.0 5.0\n",
       "(* result will be: 3.0 *. 3.0 +. 4.0 *. 4.0 -. 5.0 *. 5.0 = 9.0 +. 16.0 -. 25.0 = 0.0 *)\n",
       "```\n",
       "\n",
       "---\n",
       "\n",
       "### Feedback for Simplicity: \n",
       "This function is already as simple and direct as it can be. Great job! 🎉  \n",
       "Would you like to try another similar problem or test your understanding in a different way? 😊"
      ],
      "text/plain": [
       "<IPython.core.display.Markdown object>"
      ]
     },
     "metadata": {},
     "output_type": "display_data"
    }
   ],
   "source": [
    "%%hey_\n",
    "## all a, b, and c are supposed to be floating point numbers\n",
    "## an OCaml function given a, b, and c returning a^2 + b^2 - c^2\n",
    "let f a b c = a *. a +. b *. b -. c *. c "
   ]
  },
  {
   "cell_type": "markdown",
   "metadata": {
    "kernel": "SoS",
    "nbgrader": {
     "grade": false,
     "grade_id": "c-012",
     "locked": true,
     "schema_version": 3,
     "solution": false,
     "task": false
    }
   },
   "source": [
    "* You may want to do this for problems that follow too, by adding a Python cell by yourself (press 'b' to insert a cell below)\n",
    "\n"
   ]
  },
  {
   "cell_type": "markdown",
   "metadata": {
    "kernel": "SoS",
    "nbgrader": {
     "grade": false,
     "grade_id": "c-013",
     "locked": true,
     "schema_version": 3,
     "solution": false,
     "task": false
    }
   },
   "source": [
    "# 6. Conditional Expressions/Statements\n",
    "* Consider using AI tutor\n"
   ]
  },
  {
   "cell_type": "code",
   "execution_count": null,
   "metadata": {
    "kernel": "Python 3 (ipykernel)",
    "nbgrader": {
     "grade": false,
     "grade_id": "c-014",
     "locked": false,
     "schema_version": 3,
     "solution": false,
     "task": false
    }
   },
   "outputs": [],
   "source": [
    "# uncomment the line you want to execute\n",
    "# I(\"conditional expressions/statements\") # Introduction\n",
    "# C(\"conditional expressions/statements\") # Coding problem"
   ]
  },
  {
   "cell_type": "markdown",
   "metadata": {
    "kernel": "SoS",
    "nbgrader": {
     "grade": false,
     "grade_id": "c-015",
     "locked": true,
     "schema_version": 3,
     "solution": false,
     "task": false
    }
   },
   "source": [
    "# <font color=\"green\"> Problem 2 :  </font>\n",
    "* In the language you chose, write a function `mk_triangle` (or `mkTriangle` depending on naming convention of your language) that takes three floating point numbers $a$, $b$, and $c$ satisfying $a \\leq b \\leq c$ and return 1 iff they make a triangle; that is, return 1 if $a + b - c$ is positive; otherwise return 0.\n",
    "\n",
    "* <font color=\"red\">Note:</font> Go and Julia uses so-called CamelCase convention (concatenate capitalized words without underscores, like calcSumOfNumbers) for function names whereas OCaml and Rust snake_case convention (concatenate lowercase words with underscores, like calc_sum_of_numbers).  Problems that follow specify function names like 'snake_case (or CamelCase)' just like the above without further explanation.\n",
    "\n",
    "**解答セル/Answer Cell**\n"
   ]
  },
  {
   "cell_type": "code",
   "execution_count": null,
   "metadata": {
    "kernel": "Python 3 (ipykernel)",
    "nbgrader": {
     "grade": true,
     "grade_id": "p-004",
     "locked": false,
     "points": 1,
     "schema_version": 3,
     "solution": true,
     "task": false
    }
   },
   "outputs": [],
   "source": [
    "BEGIN SOLUTION\n",
    "END SOLUTION"
   ]
  },
  {
   "cell_type": "markdown",
   "metadata": {
    "kernel": "SoS",
    "nbgrader": {
     "grade": false,
     "grade_id": "c-016",
     "locked": true,
     "schema_version": 3,
     "solution": false,
     "task": false
    }
   },
   "source": [
    "and test your function by computing ${\\tt mk\\_triangle}(1, 1, 1)$, ${\\tt mk\\_triangle}(1, 2, 3)$, ${\\tt mk\\_triangle}(1, 2, 4)$, which should be $1$, $0$, and $0$, respectively\n",
    "\n",
    "**解答セル/Answer Cell**\n"
   ]
  },
  {
   "cell_type": "code",
   "execution_count": null,
   "metadata": {
    "kernel": "Python 3 (ipykernel)",
    "nbgrader": {
     "grade": true,
     "grade_id": "p-005",
     "locked": false,
     "points": 1,
     "schema_version": 3,
     "solution": true,
     "task": false
    }
   },
   "outputs": [],
   "source": [
    "BEGIN SOLUTION\n",
    "END SOLUTION"
   ]
  },
  {
   "cell_type": "markdown",
   "metadata": {
    "kernel": "SoS",
    "nbgrader": {
     "grade": false,
     "grade_id": "c-017",
     "locked": true,
     "schema_version": 3,
     "solution": false,
     "task": false
    }
   },
   "source": [
    "# 7. Variable Definitions\n",
    "* A variable is a means to give a name to an intermediate result of potentially complex/expensive computation and use it for later computation\n",
    "* Benefits of variables include:\n",
    "  * you can avoid repeating the same expression in your program, thereby reducing programming errors\n",
    "  * by using a variable name that expresses its meaning well, you can make the program easier to understand and maintain\n",
    "  * you can avoid repeating the same computation at runtime, thereby reducing computation time\n",
    "\n",
    "* Consider using AI tutor\n"
   ]
  },
  {
   "cell_type": "code",
   "execution_count": null,
   "metadata": {
    "kernel": "Python 3 (ipykernel)",
    "nbgrader": {
     "grade": false,
     "grade_id": "c-018",
     "locked": false,
     "schema_version": 3,
     "solution": false,
     "task": false
    }
   },
   "outputs": [],
   "source": [
    "# uncomment the line you want to execute\n",
    "# I(\"variable definitions\") # Introduction\n",
    "# C(\"variable definitions\") # Coding problem"
   ]
  },
  {
   "cell_type": "markdown",
   "metadata": {
    "kernel": "SoS",
    "nbgrader": {
     "grade": false,
     "grade_id": "c-019",
     "locked": true,
     "schema_version": 3,
     "solution": false,
     "task": false
    }
   },
   "source": [
    "# <font color=\"green\"> Problem 3 :  </font>\n",
    "* In the language you chose, write a function `triangle_type` that takes three floating point numbers $a$, $b$, and $c$ which you can assume satisfy $a \\leq b \\leq c$ and return $-2$, $-1$, $0$, or $1$ according to the following:\n",
    "  * if three line segments of length $a$, $b$, and $c$ cannot form a triangle, `triangle_type(`$a$, $b$, $c$ `)` should be -2\n",
    "  * if they form an obtuse triangle, it should be -1\n",
    "  * if they form a right triangle, it should be 0\n",
    "  * if they form an acute triangle, it should be 1\n",
    "* Use a variable to avoid repeating $a^2 + b^2 - c^2$ in your program\n",
    "\n",
    "**解答セル/Answer Cell**\n"
   ]
  },
  {
   "cell_type": "code",
   "execution_count": null,
   "metadata": {
    "kernel": "Python 3 (ipykernel)",
    "nbgrader": {
     "grade": true,
     "grade_id": "p-006",
     "locked": false,
     "points": 1,
     "schema_version": 3,
     "solution": true,
     "task": false
    }
   },
   "outputs": [],
   "source": [
    "BEGIN SOLUTION\n",
    "END SOLUTION"
   ]
  },
  {
   "cell_type": "markdown",
   "metadata": {
    "kernel": "SoS",
    "nbgrader": {
     "grade": false,
     "grade_id": "c-020",
     "locked": true,
     "schema_version": 3,
     "solution": false,
     "task": false
    }
   },
   "source": [
    "and test your function by computing ${\\tt triangle\\_type}(1, 1, 1)$, ${\\tt triangle\\_type}(3, 4, 5)$, ${\\tt triangle\\_type}(3, 4, 6)$, and ${\\tt triangle\\_type}(2, 3, 6)$, which should be $1$, $0$, $-1$, and $-2$, respectively\n",
    "\n",
    "**解答セル/Answer Cell**\n"
   ]
  },
  {
   "cell_type": "code",
   "execution_count": null,
   "metadata": {
    "kernel": "Python 3 (ipykernel)",
    "nbgrader": {
     "grade": true,
     "grade_id": "p-007",
     "locked": false,
     "points": 1,
     "schema_version": 3,
     "solution": true,
     "task": false
    }
   },
   "outputs": [],
   "source": [
    "BEGIN SOLUTION\n",
    "END SOLUTION"
   ]
  },
  {
   "cell_type": "markdown",
   "metadata": {
    "kernel": "SoS",
    "nbgrader": {
     "grade": false,
     "grade_id": "c-021",
     "locked": true,
     "schema_version": 3,
     "solution": false,
     "task": false
    }
   },
   "source": [
    "# 8. Recursive functions\n",
    "* A recursive function is a function that calls itself\n",
    "* If there is one thing that makes a programming language different from a calculator, it is a recursive function\n"
   ]
  },
  {
   "cell_type": "code",
   "execution_count": null,
   "metadata": {
    "kernel": "Python 3 (ipykernel)",
    "nbgrader": {
     "grade": false,
     "grade_id": "c-022",
     "locked": false,
     "schema_version": 3,
     "solution": false,
     "task": false
    }
   },
   "outputs": [],
   "source": [
    "# uncomment the line you want to execute\n",
    "# I(\"recursive functions\") # Introduction\n",
    "# C(\"recursive functions\") # Coding problem"
   ]
  },
  {
   "cell_type": "markdown",
   "metadata": {
    "kernel": "SoS",
    "nbgrader": {
     "grade": false,
     "grade_id": "c-023",
     "locked": true,
     "schema_version": 3,
     "solution": false,
     "task": false
    }
   },
   "source": [
    "# <font color=\"green\"> Problem 4 :  </font>\n",
    "* In the language you chose, write a function `gcd` that takes two integers $a$ and $b$ satisfying $a \\leq b$ and returns the greatest common divisor (GCD) of the two\n",
    "* Given two non-negative integers $a$ and $b$ satisfying $a \\leq b$, their GCD is the maximum number that divides both $a$ and $b$\n",
    "* It can be calculated by observing:\n",
    "  * if $a = 0$, then GCD is $b$ (as any number divides 0; here, as a special case we conveniently define GCD of 0 and 0 as 0)\n",
    "  * otherwise, GCD of $a$ and $b$ = GCD of $r$ and $a$, where $r$ equals the remainder when $b$ is divided by $a$\n",
    "* In languages supporting multiple types of builtin integers, use 64 bit (64 bit in OCaml) integers\n",
    "\n",
    "<!---\n",
    "* Using a recursive definition of a function `fib` that takes an integer $n$ and return the $n$th fibonacci number $f_n$ defined as follows\n",
    "\n",
    "$$ f_n = \\left\\{\\begin{array}{ll} 1 & (n < 2) \\\\ f_{n-1} + f_{n-2} & (n \\geq 2) \\end{array} \\right. $$\n",
    "\n",
    "* Note: for the purpose of today, it suffices to write a straightforward recursive function; never mind the efficiency (time complexity) of the algorithm; you do not have to do use loops to make it linear time\n",
    "--->\n",
    "\n",
    "**解答セル/Answer Cell**"
   ]
  },
  {
   "cell_type": "code",
   "execution_count": null,
   "metadata": {
    "kernel": "Python 3 (ipykernel)",
    "nbgrader": {
     "grade": true,
     "grade_id": "p-008",
     "locked": false,
     "points": 1,
     "schema_version": 3,
     "solution": true,
     "task": false
    }
   },
   "outputs": [],
   "source": [
    "BEGIN SOLUTION\n",
    "END SOLUTION"
   ]
  },
  {
   "cell_type": "markdown",
   "metadata": {
    "kernel": "SoS",
    "nbgrader": {
     "grade": false,
     "grade_id": "c-024",
     "locked": true,
     "schema_version": 3,
     "solution": false,
     "task": false
    }
   },
   "source": [
    "and compute ${\\tt gcd}(0, 5)$, ${\\tt gcd}(4, 12)$, and ${\\tt gcd}(93, 399)$.  The answer should be $5$, $4$, and $3$, respectively\n",
    "\n",
    "**解答セル/Answer Cell**"
   ]
  },
  {
   "cell_type": "code",
   "execution_count": null,
   "metadata": {
    "kernel": "Python 3 (ipykernel)",
    "nbgrader": {
     "grade": true,
     "grade_id": "p-009",
     "locked": false,
     "points": 1,
     "schema_version": 3,
     "solution": true,
     "task": false
    }
   },
   "outputs": [],
   "source": [
    "BEGIN SOLUTION\n",
    "END SOLUTION"
   ]
  },
  {
   "cell_type": "markdown",
   "metadata": {
    "kernel": "SoS",
    "nbgrader": {
     "grade": false,
     "grade_id": "c-025",
     "locked": true,
     "schema_version": 3,
     "solution": false,
     "task": false
    }
   },
   "source": [
    "# 9. Iterations (while, for, etc.)\n",
    "* Iteration is another fundamental control flow along with conditional statement\n"
   ]
  },
  {
   "cell_type": "code",
   "execution_count": null,
   "metadata": {
    "kernel": "Python 3 (ipykernel)",
    "nbgrader": {
     "grade": false,
     "grade_id": "c-026",
     "locked": false,
     "schema_version": 3,
     "solution": false,
     "task": false
    }
   },
   "outputs": [],
   "source": [
    "# uncomment the line you want to execute\n",
    "# I(\"Iterations (while, for, etc.)\") # Introduction\n",
    "# C(\"Iterations (while, for, etc.)\") # Coding problem"
   ]
  },
  {
   "cell_type": "markdown",
   "metadata": {
    "kernel": "SoS",
    "nbgrader": {
     "grade": false,
     "grade_id": "c-027",
     "locked": true,
     "schema_version": 3,
     "solution": false,
     "task": false
    }
   },
   "source": [
    "# <font color=\"green\"> Problem 5 :  </font>\n",
    "* In the language you chose, write a function `sum_of_square` that takes an integer $n$ and returns $1^2 + 2^2 + \\cdots + n^2$\n",
    "* To calculate this number with a loop construct (e.g., for or while), you need a _mutable_ variable (a variable that can be updated)\n",
    "* Some languages, such as OCaml and Rust, have their idiosyncrasies for introducing mutable variables\n",
    "\n",
    "**解答セル/Answer Cell**"
   ]
  },
  {
   "cell_type": "code",
   "execution_count": null,
   "metadata": {
    "kernel": "Python 3 (ipykernel)",
    "nbgrader": {
     "grade": true,
     "grade_id": "p-010",
     "locked": false,
     "points": 1,
     "schema_version": 3,
     "solution": true,
     "task": false
    }
   },
   "outputs": [],
   "source": [
    "BEGIN SOLUTION\n",
    "END SOLUTION"
   ]
  },
  {
   "cell_type": "markdown",
   "metadata": {
    "kernel": "SoS",
    "nbgrader": {
     "grade": false,
     "grade_id": "c-028",
     "locked": true,
     "schema_version": 3,
     "solution": false,
     "task": false
    }
   },
   "source": [
    "and compute ${\\tt sum\\_of\\_square}(0)$, ${\\tt sum\\_of\\_square}(3)$, and ${\\tt sum\\_of\\_square}(10)$.The answer should be $0$, $14$, and $385$, respectively\n",
    "\n",
    "**解答セル/Answer Cell**"
   ]
  },
  {
   "cell_type": "code",
   "execution_count": null,
   "metadata": {
    "kernel": "Python 3 (ipykernel)",
    "nbgrader": {
     "grade": true,
     "grade_id": "p-011",
     "locked": false,
     "points": 1,
     "schema_version": 3,
     "solution": true,
     "task": false
    }
   },
   "outputs": [],
   "source": [
    "BEGIN SOLUTION\n",
    "END SOLUTION"
   ]
  },
  {
   "cell_type": "markdown",
   "metadata": {
    "kernel": "SoS",
    "nbgrader": {
     "grade": false,
     "grade_id": "c-029",
     "locked": true,
     "schema_version": 3,
     "solution": false,
     "task": false
    }
   },
   "source": [
    "# 10. Builtin Data Types\n",
    "* Most programming languages have builtin data types similar to strings, arrays, lists, tuples, and dictionaries (mapping)\n",
    "* While they are heavily used in real programs, we don't get into them with the interest in time\n",
    "* Ask AI to learn the basics and solve exercise problems on the following topics as needed\n",
    "  * Strings\n",
    "  * Lists\n",
    "  * Arrays and vectors\n",
    "  * Dictionary or Map\n"
   ]
  },
  {
   "cell_type": "code",
   "execution_count": null,
   "metadata": {
    "kernel": "Python 3 (ipykernel)",
    "nbgrader": {
     "grade": false,
     "grade_id": "c-030",
     "locked": false,
     "schema_version": 3,
     "solution": false,
     "task": false
    }
   },
   "outputs": [],
   "source": [
    "# change the topic name and uncomment the line you want to execute\n",
    "# I(\"arrays\") # Introduction\n",
    "# C(\"arrays\") # Coding problem"
   ]
  },
  {
   "cell_type": "markdown",
   "metadata": {
    "kernel": "SoS",
    "nbgrader": {
     "grade": false,
     "grade_id": "c-031",
     "locked": true,
     "schema_version": 3,
     "solution": false,
     "task": false
    }
   },
   "source": [
    "# 11. Defining data types\n",
    "* In programming languages, _a type_ generally means a set of values having the same or similar properties or applicable operations\n",
    "* Basic examples are integers, floating point numbers, strings, etc.\n",
    "\n",
    "* Programming languages allow you to define a new type built from existing types\n",
    "* e.g., define a complex number as a pair of real numbers (real and imaginary part)\n",
    "\n",
    "* Different languages have different names/mechanisms to compose a new type from existing types\n",
    "  * C : struct\n",
    "  * C++ : struct/class\n",
    "  * Python : class\n",
    "  * Go : struct\n",
    "  * Julia : struct\n",
    "  * OCaml : variant, record, and object (class)\n",
    "  * Rust : struct\n",
    "\n",
    "* Consider asking AI"
   ]
  },
  {
   "cell_type": "code",
   "execution_count": null,
   "metadata": {
    "kernel": "Python 3 (ipykernel)",
    "nbgrader": {
     "grade": false,
     "grade_id": "c-032",
     "locked": false,
     "schema_version": 3,
     "solution": false,
     "task": false
    }
   },
   "outputs": [],
   "source": [
    "# uncomment the line you want to execute\n",
    "# I(\"struct\")  # Introduction (Go, Julia, and Rust)\n",
    "# I(\"variant\") # Introduction (OCaml)\n",
    "# C(\"struct\")  # Coding problem (Go, Julia, and Rust)\n",
    "# C(\"variant\") # Coding problem (OCaml)"
   ]
  },
  {
   "cell_type": "markdown",
   "metadata": {
    "kernel": "SoS",
    "nbgrader": {
     "grade": false,
     "grade_id": "c-033",
     "locked": true,
     "schema_version": 3,
     "solution": false,
     "task": false
    }
   },
   "source": [
    "# <font color=\"green\"> Problem 6 :  </font>\n",
    "* Learn how to define a new composite type in the language you chose;\n",
    "* define a new type representing a person (named `person` or `Person` depending on the naming constraint/convention of the language), which consists of the name (string) and the date of birth (string);\n",
    "\n",
    "**解答セル/Answer Cell**"
   ]
  },
  {
   "cell_type": "code",
   "execution_count": null,
   "metadata": {
    "kernel": "Python 3 (ipykernel)",
    "nbgrader": {
     "grade": true,
     "grade_id": "p-012",
     "locked": false,
     "points": 1,
     "schema_version": 3,
     "solution": true,
     "task": false
    }
   },
   "outputs": [],
   "source": [
    "BEGIN SOLUTION\n",
    "END SOLUTION"
   ]
  },
  {
   "cell_type": "markdown",
   "metadata": {
    "kernel": "SoS",
    "nbgrader": {
     "grade": false,
     "grade_id": "c-034",
     "locked": true,
     "schema_version": 3,
     "solution": false,
     "task": false
    }
   },
   "source": [
    "* define a function called `person_name` that takes a person and returns his/her name;\n",
    "* create a person whose name is \"Masakazu Mimura\" (date of birth = 1967/6/8) and apply `person_name` to it\n",
    "\n",
    "**解答セル/Answer Cell**"
   ]
  },
  {
   "cell_type": "code",
   "execution_count": null,
   "metadata": {
    "kernel": "Python 3 (ipykernel)",
    "nbgrader": {
     "grade": true,
     "grade_id": "p-013",
     "locked": false,
     "points": 1,
     "schema_version": 3,
     "solution": true,
     "task": false
    }
   },
   "outputs": [],
   "source": [
    "BEGIN SOLUTION\n",
    "END SOLUTION"
   ]
  },
  {
   "cell_type": "markdown",
   "metadata": {
    "kernel": "SoS",
    "nbgrader": {
     "grade": false,
     "grade_id": "c-035",
     "locked": true,
     "schema_version": 3,
     "solution": false,
     "task": false
    }
   },
   "source": [
    "# 12. Recursive types\n",
    "* Just as a function can be recursive, so can a type\n",
    "* A recursive type is a type one of whose component has the same type as itself\n",
    "* It is the basis for defining data structures that can grow arbitrarily large, such as trees, lists, and graphs\n",
    "\n",
    "* Consider asking AI"
   ]
  },
  {
   "cell_type": "code",
   "execution_count": null,
   "metadata": {
    "kernel": "Python 3 (ipykernel)",
    "nbgrader": {
     "grade": false,
     "grade_id": "c-036",
     "locked": false,
     "schema_version": 3,
     "solution": false,
     "task": false
    }
   },
   "outputs": [],
   "source": [
    "# uncomment the line you want to execute\n",
    "# I(\"defining recursive types\")\n",
    "# C(\"defining recursive types\")"
   ]
  },
  {
   "cell_type": "markdown",
   "metadata": {
    "kernel": "SoS",
    "nbgrader": {
     "grade": false,
     "grade_id": "c-037",
     "locked": true,
     "schema_version": 3,
     "solution": false,
     "task": false
    }
   },
   "source": [
    "# <font color=\"green\"> Problem 7 :  </font>\n",
    "* Define a type that represents a binary tree\n",
    "* More specifically, a binary tree is either\n",
    "  * empty,\n",
    "  * or a node having two children each of which is a binary tree (note that each child may be empty)\n",
    "* We define _the number of nodes_ of a binary tree as follows\n",
    "  * the number of nodes of an empty tree is zero\n",
    "  * the number of nodes of a non-empty tree is (1 + the number of nodes of left child + the number of nodes of the right child)\n",
    "\n",
    "**解答セル/Answer Cell**"
   ]
  },
  {
   "cell_type": "code",
   "execution_count": null,
   "metadata": {
    "kernel": "Python 3 (ipykernel)",
    "nbgrader": {
     "grade": true,
     "grade_id": "p-014",
     "locked": false,
     "points": 1,
     "schema_version": 3,
     "solution": true,
     "task": false
    }
   },
   "outputs": [],
   "source": [
    "BEGIN SOLUTION\n",
    "END SOLUTION"
   ]
  },
  {
   "cell_type": "markdown",
   "metadata": {
    "kernel": "SoS",
    "nbgrader": {
     "grade": false,
     "grade_id": "c-038",
     "locked": true,
     "schema_version": 3,
     "solution": false,
     "task": false
    }
   },
   "source": [
    "# <font color=\"green\"> Problem 8 :  </font>\n",
    "* Define a function `mk_tree` that takes an integer $n$ and returns the \"maximally balanced binary tree\" that has exactly $n$ nodes\n",
    "* A binary tree $t$ is maximally balanced when:\n",
    "  * $t$ is empty, or\n",
    "  * $t$ is non-empty and satisfies the following two conditions\n",
    "    1. $t$'s left child has exactly the same as or just one more nodes than $t$'s right child\n",
    "    1. each child is also maximally balanced\n",
    "* Given $n$, the maximally balanced binary tree of $n$ nodes is uniquely determined\n",
    "\n",
    "**解答セル/Answer Cell**"
   ]
  },
  {
   "cell_type": "code",
   "execution_count": null,
   "metadata": {
    "kernel": "Python 3 (ipykernel)",
    "nbgrader": {
     "grade": true,
     "grade_id": "p-015",
     "locked": false,
     "points": 1,
     "schema_version": 3,
     "solution": true,
     "task": false
    }
   },
   "outputs": [],
   "source": [
    "BEGIN SOLUTION\n",
    "END SOLUTION"
   ]
  },
  {
   "cell_type": "markdown",
   "metadata": {
    "kernel": "SoS",
    "nbgrader": {
     "grade": false,
     "grade_id": "c-039",
     "locked": true,
     "schema_version": 3,
     "solution": false,
     "task": false
    }
   },
   "source": [
    "# <font color=\"green\"> Problem 9 :  </font>\n",
    "* Define a function `count_nodes` that takes a binary tree and returns the number of nodes of it\n",
    "\n",
    "**解答セル/Answer Cell**"
   ]
  },
  {
   "cell_type": "code",
   "execution_count": null,
   "metadata": {
    "kernel": "Python 3 (ipykernel)",
    "nbgrader": {
     "grade": true,
     "grade_id": "p-016",
     "locked": false,
     "points": 1,
     "schema_version": 3,
     "solution": true,
     "task": false
    }
   },
   "outputs": [],
   "source": [
    "BEGIN SOLUTION\n",
    "END SOLUTION"
   ]
  },
  {
   "cell_type": "markdown",
   "metadata": {
    "kernel": "SoS",
    "nbgrader": {
     "grade": false,
     "grade_id": "c-040",
     "locked": true,
     "schema_version": 3,
     "solution": false,
     "task": false
    }
   },
   "source": [
    "# <font color=\"green\"> Problem 10 :  </font>\n",
    "* Obviously, for $t = {\\tt mk\\_tree}(n)$, ${\\tt count\\_nodes}(t)$ should return $n$\n",
    "* Confirm this for meaningfully large $n$ (e.g., 1000)\n",
    "\n",
    "**解答セル/Answer Cell**"
   ]
  },
  {
   "cell_type": "code",
   "execution_count": null,
   "metadata": {
    "kernel": "Python 3 (ipykernel)",
    "nbgrader": {
     "grade": true,
     "grade_id": "p-017",
     "locked": false,
     "points": 1,
     "schema_version": 3,
     "solution": true,
     "task": false
    }
   },
   "outputs": [],
   "source": [
    "BEGIN SOLUTION\n",
    "END SOLUTION"
   ]
  }
 ],
 "metadata": {
  "celltoolbar": "Create Assignment",
  "kernelspec": {
   "display_name": "SoS",
   "language": "sos",
   "name": "sos"
  },
  "language_info": {
   "codemirror_mode": "sos",
   "file_extension": ".sos",
   "mimetype": "text/x-sos",
   "name": "sos",
   "nbconvert_exporter": "sos_notebook.converter.SoS_Exporter",
   "pygments_lexer": "sos"
  },
  "sos": {
   "kernels": [
    [
     "OCaml 4.14.2",
     "ocaml-jupyter",
     "OCaml",
     "",
     "text/x-ocaml"
    ],
    [
     "Python 3 (ipykernel)",
     "python3",
     "python3",
     "",
     {
      "name": "ipython",
      "version": 3
     }
    ]
   ],
   "panel": {
    "displayed": true,
    "height": 0
   },
   "version": "0.23.3"
  }
 },
 "nbformat": 4,
 "nbformat_minor": 4
}
