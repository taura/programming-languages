{
  "cells": [
    {
      "cell_type": "markdown",
      "metadata": {
        "kernel": "SoS",
        "nbgrader": {
          "grade": false,
          "grade_id": "c-001",
          "locked": true,
          "schema_version": 3,
          "solution": false,
          "task": false
        }
      },
      "source": [
        "#  Hand-compiling C programs",
        ""
      ]
    },
    {
      "cell_type": "markdown",
      "metadata": {
        "kernel": "SoS",
        "nbgrader": {
          "grade": false,
          "grade_id": "c-002",
          "locked": false,
          "schema_version": 3,
          "solution": false,
          "task": false
        }
      },
      "source": [
        "\n",
        "Enter your name and student ID.\n",
        "\n",
        " * Name:\n",
        " * Student ID:\n",
        ""
      ]
    },
    {
      "cell_type": "markdown",
      "metadata": {
        "kernel": "SoS",
        "nbgrader": {
          "grade": false,
          "grade_id": "c-003",
          "locked": true,
          "schema_version": 3,
          "solution": false,
          "task": false
        }
      },
      "source": [
        "* <font color=\"red\">As this notebook is rather long, you may want to use the index shown by clicking the list icon on the left</font>\n",
        "\n",
        "<a name=\"intro\"> </a>\n",
        "# 1. Introduction",
        "\n",
        "* your final goal of the course is to build a compiler of a tiny subset of C language\n",
        "* a compiler reads a program, builds a parse tree, and finally translates it to a _<font color=\"blue\">machine code</font>_\n",
        "* _<font color=\"blue\">a machine code</font>_ is a series of instructions a processor can directly execute and is formatted in a way a machine can easily interpret (e.g., an instruction has a fixed number of bits, a fixed part of which encodes the kind of instructions)\n",
        "* _<font color=\"blue\">an assembly code</font>_ is practically the same as a machine code (a single assembly instruction almost directly corresponds to a single machine instruction) but is formatted as a text easier for humans to read\n",
        "* it is common that a compiler actually generates an assembly code, which is then converted to a real machine code by another software (which you can consider as a stage in a compilation process), called _<font color=\"blue\">an assembler</font>_\n",
        "* before actually building a compiler, you need to know the assembly code of the target machine and at least roughly know how expressions and statements in the source language are mapped to assembly code\n",
        "* even if you are not building a compiler, such a knowledge is useful in its own right to understand how programming languages work, to write an efficient program in them, and/or to diagnose your programs (especially for unsafe languages such as C or C++)\n",
        "* to that end, the goal of this notebook is to look at and understand assembly code generated from C language and translate some C functions into assembly by hand\n",
        "\n",
        "<a name=\"let_the_compiler_generate_assembly\"> </a>\n",
        "# 2. Let the C compiler generate assembly code",
        "\n",
        "* `gcc/g++` is a compiler for C/C++\n",
        "* `-S` option instructs the compiler to emit assembly code and stop the compilation after that\n",
        ""
      ]
    },
    {
      "cell_type": "code",
      "metadata": {
        "kernel": "Python 3 (ipykernel)",
        "nbgrader": {
          "grade": false,
          "grade_id": "c-004",
          "locked": false,
          "schema_version": 3,
          "solution": false,
          "task": false
        }
      },
      "source": [
        "%%writefile call.c\n",
        "long bbb();\n",
        "\n",
        "long aaa() {\n",
        "  return bbb() + 1;\n",
        "}"
      ],
      "execution_count": null,
      "outputs": []
    },
    {
      "cell_type": "code",
      "metadata": {
        "kernel": "Bash",
        "nbgrader": {
          "grade": false,
          "grade_id": "c-005",
          "locked": false,
          "schema_version": 3,
          "solution": false,
          "task": false
        }
      },
      "source": [
        "gcc -O3 -S call.c\n",
        "cat call.s"
      ],
      "execution_count": null,
      "outputs": []
    },
    {
      "cell_type": "markdown",
      "metadata": {
        "kernel": "SoS",
        "nbgrader": {
          "grade": false,
          "grade_id": "c-006",
          "locked": true,
          "schema_version": 3,
          "solution": false,
          "task": false
        }
      },
      "source": [
        "* we choose 64 bit ARM instruction set (called _<font color=\"blue\">arm64</font>_ or _<font color=\"blue\">aarch64</font>_) as the target assembly code\n",
        " * this notebook teaches you the necessary part of arm64 assembly. don't worry if you do not know about it\n",
        " * this notebook requires a basic knowledge about C language; if you are new to C, study a C primer for this notebook\n",
        " * nobody can remember all instructions. the point is to understand the minimum set of instructions necessary by a compiler and to be able to examine instructions corresponding to specific C expressions\n",
        " <!-- * [reference](https://www.felixcloutier.com/x86/) -->\n",
        " * [cheat sheet](https://taura.github.io/programming-languages/html/arm64_assembly_cheat_sheet.html)\n",
        " * [a quick reference](https://developer.arm.com/documentation/ddi0602/latest/)\n",
        "\n",
        "* below, you are going to learn what kind of expressions or statements are converted to what kind of assembly code, gradually changing functions from trivial ones to more substantial ones\n",
        "\n",
        "<a name=\"arithmetic\"> </a>\n",
        "# 3. Arithmetic",
        ""
      ]
    },
    {
      "cell_type": "code",
      "metadata": {
        "kernel": "Python 3 (ipykernel)",
        "nbgrader": {
          "grade": false,
          "grade_id": "c-007",
          "locked": false,
          "schema_version": 3,
          "solution": false,
          "task": false
        }
      },
      "source": [
        "%%writefile arith.c\n",
        "long add(long x, long y, long z) {\n",
        "  return x + y + z + 150;\n",
        "}\n",
        "\n",
        "long sub(long x, long y, long z) {\n",
        "  return x - y - z - 150;\n",
        "}\n",
        "\n",
        "long mul(long x, long y, long z) {\n",
        "  return x * y * z;\n",
        "}\n",
        "\n",
        "long div(long x, long y, long z) {\n",
        "  return x / y / z;\n",
        "}\n",
        "\n",
        "double fadd(double x, double y, double z) {\n",
        "  return x + y + z + 1.25;\n",
        "}\n",
        "\n",
        "double fsub(double x, double y, double z) {\n",
        "  return x - y - z - 1.25;\n",
        "}\n",
        "\n",
        "double fmul(double x, double y, double z) {\n",
        "  return x * y * z * 1.25;\n",
        "}\n",
        "\n",
        "double fdiv(double x, double y, double z) {\n",
        "  return x / y / z / 1.25;\n",
        "}"
      ],
      "execution_count": null,
      "outputs": []
    },
    {
      "cell_type": "markdown",
      "metadata": {
        "kernel": "SoS",
        "nbgrader": {
          "grade": false,
          "grade_id": "c-008",
          "locked": true,
          "schema_version": 3,
          "solution": false,
          "task": false
        }
      },
      "source": [
        "* compile it by:\n",
        ""
      ]
    },
    {
      "cell_type": "code",
      "metadata": {
        "kernel": "Bash",
        "nbgrader": {
          "grade": false,
          "grade_id": "c-009",
          "locked": false,
          "schema_version": 3,
          "solution": false,
          "task": false
        }
      },
      "source": [
        "gcc -O3 -S arith.c\n",
        "cat arith.s"
      ],
      "execution_count": null,
      "outputs": []
    },
    {
      "cell_type": "markdown",
      "metadata": {
        "kernel": "SoS",
        "nbgrader": {
          "grade": false,
          "grade_id": "c-010",
          "locked": true,
          "schema_version": 3,
          "solution": false,
          "task": false
        }
      },
      "source": [
        "* observe:\n",
        "  * parameters are passed following the ARM64 ABI (first three integer parameters on `x0, x1,` and `x2` and first three floating-point number parameters on `d0, d1,` and `d2`)\n",
        "  * return value is returned following the ARM64 ABI, too (integer on `x0` and floating-point number on `d0`)\n",
        "  * there are instructions corresponding to integer/floating-point number arithmetic\n",
        "\n",
        "<a name=\"problem_ax_by_cz\"> </a>\n",
        "# <font color=\"green\"> Problem 1 :  ax+by+cz</font>",
        "\n",
        "* write a function `ax_by_cz` that returns ax+by+cz for a given input a, x, b, y, c, and z (whose types are long) __in assembly__\n",
        "\n",
        "* that is, the translation of the following C function\n",
        "```\n",
        "long ax_by_cz(long a, long x, long b, long y, long c, long z) {\n",
        "  return a * x + b * y + c * z;\n",
        "}\n",
        "```\n",
        "\n",
        "* fill the following assembly function in assembly code (what follows `------- write your answer here -------`) with instructions and execute it\n",
        "\n",
        "* it is saved with the name `ax_by_dz.s`\n",
        ""
      ]
    },
    {
      "cell_type": "code",
      "metadata": {
        "kernel": "Python 3 (ipykernel)",
        "nbgrader": {
          "grade": true,
          "grade_id": "p-001",
          "locked": false,
          "schema_version": 3,
          "solution": true,
          "task": false,
          "points": 1
        }
      },
      "source": [
        "BEGIN SOLUTION\n",
        "END SOLUTION\n",
        "%%writefile ax_by_cz.s\n",
        "\t.arch armv8-a\n",
        "\t.file\t\"ax_by_cz.c\"\n",
        "\t.text\n",
        "\t.align\t2\n",
        "\t.p2align 4,,11\n",
        "\t.global\tax_by_cz\n",
        "\t.type\tax_by_cz, %function\n",
        "ax_by_cz:\n",
        ".LFB0:\n",
        "\t.cfi_startproc\n",
        "\t// ------- write your answer here -------\n",
        "\t.cfi_endproc\n",
        ".LFE0:\n",
        "\t.size\tax_by_cz, .-ax_by_cz\n",
        "\t.ident\t\"GCC: (Ubuntu 13.3.0-6ubuntu2~24.04) 13.3.0\"\n",
        "\t.section\t.note.GNU-stack,\"\",@progbits"
      ],
      "execution_count": null,
      "outputs": []
    },
    {
      "cell_type": "markdown",
      "metadata": {
        "kernel": "SoS",
        "nbgrader": {
          "grade": false,
          "grade_id": "c-011",
          "locked": true,
          "schema_version": 3,
          "solution": false,
          "task": false
        }
      },
      "source": [
        "* compile it with the following C code that calls your `ax_by_cz` function\n",
        ""
      ]
    },
    {
      "cell_type": "code",
      "metadata": {
        "kernel": "Python 3 (ipykernel)",
        "nbgrader": {
          "grade": true,
          "grade_id": "p-002",
          "locked": false,
          "schema_version": 3,
          "solution": true,
          "task": false,
          "points": 1
        }
      },
      "source": [
        "BEGIN SOLUTION\n",
        "END SOLUTION\n",
        "%%writefile check_ax_by_cz.c\n",
        "#include <assert.h>\n",
        "#include <stdio.h>\n",
        "#include <stdlib.h>\n",
        "#include <math.h>\n",
        "long ax_by_cz(long a, long x, long b, long y, long c, long z);\n",
        "\n",
        "int main(int argc, char ** argv) {\n",
        "  assert(argc == 7);\n",
        "  long a = atol(argv[1]);\n",
        "  long x = atol(argv[2]);\n",
        "  long b = atol(argv[3]);\n",
        "  long y = atol(argv[4]);\n",
        "  long c = atol(argv[5]);\n",
        "  long z = atol(argv[6]);\n",
        "  long r = ax_by_cz(a, x, b, y, c, z);\n",
        "  long rc = a * x + b * y + c * z;\n",
        "  if (r == rc) {\n",
        "    printf(\"OK %ld %ld\\n\", r, rc);\n",
        "    return 0;\n",
        "  } else {\n",
        "    printf(\"NG %ld %ld\\n\", r, rc);\n",
        "    return 1;\n",
        "  }\n",
        "}"
      ],
      "execution_count": null,
      "outputs": []
    },
    {
      "cell_type": "code",
      "metadata": {
        "kernel": "Bash",
        "nbgrader": {
          "grade": true,
          "grade_id": "p-003",
          "locked": false,
          "schema_version": 3,
          "solution": true,
          "task": false,
          "points": 1
        }
      },
      "source": [
        "BEGIN SOLUTION\n",
        "END SOLUTION\n",
        "gcc -o check_ax_by_cz -O3 check_ax_by_cz.c ax_by_cz.s"
      ],
      "execution_count": null,
      "outputs": []
    },
    {
      "cell_type": "markdown",
      "metadata": {
        "kernel": "SoS",
        "nbgrader": {
          "grade": false,
          "grade_id": "c-012",
          "locked": true,
          "schema_version": 3,
          "solution": false,
          "task": false
        }
      },
      "source": [
        "* execute the cell below; if you see three OK's and no errors, you are done\n",
        ""
      ]
    },
    {
      "cell_type": "code",
      "metadata": {
        "kernel": "Bash",
        "nbgrader": {
          "grade": true,
          "grade_id": "p-004",
          "locked": false,
          "schema_version": 3,
          "solution": true,
          "task": false,
          "points": 1
        }
      },
      "source": [
        "BEGIN SOLUTION\n",
        "END SOLUTION\n",
        "./check_ax_by_cz 1 1 1 1 1 1\n",
        "./check_ax_by_cz 1 2 3 4 5 6"
      ],
      "execution_count": null,
      "outputs": []
    },
    {
      "cell_type": "markdown",
      "metadata": {
        "kernel": "SoS",
        "nbgrader": {
          "grade": false,
          "grade_id": "c-013",
          "locked": true,
          "schema_version": 3,
          "solution": false,
          "task": false
        }
      },
      "source": [
        "#  If things do not go well",
        "\n",
        "* If your program compiles but does not produce the correct answer, run it within a debugger (gdb)\n",
        "* To that end, first compile the program with -g\n",
        ""
      ]
    },
    {
      "cell_type": "code",
      "metadata": {
        "kernel": "Bash",
        "nbgrader": {
          "grade": true,
          "grade_id": "p-005",
          "locked": false,
          "schema_version": 3,
          "solution": true,
          "task": false,
          "points": 1
        }
      },
      "source": [
        "BEGIN SOLUTION\n",
        "END SOLUTION\n",
        "gcc -o check_ax_by_cz -O0 -g check_ax_by_cz.c ax_by_cz.s"
      ],
      "execution_count": null,
      "outputs": []
    },
    {
      "cell_type": "markdown",
      "metadata": {
        "kernel": "SoS",
        "nbgrader": {
          "grade": false,
          "grade_id": "c-014",
          "locked": true,
          "schema_version": 3,
          "solution": false,
          "task": false
        }
      },
      "source": [
        "* Go to terminal (login with SSH) and run the debugger\n",
        "```\n",
        "cd notebooks/pl07_compile_c\n",
        "gdb check_ax_by_cz\n",
        "(gdb) break ax_by_cz\n",
        "(gdb) run 1 2 3 4 5 6\n",
        "```\n",
        "\n",
        "* This way, you can step into the ax_by_cz function\n",
        "* You continue doing `step` to execute one instruction at a time\n",
        "* At each instruction you can see the values in the registers by, e.g.,\n",
        "```\n",
        "(gdb) print $x0\n",
        "```\n",
        "or\n",
        "```\n",
        "(gdb) info registers\n",
        "```\n",
        "\n",
        "* Of course, you can use vscode or emacs for a better debugging experience\n",
        "\n",
        "#  Notes on literal (immediate) values",
        "\n",
        "* using literal (immediate) values in arbitrary expressions (e.g., `x + 1234567` or `x * 3.141592`) is trivial in any high-level programming language, but not in machine code\n",
        "* machine languages generally have restrictions on using such values directly in instructions, because the number of bits used for an instruction is limited (32 bits in ARM64); there is no space to encode arbitrary 32 bit, let alone 64 bit, numbers\n",
        "* you do not have to know the details in this exercise, but this becomes an issue when you build a compiler, which needs to represent arbitrary integers and floating-point numbers in assembly\n",
        "* details are left to your investigation, but for now I just note that in ARM64,\n",
        "  * a `mov` or `movz` (move-and-zero) instruction can set one of the four 16-bit words of an integer register to the specified 16-bit value, and zeros the remaining three 16-bit words\n",
        "  * a `movk` (move-and-keep) instruction can set one of the four 16-bit words of an integer register to the specified 16-bit value, and leaves the remaining three 16-bit words unchanged\n",
        "  * by combining them (a `mov` + up to three `movk`s), you can set an arbitrary 64 bit value to a register\n",
        "  * `fmov` instruction can set a floating-point register to certain \"simple\" numbers --- numbers whose exponents and mantissa can be represented by a small number of bits; in my quick investigation, `fmov` can take numbers of the form: $\\pm 1.xxxx \\times 2^{(yyy-3)}$; i.e., numbers whose exponents are 3 bits and mantissa 4 bits (positive and negative)\n",
        "  * each non-simple number is constructed first by constructing its bit representation on an integer register with `mov` and `movk` and then moving the value from the integer register to the floating-point register (which can be done using `fmov`)\n",
        "* you may investigate this by changing the immediate values in the following function\n",
        "```\n",
        "long imm() { return 1234567; }\n",
        "double fimm() { return 1.234; }\n",
        "```\n",
        "\n",
        "<a name=\"many_args\"> </a>\n",
        "#  Notes on passing many parameters",
        "\n",
        "* there are only so many registers, so you cannot pass arbitrary number of parameters with registers\n",
        "* what if we pass so many parameters?\n",
        "* this is another thing you don't have to get into in this exercise but you have to know when building a compiler\n",
        ""
      ]
    },
    {
      "cell_type": "code",
      "metadata": {
        "kernel": "Python 3 (ipykernel)",
        "nbgrader": {
          "grade": false,
          "grade_id": "c-015",
          "locked": false,
          "schema_version": 3,
          "solution": false,
          "task": false
        }
      },
      "source": [
        "%%writefile args_many.c\n",
        "long add_many(long a00, long a01, long a02, long a03, long a04, \n",
        "              long a05, long a06, long a07, long a08, long a09,\n",
        "              long a10, long a11, long a12, long a13, long a14,\n",
        "              long a15, long a16, long a17, long a18, long a19) {\n",
        "  return (a00 + a01 + a02 + a03 + a04\n",
        "          + a05 + a06 + a07 + a08 + a09\n",
        "          + a10 + a11 + a12 + a13 + a14\n",
        "          + a15 + a16 + a17 + a18 + a19);\n",
        "}\n",
        ""
      ],
      "execution_count": null,
      "outputs": []
    },
    {
      "cell_type": "code",
      "metadata": {
        "kernel": "Bash",
        "nbgrader": {
          "grade": false,
          "grade_id": "c-016",
          "locked": false,
          "schema_version": 3,
          "solution": false,
          "task": false
        }
      },
      "source": [
        "gcc -O3 -S args_many.c\n",
        "cat args_many.s"
      ],
      "execution_count": null,
      "outputs": []
    },
    {
      "cell_type": "markdown",
      "metadata": {
        "kernel": "SoS",
        "nbgrader": {
          "grade": false,
          "grade_id": "c-017",
          "locked": true,
          "schema_version": 3,
          "solution": false,
          "task": false
        }
      },
      "source": [
        "* it seems that the first eight parameters are passed by registers\n",
        "* eighth and further registers are passed via the stack, specifically addresses starting from the address in `sp` upon entry to the function\n",
        "\n",
        "\n",
        "<a name=\"pointer\"> </a>\n",
        "# 4. Pointers",
        "\n",
        "* if you have trouble understanding pointers in C language, read the following and the scales may fall from your eyes\n",
        "* motto is \"pointers are just integers and nothing more than that\"\n",
        "\n",
        "<a name=\"pointer_deref\"></a>\n",
        "## 4-1. pointer dereferencing",
        ""
      ]
    },
    {
      "cell_type": "code",
      "metadata": {
        "kernel": "Python 3 (ipykernel)",
        "nbgrader": {
          "grade": false,
          "grade_id": "c-018",
          "locked": false,
          "schema_version": 3,
          "solution": false,
          "task": false
        }
      },
      "source": [
        "%%writefile ptr_deref.c \n",
        "long long_ptr_deref(long * p) {\n",
        "  return *p;\n",
        "}"
      ],
      "execution_count": null,
      "outputs": []
    },
    {
      "cell_type": "code",
      "metadata": {
        "kernel": "Bash",
        "nbgrader": {
          "grade": false,
          "grade_id": "c-019",
          "locked": false,
          "schema_version": 3,
          "solution": false,
          "task": false
        }
      },
      "source": [
        "gcc -O3 -S ptr_deref.c \n",
        "cat ptr_deref.s"
      ],
      "execution_count": null,
      "outputs": []
    },
    {
      "cell_type": "markdown",
      "metadata": {
        "kernel": "SoS",
        "nbgrader": {
          "grade": false,
          "grade_id": "c-020",
          "locked": true,
          "schema_version": 3,
          "solution": false,
          "task": false
        }
      },
      "source": [
        "* what is generated from `*p` seems \n",
        "```\n",
        "        ldr     x0, [x0]\n",
        "```\n",
        "which is a _<font color=\"blue\">load instruction</font>_ that reads the eight bytes at the address in `x0` and puts the value on `x0`. the following is therefore observed\n",
        "\n",
        "* __points you learned:__\n",
        " 1. a pointer parameter (`p`) is passed by `x0`, just like an integer parameter\n",
        " 1. a pointer value of C is in fact an \"address\", which is merely an integer in the assembly code level\n",
        " 1. dereferencing a pointer `p` (*p) refers to the value stored at the address in pointer `p`.  a load instruction is therefore used to extract the value\n",
        "\n",
        "## 4-2. accessing an array element = pointer dereferencing",
        "\n",
        "* various superficially different expressions in C all end up reading certain addresses\n",
        "* referencing an array element, for example\n",
        ""
      ]
    },
    {
      "cell_type": "code",
      "metadata": {
        "kernel": "Python 3 (ipykernel)",
        "nbgrader": {
          "grade": false,
          "grade_id": "c-021",
          "locked": false,
          "schema_version": 3,
          "solution": false,
          "task": false
        }
      },
      "source": [
        "%%writefile array_index_long.c\n",
        "long array_index_long(long * p) {\n",
        "  return p[0] + p[10];\n",
        "}"
      ],
      "execution_count": null,
      "outputs": []
    },
    {
      "cell_type": "code",
      "metadata": {
        "kernel": "Bash",
        "nbgrader": {
          "grade": false,
          "grade_id": "c-022",
          "locked": false,
          "schema_version": 3,
          "solution": false,
          "task": false
        }
      },
      "source": [
        "gcc -O3 -S array_index_long.c\n",
        "cat array_index_long.s"
      ],
      "execution_count": null,
      "outputs": []
    },
    {
      "cell_type": "markdown",
      "metadata": {
        "kernel": "SoS",
        "nbgrader": {
          "grade": false,
          "grade_id": "c-023",
          "locked": true,
          "schema_version": 3,
          "solution": false,
          "task": false
        }
      },
      "source": [
        "* what is generated for\n",
        "```\n",
        "    p[0] + p[10];\n",
        "```\n",
        "appears \n",
        "```\n",
        "        ldr     x1, [x0]\n",
        "        ldr     x0, [x0, 80]\n",
        "        add     x0, x1, x0\n",
        "```\n",
        "* the first instruction\n",
        "```\n",
        "        ldr     x1, [x0]\n",
        "```\n",
        "reads eight bytes from the address in `x0`, the second from the address in `x0 + 80`. the reason for `+ 80` is that a single long takes eight bytes\n",
        "* the third instruction\n",
        "```\n",
        "        add     x0, x1, x0\n",
        "```\n",
        "adds the two numbers\n",
        "* note that `*p` and `p[0]` end up using the same instruction\n",
        "* this is where a famous narrative about C \"arrays are pointers\" comes from\n",
        "\n",
        "* let's do the same thing for pointers to `int` (32 bit integer)\n",
        ""
      ]
    },
    {
      "cell_type": "code",
      "metadata": {
        "kernel": "Python 3 (ipykernel)",
        "nbgrader": {
          "grade": false,
          "grade_id": "c-024",
          "locked": false,
          "schema_version": 3,
          "solution": false,
          "task": false
        }
      },
      "source": [
        "%%writefile array_index_int.c\n",
        "int array_index_int(int * p) {\n",
        "  return p[0] + p[10];\n",
        "}"
      ],
      "execution_count": null,
      "outputs": []
    },
    {
      "cell_type": "code",
      "metadata": {
        "kernel": "Bash",
        "nbgrader": {
          "grade": false,
          "grade_id": "c-025",
          "locked": false,
          "schema_version": 3,
          "solution": false,
          "task": false
        }
      },
      "source": [
        "gcc -O3 -S array_index_int.c\n",
        "cat array_index_int.s"
      ],
      "execution_count": null,
      "outputs": []
    },
    {
      "cell_type": "markdown",
      "metadata": {
        "kernel": "SoS",
        "nbgrader": {
          "grade": false,
          "grade_id": "c-026",
          "locked": true,
          "schema_version": 3,
          "solution": false,
          "task": false
        }
      },
      "source": [
        "* the only differences that arise by the size of `int`, which is four bytes, are that\n",
        " * the destination registers are `w` registers\n",
        " * the offset used for `p[10]` is 40 instead of 80\n",
        "\n",
        "## 4-3. accessing a structure field $\\approx$ pointer dereferencing",
        "\n",
        "* accessing a structure field through a pointer, like `p->x` is another expression ending up with a similar instruction\n",
        ""
      ]
    },
    {
      "cell_type": "code",
      "metadata": {
        "kernel": "Python 3 (ipykernel)",
        "nbgrader": {
          "grade": false,
          "grade_id": "c-027",
          "locked": false,
          "schema_version": 3,
          "solution": false,
          "task": false
        }
      },
      "source": [
        "%%writefile struct_field.c\n",
        "typedef struct {\n",
        "  long x;\n",
        "  long y;\n",
        "  long z;\n",
        "} point;\n",
        "  \n",
        "long struct_field(point * p) {\n",
        "  return p->x + p->y + p->z;\n",
        "}"
      ],
      "execution_count": null,
      "outputs": []
    },
    {
      "cell_type": "code",
      "metadata": {
        "kernel": "Bash",
        "nbgrader": {
          "grade": false,
          "grade_id": "c-028",
          "locked": false,
          "schema_version": 3,
          "solution": false,
          "task": false
        }
      },
      "source": [
        "gcc -O3 -S struct_field.c\n",
        "cat struct_field.s"
      ],
      "execution_count": null,
      "outputs": []
    },
    {
      "cell_type": "markdown",
      "metadata": {
        "kernel": "SoS",
        "nbgrader": {
          "grade": false,
          "grade_id": "c-029",
          "locked": true,
          "schema_version": 3,
          "solution": false,
          "task": false
        }
      },
      "source": [
        "* from the generated instructions, we can observe load instructions access elements as follows\n",
        " * `ldp x1, x3, [x0]` (load pair) for `p->x` and `p->y`\n",
        " * `ldr x2, [x0, 16]` for `p->z`\n",
        "\n",
        "* the reason why these addresses are eight bytes apart is that each of `x` and `y` is eight bytes large\n",
        "\n",
        "* as you can imagine, the same for array of structures\n",
        "* guess what kind of instructions are generated for the function below and see it\n",
        ""
      ]
    },
    {
      "cell_type": "code",
      "metadata": {
        "kernel": "Python 3 (ipykernel)",
        "nbgrader": {
          "grade": false,
          "grade_id": "c-030",
          "locked": false,
          "schema_version": 3,
          "solution": false,
          "task": false
        }
      },
      "source": [
        "%%writefile struct_array_field.c\n",
        "typedef struct {\n",
        "  long x;\n",
        "  long y;\n",
        "  long z;\n",
        "} point;\n",
        "  \n",
        "long struct_array_field(point * p) {\n",
        "  return p[10].x + p[10].y + p[10].z;\n",
        "}"
      ],
      "execution_count": null,
      "outputs": []
    },
    {
      "cell_type": "code",
      "metadata": {
        "kernel": "Bash",
        "nbgrader": {
          "grade": false,
          "grade_id": "c-031",
          "locked": false,
          "schema_version": 3,
          "solution": false,
          "task": false
        }
      },
      "source": [
        "gcc -O3 -S struct_array_field.c\n",
        "cat struct_array_field.s"
      ],
      "execution_count": null,
      "outputs": []
    },
    {
      "cell_type": "markdown",
      "metadata": {
        "kernel": "SoS",
        "nbgrader": {
          "grade": false,
          "grade_id": "c-032",
          "locked": true,
          "schema_version": 3,
          "solution": false,
          "task": false
        }
      },
      "source": [
        "* you can observe that load instructions access elements as follows\n",
        " * `ldr` accesses `x0+240` for `p->x`,\n",
        " * `ldp` accesses `x0+248` for `p->y` and `p->z`\n",
        "\n",
        "* the result is expected, as the size of a structure element is (presumably) 8 bytes x 3 = 24 bytes\n",
        "\n",
        "## 4-4. dereferencing pointers multiple times",
        "\n",
        "* an example of dereferencing pointers multiple times (nothing conceptually new here)\n",
        "* guess what kind of instructions are generated for the function below and see it\n",
        ""
      ]
    },
    {
      "cell_type": "code",
      "metadata": {
        "kernel": "Python 3 (ipykernel)",
        "nbgrader": {
          "grade": false,
          "grade_id": "c-033",
          "locked": false,
          "schema_version": 3,
          "solution": false,
          "task": false
        }
      },
      "source": [
        "%%writefile ptr_ptr.c\n",
        "typedef struct node {\n",
        "  struct node * l;\n",
        "  struct node * r;\n",
        "} node;\n",
        "  \n",
        "node * left_right(node * n) {\n",
        "  return n->l->r;\n",
        "}"
      ],
      "execution_count": null,
      "outputs": []
    },
    {
      "cell_type": "code",
      "metadata": {
        "kernel": "Bash",
        "nbgrader": {
          "grade": false,
          "grade_id": "c-034",
          "locked": false,
          "schema_version": 3,
          "solution": false,
          "task": false
        }
      },
      "source": [
        "gcc -O3 -S ptr_ptr.c\n",
        "cat ptr_ptr.s"
      ],
      "execution_count": null,
      "outputs": []
    },
    {
      "cell_type": "markdown",
      "metadata": {
        "kernel": "SoS",
        "nbgrader": {
          "grade": false,
          "grade_id": "c-035",
          "locked": true,
          "schema_version": 3,
          "solution": false,
          "task": false
        }
      },
      "source": [
        "<a name=\"pointer_deref_assign\"> </a>\n",
        "## 4-5. pointer dereferencing + assignment",
        ""
      ]
    },
    {
      "cell_type": "code",
      "metadata": {
        "kernel": "Python 3 (ipykernel)",
        "nbgrader": {
          "grade": false,
          "grade_id": "c-036",
          "locked": false,
          "schema_version": 3,
          "solution": false,
          "task": false
        }
      },
      "source": [
        "%%writefile struct_array_field_assign.c\n",
        "typedef struct {\n",
        "  long x;\n",
        "  long y;\n",
        "  long z;\n",
        "} point;\n",
        "  \n",
        "void struct_array_field(point * p) {\n",
        "  p[10].x = 30;\n",
        "  p[10].z = 50;\n",
        "}"
      ],
      "execution_count": null,
      "outputs": []
    },
    {
      "cell_type": "code",
      "metadata": {
        "kernel": "Bash",
        "nbgrader": {
          "grade": false,
          "grade_id": "c-037",
          "locked": false,
          "schema_version": 3,
          "solution": false,
          "task": false
        }
      },
      "source": [
        "gcc -O3 -S struct_array_field_assign.c\n",
        "cat struct_array_field_assign.s"
      ],
      "execution_count": null,
      "outputs": []
    },
    {
      "cell_type": "markdown",
      "metadata": {
        "kernel": "SoS",
        "nbgrader": {
          "grade": false,
          "grade_id": "c-038",
          "locked": true,
          "schema_version": 3,
          "solution": false,
          "task": false
        }
      },
      "source": [
        "* what corresponds to\n",
        "```\n",
        "    p[10].x = 30;\n",
        "```\n",
        "appears\n",
        "```\n",
        "        mov     x2, 30\n",
        "        ...\n",
        "        str     x2, [x0, 240]\n",
        "```\n",
        "\n",
        "<a name=\"problem_l2_norm_long\"> </a>\n",
        "# <font color=\"green\"> Problem 2 :  square norm</font>",
        "\n",
        "* write a function `l2_norm_long` in assembly that computes the square norm of three-element vector of longs\n",
        "\n",
        "* in other words, write an assembly code corresponding to the following C function\n",
        "\n",
        "```\n",
        "long l2_norm_long(long * x) {\n",
        "    return x[0] * x[0] + x[1] * x[1] + x[2] * x[2];\n",
        "}\n",
        "```\n",
        ""
      ]
    },
    {
      "cell_type": "code",
      "metadata": {
        "kernel": "Python 3 (ipykernel)",
        "nbgrader": {
          "grade": true,
          "grade_id": "p-006",
          "locked": false,
          "schema_version": 3,
          "solution": true,
          "task": false,
          "points": 1
        }
      },
      "source": [
        "BEGIN SOLUTION\n",
        "END SOLUTION\n",
        "%%writefile l2_norm_long.s\n",
        "\t.arch armv8-a\n",
        "\t.file\t\"l2_norm_long.c\"\n",
        "\t.text\n",
        "\t.align\t2\n",
        "\t.p2align 4,,11\n",
        "\t.global\tl2_norm_long\n",
        "\t.type\tl2_norm_long, %function\n",
        "l2_norm_long:\n",
        ".LFB0:\n",
        "\t.cfi_startproc\n",
        "\t// ------- write your answer here -------\n",
        "\t.cfi_endproc\n",
        ".LFE0:\n",
        "\t.size\tl2_norm_long, .-l2_norm_long\n",
        "\t.ident\t\"GCC: (Ubuntu 13.3.0-6ubuntu2~24.04) 13.3.0\"\n",
        "\t.section\t.note.GNU-stack,\"\",@progbits"
      ],
      "execution_count": null,
      "outputs": []
    },
    {
      "cell_type": "code",
      "metadata": {
        "kernel": "Python 3 (ipykernel)",
        "nbgrader": {
          "grade": true,
          "grade_id": "p-007",
          "locked": false,
          "schema_version": 3,
          "solution": true,
          "task": false,
          "points": 1
        }
      },
      "source": [
        "BEGIN SOLUTION\n",
        "END SOLUTION\n",
        "%%writefile check_l2_norm_long.c\n",
        "#include <assert.h>\n",
        "#include <stdio.h>\n",
        "#include <stdlib.h>\n",
        "long l2_norm_long(long *);\n",
        "\n",
        "int main(int argc, char ** argv) {\n",
        "  assert(argc == 4);\n",
        "  long x[3] = { atol(argv[1]), atol(argv[2]), atol(argv[3]) };\n",
        "  long l2 = l2_norm_long(x);\n",
        "  long l2c = x[0] * x[0] + x[1] * x[1] + x[2] * x[2];\n",
        "  if (l2 == l2c) {\n",
        "    printf(\"OK %ld %ld\\n\", l2, l2c);\n",
        "    return 0;\n",
        "  } else {\n",
        "    printf(\"NG %ld %ld\\n\", l2, l2c);\n",
        "    return 1;\n",
        "  }\n",
        "}"
      ],
      "execution_count": null,
      "outputs": []
    },
    {
      "cell_type": "code",
      "metadata": {
        "kernel": "Bash",
        "nbgrader": {
          "grade": true,
          "grade_id": "p-008",
          "locked": false,
          "schema_version": 3,
          "solution": true,
          "task": false,
          "points": 1
        }
      },
      "source": [
        "BEGIN SOLUTION\n",
        "END SOLUTION\n",
        "gcc -o check_l2_norm_long -O3 check_l2_norm_long.c l2_norm_long.s"
      ],
      "execution_count": null,
      "outputs": []
    },
    {
      "cell_type": "code",
      "metadata": {
        "kernel": "Bash",
        "nbgrader": {
          "grade": true,
          "grade_id": "p-009",
          "locked": false,
          "schema_version": 3,
          "solution": true,
          "task": false,
          "points": 1
        }
      },
      "source": [
        "BEGIN SOLUTION\n",
        "END SOLUTION\n",
        "./check_l2_norm_long 1 2 3\n",
        "./check_l2_norm_long 3 4 5"
      ],
      "execution_count": null,
      "outputs": []
    },
    {
      "cell_type": "markdown",
      "metadata": {
        "kernel": "SoS",
        "nbgrader": {
          "grade": false,
          "grade_id": "c-039",
          "locked": true,
          "schema_version": 3,
          "solution": false,
          "task": false
        }
      },
      "source": [
        "<a name=\"function_calls\"> </a>\n",
        "# 5. Function calls",
        "\n",
        "* if a function calls another function, the assembly code for the function becomes more complex\n",
        "* this is because:\n",
        "  * it overwrites `x30` (link register) to call a function with `bl` instruction,\n",
        "  * which means it has to preserve `x30` on the stack before doing so,\n",
        "  * which in turn means it has to extend the stack (`sp`) and set the frame pointer (`x29`) to the same address,\n",
        "  * which then means it has to preserve `x29` on the stack, too\n",
        "* in summary, it has to do something like\n",
        "```\n",
        "        stp     x29, x30, [sp, -16]!\n",
        "```\n",
        "to extend the stack and preserve `x29` and `x30` before making a function call and restore them before it returns\n",
        "* observe this in the following simple example\n",
        ""
      ]
    },
    {
      "cell_type": "code",
      "metadata": {
        "kernel": "Python 3 (ipykernel)",
        "nbgrader": {
          "grade": false,
          "grade_id": "c-040",
          "locked": false,
          "schema_version": 3,
          "solution": false,
          "task": false
        }
      },
      "source": [
        "%%writefile sigmoid.c\n",
        "#include <math.h>\n",
        "\n",
        "double sigmoid(double x) {\n",
        "  return 1.0 / (1.0 + exp(-x));\n",
        "}"
      ],
      "execution_count": null,
      "outputs": []
    },
    {
      "cell_type": "code",
      "metadata": {
        "kernel": "Bash",
        "nbgrader": {
          "grade": false,
          "grade_id": "c-041",
          "locked": false,
          "schema_version": 3,
          "solution": false,
          "task": false
        }
      },
      "source": [
        "gcc -O3 -S sigmoid.c\n",
        "cat sigmoid.s"
      ],
      "execution_count": null,
      "outputs": []
    },
    {
      "cell_type": "markdown",
      "metadata": {
        "kernel": "SoS",
        "nbgrader": {
          "grade": false,
          "grade_id": "c-042",
          "locked": true,
          "schema_version": 3,
          "solution": false,
          "task": false
        }
      },
      "source": [
        "* for details, study how a function call works explained in [How Programming Languages Work (Basics)](https://taura.github.io/programming-languages/slides/05-implementation-basics.pdf) slide deck\n",
        "\n",
        "<a name=\"compilation_framework\"> </a>\n",
        "# 6. A general framework for hand-compilation",
        "\n",
        "* the following problems will be too complex to tackle without a general _framework_ or tactic\n",
        "* the main gaps between high level languages and assembly language are\n",
        "  + assembly language does not have structured compound statements but have branch instructions ($\\approx$ goto statement) only\n",
        "  + assembly language does not allow nested expressions\n",
        "  + assembly language does not allow to introduce new variables but only has a fixed number of variables of fixed names (i.e., registers)\n",
        "* when hand-compiling, filling the three gaps simultanesouly is overwhelming\n",
        "* instead, convert the source program one step at a time by\n",
        "  + converting loops and if statements into goto's,\n",
        "  + breaking nested expressions into a series of simple assignments (`a * x + b * y` $\\rightarrow$ `s = a * x; t = b * y; u = s + t`),\n",
        "  + and assining registers to variables\n",
        "* also, when you call a function, save values necessary after the call into the stack\n",
        "\n",
        "<a name=\"problem_normal_dist\"> </a>\n",
        "# <font color=\"green\"> Problem 3 :  normal distribution</font>",
        "\n",
        "* write a function that takes a floating-point (`double`) number $x$ and calculates the following value\n",
        "$$ \\mbox{normal}(x) \\equiv \\frac{1}{\\sqrt{2\\pi}}\\exp(-x^2/2) $$\n",
        "\n",
        "* to obtain the value of $\\pi$, use $\\pi/4 = \\atan2(1.0, 1.0)$\n",
        "* in other words, \n",
        "\n",
        "$$ \\mbox{normal}(x) = \\frac{1}{\\sqrt{8 \\;\\mbox{atan2}(1.0, 1.0)}} \\exp(-x^2/2) $$\n",
        "\n",
        "* see the `normal_c` below for the equivalent C function (your jobs is to write sum_array in assembly language equivalent to it)\n",
        ""
      ]
    },
    {
      "cell_type": "code",
      "metadata": {
        "kernel": "Python 3 (ipykernel)",
        "nbgrader": {
          "grade": true,
          "grade_id": "p-010",
          "locked": false,
          "schema_version": 3,
          "solution": true,
          "task": false,
          "points": 1
        }
      },
      "source": [
        "BEGIN SOLUTION\n",
        "END SOLUTION\n",
        "%%writefile normal.s\n",
        "\t.arch armv8-a\n",
        "\t.file\t\"normal.c\"\n",
        "\t.text\n",
        "\t.align\t2\n",
        "\t.p2align 4,,11\n",
        "\t.global\tnormal\n",
        "\t.type\tnormal, %function\n",
        "normal:\n",
        ".LFB0:\n",
        "\t.cfi_startproc\n",
        "\t// ------- write your answer here -------\n",
        "\t.cfi_endproc\n",
        ".LFE0:\n",
        "\t.size\tnormal, .-normal\n",
        "\t.section\t.rodata.cst8,\"aM\",@progbits,8\n",
        "\t.align\t3\n",
        ".LC0:\n",
        "\t.word\t536225541\n",
        "\t.word\t1074007443\n",
        "\t.ident\t\"GCC: (Ubuntu 13.3.0-6ubuntu2~24.04) 13.3.0\"\n",
        "\t.section\t.note.GNU-stack,\"\",@progbits"
      ],
      "execution_count": null,
      "outputs": []
    },
    {
      "cell_type": "code",
      "metadata": {
        "kernel": "Python 3 (ipykernel)",
        "nbgrader": {
          "grade": true,
          "grade_id": "p-011",
          "locked": false,
          "schema_version": 3,
          "solution": true,
          "task": false,
          "points": 1
        }
      },
      "source": [
        "BEGIN SOLUTION\n",
        "END SOLUTION\n",
        "%%writefile check_normal.c\n",
        "#include <assert.h>\n",
        "#include <stdio.h>\n",
        "#include <stdlib.h>\n",
        "#include <math.h>\n",
        "double normal(double x);\n",
        "\n",
        "double normal_c(double x) {\n",
        "  return exp(- x * x * 0.5) / sqrt(8.0 * atan2(1.0, 1.0));\n",
        "}\n",
        "\n",
        "int main(int argc, char ** argv) {\n",
        "  assert(argc == 2);\n",
        "  double x = atof(argv[1]);\n",
        "  double y = normal(x);\n",
        "  double yc = normal_c(x);\n",
        "  if (fabs(y - yc) < 1.0e-6) {\n",
        "    printf(\"OK %f %f\\n\", y, yc);\n",
        "    return 0;\n",
        "  } else {\n",
        "    printf(\"NG %f %f\\n\", y, yc);\n",
        "    return 1;\n",
        "  }\n",
        "}"
      ],
      "execution_count": null,
      "outputs": []
    },
    {
      "cell_type": "code",
      "metadata": {
        "kernel": "Bash",
        "nbgrader": {
          "grade": true,
          "grade_id": "p-012",
          "locked": false,
          "schema_version": 3,
          "solution": true,
          "task": false,
          "points": 1
        }
      },
      "source": [
        "BEGIN SOLUTION\n",
        "END SOLUTION\n",
        "gcc -o check_normal -O3 check_normal.c normal.s -lm"
      ],
      "execution_count": null,
      "outputs": []
    },
    {
      "cell_type": "code",
      "metadata": {
        "kernel": "Bash",
        "nbgrader": {
          "grade": true,
          "grade_id": "p-013",
          "locked": false,
          "schema_version": 3,
          "solution": true,
          "task": false,
          "points": 1
        }
      },
      "source": [
        "BEGIN SOLUTION\n",
        "END SOLUTION\n",
        "./check_normal 0.0\n",
        "./check_normal 1.0\n",
        "./check_normal 2.0"
      ],
      "execution_count": null,
      "outputs": []
    },
    {
      "cell_type": "markdown",
      "metadata": {
        "kernel": "SoS",
        "nbgrader": {
          "grade": false,
          "grade_id": "c-043",
          "locked": true,
          "schema_version": 3,
          "solution": false,
          "task": false
        }
      },
      "source": [
        "<a name=\"control_flows\"> </a>\n",
        "# 7. Control flows",
        "\n",
        "* how control flows such as if statements or loops (while or for) are compiled?\n",
        "\n",
        "<a name=\"if_stmt_conditional\"> </a>\n",
        "## 7-1. if statement (by conditional branch instruction)",
        ""
      ]
    },
    {
      "cell_type": "code",
      "metadata": {
        "kernel": "Python 3 (ipykernel)",
        "nbgrader": {
          "grade": false,
          "grade_id": "c-044",
          "locked": false,
          "schema_version": 3,
          "solution": false,
          "task": false
        }
      },
      "source": [
        "%%writefile branch.c\n",
        "long g(long x, long y) {\n",
        "  if (y <= 5) {\n",
        "    return 0;\n",
        "  } else {\n",
        "    return x / (y - 5);\n",
        "  }\n",
        "}"
      ],
      "execution_count": null,
      "outputs": []
    },
    {
      "cell_type": "code",
      "metadata": {
        "kernel": "Bash",
        "nbgrader": {
          "grade": false,
          "grade_id": "c-045",
          "locked": false,
          "schema_version": 3,
          "solution": false,
          "task": false
        }
      },
      "source": [
        "gcc -O3 -S branch.c\n",
        "cat branch.s"
      ],
      "execution_count": null,
      "outputs": []
    },
    {
      "cell_type": "markdown",
      "metadata": {
        "kernel": "SoS",
        "nbgrader": {
          "grade": false,
          "grade_id": "c-046",
          "locked": true,
          "schema_version": 3,
          "solution": false,
          "task": false
        }
      },
      "source": [
        "* you may observe unremarkable compare-then-conditional-branch structure\n",
        "\n",
        "```\n",
        "        cmp     x1, 5   # y - 5\n",
        "        ble     .L3     # if (y - 5 <= 0.0) goto .L3\n",
        "        ...\n",
        ".L3:\n",
        "        ...\n",
        "```\n",
        "\n",
        "<a name=\"if_stmt_conditional\"> </a>\n",
        "## 7-2. if statement (without conditional branch instruction)",
        "\n",
        "* superscalar processors speculatively decode instructions much ahead of currently executing instructions\n",
        "* when they encounter a branch instruction, they \"predict\" the branch outcome (whether the branch is taken or not) and decode the instructions on the predicted path\n",
        "* mispredicting the branch outcome results in rolling back the processor state to the state before the branch, which degrades performance\n",
        "* as such, compilers try to avoid branch instructions where profitable and use _conditional instructions_ instead\n",
        ""
      ]
    },
    {
      "cell_type": "code",
      "metadata": {
        "kernel": "Python 3 (ipykernel)",
        "nbgrader": {
          "grade": false,
          "grade_id": "c-047",
          "locked": false,
          "schema_version": 3,
          "solution": false,
          "task": false
        }
      },
      "source": [
        "%%writefile add_or_mul_long.c\n",
        "long add_or_mul_long(long x, long y, long z) {\n",
        "  if (x < y) {\n",
        "    return y + z;\n",
        "  } else {\n",
        "    return y * z;\n",
        "  }\n",
        "}"
      ],
      "execution_count": null,
      "outputs": []
    },
    {
      "cell_type": "code",
      "metadata": {
        "kernel": "Bash",
        "nbgrader": {
          "grade": false,
          "grade_id": "c-048",
          "locked": false,
          "schema_version": 3,
          "solution": false,
          "task": false
        }
      },
      "source": [
        "gcc -O3 -S add_or_mul_long.c\n",
        "cat add_or_mul_long.s"
      ],
      "execution_count": null,
      "outputs": []
    },
    {
      "cell_type": "markdown",
      "metadata": {
        "kernel": "SoS",
        "nbgrader": {
          "grade": false,
          "grade_id": "c-049",
          "locked": true,
          "schema_version": 3,
          "solution": false,
          "task": false
        }
      },
      "source": [
        "* the point is `csel x0,x1,x3, ge` (\"conditional select\") instruction that sets either `x1` or `x3` to `x0`, depending on the value in the condition code register (= the result of the last `cmp` instruction)\n",
        "* more specifically\n",
        "```\n",
        "        cmp     x0, x1          # x0 - x1\n",
        "        ...\n",
        "        csel    x0, x1, x3, ge\n",
        "```\n",
        "the above `csel` effectively performs\n",
        "```\n",
        "x0 = (x0 - x1 >= 0 ? x1 : x3) \n",
        "```\n",
        "* note that the generated code calculates _both_ `y + z` _and_ `y * z` to avoid branch instructions\n",
        "* this is profitable as both expressions are cheap; if one branch incurs a large or unknown cost, it is not profitable to do so\n",
        "\n",
        "<a name=\"cmp_floats\"> </a>\n",
        "## 7-3. comparing floating-point numbers",
        "\n",
        "* if you think you need different instructions to compare floating-point numbers, you are getting used to assembly languages\n",
        "* do not think you have to remember each of them, let `gcc -S` teach you instruction name and google it\n",
        ""
      ]
    },
    {
      "cell_type": "code",
      "metadata": {
        "kernel": "Python 3 (ipykernel)",
        "nbgrader": {
          "grade": false,
          "grade_id": "c-050",
          "locked": false,
          "schema_version": 3,
          "solution": false,
          "task": false
        }
      },
      "source": [
        "%%writefile add_or_mul_double.c\n",
        "double add_or_mul_double(double x, double y, double z) {\n",
        "  if (x < y) {\n",
        "    return y + z;\n",
        "  } else {\n",
        "    return y * z;\n",
        "  }\n",
        "}"
      ],
      "execution_count": null,
      "outputs": []
    },
    {
      "cell_type": "code",
      "metadata": {
        "kernel": "Bash",
        "nbgrader": {
          "grade": false,
          "grade_id": "c-051",
          "locked": false,
          "schema_version": 3,
          "solution": false,
          "task": false
        }
      },
      "source": [
        "gcc -O3 -S add_or_mul_double.c\n",
        "cat add_or_mul_double.s"
      ],
      "execution_count": null,
      "outputs": []
    },
    {
      "cell_type": "markdown",
      "metadata": {
        "kernel": "SoS",
        "nbgrader": {
          "grade": false,
          "grade_id": "c-052",
          "locked": true,
          "schema_version": 3,
          "solution": false,
          "task": false
        }
      },
      "source": [
        "* observe that `fcmpe` is the comparison instruction\n",
        "\n",
        "<a name=\"loops\"> </a>\n",
        "## 7-4. loops (while and for)",
        "\n",
        "* in assembly languages, loops are made of comparison and conditional branches just as if statements are\n",
        ""
      ]
    },
    {
      "cell_type": "code",
      "metadata": {
        "kernel": "Python 3 (ipykernel)",
        "nbgrader": {
          "grade": false,
          "grade_id": "c-053",
          "locked": false,
          "schema_version": 3,
          "solution": false,
          "task": false
        }
      },
      "source": [
        "%%writefile fact.c\n",
        "long fact (long n) {\n",
        "  long i = 1;\n",
        "  long p = 1;\n",
        "  while (i <= n) {\n",
        "    p = p * i;\n",
        "    i = i + 1;\n",
        "  }\n",
        "  return p;\n",
        "}"
      ],
      "execution_count": null,
      "outputs": []
    },
    {
      "cell_type": "code",
      "metadata": {
        "kernel": "Bash",
        "nbgrader": {
          "grade": false,
          "grade_id": "c-054",
          "locked": false,
          "schema_version": 3,
          "solution": false,
          "task": false
        }
      },
      "source": [
        "gcc -O3 -S fact.c\n",
        "cat fact.s"
      ],
      "execution_count": null,
      "outputs": []
    },
    {
      "cell_type": "markdown",
      "metadata": {
        "kernel": "SoS",
        "nbgrader": {
          "grade": false,
          "grade_id": "c-055",
          "locked": true,
          "schema_version": 3,
          "solution": false,
          "task": false
        }
      },
      "source": [
        "* comments to generated instructions\n",
        "\n",
        "```\n",
        "fact:\n",
        ".LFB0:\n",
        "        .cfi_startproc\n",
        "        cmp     x0, 0      # cc = n - 0\n",
        "        ble     .L4        # if (n - 0 <= 0) goto .L4\n",
        "        add     x2, x0, 1  # x2 = n + 1\n",
        "        mov     x0, 1      # x0 = 1  (x0 <-> p)\n",
        "        mov     x1, x0     # x1 = x0 (x1 <-> i)\n",
        "        .p2align 3,,7\n",
        ".L3:\n",
        "        mul     x0, x0, x1 # x0 = x0 * x1 (p = p * i)\n",
        "        add     x1, x1, 1  # x1 = x1 + 1  (i = i + 1)\n",
        "        cmp     x1, x2     # cc = x1 - x2 (cc = i - (n + 1))\n",
        "        bne     .L3        # if (i - (n + 1) != 0) goto .L3\n",
        "        ret\n",
        "        .p2align 2,,3\n",
        ".L4:\n",
        "        mov     x0, 1\n",
        "        ret\n",
        "```\n",
        "\n",
        "* in general\n",
        "```\n",
        "while (condition) \n",
        "    S;\n",
        "```\n",
        "is equivalent to\n",
        "```\n",
        "    goto LC;\n",
        "LB:\n",
        "    S;\n",
        "LC:\n",
        "    c = condition;\n",
        "    if (c) goto LB;\n",
        "```\n",
        "and you can translate $S$ and _condition_\n",
        "\n",
        "* the following code is more common (both are correct)\n",
        "\n",
        "```\n",
        "    c = condition;\n",
        "    if (!c) goto LE;\n",
        "LB:\n",
        "    S;\n",
        "    c = condition;\n",
        "    if (c) goto LB;\n",
        "LE:\n",
        "```\n",
        "\n",
        "* for-statement has a different syntax but is a special case of while-statement\n",
        "\n",
        "```\n",
        "for (init ; condition; increment)\n",
        "    S;\n",
        "```\n",
        "\n",
        "is equivalent to\n",
        "\n",
        "```\n",
        "init;\n",
        "while (condition) {\n",
        "    S;\n",
        "    increment;\n",
        "}\n",
        "```\n",
        ""
      ]
    },
    {
      "cell_type": "code",
      "metadata": {
        "kernel": "Python 3 (ipykernel)",
        "nbgrader": {
          "grade": false,
          "grade_id": "c-056",
          "locked": false,
          "schema_version": 3,
          "solution": false,
          "task": false
        }
      },
      "source": [
        "%%writefile ax_b.c\n",
        "double ax_b(double x0, double a, double b, long n) {\n",
        "  double x = x0;\n",
        "  for (long i = 0; i < n; i++) {\n",
        "    x = a * x + b;\n",
        "  }\n",
        "  return x;\n",
        "}"
      ],
      "execution_count": null,
      "outputs": []
    },
    {
      "cell_type": "code",
      "metadata": {
        "kernel": "Bash",
        "nbgrader": {
          "grade": false,
          "grade_id": "c-057",
          "locked": false,
          "schema_version": 3,
          "solution": false,
          "task": false
        }
      },
      "source": [
        "gcc -O3 -S ax_b.c\n",
        "cat ax_b.s"
      ],
      "execution_count": null,
      "outputs": []
    },
    {
      "cell_type": "markdown",
      "metadata": {
        "kernel": "SoS",
        "nbgrader": {
          "grade": false,
          "grade_id": "c-058",
          "locked": true,
          "schema_version": 3,
          "solution": false,
          "task": false
        }
      },
      "source": [
        "<a name=\"problem_sum_array_long\"> </a>\n",
        "# <font color=\"green\"> Problem 4 :  sum of long arrays</font>",
        "\n",
        "* write a function `sum_array(a, n)` that computes the sum of an n-element array of longs `a` in assembly\n",
        "* see the `sum_array_c` below for the equivalent C function (your jobs is to write sum_array in assembly language equivalent to it)\n",
        ""
      ]
    },
    {
      "cell_type": "code",
      "metadata": {
        "kernel": "Python 3 (ipykernel)",
        "nbgrader": {
          "grade": true,
          "grade_id": "p-014",
          "locked": false,
          "schema_version": 3,
          "solution": true,
          "task": false,
          "points": 1
        }
      },
      "source": [
        "BEGIN SOLUTION\n",
        "END SOLUTION\n",
        "%%writefile sum_array.s\n",
        "\t.arch armv8-a\n",
        "\t.file\t\"sum_array.c\"\n",
        "\t.text\n",
        "\t.align\t2\n",
        "\t.p2align 4,,11\n",
        "\t.global\tsum_array\n",
        "\t.type\tsum_array, %function\n",
        "sum_array:\n",
        ".LFB0:\n",
        "\t// ------- write your answer here -------\n",
        "\t.cfi_endproc\n",
        ".LFE0:\n",
        "\t.size\tsum_array, .-sum_array\n",
        "\t.ident\t\"GCC: (Ubuntu 13.3.0-6ubuntu2~24.04) 13.3.0\"\n",
        "\t.section\t.note.GNU-stack,\"\",@progbits"
      ],
      "execution_count": null,
      "outputs": []
    },
    {
      "cell_type": "code",
      "metadata": {
        "kernel": "Python 3 (ipykernel)",
        "nbgrader": {
          "grade": true,
          "grade_id": "p-015",
          "locked": false,
          "schema_version": 3,
          "solution": true,
          "task": false,
          "points": 1
        }
      },
      "source": [
        "BEGIN SOLUTION\n",
        "END SOLUTION\n",
        "%%writefile check_sum_array.c\n",
        "#include <assert.h>\n",
        "#include <stdio.h>\n",
        "#include <stdlib.h>\n",
        "long sum_array(long *, long);\n",
        "\n",
        "long sum_array_c(long * a, long n) {\n",
        "  long s = 0;\n",
        "  for (long i = 0; i < n; i++) {\n",
        "    s += a[i];\n",
        "  }\n",
        "  return s;\n",
        "}\n",
        "\n",
        "int main(int argc, char ** argv) {\n",
        "  long n = argc - 1;\n",
        "  long * a = (long *)malloc(sizeof(long) * n);\n",
        "  for (long i = 0; i < n; i++) {\n",
        "    a[i] = atol(argv[i + 1]);\n",
        "  }\n",
        "  long sa = sum_array(a, n);\n",
        "  long sa_c = sum_array_c(a, n);\n",
        "  if (sa == sa_c) {\n",
        "    printf(\"OK %ld %ld\\n\", sa, sa_c);\n",
        "    return 0;\n",
        "  } else {\n",
        "    printf(\"NG %ld %ld\\n\", sa, sa_c);\n",
        "    return 1;\n",
        "  }\n",
        "}"
      ],
      "execution_count": null,
      "outputs": []
    },
    {
      "cell_type": "code",
      "metadata": {
        "kernel": "Bash",
        "nbgrader": {
          "grade": true,
          "grade_id": "p-016",
          "locked": false,
          "schema_version": 3,
          "solution": true,
          "task": false,
          "points": 1
        }
      },
      "source": [
        "BEGIN SOLUTION\n",
        "END SOLUTION\n",
        "gcc -o check_sum_array -O3 check_sum_array.c sum_array.s"
      ],
      "execution_count": null,
      "outputs": []
    },
    {
      "cell_type": "code",
      "metadata": {
        "kernel": "Bash",
        "nbgrader": {
          "grade": true,
          "grade_id": "p-017",
          "locked": false,
          "schema_version": 3,
          "solution": true,
          "task": false,
          "points": 1
        }
      },
      "source": [
        "BEGIN SOLUTION\n",
        "END SOLUTION\n",
        "./check_sum_array 1 2 3 4 5\n",
        "./check_sum_array 1 2 3 4 5 -6\n",
        "./check_sum_array 1 -2 3 -4 5 -6 7"
      ],
      "execution_count": null,
      "outputs": []
    },
    {
      "cell_type": "markdown",
      "metadata": {
        "kernel": "SoS",
        "nbgrader": {
          "grade": false,
          "grade_id": "c-059",
          "locked": true,
          "schema_version": 3,
          "solution": false,
          "task": false
        }
      },
      "source": [
        "<a name=\"problem_max_array_double\"> </a>\n",
        "# <font color=\"green\"> Problem 5 :  maximum value in double array</font>",
        "\n",
        "* write a function `max_array(a, n)` that computes the maximum value of an n-element array of doubles `a` in assembly\n",
        "* you may assume all elements are positive and return 0 if there are no elements (i.e., n = 0)\n",
        "* see `max_array_c` for an equivalent C function\n",
        ""
      ]
    },
    {
      "cell_type": "code",
      "metadata": {
        "kernel": "Python 3 (ipykernel)",
        "nbgrader": {
          "grade": true,
          "grade_id": "p-018",
          "locked": false,
          "schema_version": 3,
          "solution": true,
          "task": false,
          "points": 1
        }
      },
      "source": [
        "BEGIN SOLUTION\n",
        "END SOLUTION\n",
        "%%writefile max_array.s\n",
        "\t.file\t\"max_array.c\"\n",
        "\t.text\n",
        "\t.globl\tmax_array\n",
        "\t.type\tmax_array, @function\n",
        "max_array:\n",
        ".LFB0:\n",
        "\t.cfi_startproc\n",
        "/* ------- 解答をここに書く. write your answer here ------- */\n",
        "\n",
        "\t.cfi_endproc\n",
        ".LFE0:\n",
        "\t.size\tmax_array, .-max_array\n",
        "\t.ident\t\"GCC: (Ubuntu 7.4.0-1ubuntu1~18.04.1) 7.4.0\"\n",
        "\t.section\t.note.GNU-stack,\"\",@progbits"
      ],
      "execution_count": null,
      "outputs": []
    },
    {
      "cell_type": "code",
      "metadata": {
        "kernel": "Python 3 (ipykernel)",
        "nbgrader": {
          "grade": true,
          "grade_id": "p-019",
          "locked": false,
          "schema_version": 3,
          "solution": true,
          "task": false,
          "points": 1
        }
      },
      "source": [
        "BEGIN SOLUTION\n",
        "END SOLUTION\n",
        "%%writefile check_max_array.c\n",
        "#include <assert.h>\n",
        "#include <stdio.h>\n",
        "#include <stdlib.h>\n",
        "double max_array(double *, long);\n",
        "\n",
        "double max_array_c(double * a, long n) {\n",
        "  double m = 0.0;\n",
        "  for (long i = 0; i < n; i++) {\n",
        "    if (a[i] > m) m = a[i];\n",
        "  }\n",
        "  return m;\n",
        "}\n",
        "\n",
        "int main(int argc, char ** argv) {\n",
        "  long n = argc - 1;\n",
        "  double * a = (double *)malloc(sizeof(double) * n);\n",
        "  for (long i = 0; i < n; i++) {\n",
        "    a[i] = atof(argv[i + 1]);\n",
        "  }\n",
        "  double ma = max_array(a, n);\n",
        "  double ma_c = max_array_c(a, n);\n",
        "  if (ma == ma_c) {\n",
        "    printf(\"OK %f %f\\n\", ma, ma_c);\n",
        "    return 0;\n",
        "  } else {\n",
        "    printf(\"NG %f %f\\n\", ma, ma_c);\n",
        "    return 1;\n",
        "  }\n",
        "}"
      ],
      "execution_count": null,
      "outputs": []
    },
    {
      "cell_type": "code",
      "metadata": {
        "kernel": "Bash",
        "nbgrader": {
          "grade": true,
          "grade_id": "p-020",
          "locked": false,
          "schema_version": 3,
          "solution": true,
          "task": false,
          "points": 1
        }
      },
      "source": [
        "BEGIN SOLUTION\n",
        "END SOLUTION\n",
        "gcc -o check_max_array -O3 check_max_array.c max_array.s"
      ],
      "execution_count": null,
      "outputs": []
    },
    {
      "cell_type": "code",
      "metadata": {
        "kernel": "Bash",
        "nbgrader": {
          "grade": true,
          "grade_id": "p-021",
          "locked": false,
          "schema_version": 3,
          "solution": true,
          "task": false,
          "points": 1
        }
      },
      "source": [
        "BEGIN SOLUTION\n",
        "END SOLUTION\n",
        "./check_max_array 1.2 2.3 3.4\n",
        "./check_max_array 1.2 3.4 2.3\n",
        "./check_max_array 3.4 1.2 2.3\n",
        "./check_max_array"
      ],
      "execution_count": null,
      "outputs": []
    }
  ],
  "metadata": {
    "celltoolbar": "Create Assignment",
    "kernelspec": {
      "display_name": "SoS",
      "language": "sos",
      "name": "sos"
    },
    "language_info": {
      "codemirror_mode": "sos",
      "file_extension": ".sos",
      "mimetype": "text/x-sos",
      "name": "sos",
      "nbconvert_exporter": "sos_notebook.converter.SoS_Exporter",
      "pygments_lexer": "sos"
    },
    "sos": {
      "kernels": [
        [
          "Bash",
          "bash",
          "bash",
          "",
          "shell"
        ],
        [
          "C",
          "c_kernel",
          "c",
          "",
          ""
        ],
        [
          "Go",
          "gophernotes",
          "go",
          "",
          ""
        ],
        [
          "Julia 1.11.4",
          "julia-1.11",
          "julia",
          "",
          ""
        ],
        [
          "OCaml 4.14.2",
          "ocaml-jupyter",
          "OCaml",
          "",
          "text/x-ocaml"
        ],
        [
          "Python 3 (ipykernel)",
          "python3",
          "python3",
          "",
          {
            "name": "ipython",
            "version": 3
          }
        ],
        [
          "Rust",
          "rust",
          "rust",
          "",
          ""
        ]
      ],
      "panel": {
        "displayed": true,
        "height": 0
      },
      "version": "0.23.3"
    }
  },
  "nbformat": 4,
  "nbformat_minor": 4
}