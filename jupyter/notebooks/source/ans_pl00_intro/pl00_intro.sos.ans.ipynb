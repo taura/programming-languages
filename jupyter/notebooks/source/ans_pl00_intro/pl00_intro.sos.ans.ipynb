{
  "cells": [
    {
      "cell_type": "markdown",
      "metadata": {
        "kernel": "SoS",
        "nbgrader": {
          "grade": false,
          "grade_id": "c-001",
          "locked": true,
          "schema_version": 3,
          "solution": false,
          "task": false
        }
      },
      "source": [
        "#  プログラミング言語 演習環境",
        "\n",
        "#  Programming Languages Hands-on Environment",
        ""
      ]
    },
    {
      "cell_type": "markdown",
      "metadata": {
        "kernel": "SoS",
        "nbgrader": {
          "grade": false,
          "grade_id": "c-002",
          "locked": false,
          "schema_version": 3,
          "solution": false,
          "task": false
        }
      },
      "source": [
        "\n",
        "名前と学生証番号を書け. Enter your name and student ID.\n",
        "\n",
        " * 名前 Name:\n",
        " * 学生証番号 Student ID:\n",
        ""
      ]
    },
    {
      "cell_type": "markdown",
      "metadata": {
        "kernel": "SoS",
        "nbgrader": {
          "grade": false,
          "grade_id": "c-003",
          "locked": true,
          "schema_version": 3,
          "solution": false,
          "task": false
        }
      },
      "source": [
        "# 1. このnotebookの使い方 / How this notebook works",
        "\n",
        "## 1-1. セル / Cell",
        "\n",
        "* 以下のような入力欄を「セル」という\n",
        "* SHIFT+ENTERで実行できる\n",
        "\n",
        "<br/>\n",
        "\n",
        "* A textbox like below is called a \"cell\"\n",
        "* Press SHIFT+ENTER to execute it\n",
        "\n",
        "## 1-2. Python セル / Python Cells",
        "\n",
        "* 以下はPythonのコードを書いて実行するセル\n",
        "* セル (またはセル左の余白) をクリックするとページ上部に「Code」, セルの右端上に「Python 3 (ipykernel)」と表示されることを確認せよ\n",
        "\n",
        "<br/>\n",
        "\n",
        "* The cell below is a Python cell, in which you can write and execute Python code\n",
        "* Click on the cell (or somewhere its left) and confirm \"Code\" is selected near the top of the page and \"Python 3 (ipykernel)\" on the upper right end of the cell\n",
        ""
      ]
    },
    {
      "cell_type": "code",
      "metadata": {
        "kernel": "Python 3 (ipykernel)",
        "nbgrader": {
          "grade": false,
          "grade_id": "c-004",
          "locked": false,
          "schema_version": 3,
          "solution": false,
          "task": false
        }
      },
      "source": [
        "def f(x):\n",
        "  return x + 1\n",
        "\n",
        "f(3)"
      ],
      "execution_count": null,
      "outputs": []
    },
    {
      "cell_type": "markdown",
      "metadata": {
        "kernel": "SoS",
        "nbgrader": {
          "grade": false,
          "grade_id": "c-005",
          "locked": true,
          "schema_version": 3,
          "solution": false,
          "task": false
        }
      },
      "source": [
        "* 実行中のセルは, 左に`[*]`と表示され, 終了すると`[2]`のような番号に変わる\n",
        "* `[*]`が表示されている間は他のセルを実行できないことを覚えておこう\n",
        "* 以下のセルを実行して`[*]`を観察しておくこと\n",
        "<br/>\n",
        "\n",
        "* While a cell is executing, `[*]` is shown on the left, which turns into a number like `[2]`\n",
        "* Remember that you cannot execute other cells while `[*]` is shown\n",
        "* Execute the cell below and observe `[*]`\n",
        ""
      ]
    },
    {
      "cell_type": "code",
      "metadata": {
        "kernel": "Python 3 (ipykernel)",
        "nbgrader": {
          "grade": false,
          "grade_id": "c-006",
          "locked": false,
          "schema_version": 3,
          "solution": false,
          "task": false
        }
      },
      "source": [
        "import time\n",
        "time.sleep(2.0)"
      ],
      "execution_count": null,
      "outputs": []
    },
    {
      "cell_type": "markdown",
      "metadata": {
        "kernel": "SoS",
        "nbgrader": {
          "grade": false,
          "grade_id": "c-007",
          "locked": true,
          "schema_version": 3,
          "solution": false,
          "task": false
        }
      },
      "source": [
        "* 実行中のセルを途中で止めたければタブ上部の■ボタンで止められることにはなっているが効かないことも多い\n",
        "* その場合は, メニューの Kernel -&gt; Restart Kernel として **カーネルのリセット** をする\n",
        "* より強力なリセット方法はメニューの File -&gt; Hub Control Panel -&gt; Stop Server ->&gt; Start Server として**サーバの再起動** をする\n",
        "* 以下を実行し, 終了する前に■ボタンで止めてみよ\n",
        "* カーネルのリセット, サーバの再起動も試してみよ\n",
        "<br/>\n",
        "\n",
        "* You should be able to stop an executing cell by ■ button at top of the tab, but do not expect it to work reliably\n",
        "* If it doesn't work, **reset kernel** by going to menu and selecting Kernel -&gt; Restart Kernel\n",
        "* Even more powerful method to reset everything is to **restart the server** by going to menu and selecting File -&gt; Hub Control Panel -&gt; Stop Server -&gt; Start Server\n",
        "* Execute the cell below and stop it before it finishes by ■ button\n",
        "* Also try to reset kernel and restart server\n",
        ""
      ]
    },
    {
      "cell_type": "code",
      "metadata": {
        "kernel": "Python 3 (ipykernel)",
        "nbgrader": {
          "grade": false,
          "grade_id": "c-008",
          "locked": false,
          "schema_version": 3,
          "solution": false,
          "task": false
        }
      },
      "source": [
        "import time\n",
        "time.sleep(10.0)"
      ],
      "execution_count": null,
      "outputs": []
    },
    {
      "cell_type": "markdown",
      "metadata": {
        "kernel": "SoS",
        "nbgrader": {
          "grade": false,
          "grade_id": "c-009",
          "locked": true,
          "schema_version": 3,
          "solution": false,
          "task": false
        }
      },
      "source": [
        "## 1-3. `%%writefile` で始まるPythonセル / Python Cells starting with `%%writefile`",
        "\n",
        "* `%%writefile filename` で始まるセルは SHIFT + Enter でその中身を指定されたファイルに保存する\n",
        "* Pythonセルの機能ではあるが, 保存するだけの機能なので中身はPythonコードでなくても良い\n",
        "<br/>\n",
        "\n",
        "* Pressing SHIFT + Enter on cells that begin with `%%writefile filename` save the contents of the cell into the specified file\n",
        "* This is a function of Python cells, but as it only saves the contents, the contents can be anything (don't have to be Python code)\n",
        ""
      ]
    },
    {
      "cell_type": "code",
      "metadata": {
        "kernel": "Python 3 (ipykernel)",
        "nbgrader": {
          "grade": false,
          "grade_id": "c-010",
          "locked": false,
          "schema_version": 3,
          "solution": false,
          "task": false
        }
      },
      "source": [
        "%%writefile hello.c\n",
        "/* a Python cell that just saves the contents into a file (hello.c) */\n",
        "#include <stdio.h>\n",
        "int main() {\n",
        "    printf(\"hello\\n\");\n",
        "    return 0;\n",
        "}"
      ],
      "execution_count": null,
      "outputs": []
    },
    {
      "cell_type": "markdown",
      "metadata": {
        "kernel": "SoS",
        "nbgrader": {
          "grade": false,
          "grade_id": "c-011",
          "locked": true,
          "schema_version": 3,
          "solution": false,
          "task": false
        }
      },
      "source": [
        "## 1-4. bashセル / bash Cells",
        "\n",
        "* 下のセルはbash (Linuxのコマンドを実行できる)\n",
        "* セル (またはセル左の余白) をクリックするとページ上部に「Code」, セルの右端上に「bash」と表示されることを確認せよ\n",
        "* 初回実行時, 出力が出ないことがある (もう一度実行してみてください)\n",
        "<br/>\n",
        "\n",
        "* The cell below is bash, in which you can execute Linux commands\n",
        "* Click on the cell (or somewhere its left) and confirm \"Code\" is selected near the top of the page and \"bash\" on the upper right end of the cell\n",
        "* It occasionally happens that the output is not shown on the first execution.  Execute it again when that happens.\n",
        ""
      ]
    },
    {
      "cell_type": "code",
      "metadata": {
        "kernel": "Bash",
        "nbgrader": {
          "grade": false,
          "grade_id": "c-012",
          "locked": false,
          "schema_version": 3,
          "solution": false,
          "task": false
        }
      },
      "source": [
        "# 表示されなかったらもう一回実行\n",
        "# if the result is not displayed, execute it again\n",
        "pwd"
      ],
      "execution_count": null,
      "outputs": []
    },
    {
      "cell_type": "code",
      "metadata": {
        "kernel": "Bash",
        "nbgrader": {
          "grade": false,
          "grade_id": "c-013",
          "locked": false,
          "schema_version": 3,
          "solution": false,
          "task": false
        }
      },
      "source": [
        "ls"
      ],
      "execution_count": null,
      "outputs": []
    },
    {
      "cell_type": "code",
      "metadata": {
        "kernel": "Bash",
        "nbgrader": {
          "grade": false,
          "grade_id": "c-014",
          "locked": false,
          "schema_version": 3,
          "solution": false,
          "task": false
        }
      },
      "source": [
        "gcc hello.c -o hello\n",
        "./hello"
      ],
      "execution_count": null,
      "outputs": []
    },
    {
      "cell_type": "markdown",
      "metadata": {
        "kernel": "SoS",
        "nbgrader": {
          "grade": false,
          "grade_id": "c-015",
          "locked": true,
          "schema_version": 3,
          "solution": false,
          "task": false
        }
      },
      "source": [
        "## 1-5. text (markdown)",
        "\n",
        "* コードではなくテキスト(マークダウン形式)を書くためのセル\n",
        "* セル (またはセル左の余白) をクリックするとページ上部に「Markdown」と表示されることを確認せよ\n",
        "\n",
        "* There are cells for ordinary texts (markdown format), not code\n",
        "* Click on the cell (or somewhere its left) and confirm \"Markdown\" is selected near the top of the page\n",
        ""
      ]
    },
    {
      "cell_type": "markdown",
      "metadata": {
        "kernel": "SoS",
        "nbgrader": {
          "grade": false,
          "grade_id": "c-016",
          "locked": false,
          "schema_version": 3,
          "solution": false,
          "task": false
        }
      },
      "source": [
        "* ここをダブルクリックして編集してみよ\n",
        "  * 編集し終えたらSHIFT-ENTERで保存\n",
        "* double-click this cell and edit\n",
        "  * after done, press SHIFT-ENTER to save"
      ]
    },
    {
      "cell_type": "markdown",
      "metadata": {
        "kernel": "SoS",
        "nbgrader": {
          "grade": false,
          "grade_id": "c-017",
          "locked": true,
          "schema_version": 3,
          "solution": false,
          "task": false
        }
      },
      "source": [
        "# 2. セルの挿入や削除 / Adding and Removing Cells",
        "\n",
        "* 「Edit」メニューからセルの追加や削除ができる\n",
        "* キーボードショートカットもある. セルの左をクリックした状態で, (A)bove, (B)elow に新しいセルを挿入, など\n",
        "\n",
        "* You can add or remove cells from \"Edit\" menu\n",
        "* There are keyboard shortcuts; after clicking left of a cell, insert a new cell (A)bove or (B)elow, etc.\n",
        "\n",
        "# 3. 注意: 解答用セルをコピーしないこと / Do not copy cells for answers",
        "\n",
        "* Jupyter notebookにはセルを複製(コピー, ペースト)する機能があるがそれを使って解答を記入すべきセルの複製を作ると, ノートブックが壊れてしまい採点ができなくなる\n",
        "* 解答記入用のセルには **解答セル/Answer Cell** と印がついている\n",
        "* 作業用にセルを新しく作ることは問題ない\n",
        "\n",
        "<br/>\n",
        "\n",
        "* Jupyter notebook allows you to duplicate (copy and paste) cells.  However, when you make a copy of cells for your answers, the notebook is broken and becomes impossible to grade\n",
        "* Cells for answers are marked with **解答セル/Answer Cell** \n",
        "* You can create new cells afresh for your work\n",
        "\n",
        "<!---\n",
        "Validateボタン / Validate Button\n",
        "\n",
        "* ページ上部Validateボタンを押すと以下がチェックされる\n",
        "  1. notebookが壊れていないか(解答を記入すべきセルが複製されていないか)\n",
        "  1. 解答を記入すべきセルに少しでも変更が施されているか\n",
        "* When you press the Validate button near the page top, it checks\n",
        "  1. if the notebook is not broken (i.e., you didn't duplicate answer cells), and \n",
        "  1. if each answer cell is modified in any way.\n",
        "\n",
        "* Submitする前に押して確認すること\n",
        "* Press the button before you submit it\n",
        "\n",
        "* 解答が正解かどうかをチェックするわけではない\n",
        "* It does not check if the answer is correct or not\n",
        "--->\n",
        "\n",
        "# 4. この授業で使う言語 / Programming languages covered in this lecture",
        "\n",
        "## 4-1. Go",
        "\n",
        "### 4-1-1. Jupyterで使う場合 / Using in Jupyter",
        "\n",
        "* 以下のセルをクリックして右上の言語選択メニューに「Go」と表示されることを確認せよ\n",
        "* 以下を下のセルにコピーして実行してみよ\n",
        "\n",
        "* Click the cell below and confirm \"Go\" is selected in the language menu on the right\n",
        "* Copy the following to the cell below and execute it\n",
        "```\n",
        "println(\"hello go\")\n",
        "```\n",
        "\n",
        "**解答セル/Answer Cell**\n",
        ""
      ]
    },
    {
      "cell_type": "code",
      "metadata": {
        "kernel": "Go",
        "nbgrader": {
          "grade": false,
          "grade_id": "c-018",
          "locked": false,
          "schema_version": 3,
          "solution": false,
          "task": false
        }
      },
      "source": [
        "println(\"hello go\")"
      ],
      "execution_count": null,
      "outputs": []
    },
    {
      "cell_type": "markdown",
      "metadata": {
        "kernel": "SoS",
        "nbgrader": {
          "grade": false,
          "grade_id": "c-019",
          "locked": true,
          "schema_version": 3,
          "solution": false,
          "task": false
        }
      },
      "source": [
        "### 4-1-2. 単独動作するプログラムの作り方 / Making Standalone Programs",
        "\n",
        "* `.go`を拡張子に持つファイルを作る\n",
        "* C言語などと同様で, ファイルのトップレベルに自由に文を書くことはできず, プログラムの実行=`main`関数の実行\n",
        "\n",
        "* Make a file with `.go` extension\n",
        "* Like C language, you cannot write arbitrary statements in the toplevel of a file and executing a program = executing its `main` function\n",
        ""
      ]
    },
    {
      "cell_type": "code",
      "metadata": {
        "kernel": "Python 3 (ipykernel)",
        "nbgrader": {
          "grade": false,
          "grade_id": "c-020",
          "locked": true,
          "schema_version": 3,
          "solution": false,
          "task": false
        }
      },
      "source": [
        "%%writefile hello.go\n",
        "package main\n",
        "func main() {\n",
        "    println(\"hello go\")\n",
        "}"
      ],
      "execution_count": null,
      "outputs": []
    },
    {
      "cell_type": "markdown",
      "metadata": {
        "kernel": "SoS",
        "nbgrader": {
          "grade": false,
          "grade_id": "c-021",
          "locked": true,
          "schema_version": 3,
          "solution": false,
          "task": false
        }
      },
      "source": [
        "* コマンドライン (JupyterターミナルやSSH) で使うには以下を (JupyterターミナルやSSHでログインした端末で) 実行する\n",
        "* To use in a command line (Jupyter terminal or SSH), execute the following (in the Jupyter terminal or SSH terminal)\n",
        ""
      ]
    },
    {
      "cell_type": "code",
      "metadata": {
        "kernel": "Bash",
        "nbgrader": {
          "grade": false,
          "grade_id": "c-022",
          "locked": true,
          "schema_version": 3,
          "solution": false,
          "task": false
        }
      },
      "source": [
        "export PATH=~/go/bin:$PATH"
      ],
      "execution_count": null,
      "outputs": []
    },
    {
      "cell_type": "markdown",
      "metadata": {
        "kernel": "SoS",
        "nbgrader": {
          "grade": false,
          "grade_id": "c-023",
          "locked": true,
          "schema_version": 3,
          "solution": false,
          "task": false
        }
      },
      "source": [
        "* 毎回実行し直さなくて良いようにするには `~/.bashrc` に書いておく\n",
        "* If you don't want to do it every time, put it in your `~/.bashrc`\n",
        "\n",
        "* 以下で`go`コマンドの場所 (`/home/uNNNNN/go/bin/go`) が表示されることを確認\n",
        "* Make sure the following command shows the location of `go` command (`/home/uNNNNN/go/bin/go`)\n",
        ""
      ]
    },
    {
      "cell_type": "code",
      "metadata": {
        "kernel": "Bash",
        "nbgrader": {
          "grade": false,
          "grade_id": "c-024",
          "locked": true,
          "schema_version": 3,
          "solution": false,
          "task": false
        }
      },
      "source": [
        "which go"
      ],
      "execution_count": null,
      "outputs": []
    },
    {
      "cell_type": "markdown",
      "metadata": {
        "kernel": "SoS",
        "nbgrader": {
          "grade": false,
          "grade_id": "c-025",
          "locked": true,
          "schema_version": 3,
          "solution": false,
          "task": false
        }
      },
      "source": [
        "* 以下でコンパイル (`hello` という名前のファイルができる)\n",
        "* Compile the file with the following, to get an executable file `hello`\n",
        ""
      ]
    },
    {
      "cell_type": "code",
      "metadata": {
        "kernel": "Bash",
        "nbgrader": {
          "grade": false,
          "grade_id": "c-026",
          "locked": true,
          "schema_version": 3,
          "solution": false,
          "task": false
        }
      },
      "source": [
        "go build hello.go"
      ],
      "execution_count": null,
      "outputs": []
    },
    {
      "cell_type": "markdown",
      "metadata": {
        "kernel": "SoS",
        "nbgrader": {
          "grade": false,
          "grade_id": "c-027",
          "locked": true,
          "schema_version": 3,
          "solution": false,
          "task": false
        }
      },
      "source": [
        "* 実行する\n",
        "* Execute it\n",
        ""
      ]
    },
    {
      "cell_type": "code",
      "metadata": {
        "kernel": "Bash",
        "nbgrader": {
          "grade": false,
          "grade_id": "c-028",
          "locked": true,
          "schema_version": 3,
          "solution": false,
          "task": false
        }
      },
      "source": [
        "./hello"
      ],
      "execution_count": null,
      "outputs": []
    },
    {
      "cell_type": "markdown",
      "metadata": {
        "kernel": "SoS",
        "nbgrader": {
          "grade": false,
          "grade_id": "c-029",
          "locked": true,
          "schema_version": 3,
          "solution": false,
          "task": false
        }
      },
      "source": [
        "* 上記はすべてJupyterなしで, コマンドライン (SSHでログインしたターミナル) 上で実行できるのでやってみよ\n",
        "* You should be able to do the above without Jupyter, but with a command line (terminal you log in with SSH).  Give it a try.\n",
        "\n",
        "## 4-2. Julia",
        "\n",
        "### 4-2-1. Jupyterで使う場合 / Using in Jupyter",
        "\n",
        "* 以下のセルをクリックして右上の言語選択メニューに「Juila 1.11.4」と表示されることを確認せよ\n",
        "* 以下を下のセルにコピーして実行してみよ\n",
        "\n",
        "* Copy the following to the cell below and execute it\n",
        "* Click the cell below and confirm \"Julia 1.11.4\" is selected in the language menu on the right\n",
        "```\n",
        "println(\"hello Julia\")\n",
        "```\n",
        "\n",
        "**解答セル/Answer Cell**\n",
        ""
      ]
    },
    {
      "cell_type": "code",
      "metadata": {
        "kernel": "Julia 1.11.4",
        "nbgrader": {
          "grade": false,
          "grade_id": "c-030",
          "locked": false,
          "schema_version": 3,
          "solution": false,
          "task": false
        }
      },
      "source": [
        "println(\"hello Julia\")"
      ],
      "execution_count": null,
      "outputs": []
    },
    {
      "cell_type": "markdown",
      "metadata": {
        "kernel": "SoS",
        "nbgrader": {
          "grade": false,
          "grade_id": "c-031",
          "locked": true,
          "schema_version": 3,
          "solution": false,
          "task": false
        }
      },
      "source": [
        "### 4-2-2. 単独動作するプログラムの作り方 / Making Standalone Programs",
        "\n",
        "* `.jl`を拡張子に持つファイルを作る\n",
        "* Goと異なり, ファイルのトップレベルに自由に式/文を書くことが可能で, プログラムを実行する=それらを順に実行する\n",
        "\n",
        "* Make a file with `.jl` extension\n",
        "* Unlike Go, you can write arbitrary expressions/statements and executing a program = executing them in order\n",
        ""
      ]
    },
    {
      "cell_type": "code",
      "metadata": {
        "kernel": "Python 3 (ipykernel)",
        "nbgrader": {
          "grade": false,
          "grade_id": "c-032",
          "locked": true,
          "schema_version": 3,
          "solution": false,
          "task": false
        }
      },
      "source": [
        "%%writefile hello.jl\n",
        "println(\"hello Julia\")"
      ],
      "execution_count": null,
      "outputs": []
    },
    {
      "cell_type": "markdown",
      "metadata": {
        "kernel": "SoS",
        "nbgrader": {
          "grade": false,
          "grade_id": "c-033",
          "locked": true,
          "schema_version": 3,
          "solution": false,
          "task": false
        }
      },
      "source": [
        "* コマンドライン (JupyterターミナルやSSH) で使うには以下を (JupyterターミナルやSSHでログインした端末で) 実行する\n",
        "* To use in a command line (Jupyter terminal or SSH), execute the following (in the Jupyter terminal or SSH terminal)\n",
        ""
      ]
    },
    {
      "cell_type": "code",
      "metadata": {
        "kernel": "Bash",
        "nbgrader": {
          "grade": false,
          "grade_id": "c-034",
          "locked": true,
          "schema_version": 3,
          "solution": false,
          "task": false
        }
      },
      "source": [
        "export PATH=~/.juliaup/bin:$PATH"
      ],
      "execution_count": null,
      "outputs": []
    },
    {
      "cell_type": "markdown",
      "metadata": {
        "kernel": "SoS",
        "nbgrader": {
          "grade": false,
          "grade_id": "c-035",
          "locked": true,
          "schema_version": 3,
          "solution": false,
          "task": false
        }
      },
      "source": [
        "* 毎回実行し直さなくて良いようにするには `~/.bashrc` に書いておく\n",
        "* 以下で`julia`コマンドの場所 (`/home/uNNNNN/.juliaup/bin/julia`) が表示されることを確認\n",
        "\n",
        "* If you don't want to do it every time, put it in your `~/.bashrc`\n",
        "* make sure the following command shows the location of `julia` command (`/home/uNNNNN/.juliaup/bin/julia`)\n",
        ""
      ]
    },
    {
      "cell_type": "code",
      "metadata": {
        "kernel": "Bash",
        "nbgrader": {
          "grade": false,
          "grade_id": "c-036",
          "locked": true,
          "schema_version": 3,
          "solution": false,
          "task": false
        }
      },
      "source": [
        "which julia"
      ],
      "execution_count": null,
      "outputs": []
    },
    {
      "cell_type": "markdown",
      "metadata": {
        "kernel": "SoS",
        "nbgrader": {
          "grade": false,
          "grade_id": "c-037",
          "locked": true,
          "schema_version": 3,
          "solution": false,
          "task": false
        }
      },
      "source": [
        "* 以下で実行. コンパイルも行われる (Just-in-time コンパイル)\n",
        "* Execute with the following, which compiles the program, too (Just-in-time compilation)\n",
        ""
      ]
    },
    {
      "cell_type": "code",
      "metadata": {
        "kernel": "Bash",
        "nbgrader": {
          "grade": false,
          "grade_id": "c-038",
          "locked": true,
          "schema_version": 3,
          "solution": false,
          "task": false
        }
      },
      "source": [
        "julia hello.jl"
      ],
      "execution_count": null,
      "outputs": []
    },
    {
      "cell_type": "markdown",
      "metadata": {
        "kernel": "SoS",
        "nbgrader": {
          "grade": false,
          "grade_id": "c-039",
          "locked": true,
          "schema_version": 3,
          "solution": false,
          "task": false
        }
      },
      "source": [
        "* 上記はすべてJupyterなしで, コマンドライン (SSHでログインしたターミナル) 上で実行できるのでやってみよ\n",
        "* You should be able to do the above without Jupyter, but with a command line (terminal you log in with SSH).  Give it a try.\n",
        "\n",
        "* `julia`コマンドはファイルを実行するだけでなく, 対話的環境としても動作する\n",
        "* `julia` command can be used not only to execute a file but also to start an interactive environment\n",
        "\n",
        "## 4-3. OCaml",
        "\n",
        "### 4-3-1. Jupyterで使う場合 / Using in Jupyter",
        "\n",
        "* 以下のセルをクリックして右上の言語選択メニューに「OCaml 4.14.2」と表示されることを確認せよ\n",
        "* 以下を下のセルにコピーして実行してみよ\n",
        "\n",
        "* Click the cell below and confirm \"OCaml 4.14.2\" is selected in the language menu on the right\n",
        "* Copy the following to the cell below and execute it\n",
        "```\n",
        "Printf.printf(\"hello ocaml\\n\");\n",
        "flush_all()\n",
        "```\n",
        "\n",
        "**解答セル/Answer Cell**\n",
        ""
      ]
    },
    {
      "cell_type": "code",
      "metadata": {
        "kernel": "OCaml 4.14.2",
        "nbgrader": {
          "grade": false,
          "grade_id": "c-040",
          "locked": false,
          "schema_version": 3,
          "solution": false,
          "task": false
        }
      },
      "source": [
        "Printf.printf(\"hello ocaml\\n\");\n",
        "flush_all()"
      ],
      "execution_count": null,
      "outputs": []
    },
    {
      "cell_type": "markdown",
      "metadata": {
        "kernel": "SoS",
        "nbgrader": {
          "grade": false,
          "grade_id": "c-041",
          "locked": true,
          "schema_version": 3,
          "solution": false,
          "task": false
        }
      },
      "source": [
        "### 4-3-2. 単独動作するプログラムの作り方 / Making Standalone Programs",
        "\n",
        "* `.ml`を拡張子に持つファイルを作る\n",
        "* Juliaと同様, ファイルのトップレベルに自由に式/文を書くことが可能で, プログラムを実行する=それらを順に実行する\n",
        "\n",
        "* Make a file with `.ml` extension\n",
        "* Like Julia, you can write arbitrary expressions and executing a program = executing them in order\n",
        ""
      ]
    },
    {
      "cell_type": "code",
      "metadata": {
        "kernel": "Python 3 (ipykernel)",
        "nbgrader": {
          "grade": false,
          "grade_id": "c-042",
          "locked": true,
          "schema_version": 3,
          "solution": false,
          "task": false
        }
      },
      "source": [
        "%%writefile hello.ml\n",
        "Printf.printf(\"hello ocaml\\n\");\n",
        "flush_all()"
      ],
      "execution_count": null,
      "outputs": []
    },
    {
      "cell_type": "markdown",
      "metadata": {
        "kernel": "SoS",
        "nbgrader": {
          "grade": false,
          "grade_id": "c-043",
          "locked": true,
          "schema_version": 3,
          "solution": false,
          "task": false
        }
      },
      "source": [
        "* コマンドライン (JupyterターミナルやSSH) で使うには以下を (JupyterターミナルやSSHでログインした端末で) 実行する\n",
        "* To use in a command line (Jupyter terminal or SSH), execute the following (in the Jupyter terminal or SSH terminal)\n",
        ""
      ]
    },
    {
      "cell_type": "code",
      "metadata": {
        "kernel": "Bash",
        "nbgrader": {
          "grade": false,
          "grade_id": "c-044",
          "locked": true,
          "schema_version": 3,
          "solution": false,
          "task": false
        }
      },
      "source": [
        "eval $(opam env)"
      ],
      "execution_count": null,
      "outputs": []
    },
    {
      "cell_type": "markdown",
      "metadata": {
        "kernel": "SoS",
        "nbgrader": {
          "grade": false,
          "grade_id": "c-045",
          "locked": true,
          "schema_version": 3,
          "solution": false,
          "task": false
        }
      },
      "source": [
        "* 毎回実行し直さなくて良いようにするには `~/.bashrc` に書いておく\n",
        "* 以下で`ocaml`コマンドの場所 (`/home/uNNNNN/.opam/default/bin/ocaml`) が表示されることを確認\n",
        "\n",
        "* If you don't want to do it every time, put it in your `~/.bashrc`\n",
        "* Make sure the following command shows the location of `ocaml` command (`/home/uNNNNN/.opam/default/bin/ocaml`)\n",
        ""
      ]
    },
    {
      "cell_type": "code",
      "metadata": {
        "kernel": "Bash",
        "nbgrader": {
          "grade": false,
          "grade_id": "c-046",
          "locked": true,
          "schema_version": 3,
          "solution": false,
          "task": false
        }
      },
      "source": [
        "which ocaml"
      ],
      "execution_count": null,
      "outputs": []
    },
    {
      "cell_type": "markdown",
      "metadata": {
        "kernel": "SoS",
        "nbgrader": {
          "grade": false,
          "grade_id": "c-047",
          "locked": true,
          "schema_version": 3,
          "solution": false,
          "task": false
        }
      },
      "source": [
        "* OCamlには, Goのようにコンパイルして実行可能なファイルを作ってから改めてそれを実行する方法と, JuliaやPythonのように直接実行する方法がある\n",
        "\n",
        "* OCaml has two ways to execute; one is to compile a program into an executable and then execute it; the other is to execute it directly just like Julia or Python\n",
        "\n",
        "* 前者の方法\n",
        "* The former method\n",
        ""
      ]
    },
    {
      "cell_type": "code",
      "metadata": {
        "kernel": "Bash",
        "nbgrader": {
          "grade": false,
          "grade_id": "c-048",
          "locked": true,
          "schema_version": 3,
          "solution": false,
          "task": false
        }
      },
      "source": [
        "ocamlc hello.ml\n",
        "# or, ocaml.opt hello.ml"
      ],
      "execution_count": null,
      "outputs": []
    },
    {
      "cell_type": "code",
      "metadata": {
        "kernel": "Bash",
        "nbgrader": {
          "grade": false,
          "grade_id": "c-049",
          "locked": true,
          "schema_version": 3,
          "solution": false,
          "task": false
        }
      },
      "source": [
        "./a.out"
      ],
      "execution_count": null,
      "outputs": []
    },
    {
      "cell_type": "markdown",
      "metadata": {
        "kernel": "SoS",
        "nbgrader": {
          "grade": false,
          "grade_id": "c-050",
          "locked": true,
          "schema_version": 3,
          "solution": false,
          "task": false
        }
      },
      "source": [
        "* 後者の方法\n",
        "* The latter method\n",
        ""
      ]
    },
    {
      "cell_type": "code",
      "metadata": {
        "kernel": "Bash",
        "nbgrader": {
          "grade": false,
          "grade_id": "c-051",
          "locked": true,
          "schema_version": 3,
          "solution": false,
          "task": false
        }
      },
      "source": [
        "ocaml hello.ml"
      ],
      "execution_count": null,
      "outputs": []
    },
    {
      "cell_type": "markdown",
      "metadata": {
        "kernel": "SoS",
        "nbgrader": {
          "grade": false,
          "grade_id": "c-052",
          "locked": true,
          "schema_version": 3,
          "solution": false,
          "task": false
        }
      },
      "source": [
        "* 上記はすべてJupyterなしで, コマンドライン (SSHでログインしたターミナル) 上で実行できるのでやってみよ\n",
        "* `ocaml`コマンドはファイルを実行するだけでなく, 対話的環境としても動作する\n",
        "\n",
        "* You should be able to do the above without Jupyter, but with a command line (terminal you log in with SSH).  Give it a try.\n",
        "* `ocaml` command can be used not only to execute a file but also to start an interactive environment\n",
        "\n",
        "## 4-4. Rust",
        "\n",
        "### 4-4-1. Jupyterで使う場合 / Using in Jupyter",
        "\n",
        "* 以下のセルをクリックして右上の言語選択メニューに「Rust」と表示されることを確認せよ\n",
        "* 以下を下のセルにコピーして実行してみよ\n",
        "\n",
        "* Click the cell below and confirm \"Rust\" is selected in the language menu on the right\n",
        "* Copy the following to the cell below and execute it\n",
        "```\n",
        "println!(\"hello rust\")\n",
        "```\n",
        "\n",
        "**解答セル/Answer Cell**\n",
        ""
      ]
    },
    {
      "cell_type": "code",
      "metadata": {
        "kernel": "Rust",
        "nbgrader": {
          "grade": false,
          "grade_id": "c-053",
          "locked": false,
          "schema_version": 3,
          "solution": false,
          "task": false
        }
      },
      "source": [
        "println!(\"hello rust\")"
      ],
      "execution_count": null,
      "outputs": []
    },
    {
      "cell_type": "markdown",
      "metadata": {
        "kernel": "SoS",
        "nbgrader": {
          "grade": false,
          "grade_id": "c-054",
          "locked": true,
          "schema_version": 3,
          "solution": false,
          "task": false
        }
      },
      "source": [
        "### 4-4-2. 単独動作するプログラムの作り方 / Making Standalone Programs",
        "\n",
        "* `.rs`を拡張子に持つファイルを作る\n",
        "* C言語, Goなどと同様で, ファイルのトップレベルに自由に文を書くことはできず, プログラムの実行=`main`関数の実行\n",
        "\n",
        "* Make a file with `.rs` extension\n",
        "* Like C or Go language, you cannot write arbitrary statements in the toplevel of a file and executing a program = executing its `main` function\n",
        ""
      ]
    },
    {
      "cell_type": "code",
      "metadata": {
        "kernel": "Python 3 (ipykernel)",
        "nbgrader": {
          "grade": false,
          "grade_id": "c-055",
          "locked": true,
          "schema_version": 3,
          "solution": false,
          "task": false
        }
      },
      "source": [
        "%%writefile hello.rs\n",
        "fn main() {\n",
        "    println!(\"hello rust\")\n",
        "}\n",
        ""
      ],
      "execution_count": null,
      "outputs": []
    },
    {
      "cell_type": "markdown",
      "metadata": {
        "kernel": "SoS",
        "nbgrader": {
          "grade": false,
          "grade_id": "c-056",
          "locked": true,
          "schema_version": 3,
          "solution": false,
          "task": false
        }
      },
      "source": [
        "* コマンドライン (JupyterターミナルやSSH) で使うには以下を (JupyterターミナルやSSHでログインした端末で) 実行する\n",
        "* To use in a command line (Jupyter terminal or SSH), execute the following (in the Jupyter terminal or SSH terminal)\n",
        ""
      ]
    },
    {
      "cell_type": "code",
      "metadata": {
        "kernel": "Bash",
        "nbgrader": {
          "grade": false,
          "grade_id": "c-057",
          "locked": true,
          "schema_version": 3,
          "solution": false,
          "task": false
        }
      },
      "source": [
        ". ~/.cargo/env"
      ],
      "execution_count": null,
      "outputs": []
    },
    {
      "cell_type": "markdown",
      "metadata": {
        "kernel": "SoS",
        "nbgrader": {
          "grade": false,
          "grade_id": "c-058",
          "locked": true,
          "schema_version": 3,
          "solution": false,
          "task": false
        }
      },
      "source": [
        "* 毎回実行し直さなくて良いようにするには `~/.bashrc` に書いておく\n",
        "* 以下で`rustc`コマンドの場所 (`/home/uNNNNN/.cargo/bin/rustc`) が表示されることを確認\n",
        "\n",
        "* If you don't want to do it every time, put it in your `~/.bashrc`\n",
        "* Make sure the following command shows the location of `rustc` command (`/home/uNNNNN/.cargo/bin/rustc`)\n",
        ""
      ]
    },
    {
      "cell_type": "code",
      "metadata": {
        "kernel": "Bash",
        "nbgrader": {
          "grade": false,
          "grade_id": "c-059",
          "locked": true,
          "schema_version": 3,
          "solution": false,
          "task": false
        }
      },
      "source": [
        "which rustc"
      ],
      "execution_count": null,
      "outputs": []
    },
    {
      "cell_type": "markdown",
      "metadata": {
        "kernel": "SoS",
        "nbgrader": {
          "grade": false,
          "grade_id": "c-060",
          "locked": true,
          "schema_version": 3,
          "solution": false,
          "task": false
        }
      },
      "source": [
        "* 以下でコンパイル (`hello` という名前のファイルができる)\n",
        "* Compile the file with the following, to get an executable file `hello`\n",
        ""
      ]
    },
    {
      "cell_type": "code",
      "metadata": {
        "kernel": "Bash",
        "nbgrader": {
          "grade": false,
          "grade_id": "c-061",
          "locked": true,
          "schema_version": 3,
          "solution": false,
          "task": false
        }
      },
      "source": [
        "rustc hello.rs"
      ],
      "execution_count": null,
      "outputs": []
    },
    {
      "cell_type": "markdown",
      "metadata": {
        "kernel": "SoS",
        "nbgrader": {
          "grade": false,
          "grade_id": "c-062",
          "locked": true,
          "schema_version": 3,
          "solution": false,
          "task": false
        }
      },
      "source": [
        "* 実行する\n",
        "* Execute it\n",
        ""
      ]
    },
    {
      "cell_type": "code",
      "metadata": {
        "kernel": "Bash",
        "nbgrader": {
          "grade": false,
          "grade_id": "c-063",
          "locked": true,
          "schema_version": 3,
          "solution": false,
          "task": false
        }
      },
      "source": [
        "./hello"
      ],
      "execution_count": null,
      "outputs": []
    },
    {
      "cell_type": "markdown",
      "metadata": {
        "kernel": "SoS",
        "nbgrader": {
          "grade": false,
          "grade_id": "c-064",
          "locked": true,
          "schema_version": 3,
          "solution": false,
          "task": false
        }
      },
      "source": [
        "* 上記はすべてJupyterなしで, コマンドライン (SSHでログインしたターミナル) 上で実行できるのでやってみよ\n",
        "* You should be able to do the above without Jupyter, but with a command line (terminal you log in with SSH).  Give it a try.\n",
        "\n",
        "# 5. Jupyter 端末環境 / Jupyter Terminals",
        "\n",
        "* Jupyterの典型的な環境はこのようなページ(ノートブック)にプログラムを書いてそれを実行するというものだが, 自分でコマンドを打ち込んで実行できる環境(端末)も用意されている\n",
        "* メニュー直下の「+」アイコンをクリックしてlauncherを表示\n",
        "* Terminal を選ぶとコマンドラインが開く\n",
        "* 使いたくなるかも知れない場面\n",
        "  * man pageを閲覧する\n",
        "  * 暴走して, ■ボタンを押しても止まらないプログラムを kill コマンドで殺す\n",
        "<br/>\n",
        "\n",
        "* A typical Jupyter environment executes programs in a page like this (notebook).  There is, however, an environment you type arbitrary commands (terminal)\n",
        "* Click the \"+\" icon right below the menu to show the launcher page\n",
        "* Select \"Terminal\" to open the command line terminal\n",
        "* Some circumstances in which you want to use it\n",
        "  * You browse a man page\n",
        "  * Use kill command to terminate a program that does not stop with ■ button\n",
        "\n",
        "# 6. SSH でログイン / Login with SSH",
        "\n",
        "* ただしそれをやりたいなら SSH ログインをマスターする方がきっと良い\n",
        "* 今すぐ必要ではないが後の週の課題で必要になる\n",
        "* SSHログインのやり方は, [Jupyter環境の使い方](https://taura.github.io/programming-languages/html/jupyter.html)を参照\n",
        "<br/>\n",
        "\n",
        "* To do them, however, you probably want to master SSH login described below instead\n",
        "* You don't have to do this immediately, but need it in later assignments\n",
        "* See [How to access Jupyter environment](https://taura.github.io/programming-languages/html/jupyter.html?lang=en) for how to set up SSH\n",
        ""
      ]
    }
  ],
  "metadata": {
    "celltoolbar": "Create Assignment",
    "kernelspec": {
      "display_name": "SoS",
      "language": "sos",
      "name": "sos"
    },
    "language_info": {
      "codemirror_mode": "sos",
      "file_extension": ".sos",
      "mimetype": "text/x-sos",
      "name": "sos",
      "nbconvert_exporter": "sos_notebook.converter.SoS_Exporter",
      "pygments_lexer": "sos"
    },
    "sos": {
      "kernels": [
        [
          "Bash",
          "bash",
          "bash",
          "",
          "shell"
        ],
        [
          "C",
          "c_kernel",
          "c",
          "",
          ""
        ],
        [
          "Go",
          "gophernotes",
          "go",
          "",
          ""
        ],
        [
          "Julia 1.11.4",
          "julia-1.11",
          "julia",
          "",
          ""
        ],
        [
          "OCaml 4.14.2",
          "ocaml-jupyter",
          "OCaml",
          "",
          "text/x-ocaml"
        ],
        [
          "Python 3 (ipykernel)",
          "python3",
          "python3",
          "",
          {
            "name": "ipython",
            "version": 3
          }
        ],
        [
          "Rust",
          "rust",
          "rust",
          "",
          ""
        ]
      ],
      "panel": {
        "displayed": true,
        "height": 0
      },
      "version": "0.23.3"
    }
  },
  "nbformat": 4,
  "nbformat_minor": 4
}