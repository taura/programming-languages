{
  "cells": [
    {
      "cell_type": "markdown",
      "metadata": {
        "kernel": "SoS",
        "nbgrader": {
          "grade": false,
          "grade_id": "c-001",
          "locked": true,
          "schema_version": 3,
          "solution": false,
          "task": false
        }
      },
      "source": [
        "#  プログラミング言語 AI チューター ",
        "\n",
        "#  Programming Languages AI Tutor",
        "\n",
        "# 1. What is it?",
        "\n",
        "* You can talk to an AI Chat I instructed to be your tutor in this course, through a small program that integrates it with this Jupyter environment\n",
        "* You can work in this Jupyter environment and call the AI tutor when you need help or when you want to get a feedback on your work\n",
        "\n",
        "# 2. How to Use",
        "\n",
        "## 2-1. Prepare",
        "\n",
        "* Put the following in a Python code cell and execute it"
      ]
    },
    {
      "cell_type": "code",
      "metadata": {
        "kernel": "Python 3 (ipykernel)",
        "nbgrader": {
          "grade": false,
          "grade_id": "c-002",
          "locked": true,
          "schema_version": 3,
          "solution": false,
          "task": false
        }
      },
      "source": [
        "from heytutor import *"
      ],
      "execution_count": null,
      "outputs": []
    },
    {
      "cell_type": "markdown",
      "metadata": {
        "kernel": "SoS",
        "nbgrader": {
          "grade": false,
          "grade_id": "c-003",
          "locked": true,
          "schema_version": 3,
          "solution": false,
          "task": false
        }
      },
      "source": [
        "## 2-2. Basics",
        "\n",
        "* To ask a question, the most basic way is to call function `hey` with your question:\n",
        "  * e.g.,"
      ]
    },
    {
      "cell_type": "code",
      "metadata": {
        "kernel": "Python 3 (ipykernel)",
        "nbgrader": {
          "grade": false,
          "grade_id": "c-004",
          "locked": false,
          "schema_version": 3,
          "solution": false,
          "task": false
        }
      },
      "source": [
        "hey(\"Hey, give me an introduction to defining functions in OCaml\")"
      ],
      "execution_count": null,
      "outputs": []
    },
    {
      "cell_type": "markdown",
      "metadata": {
        "kernel": "SoS",
        "nbgrader": {
          "grade": false,
          "grade_id": "c-005",
          "locked": true,
          "schema_version": 3,
          "solution": false,
          "task": false
        }
      },
      "source": [
        "  * or, you can put `%%hey_` or `%%H_` in any Python cell containing a function, like this"
      ]
    },
    {
      "cell_type": "code",
      "metadata": {
        "kernel": "Python 3 (ipykernel)",
        "nbgrader": {
          "grade": false,
          "grade_id": "c-006",
          "locked": false,
          "schema_version": 3,
          "solution": false,
          "task": false
        }
      },
      "source": [
        "%%hey_\n",
        "Hey, give me an introduction to recursive functions in OCaml"
      ],
      "execution_count": null,
      "outputs": []
    },
    {
      "cell_type": "markdown",
      "metadata": {
        "kernel": "SoS",
        "nbgrader": {
          "grade": false,
          "grade_id": "c-007",
          "locked": true,
          "schema_version": 3,
          "solution": false,
          "task": false
        }
      },
      "source": [
        "## 2-3. Convenient shortcuts",
        "\n",
        "* More importantly, it has several convenient functions to help you learn\n",
        "  * `I`(_topic_, _lang_) ... Introduction\n",
        "  * `C`(_topic_, _lang_) ... Coding problem\n",
        "  * `R`(_topic_, _lang_) ... Reading problem\n",
        "  * `D`(_topic_, _lang_) ... Debugging problem\n",
        "where _topic_ is a topic you want to learn and _lang_ is the name of the programming language you want to ask about.  For example, "
      ]
    },
    {
      "cell_type": "code",
      "metadata": {
        "kernel": "Python 3 (ipykernel)",
        "nbgrader": {
          "grade": false,
          "grade_id": "c-008",
          "locked": false,
          "schema_version": 3,
          "solution": false,
          "task": false
        }
      },
      "source": [
        "I(\"defining functions\", \"OCaml\")"
      ],
      "execution_count": null,
      "outputs": []
    },
    {
      "cell_type": "markdown",
      "metadata": {
        "kernel": "SoS",
        "nbgrader": {
          "grade": false,
          "grade_id": "c-009",
          "locked": true,
          "schema_version": 3,
          "solution": false,
          "task": false
        }
      },
      "source": [
        "will give you a general introduction to defining functions in OCaml, whereas"
      ]
    },
    {
      "cell_type": "code",
      "metadata": {
        "kernel": "Python 3 (ipykernel)",
        "nbgrader": {
          "grade": false,
          "grade_id": "c-010",
          "locked": false,
          "schema_version": 3,
          "solution": false,
          "task": false
        }
      },
      "source": [
        "C(\"defining functions\", \"OCaml\")"
      ],
      "execution_count": null,
      "outputs": []
    },
    {
      "cell_type": "markdown",
      "metadata": {
        "kernel": "SoS",
        "nbgrader": {
          "grade": false,
          "grade_id": "c-011",
          "locked": true,
          "schema_version": 3,
          "solution": false,
          "task": false
        }
      },
      "source": [
        "will give you a coding problem about it.\n",
        "\n",
        "## 2-4. Setting your default language",
        "\n",
        "* You can call"
      ]
    },
    {
      "cell_type": "code",
      "metadata": {
        "kernel": "Python 3 (ipykernel)",
        "nbgrader": {
          "grade": false,
          "grade_id": "c-012",
          "locked": false,
          "schema_version": 3,
          "solution": false,
          "task": false
        }
      },
      "source": [
        "config(default_lang=\"OCaml\")"
      ],
      "execution_count": null,
      "outputs": []
    },
    {
      "cell_type": "markdown",
      "metadata": {
        "kernel": "SoS",
        "nbgrader": {
          "grade": false,
          "grade_id": "c-013",
          "locked": true,
          "schema_version": 3,
          "solution": false,
          "task": false
        }
      },
      "source": [
        "to omit the second parameter for above four functions, like"
      ]
    },
    {
      "cell_type": "code",
      "metadata": {
        "kernel": "Python 3 (ipykernel)",
        "nbgrader": {
          "grade": false,
          "grade_id": "c-014",
          "locked": false,
          "schema_version": 3,
          "solution": false,
          "task": false
        }
      },
      "source": [
        "C(\"defining functions\")"
      ],
      "execution_count": null,
      "outputs": []
    },
    {
      "cell_type": "markdown",
      "metadata": {
        "kernel": "SoS",
        "nbgrader": {
          "grade": false,
          "grade_id": "c-015",
          "locked": true,
          "schema_version": 3,
          "solution": false,
          "task": false
        }
      },
      "source": [
        "## 2-5. A typical usage",
        "\n",
        "* Putting `%%hey_` is especially convenient when you want to send the content of your code cell as a response to a coding/debugging problem or for feedback.\n",
        "* Note that `%%hey_` works only for Python cells.  Therefore, your typical workflow will be to develop your answer in a coding cell of an appropriate language (Go, Jupyter, OCaml, or Rust) and temporarily switch to Python cell when you need help or feedback.\n",
        "* Make sure you turn it back to the original language cell once you are finished.\n",
        "* If you do not want to overwrite the feedback, you might want to copy the cell content to another Python cell instead.\n",
        "\n",
        "## 2-6. Practice",
        "\n",
        "* Above, you should have been given a coding exercise on defining functions in OCaml\n",
        "* Develop your answer below (note that the following is an OCaml cell)"
      ]
    },
    {
      "cell_type": "code",
      "metadata": {
        "kernel": "OCaml 4.14.2",
        "nbgrader": {
          "grade": false,
          "grade_id": "c-016",
          "locked": false,
          "schema_version": 3,
          "solution": false,
          "task": false
        }
      },
      "source": [
        "let .."
      ],
      "execution_count": null,
      "outputs": []
    },
    {
      "cell_type": "markdown",
      "metadata": {
        "kernel": "SoS",
        "nbgrader": {
          "grade": false,
          "grade_id": "c-017",
          "locked": true,
          "schema_version": 3,
          "solution": false,
          "task": false
        }
      },
      "source": [
        "* When you need help or you are done, turn the above cell into Python cell and send it by putting `%%hey_` to get feedback\n",
        "\n",
        ""
      ]
    }
  ],
  "metadata": {
    "celltoolbar": "Create Assignment",
    "kernelspec": {
      "display_name": "SoS",
      "language": "sos",
      "name": "sos"
    },
    "language_info": {
      "codemirror_mode": "sos",
      "file_extension": ".sos",
      "mimetype": "text/x-sos",
      "name": "sos",
      "nbconvert_exporter": "sos_notebook.converter.SoS_Exporter",
      "pygments_lexer": "sos"
    },
    "sos": {
      "kernels": [
        [
          "Bash",
          "bash",
          "bash",
          "",
          "shell"
        ],
        [
          "C",
          "c_kernel",
          "c",
          "",
          ""
        ],
        [
          "Go",
          "gophernotes",
          "go",
          "",
          ""
        ],
        [
          "Julia 1.11.4",
          "julia-1.11",
          "julia",
          "",
          ""
        ],
        [
          "OCaml 4.14.2",
          "ocaml-jupyter",
          "OCaml",
          "",
          "text/x-ocaml"
        ],
        [
          "Python 3 (ipykernel)",
          "python3",
          "python3",
          "",
          {
            "name": "ipython",
            "version": 3
          }
        ],
        [
          "Rust",
          "rust",
          "rust",
          "",
          ""
        ]
      ],
      "panel": {
        "displayed": true,
        "height": 0
      },
      "version": "0.23.3"
    }
  },
  "nbformat": 4,
  "nbformat_minor": 4
}