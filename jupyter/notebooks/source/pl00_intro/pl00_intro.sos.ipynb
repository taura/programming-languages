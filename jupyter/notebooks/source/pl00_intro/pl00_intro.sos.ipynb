{
  "cells": [
    {
      "cell_type": "markdown",
      "metadata": {
        "kernel": "SoS",
        "nbgrader": {
          "grade": false,
          "grade_id": "c-001",
          "locked": true,
          "schema_version": 3,
          "solution": false,
          "task": false
        }
      },
      "source": [
        "#  プログラミング言語 演習環境",
        "\n",
        "#  Programming Languages Hands-on Environment",
        ""
      ]
    },
    {
      "cell_type": "markdown",
      "metadata": {
        "kernel": "SoS",
        "nbgrader": {
          "grade": false,
          "grade_id": "c-002",
          "locked": false,
          "schema_version": 3,
          "solution": false,
          "task": false
        }
      },
      "source": [
        "\n",
        "名前と学生証番号を書け. Enter your name and student ID.\n",
        "\n",
        " * 名前 Name:\n",
        " * 学生証番号 Student ID:\n",
        ""
      ]
    },
    {
      "cell_type": "markdown",
      "metadata": {
        "kernel": "SoS",
        "nbgrader": {
          "grade": false,
          "grade_id": "c-003",
          "locked": true,
          "schema_version": 3,
          "solution": false,
          "task": false
        }
      },
      "source": [
        "# 1. このnotebookの使い方 / How this notebook works",
        "\n",
        "## 1-1. セル / Cell",
        "\n",
        "* 以下のような入力欄を「セル」という\n",
        "* SHIFT+ENTERで実行できる\n",
        "<br/>\n",
        "\n",
        "* A textbox like below is called a \"cell\"\n",
        "* Press SHIFT+ENTER to execute it\n",
        "\n",
        "## 1-2. Python",
        ""
      ]
    },
    {
      "cell_type": "code",
      "metadata": {
        "kernel": "Python 3 (ipykernel)",
        "nbgrader": {
          "grade": false,
          "grade_id": "c-004",
          "locked": false,
          "schema_version": 3,
          "solution": false,
          "task": false
        }
      },
      "source": [
        "def f(x):\n",
        "  return x + 1\n",
        "\n",
        "f(3)"
      ],
      "execution_count": null,
      "outputs": []
    },
    {
      "cell_type": "markdown",
      "metadata": {
        "kernel": "SoS",
        "nbgrader": {
          "grade": false,
          "grade_id": "c-005",
          "locked": true,
          "schema_version": 3,
          "solution": false,
          "task": false
        }
      },
      "source": [
        "* 実行中のセルは, 左に`[*]`と表示され, 終了すると`[2]`のような番号に変わる\n",
        "* `[*]`が表示されている間は他のセルを実行できないことを覚えておこう\n",
        "* 以下のセルを実行して`[*]`を観察しておくこと\n",
        "<br/>\n",
        "\n",
        "* while a cell is executing, `[*]` is shown on the left, which turns into a number like `[2]`\n",
        "* remember that you cannot execute other cells while `[*]` is shown\n",
        "* execute the cell below and observe `[*]`\n",
        ""
      ]
    },
    {
      "cell_type": "code",
      "metadata": {
        "kernel": "Python 3 (ipykernel)",
        "nbgrader": {
          "grade": false,
          "grade_id": "c-006",
          "locked": false,
          "schema_version": 3,
          "solution": false,
          "task": false
        }
      },
      "source": [
        "import time\n",
        "time.sleep(5.0)"
      ],
      "execution_count": null,
      "outputs": []
    },
    {
      "cell_type": "markdown",
      "metadata": {
        "kernel": "SoS",
        "nbgrader": {
          "grade": false,
          "grade_id": "c-007",
          "locked": true,
          "schema_version": 3,
          "solution": false,
          "task": false
        }
      },
      "source": [
        "* 実行中のセルを途中で止めたければタブ上部の■ボタンで止められることにはなっているが効かないことも多い\n",
        "* その場合は, メニューの Kernel -&gt; Restart Kernel として **カーネルのリセット** をする\n",
        "* より強力なリセット方法はメニューの File -&gt; Hub Control Panel -&gt; Stop Server ->&gt; Start Server として**サーバの再起動** をする\n",
        "* 以下を実行し, 終了する前に■ボタンで止めてみよ\n",
        "* カーネルのリセット, サーバの再起動も試してみよ\n",
        "<br/>\n",
        "\n",
        "* you should be able to stop an executing cell by ■ button at top of the tab, but do not expect it to work reliably\n",
        "* if it doesn't work, **reset kernel** by going to menu and selecting Kernel -&gt; Restart Kernel\n",
        "* even more powerful method to reset everything is to **restart the server** by going to menu and selecting File -&gt; Hub Control Panel -&gt; Stop Server -&gt; Start Server\n",
        "* execute the cell below and stop it before it finishes by ■ button\n",
        "* also try to reset kernel and restart server\n",
        ""
      ]
    },
    {
      "cell_type": "code",
      "metadata": {
        "kernel": "Python 3 (ipykernel)",
        "nbgrader": {
          "grade": false,
          "grade_id": "c-008",
          "locked": false,
          "schema_version": 3,
          "solution": false,
          "task": false
        }
      },
      "source": [
        "import time\n",
        "time.sleep(10.0)"
      ],
      "execution_count": null,
      "outputs": []
    },
    {
      "cell_type": "markdown",
      "metadata": {
        "kernel": "SoS",
        "nbgrader": {
          "grade": false,
          "grade_id": "c-009",
          "locked": true,
          "schema_version": 3,
          "solution": false,
          "task": false
        }
      },
      "source": [
        "## 1-3. `%%writefile` で始まるセル / Cells starting with `%%writefile`",
        "\n",
        "* `%%writefile filename` で始まるセルは SHIFT + Enter でその中身を指定されたファイルに保存する\n",
        "* Pythonではあるが典型的にはCプログラムを保存して後にBashセルでコンパイル, 実行するために用いられる\n",
        "<br/>\n",
        "\n",
        "* Pressing SHIFT + Enter on cells that begin with `%%writefile filename` save the contents of the cell into the specified file\n",
        "* They look like Python cells, but they typically contain C programs which are then compiled and executed by bash cells\n",
        ""
      ]
    },
    {
      "cell_type": "code",
      "metadata": {
        "kernel": "Python 3 (ipykernel)",
        "nbgrader": {
          "grade": false,
          "grade_id": "c-010",
          "locked": false,
          "schema_version": 3,
          "solution": false,
          "task": false
        }
      },
      "source": [
        "%%writefile hello.c\n",
        "/* a Python cell that just saves the contents into a file (hello.c) */\n",
        "#include <stdio.h>\n",
        "int main() {\n",
        "    printf(\"hello\\n\");\n",
        "    return 0;\n",
        "}"
      ],
      "execution_count": null,
      "outputs": []
    },
    {
      "cell_type": "markdown",
      "metadata": {
        "kernel": "SoS",
        "nbgrader": {
          "grade": false,
          "grade_id": "c-011",
          "locked": true,
          "schema_version": 3,
          "solution": false,
          "task": false
        }
      },
      "source": [
        "## 1-4. bash",
        "\n",
        "* 下のセルはbash (Linuxのコマンドを実行できる)\n",
        "* ただしバグがあって, 出力が正しく出ないことがある(おかしいなと思ったら何度か実行してみてください)\n",
        "<br/>\n",
        "\n",
        "* The cell below is bash, in which you can execute Linux commands\n",
        "* There seems a bug that misses outputs.  Repeat executing several times when the output is suspicious.\n",
        ""
      ]
    },
    {
      "cell_type": "code",
      "metadata": {
        "kernel": "Bash",
        "nbgrader": {
          "grade": false,
          "grade_id": "c-012",
          "locked": false,
          "schema_version": 3,
          "solution": false,
          "task": false
        }
      },
      "source": [
        "# 表示されなかったらもう一回実行\n",
        "# if the result is not displayed, execute it again\n",
        "pwd"
      ],
      "execution_count": null,
      "outputs": []
    },
    {
      "cell_type": "code",
      "metadata": {
        "kernel": "Bash",
        "nbgrader": {
          "grade": false,
          "grade_id": "c-013",
          "locked": false,
          "schema_version": 3,
          "solution": false,
          "task": false
        }
      },
      "source": [
        "ls"
      ],
      "execution_count": null,
      "outputs": []
    },
    {
      "cell_type": "code",
      "metadata": {
        "kernel": "Bash",
        "nbgrader": {
          "grade": false,
          "grade_id": "c-014",
          "locked": false,
          "schema_version": 3,
          "solution": false,
          "task": false
        }
      },
      "source": [
        "gcc hello.c -o hello\n",
        "./hello"
      ],
      "execution_count": null,
      "outputs": []
    },
    {
      "cell_type": "markdown",
      "metadata": {
        "kernel": "SoS",
        "nbgrader": {
          "grade": false,
          "grade_id": "c-015",
          "locked": true,
          "schema_version": 3,
          "solution": false,
          "task": false
        }
      },
      "source": [
        "## 1-5. text (markdown)",
        "\n",
        "* コードではなくテキスト(マークダウン形式)を書くためのセル\n",
        "<br/>\n",
        "* there are cells for ordinary texts (markdown format), not code\n",
        ""
      ]
    },
    {
      "cell_type": "markdown",
      "metadata": {
        "kernel": "SoS",
        "nbgrader": {
          "grade": false,
          "grade_id": "c-016",
          "locked": false,
          "schema_version": 3,
          "solution": false,
          "task": false
        }
      },
      "source": [
        "* ここをダブルクリックして編集してみよ\n",
        "  * 編集し終えたらSHIFT-ENTERで保存\n",
        "* double-click this cell and edit\n",
        "  * after done, press SHIFT-ENTER to save"
      ]
    },
    {
      "cell_type": "markdown",
      "metadata": {
        "kernel": "SoS",
        "nbgrader": {
          "grade": false,
          "grade_id": "c-017",
          "locked": true,
          "schema_version": 3,
          "solution": false,
          "task": false
        }
      },
      "source": [
        "# 2. 注意: 解答用セルをコピーしないこと / Do not copy cells for answers",
        "\n",
        "* Jupyter notebookにはセルを複製(コピー, ペースト)する機能があるがそれを使って解答を記入すべきセルの複製を作ると, ノートブックが壊れてしまい採点ができなくなる\n",
        "* 解答記入用のセルには **解答セル/Answer Cell** と印がついている\n",
        "* 作業用にセルを新しく作ることは問題ない\n",
        "<br/>\n",
        "\n",
        "* Jupyter notebook allows you to duplicate (copy and paste) cells.  However, when you make a copy of cells for your answers, the notebook is broken and becomes impossible to grade\n",
        "* Cells for answers are marked with **解答セル/Answer Cell** \n",
        "* You can create new cells afresh for your work\n",
        "\n",
        "<!---\n",
        "Validateボタン / Validate Button\n",
        "\n",
        "* ページ上部Validateボタンを押すと以下がチェックされる\n",
        "  1. notebookが壊れていないか(解答を記入すべきセルが複製されていないか)\n",
        "  1. 解答を記入すべきセルに少しでも変更が施されているか\n",
        "* When you press the Validate button near the page top, it checks\n",
        "  1. if the notebook is not broken (i.e., you didn't duplicate answer cells), and \n",
        "  1. if each answer cell is modified in any way.\n",
        "\n",
        "* Submitする前に押して確認すること\n",
        "* Press the button before you submit it\n",
        "\n",
        "* 解答が正解かどうかをチェックするわけではない\n",
        "* It does not check if the answer is correct or not\n",
        "--->\n",
        "\n",
        "# 3. この授業で使う言語 / Programming languages covered in this lecture",
        "\n",
        "## 3-1. Go",
        "\n",
        "### 3-1-1. Jupyterで使う場合 / Using in Jupyter",
        "\n",
        "* 以下のセルをクリックして右上の言語選択メニューに「Go」と表示されることを確認せよ\n",
        "* Click the cell below and confirm \"Go\" is selected in the language menu on the right\n",
        "* 以下を下のセルにコピーして実行してみよ\n",
        "* Copy the following to the cell below and execute it\n",
        "```\n",
        "println(\"hello go\")\n",
        "```\n",
        "\n",
        "**解答セル/Answer Cell**\n",
        ""
      ]
    },
    {
      "cell_type": "code",
      "metadata": {
        "kernel": "Go",
        "nbgrader": {
          "grade": true,
          "grade_id": "p-001",
          "locked": false,
          "schema_version": 3,
          "solution": true,
          "task": false,
          "points": 1
        }
      },
      "source": [
        "BEGIN SOLUTION\n",
        "END SOLUTION"
      ],
      "execution_count": null,
      "outputs": []
    },
    {
      "cell_type": "markdown",
      "metadata": {
        "kernel": "SoS",
        "nbgrader": {
          "grade": false,
          "grade_id": "c-018",
          "locked": true,
          "schema_version": 3,
          "solution": false,
          "task": false
        }
      },
      "source": [
        "### 3-1-2. コマンドラインで使う場合 / Using in command line",
        "\n",
        "* コマンドライン(JupyterターミナルやSSH)で使うには以下を(JupyterターミナルやSSHでログインした端末で)実行する\n",
        "* to use in a command line (Jupyter terminal or SSH), execute the following (in the Jupyter terminal or SSH terminal)\n",
        "```\n",
        "export PATH=~/go/bin:$PATH\n",
        "```\n",
        "<br/>\n",
        "\n",
        "* 毎回実行し直さなくて良いようにするには `~/.bashrc` に書いておく\n",
        "* if you don't want to do it every time, put it in your `~/.bashrc`\n",
        "\n",
        "* 以下で`go`コマンドの場所 (`/home/uNNNNN/go/bin/go`) が表示されることを確認\n",
        "* make sure the following command shows the location of `go` command (`/home/uNNNNN/go/bin/go`)\n",
        "```\n",
        "which go\n",
        "```\n",
        "\n",
        "## 3-2. Julia",
        "\n",
        "### 3-2-1. Jupyterで使う場合 / Using in Jupyter",
        "\n",
        "* 以下のセルをクリックして右上の言語選択メニューに「Juila 1.10.2」と表示されることを確認せよ\n",
        "* Click the cell below and confirm \"Julia 1.10.2\" is selected in the language menu on the right\n",
        "* 以下を下のセルにコピーして実行してみよ\n",
        "* Copy the following to the cell below and execute it\n",
        "```\n",
        "print(\"hello Julia\")\n",
        "```\n",
        "\n",
        "**解答セル/Answer Cell**\n",
        ""
      ]
    },
    {
      "cell_type": "code",
      "metadata": {
        "kernel": "Julia 1.11.4",
        "nbgrader": {
          "grade": true,
          "grade_id": "p-002",
          "locked": false,
          "schema_version": 3,
          "solution": true,
          "task": false,
          "points": 1
        }
      },
      "source": [
        "BEGIN SOLUTION\n",
        "END SOLUTION"
      ],
      "execution_count": null,
      "outputs": []
    },
    {
      "cell_type": "markdown",
      "metadata": {
        "kernel": "SoS",
        "nbgrader": {
          "grade": false,
          "grade_id": "c-019",
          "locked": true,
          "schema_version": 3,
          "solution": false,
          "task": false
        }
      },
      "source": [
        "### 3-2-2. コマンドラインで使う場合 / Using in command line",
        "\n",
        "* コマンドライン(JupyterターミナルやSSH)で使うには以下を(JupyterターミナルやSSHでログインした端末で)実行する\n",
        "* to use in a command line (Jupyter terminal or SSH), execute the following (in the Jupyter terminal or SSH terminal)\n",
        "```\n",
        "export PATH=~/.juliaup/bin:$PATH\n",
        "```\n",
        "<br/>\n",
        "\n",
        "* 毎回実行し直さなくて良いようにするには `~/.bashrc` に書いておく\n",
        "* if you don't want to do it every time, put it in your `~/.bashrc`\n",
        "\n",
        "* 以下で`julia`コマンドの場所 (`/home/uNNNNN/.juliaup/bin/julia`) が表示されることを確認\n",
        "* make sure the following command shows the location of `julia` command (`/home/uNNNNN/.juliaup/bin/julia`)\n",
        "```\n",
        "which julia\n",
        "```\n",
        "\n",
        "## 3-3. OCaml",
        "\n",
        "### 3-3-1. Jupyterで使う場合 / Using in Jupyter",
        "\n",
        "* 以下のセルをクリックして右上の言語選択メニューに「OCaml default」と表示されることを確認せよ\n",
        "* Click the cell below and confirm \"OCaml default\" is selected in the language menu on the right\n",
        "* 以下を下のセルにコピーして実行してみよ\n",
        "* Copy the following to the cell below and execute it\n",
        "```\n",
        "Printf.printf(\"hello ocaml\\n\");\n",
        "flush_all()\n",
        "```\n",
        "\n",
        "**解答セル/Answer Cell**\n",
        ""
      ]
    },
    {
      "cell_type": "code",
      "metadata": {
        "kernel": "OCaml 4.14.2",
        "nbgrader": {
          "grade": true,
          "grade_id": "p-003",
          "locked": false,
          "schema_version": 3,
          "solution": true,
          "task": false,
          "points": 1
        }
      },
      "source": [
        "BEGIN SOLUTION\n",
        "END SOLUTION"
      ],
      "execution_count": null,
      "outputs": []
    },
    {
      "cell_type": "markdown",
      "metadata": {
        "kernel": "SoS",
        "nbgrader": {
          "grade": false,
          "grade_id": "c-020",
          "locked": true,
          "schema_version": 3,
          "solution": false,
          "task": false
        }
      },
      "source": [
        "### 3-3-2. コマンドラインで使う場合 / Using in command line",
        "\n",
        "* コマンドライン(JupyterターミナルやSSH)で使うには以下を(JupyterターミナルやSSHでログインした端末で)実行する\n",
        "* to use in a command line (Jupyter terminal or SSH), execute the following (in the Jupyter terminal or SSH terminal)\n",
        "```\n",
        "eval $(opam env)\n",
        "```\n",
        "<br/>\n",
        "\n",
        "* 毎回実行し直さなくて良いようにするには `~/.bashrc` に書いておく\n",
        "* if you don't want to do it every time, put it in your `~/.bashrc`\n",
        "\n",
        "* 以下で`ocaml`コマンドの場所 (`/home/uNNNNN/.opam/default/bin/ocaml`) が表示されることを確認\n",
        "* make sure the following command shows the location of `ocaml` (`/home/uNNNNN/.opam/default/bin/ocaml`)\n",
        "```\n",
        "which ocaml\n",
        "```\n",
        "\n",
        "## 3-4. Rust",
        "\n",
        "### 3-4-1. Jupyterで使う場合 / Using in Jupyter",
        "\n",
        "* 以下のセルをクリックして右上の言語選択メニューに「Rust」と表示されることを確認せよ\n",
        "* Click the cell below and confirm \"Rust\" is selected in the language menu on the right\n",
        "* 以下を下のセルにコピーして実行してみよ\n",
        "* Copy the following to the cell below and execute it\n",
        "```\n",
        "println!(\"hello rust\")\n",
        "```\n",
        "\n",
        "**解答セル/Answer Cell**\n",
        ""
      ]
    },
    {
      "cell_type": "code",
      "metadata": {
        "kernel": "Rust",
        "nbgrader": {
          "grade": true,
          "grade_id": "p-004",
          "locked": false,
          "schema_version": 3,
          "solution": true,
          "task": false,
          "points": 1
        }
      },
      "source": [
        "BEGIN SOLUTION\n",
        "END SOLUTION"
      ],
      "execution_count": null,
      "outputs": []
    },
    {
      "cell_type": "markdown",
      "metadata": {
        "kernel": "SoS",
        "nbgrader": {
          "grade": false,
          "grade_id": "c-021",
          "locked": true,
          "schema_version": 3,
          "solution": false,
          "task": false
        }
      },
      "source": [
        "### 3-4-2. コマンドラインで使う場合 / Using in command line",
        "\n",
        "* コマンドライン(JupyterターミナルやSSH)で使うには以下を(JupyterターミナルやSSHでログインした端末で)実行する\n",
        "* to use in a command line (Jupyter terminal or SSH), execute the following (in the Jupyter terminal or SSH terminal)\n",
        "```\n",
        ". ~/.cargo/env\n",
        "```\n",
        "<br/>\n",
        "\n",
        "* 毎回実行し直さなくて良いようにするには `~/.bashrc` に書いておく\n",
        "* if you don't want to do it every time, put it in your `~/.bashrc`\n",
        "\n",
        "* 以下で`cargo`, `rustc`コマンドの場所 (`/home/uNNNNN/.cargo/bin/cargo`, `/home/uNNNNN/.cargo/bin/rustc`) が表示されることを確認\n",
        "* make sure the following command shows the location of `cargo` or `rustc` command (`/home/uNNNNN/go/bin/cargo` or `/home/uNNNNN/go/bin/rustc`)\n",
        "```\n",
        "which cargo\n",
        "which rustc\n",
        "```\n",
        "\n",
        "# 4. Jupyter 端末環境 / Jupyter Terminals",
        "\n",
        "* Jupyterの典型的な環境はこのようなページ(ノートブック)にプログラムを書いてそれを実行するというものだが, 自分でコマンドを打ち込んで実行できる環境(端末)も用意されている\n",
        "* メニュー直下の「+」アイコンをクリックしてlauncherを表示\n",
        "* Terminal を選ぶとコマンドラインが開く\n",
        "* 使いたくなるかも知れない場面\n",
        "  * man pageを閲覧する\n",
        "  * 暴走して, ■ボタンを押しても止まらないプログラムを kill コマンドで殺す\n",
        "<br/>\n",
        "\n",
        "* A typical Jupyter environment executes programs in a page like this (notebook).  There is, however, an environment you type arbitrary commands (terminal)\n",
        "* click the \"+\" icon right below the menu to show the launcher page\n",
        "* select \"Terminal\" to open the command line terminal\n",
        "* some circumstances in which you want to use it\n",
        "  * you browse a man page\n",
        "  * use kill command to terminate a program that does not stop with ■ button\n",
        "\n",
        "# 5. SSH でログイン / Login with SSH",
        "\n",
        "* ただしそれをやりたいなら SSH ログインをマスターする方がきっと良い\n",
        "* 今すぐ必要ではないが後の週の課題で必要になる\n",
        "* SSHログインのやり方は, [Jupyter環境の使い方](https://taura.github.io/programming-languages/html/jupyter.html)を参照\n",
        "<br/>\n",
        "\n",
        "* to do them, however, you probably want to master SSH login described below instead\n",
        "* you don't have to do this immediately, but need it in later assignments\n",
        "* see [How to access Jupyter environment](https://taura.github.io/programming-languages/html/jupyter.html?lang=en) for how to set up SSH\n",
        "\n",
        ""
      ]
    }
  ],
  "metadata": {
    "celltoolbar": "Create Assignment",
    "kernelspec": {
      "display_name": "SoS",
      "language": "sos",
      "name": "sos"
    },
    "language_info": {
      "codemirror_mode": "sos",
      "file_extension": ".sos",
      "mimetype": "text/x-sos",
      "name": "sos",
      "nbconvert_exporter": "sos_notebook.converter.SoS_Exporter",
      "pygments_lexer": "sos"
    },
    "sos": {
      "kernels": [
        [
          "Bash",
          "bash",
          "bash",
          "",
          "shell"
        ],
        [
          "C",
          "c_kernel",
          "c",
          "",
          ""
        ],
        [
          "Go",
          "gophernotes",
          "go",
          "",
          ""
        ],
        [
          "Julia 1.11.4",
          "julia-1.11",
          "julia",
          "",
          ""
        ],
        [
          "OCaml 4.14.2",
          "ocaml-jupyter",
          "OCaml",
          "",
          "text/x-ocaml"
        ],
        [
          "Python 3 (ipykernel)",
          "python3",
          "python3",
          "",
          {
            "name": "ipython",
            "version": 3
          }
        ],
        [
          "Rust",
          "rust",
          "rust",
          "",
          ""
        ]
      ],
      "panel": {
        "displayed": true,
        "height": 0
      },
      "version": "0.23.3"
    }
  },
  "nbformat": 4,
  "nbformat_minor": 4
}