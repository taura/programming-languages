{
  "cells": [
    {
      "cell_type": "markdown",
      "metadata": {
        "kernel": "SoS",
        "nbgrader": {
          "grade": false,
          "grade_id": "c-001",
          "locked": true,
          "schema_version": 3,
          "solution": false,
          "task": false
        }
      },
      "source": [
        "#  Programming Languages (2) --- Functional Programming Basics",
        ""
      ]
    },
    {
      "cell_type": "markdown",
      "metadata": {
        "kernel": "SoS",
        "nbgrader": {
          "grade": false,
          "grade_id": "c-002",
          "locked": false,
          "schema_version": 3,
          "solution": false,
          "task": false
        }
      },
      "source": [
        "\n",
        "Enter your name and student ID.\n",
        "\n",
        " * Name:\n",
        " * Student ID:\n",
        ""
      ]
    },
    {
      "cell_type": "markdown",
      "metadata": {
        "kernel": "SoS",
        "nbgrader": {
          "grade": false,
          "grade_id": "c-003",
          "locked": true,
          "schema_version": 3,
          "solution": false,
          "task": false
        }
      },
      "source": [
        "# 1. Choose your language",
        "\n",
        "Choose a language you want to work on for today from the following.\n",
        "\n",
        "* Go --- designed as a \"better C\"\n",
        "* Julia --- popular for scientific computing\n",
        "* OCaml --- a practical functional language\n",
        "* Rust --- a system programming language with memory safety without garbage collection\n",
        "\n",
        "\n",
        "* Choose a language you want to learn instead of one you already know.\n",
        "* The choice you made for today is not final, however; the language you work on in the rest of the course will be determined based on your preference as well as the balance.\n",
        "\n",
        "Declare your choice in the following cell.  You can write any number of languages you actually worked on.  In this notebook, I will work on the following language(s).\n",
        ""
      ]
    },
    {
      "cell_type": "markdown",
      "metadata": {
        "kernel": "SoS",
        "nbgrader": {
          "grade": true,
          "grade_id": "p-001",
          "locked": false,
          "schema_version": 3,
          "solution": true,
          "task": false,
          "points": 1
        }
      },
      "source": [
        "BEGIN SOLUTION\n",
        "END SOLUTION"
      ]
    },
    {
      "cell_type": "markdown",
      "metadata": {
        "kernel": "SoS",
        "nbgrader": {
          "grade": false,
          "grade_id": "c-004",
          "locked": true,
          "schema_version": 3,
          "solution": false,
          "task": false
        }
      },
      "source": [
        "# 2. Prepare",
        "\n",
        "* Find an authoritive documentation for the language you chose by Google (e.g., google with [_the language name_ documentation])\n",
        "* I recommend you to find them by yourself, but in case you have a hard time finding it, here they are\n",
        "\n",
        "* [Go:](https://go.dev/doc/)\n",
        "* [Julia:](https://docs.julialang.org/en/v1/)\n",
        "* [OCaml:](https://ocaml.org/manual/)\n",
        "* Rust: [language manual](https://doc.rust-lang.org/book/) and [other docs](https://www.rust-lang.org/learn)\n",
        "\n",
        "# 3. Prepare AI Tutor",
        "\n",
        "* Execute the following cell to set up your tutor"
      ]
    },
    {
      "cell_type": "code",
      "metadata": {
        "kernel": "Python 3 (ipykernel)",
        "nbgrader": {
          "grade": false,
          "grade_id": "c-005",
          "locked": false,
          "schema_version": 3,
          "solution": false,
          "task": false
        }
      },
      "source": [
        "from heytutor import *\n",
        "config(default_lang=\" ... \")  # choose one of Go/Julia/OCaml/Rust"
      ],
      "execution_count": null,
      "outputs": []
    },
    {
      "cell_type": "markdown",
      "metadata": {
        "kernel": "SoS",
        "nbgrader": {
          "grade": false,
          "grade_id": "c-006",
          "locked": true,
          "schema_version": 3,
          "solution": false,
          "task": false
        }
      },
      "source": [
        "* Recall the most generic way of asking is to put `%%hey_` in a Python cell"
      ]
    },
    {
      "cell_type": "code",
      "metadata": {
        "kernel": "Python 3 (ipykernel)",
        "nbgrader": {
          "grade": false,
          "grade_id": "c-007",
          "locked": false,
          "schema_version": 3,
          "solution": false,
          "task": false
        }
      },
      "source": [
        "%%hey_\n",
        "Tell me how to make an array in Julia"
      ],
      "execution_count": null,
      "outputs": []
    },
    {
      "cell_type": "markdown",
      "metadata": {
        "kernel": "SoS",
        "nbgrader": {
          "grade": false,
          "grade_id": "c-008",
          "locked": true,
          "schema_version": 3,
          "solution": false,
          "task": false
        }
      },
      "source": [
        "or execute one of `hey`, `I`(ntro), `C`(oding problem), `R`(eading problem), and `D`(ebugging problem) in a Python cell. e.g.,"
      ]
    },
    {
      "cell_type": "code",
      "metadata": {
        "kernel": "Python 3 (ipykernel)",
        "nbgrader": {
          "grade": false,
          "grade_id": "c-009",
          "locked": false,
          "schema_version": 3,
          "solution": false,
          "task": false
        }
      },
      "source": [
        "# hey(\"How to make an array\") # how to do this in the language you chose\n",
        "# I(\"list\", \"OCaml\")          # introduction to list of ocaml\n",
        "# C(\"vector\")    # coding problem about vector in the language you chose"
      ],
      "execution_count": null,
      "outputs": []
    },
    {
      "cell_type": "markdown",
      "metadata": {
        "kernel": "SoS",
        "nbgrader": {
          "grade": false,
          "grade_id": "c-010",
          "locked": true,
          "schema_version": 3,
          "solution": false,
          "task": false
        }
      },
      "source": [
        "# 4. Roadmap",
        "\n",
        "* Below, you are going to learn the basics of functional programming.\n",
        "\n",
        "* Note: follow case conventions/requirements about type names of your language; Go, Julia and Rust conventionally capitalize them and OCaml requires them to be in lowercase\n",
        "\n",
        "# <font color=\"green\"> Problem 1 :  A simple recurrence relation</font>",
        "\n",
        "Write a \"functional program\" that is given $n$ and computes the value of $a_n$ of the following recurrence.\n",
        "\n",
        "$$\n",
        "\\begin{eqnarray*}\n",
        "   a_0 & = & 1, \\\\\n",
        "   a_n & = & 0.9\\; a_{n-1} + 2 \\quad (n > 0)\n",
        "\\end{eqnarray*}\n",
        "$$\n",
        "\n",
        "* If it matters in your language, make it return 64-bit floating point numbers.\n",
        "\n",
        "The following is a \"procedural\" version in Python.\n",
        ""
      ]
    },
    {
      "cell_type": "code",
      "metadata": {
        "kernel": "Python 3 (ipykernel)",
        "nbgrader": {
          "grade": false,
          "grade_id": "c-011",
          "locked": true,
          "schema_version": 3,
          "solution": false,
          "task": false
        }
      },
      "source": [
        "def a(n):\n",
        "    x = 1.0\n",
        "    for i in range(n):\n",
        "        x = 0.9 * x + 2.0\n",
        "    return x"
      ],
      "execution_count": null,
      "outputs": []
    },
    {
      "cell_type": "markdown",
      "metadata": {
        "kernel": "SoS",
        "nbgrader": {
          "grade": false,
          "grade_id": "c-012",
          "locked": true,
          "schema_version": 3,
          "solution": false,
          "task": false
        }
      },
      "source": [
        "* Here, you are asked to write a \"functional\" version, whose superficial characteristics are\n",
        "  * it does not use loops\n",
        "  * it does not update variables\n",
        "\n",
        "* But more important is the fact that you can straightforwardly express the above recurrence using a recursive call.\n",
        "* Once you master this way of thinking, you don't even have to think of loops or updating variables.\n",
        "\n",
        "* <font color=\"red\">In cells that follow, choose your language from the language selection menu.</font>\n",
        "\n",
        "**解答セル/Answer Cell**\n",
        ""
      ]
    },
    {
      "cell_type": "code",
      "metadata": {
        "kernel": "Python 3 (ipykernel)",
        "nbgrader": {
          "grade": true,
          "grade_id": "p-002",
          "locked": false,
          "schema_version": 3,
          "solution": true,
          "task": false,
          "points": 1
        }
      },
      "source": [
        "BEGIN SOLUTION\n",
        "END SOLUTION"
      ],
      "execution_count": null,
      "outputs": []
    },
    {
      "cell_type": "markdown",
      "metadata": {
        "kernel": "SoS",
        "nbgrader": {
          "grade": false,
          "grade_id": "c-013",
          "locked": true,
          "schema_version": 3,
          "solution": false,
          "task": false
        }
      },
      "source": [
        "* Test (Go)\n",
        ""
      ]
    },
    {
      "cell_type": "code",
      "metadata": {
        "kernel": "Go",
        "nbgrader": {
          "grade": false,
          "grade_id": "c-014",
          "locked": true,
          "schema_version": 3,
          "solution": false,
          "task": false
        }
      },
      "source": [
        "import \"math\"\n",
        "func float64_close(x float64, y float64, eps float64) {\n",
        "    if math.Abs(x - y) > eps {\n",
        "        println(\"NG\")\n",
        "    } else {\n",
        "        println(\"OK\")\n",
        "    }\n",
        "}\n",
        "    float64_close(a(0),   1,          1.0e-6)\n",
        "    float64_close(a(10),  13.3751096, 1.0e-6)\n",
        "    float64_close(a(100), 19.9994953, 1.0e-6)\n",
        "    float64_close(a(300), 20.0,       1.0e-6)"
      ],
      "execution_count": null,
      "outputs": []
    },
    {
      "cell_type": "markdown",
      "metadata": {
        "kernel": "SoS",
        "nbgrader": {
          "grade": false,
          "grade_id": "c-015",
          "locked": true,
          "schema_version": 3,
          "solution": false,
          "task": false
        }
      },
      "source": [
        "* Test (Julia)\n",
        ""
      ]
    },
    {
      "cell_type": "code",
      "metadata": {
        "kernel": "Julia 1.11.4",
        "nbgrader": {
          "grade": false,
          "grade_id": "c-016",
          "locked": true,
          "schema_version": 3,
          "solution": false,
          "task": false
        }
      },
      "source": [
        "function float64_close(x, y, eps)\n",
        "    if abs(x - y) > eps\n",
        "        println(\"NG\")\n",
        "    else\n",
        "        println(\"OK\")\n",
        "    end\n",
        "end\n",
        "    float64_close(a(0),   1,          1.0e-6)\n",
        "    float64_close(a(10),  13.3751096, 1.0e-6)\n",
        "    float64_close(a(100), 19.9994953, 1.0e-6)\n",
        "    float64_close(a(300), 20.0,       1.0e-6)"
      ],
      "execution_count": null,
      "outputs": []
    },
    {
      "cell_type": "markdown",
      "metadata": {
        "kernel": "SoS",
        "nbgrader": {
          "grade": false,
          "grade_id": "c-017",
          "locked": true,
          "schema_version": 3,
          "solution": false,
          "task": false
        }
      },
      "source": [
        "* Test (OCaml)\n",
        ""
      ]
    },
    {
      "cell_type": "code",
      "metadata": {
        "kernel": "OCaml 4.14.2",
        "nbgrader": {
          "grade": false,
          "grade_id": "c-018",
          "locked": true,
          "schema_version": 3,
          "solution": false,
          "task": false
        }
      },
      "source": [
        "let float64_close x y eps =\n",
        "  if abs_float (x -. y) > eps then\n",
        "    Printf.printf \"NG\\n\"\n",
        "  else\n",
        "    Printf.printf \"OK\\n\"\n",
        ";;\n",
        "    float64_close (a 0)   1.0        1.0e-6;\n",
        "    float64_close (a 10)  13.3751096 1.0e-6;\n",
        "    float64_close (a 100) 19.9994953 1.0e-6;\n",
        "    float64_close (a 300) 20.0       1.0e-6;\n",
        "    flush_all ()\n",
        ";;"
      ],
      "execution_count": null,
      "outputs": []
    },
    {
      "cell_type": "markdown",
      "metadata": {
        "kernel": "SoS",
        "nbgrader": {
          "grade": false,
          "grade_id": "c-019",
          "locked": true,
          "schema_version": 3,
          "solution": false,
          "task": false
        }
      },
      "source": [
        "* Test (Rust)\n",
        ""
      ]
    },
    {
      "cell_type": "code",
      "metadata": {
        "kernel": "Rust",
        "nbgrader": {
          "grade": false,
          "grade_id": "c-020",
          "locked": true,
          "schema_version": 3,
          "solution": false,
          "task": false
        }
      },
      "source": [
        "fn float64_close(x : f64, y : f64, eps : f64) {\n",
        "    if (x - y).abs() > eps {\n",
        "        println!(\"NG\")\n",
        "    } else {\n",
        "        println!(\"OK\")\n",
        "    }\n",
        "}\n",
        "    float64_close(a(0),   1.0,        1.0e-6);\n",
        "    float64_close(a(10),  13.3751096, 1.0e-6);\n",
        "    float64_close(a(100), 19.9994953, 1.0e-6);\n",
        "    float64_close(a(300), 20.0,       1.0e-6);"
      ],
      "execution_count": null,
      "outputs": []
    },
    {
      "cell_type": "markdown",
      "metadata": {
        "kernel": "SoS",
        "nbgrader": {
          "grade": false,
          "grade_id": "c-021",
          "locked": true,
          "schema_version": 3,
          "solution": false,
          "task": false
        }
      },
      "source": [
        "# <font color=\"green\"> Problem 2 :  Find a divisor</font>",
        "\n",
        "Write a program, or more specifically a function, smallest_divisor_geq($n$, $x$), that finds the smallest divisor of a given integer $n$ that is $\\geq x$.  \n",
        "\n",
        "In Python syntax, \n",
        "```\n",
        ">>> smallest_divisor_geq(10, 2)\n",
        "2\n",
        ">>> smallest_divisor_geq(35, 2)\n",
        "5\n",
        ">>> smallest_divisor_geq(43, 2)\n",
        "43\n",
        "```\n",
        "\n",
        "You may assume:\n",
        "* $n$ is an integer and $2 \\leq n < 2^{25}$\n",
        "* $x$ is an integer and $2 \\leq x \\leq n$\n",
        "* $n$ is not visible by any integer $y$ s.t. $2 \\leq y < x$\n",
        "\n",
        "If it matters in your language, use 64-bit integers for $n$ and $x$.\n",
        "\n",
        "Write it in a \"functional\" style (no loops or updates to variables).\n",
        "\n",
        "Hint: functional thinking goes: \"The trivial case is when $x$ divides $n$. Otherwise?\"\n",
        "\n",
        "**解答セル/Answer Cell**"
      ]
    },
    {
      "cell_type": "code",
      "metadata": {
        "kernel": "Python 3 (ipykernel)",
        "nbgrader": {
          "grade": true,
          "grade_id": "p-003",
          "locked": false,
          "schema_version": 3,
          "solution": true,
          "task": false,
          "points": 1
        }
      },
      "source": [
        "BEGIN SOLUTION\n",
        "END SOLUTION"
      ],
      "execution_count": null,
      "outputs": []
    },
    {
      "cell_type": "markdown",
      "metadata": {
        "kernel": "SoS",
        "nbgrader": {
          "grade": false,
          "grade_id": "c-022",
          "locked": true,
          "schema_version": 3,
          "solution": false,
          "task": false
        }
      },
      "source": [
        "* Test (Go)\n",
        ""
      ]
    },
    {
      "cell_type": "code",
      "metadata": {
        "kernel": "Go",
        "nbgrader": {
          "grade": false,
          "grade_id": "c-023",
          "locked": true,
          "schema_version": 3,
          "solution": false,
          "task": false
        }
      },
      "source": [
        "func int64_eq(x int64, y int64) {\n",
        "    if x == y {\n",
        "        println(\"OK\")\n",
        "    } else {\n",
        "        println(\"NG\")\n",
        "    }\n",
        "}\n",
        "    int64_eq(smallest_divisor_geq(2,          2), 2)\n",
        "    int64_eq(smallest_divisor_geq(3,          2), 3)\n",
        "    int64_eq(smallest_divisor_geq(13 * 17,    2), 13)\n",
        "    int64_eq(smallest_divisor_geq(6700417, 2), 6700417)"
      ],
      "execution_count": null,
      "outputs": []
    },
    {
      "cell_type": "markdown",
      "metadata": {
        "kernel": "SoS",
        "nbgrader": {
          "grade": false,
          "grade_id": "c-024",
          "locked": true,
          "schema_version": 3,
          "solution": false,
          "task": false
        }
      },
      "source": [
        "* Test (Julia)\n",
        ""
      ]
    },
    {
      "cell_type": "code",
      "metadata": {
        "kernel": "Julia 1.11.4",
        "nbgrader": {
          "grade": false,
          "grade_id": "c-025",
          "locked": true,
          "schema_version": 3,
          "solution": false,
          "task": false
        }
      },
      "source": [
        "function int64_eq(x, y)\n",
        "    if x == y\n",
        "        println(\"OK\")\n",
        "    else\n",
        "        println(\"NG\")\n",
        "    end\n",
        "end\n",
        "    int64_eq(smallest_divisor_geq(2,          2), 2)\n",
        "    int64_eq(smallest_divisor_geq(3,          2), 3)\n",
        "    int64_eq(smallest_divisor_geq(13 * 17,    2), 13)\n",
        "    int64_eq(smallest_divisor_geq(6700417, 2), 6700417)"
      ],
      "execution_count": null,
      "outputs": []
    },
    {
      "cell_type": "markdown",
      "metadata": {
        "kernel": "SoS",
        "nbgrader": {
          "grade": false,
          "grade_id": "c-026",
          "locked": true,
          "schema_version": 3,
          "solution": false,
          "task": false
        }
      },
      "source": [
        "* Test (OCaml)\n",
        ""
      ]
    },
    {
      "cell_type": "code",
      "metadata": {
        "kernel": "OCaml 4.14.2",
        "nbgrader": {
          "grade": false,
          "grade_id": "c-027",
          "locked": true,
          "schema_version": 3,
          "solution": false,
          "task": false
        }
      },
      "source": [
        "let int64_eq x y =\n",
        "  if x == y then\n",
        "    Printf.printf \"OK\\n\"\n",
        "  else\n",
        "    Printf.printf \"NG\\n\"\n",
        ";;\n",
        "    int64_eq (smallest_divisor_geq 2          2) 2;\n",
        "    int64_eq (smallest_divisor_geq 3          2) 3;\n",
        "    int64_eq (smallest_divisor_geq (13 * 17)  2) 13;\n",
        "    int64_eq (smallest_divisor_geq 6700417    2) 6700417;\n",
        "    flush_all ()\n",
        ";;"
      ],
      "execution_count": null,
      "outputs": []
    },
    {
      "cell_type": "markdown",
      "metadata": {
        "kernel": "SoS",
        "nbgrader": {
          "grade": false,
          "grade_id": "c-028",
          "locked": true,
          "schema_version": 3,
          "solution": false,
          "task": false
        }
      },
      "source": [
        "* Test (Rust)\n",
        ""
      ]
    },
    {
      "cell_type": "code",
      "metadata": {
        "kernel": "Rust",
        "nbgrader": {
          "grade": false,
          "grade_id": "c-029",
          "locked": true,
          "schema_version": 3,
          "solution": false,
          "task": false
        }
      },
      "source": [
        "fn int64_eq(x : i64, y : i64) {\n",
        "    if x == y {\n",
        "        println!(\"OK\")\n",
        "    } else {\n",
        "        println!(\"NG\")\n",
        "    }\n",
        "}\n",
        "    int64_eq(smallest_divisor_geq(2,          2), 2);\n",
        "    int64_eq(smallest_divisor_geq(3,          2), 3);\n",
        "    int64_eq(smallest_divisor_geq(13 * 17,    2), 13);\n",
        "    int64_eq(smallest_divisor_geq(6700417, 2), 6700417)"
      ],
      "execution_count": null,
      "outputs": []
    },
    {
      "cell_type": "markdown",
      "metadata": {
        "kernel": "SoS",
        "nbgrader": {
          "grade": false,
          "grade_id": "c-030",
          "locked": true,
          "schema_version": 3,
          "solution": false,
          "task": false
        }
      },
      "source": [
        "# <font color=\"green\"> Problem 3 :  Factorization</font>",
        "\n",
        "Write a program, or more specifically, a function factorize($n$), that finds the factorization of $n$.  The answer should be a list (or an array) of integers, whose products $=$ $n$.  For convenience, the factorization of 1 is an empty list (or an array).  In Python,\n",
        "\n",
        "```\n",
        ">>> factorize(12)\n",
        "[2,2,3]\n",
        ">>> factorize(105)\n",
        "[3,5,7]\n",
        ">>> factorize(19)\n",
        "[19]\n",
        ">>> factorize(1)\n",
        "[]\n",
        "```\n",
        "\n",
        "* To make the correct answer unique, the list must have numbers in the ascending order\n",
        "\n",
        "Hint:\n",
        "\n",
        "* Once you find a divisor of $n$, say $a$, just factorize $n/a$.\n",
        "* To solve this problem, you probably need a method that takes an integer a0 and a sequence [a1, a2, a3, ...] and returns the sequence [a0, a1, a2, ...].  Here are how you can do it with each of the languages.\n",
        "  * Go : [append](https://pkg.go.dev/builtin#append)\n",
        "  * Julia : [vcat](https://docs.julialang.org/en/v1/base/arrays/#Base.vcat)\n",
        "  * OCaml : builtin operator [::](https://ocaml.org/docs/lists)\n",
        "  * Rust : [concat](https://doc.rust-lang.org/std/slice/trait.Concat.html)\n",
        "\n",
        "**解答セル/Answer Cell**\n",
        ""
      ]
    },
    {
      "cell_type": "code",
      "metadata": {
        "kernel": "Python 3 (ipykernel)",
        "nbgrader": {
          "grade": true,
          "grade_id": "p-004",
          "locked": false,
          "schema_version": 3,
          "solution": true,
          "task": false,
          "points": 1
        }
      },
      "source": [
        "BEGIN SOLUTION\n",
        "END SOLUTION"
      ],
      "execution_count": null,
      "outputs": []
    },
    {
      "cell_type": "markdown",
      "metadata": {
        "kernel": "SoS",
        "nbgrader": {
          "grade": false,
          "grade_id": "c-031",
          "locked": true,
          "schema_version": 3,
          "solution": false,
          "task": false
        }
      },
      "source": [
        "* Test (Go)\n",
        ""
      ]
    },
    {
      "cell_type": "code",
      "metadata": {
        "kernel": "Go",
        "nbgrader": {
          "grade": false,
          "grade_id": "c-032",
          "locked": true,
          "schema_version": 3,
          "solution": false,
          "task": false
        }
      },
      "source": [
        "func int64_list_eq(a []int64, b []int64) {\n",
        "    if a == nil && b == nil {\n",
        "        println(\"OK\")\n",
        "    } else if a == nil || b == nil {\n",
        "        println(\"NG\")\n",
        "    } else if len(a) != len(b) {\n",
        "        println(\"NG\")\n",
        "    } else {\n",
        "        for i := 0; i < len(a); i++ {\n",
        "            if a[i] != b[i] {\n",
        "                println(\"NG\")\n",
        "                return\n",
        "            }\n",
        "        }\n",
        "        println(\"OK\")\n",
        "    }\n",
        "}\n",
        "    int64_list_eq(factorize(64), []int64{2, 2, 2, 2, 2, 2})\n",
        "    int64_list_eq(factorize(105), []int64{3, 5, 7})"
      ],
      "execution_count": null,
      "outputs": []
    },
    {
      "cell_type": "markdown",
      "metadata": {
        "kernel": "SoS",
        "nbgrader": {
          "grade": false,
          "grade_id": "c-033",
          "locked": true,
          "schema_version": 3,
          "solution": false,
          "task": false
        }
      },
      "source": [
        "* Test (Julia)\n",
        ""
      ]
    },
    {
      "cell_type": "code",
      "metadata": {
        "kernel": "Julia 1.11.4",
        "nbgrader": {
          "grade": false,
          "grade_id": "c-034",
          "locked": true,
          "schema_version": 3,
          "solution": false,
          "task": false
        }
      },
      "source": [
        "function int64_list_eq(a, b)\n",
        "    if a == b\n",
        "        println(\"OK\")\n",
        "    else\n",
        "        println(\"NG\")\n",
        "    end\n",
        "end\n",
        "    int64_list_eq(factorize(64), [2, 2, 2, 2, 2, 2])\n",
        "    int64_list_eq(factorize(105), [3, 5, 7])"
      ],
      "execution_count": null,
      "outputs": []
    },
    {
      "cell_type": "markdown",
      "metadata": {
        "kernel": "SoS",
        "nbgrader": {
          "grade": false,
          "grade_id": "c-035",
          "locked": true,
          "schema_version": 3,
          "solution": false,
          "task": false
        }
      },
      "source": [
        "* Test (OCaml)\n",
        ""
      ]
    },
    {
      "cell_type": "code",
      "metadata": {
        "kernel": "OCaml 4.14.2",
        "nbgrader": {
          "grade": false,
          "grade_id": "c-036",
          "locked": true,
          "schema_version": 3,
          "solution": false,
          "task": false
        }
      },
      "source": [
        "let int64_list_eq a b =\n",
        "  if a = b then\n",
        "    Printf.printf \"OK\\n\"\n",
        "  else \n",
        "    Printf.printf \"NG\\n\"\n",
        ";;\n",
        "    int64_list_eq (factorize 1)   [];\n",
        "    int64_list_eq (factorize 5)   [5];\n",
        "    int64_list_eq (factorize 64)  [2; 2; 2; 2; 2; 2];\n",
        "    int64_list_eq (factorize 105) [3; 5; 7];\n",
        "    flush_all ()\n",
        ";;"
      ],
      "execution_count": null,
      "outputs": []
    },
    {
      "cell_type": "markdown",
      "metadata": {
        "kernel": "SoS",
        "nbgrader": {
          "grade": false,
          "grade_id": "c-037",
          "locked": true,
          "schema_version": 3,
          "solution": false,
          "task": false
        }
      },
      "source": [
        "* Test (Rust)\n",
        ""
      ]
    },
    {
      "cell_type": "code",
      "metadata": {
        "kernel": "Rust",
        "nbgrader": {
          "grade": false,
          "grade_id": "c-038",
          "locked": true,
          "schema_version": 3,
          "solution": false,
          "task": false
        }
      },
      "source": [
        "fn int64_list_eq(a : Vec<i64>, b : Vec<i64>) {\n",
        "    if a == b {\n",
        "        println!(\"OK\")\n",
        "    } else {\n",
        "        println!(\"NG\")\n",
        "    }\n",
        "}\n",
        "    int64_list_eq(factorize(64), vec![2, 2, 2, 2, 2, 2]);\n",
        "    int64_list_eq(factorize(105), vec![3, 5, 7])"
      ],
      "execution_count": null,
      "outputs": []
    },
    {
      "cell_type": "markdown",
      "metadata": {
        "kernel": "SoS",
        "nbgrader": {
          "grade": false,
          "grade_id": "c-039",
          "locked": true,
          "schema_version": 3,
          "solution": false,
          "task": false
        }
      },
      "source": [
        "# <font color=\"green\"> Problem 4 :  A Combinatorial Problem</font>",
        "\n",
        "* Write a function subset_sum($a$, $v$) which, given a sequence (array or list depending on the language) of positive integers $a$ and try to make a subset of $a$ whose sum is $v$\n",
        "* More specifically, it should return either\n",
        "  1. a sequence $k$ of 0/1's s.t.\n",
        "    * $k$ has the same length with $a$\n",
        "    * sum of elements in $a$ whose corresponding value in $k$ is one is $v$ (the $i$-th element of $a$ \"corresponds to\" the $i$-th element of $k$), if such a subset indeed exists, or\n",
        "  1. nil (Go), nothing (Julia), or None (OCaml or Rust) if no such subset exists\n",
        "\n",
        "* In math terms, the dot product of $a$ and the returned sequence is $v$\n",
        "    \n",
        "* In Python syntax,\n",
        "\n",
        "```\n",
        ">>> subset_sum([1, 1, 1, 10, 100], 12)\n",
        "[1, 1, 0, 1, 0]\n",
        ">>> subset_sum([1, 1, 1, 10, 100], 19)\n",
        "None\n",
        ">>> subset_sum([1, 2, 4, 8, 16], 13)\n",
        "[1, 0, 1, 1, 0]\n",
        "```\n",
        "\n",
        "* To make the correct answer unique, if there are two or more subsets whose sum make $v$, a list that is lexicographically greatest should be returned (in plain terms, try to choose elements that come earlier in $a$)\n",
        "\n",
        "**解答セル/Answer Cell**"
      ]
    },
    {
      "cell_type": "code",
      "metadata": {
        "kernel": "Python 3 (ipykernel)",
        "nbgrader": {
          "grade": true,
          "grade_id": "p-005",
          "locked": false,
          "schema_version": 3,
          "solution": true,
          "task": false,
          "points": 1
        }
      },
      "source": [
        "BEGIN SOLUTION\n",
        "END SOLUTION"
      ],
      "execution_count": null,
      "outputs": []
    },
    {
      "cell_type": "markdown",
      "metadata": {
        "kernel": "SoS",
        "nbgrader": {
          "grade": false,
          "grade_id": "c-040",
          "locked": true,
          "schema_version": 3,
          "solution": false,
          "task": false
        }
      },
      "source": [
        "* Test (Go)\n",
        ""
      ]
    },
    {
      "cell_type": "code",
      "metadata": {
        "kernel": "Go",
        "nbgrader": {
          "grade": false,
          "grade_id": "c-041",
          "locked": true,
          "schema_version": 3,
          "solution": false,
          "task": false
        }
      },
      "source": [
        "\tint64_list_eq(subset_sum([]int64{1,2,3,4,5}, 8), []int64{1, 1, 0, 0, 1})\n",
        "    int64_list_eq(subset_sum([]int64{33, 28, 56, 35, 19, 46, 25, 58, 17, 49, 33, 39, 37, 33, 24, 52}, 233),\n",
        "        []int64{1, 1, 1, 1, 1, 0, 1, 0, 0, 0, 0, 0, 1, 0, 0, 0})\n",
        "    int64_list_eq(subset_sum([]int64{30, 37, 46, 41, 14, 46, 44, 40, 46, 30, 46, 28, 33, 31, 56}, 171),\n",
        "        []int64{1, 1, 1, 0, 1, 0, 1, 0, 0, 0, 0, 0, 0, 0, 0})\n",
        "    int64_list_eq(subset_sum([]int64{47, 39, 15, 27, 52, 31, 39, 54, 20, 26, 38, 19, 35, 28}, 440), nil)\n",
        "    int64_list_eq(subset_sum([]int64{16, 24, 13, 20, 24, 13, 11, 31, 29, 44}, 222), nil)"
      ],
      "execution_count": null,
      "outputs": []
    },
    {
      "cell_type": "markdown",
      "metadata": {
        "kernel": "SoS",
        "nbgrader": {
          "grade": false,
          "grade_id": "c-042",
          "locked": true,
          "schema_version": 3,
          "solution": false,
          "task": false
        }
      },
      "source": [
        "* Test (Julia)\n",
        ""
      ]
    },
    {
      "cell_type": "code",
      "metadata": {
        "kernel": "Julia 1.11.4",
        "nbgrader": {
          "grade": false,
          "grade_id": "c-043",
          "locked": true,
          "schema_version": 3,
          "solution": false,
          "task": false
        }
      },
      "source": [
        "    int64_list_eq(subset_sum([1,2,3,4,5], 8), [1, 1, 0, 0, 1])\n",
        "    int64_list_eq(subset_sum([33, 28, 56, 35, 19, 46, 25, 58, 17, 49, 33, 39, 37, 33, 24, 52], 233),\n",
        "                  [1, 1, 1, 1, 1, 0, 1, 0, 0, 0, 0, 0, 1, 0, 0, 0])\n",
        "    int64_list_eq(subset_sum([30, 37, 46, 41, 14, 46, 44, 40, 46, 30, 46, 28, 33, 31, 56], 171),\n",
        "                  [1, 1, 1, 0, 1, 0, 1, 0, 0, 0, 0, 0, 0, 0, 0])\n",
        "    int64_list_eq(subset_sum([47, 39, 15, 27, 52, 31, 39, 54, 20, 26, 38, 19, 35, 28], 440), nothing)\n",
        "    int64_list_eq(subset_sum([16, 24, 13, 20, 24, 13, 11, 31, 29, 44], 222), nothing)"
      ],
      "execution_count": null,
      "outputs": []
    },
    {
      "cell_type": "markdown",
      "metadata": {
        "kernel": "SoS",
        "nbgrader": {
          "grade": false,
          "grade_id": "c-044",
          "locked": true,
          "schema_version": 3,
          "solution": false,
          "task": false
        }
      },
      "source": [
        "* Test (OCaml)\n",
        ""
      ]
    },
    {
      "cell_type": "code",
      "metadata": {
        "kernel": "OCaml 4.14.2",
        "nbgrader": {
          "grade": false,
          "grade_id": "c-045",
          "locked": true,
          "schema_version": 3,
          "solution": false,
          "task": false
        }
      },
      "source": [
        "  int64_list_eq (subset_sum [1; 2; 3; 4; 5] 8) (Some([1; 1; 0; 0; 1]));\n",
        "  int64_list_eq (subset_sum [33; 28; 56; 35; 19; 46; 25; 58; 17; 49; 33; 39; 37; 33; 24; 52] 233)\n",
        "    (Some([1; 1; 1; 1; 1; 0; 1; 0; 0; 0; 0; 0; 1; 0; 0; 0]));\n",
        "  int64_list_eq (subset_sum [30; 37; 46; 41; 14; 46; 44; 40; 46; 30; 46; 28; 33; 31; 56] 171)\n",
        "    (Some([1; 1; 1; 0; 1; 0; 1; 0; 0; 0; 0; 0; 0; 0; 0]));\n",
        "  int64_list_eq (subset_sum [47; 39; 15; 27; 52; 31; 39; 54; 20; 26; 38; 19; 35; 28] 440) None;\n",
        "  int64_list_eq (subset_sum [16; 24; 13; 20; 24; 13; 11; 31; 29; 44] 222) None;\n",
        "  flush_all ()\n",
        ";;"
      ],
      "execution_count": null,
      "outputs": []
    },
    {
      "cell_type": "markdown",
      "metadata": {
        "kernel": "SoS",
        "nbgrader": {
          "grade": false,
          "grade_id": "c-046",
          "locked": true,
          "schema_version": 3,
          "solution": false,
          "task": false
        }
      },
      "source": [
        "* Test (Rust)\n",
        ""
      ]
    },
    {
      "cell_type": "code",
      "metadata": {
        "kernel": "Rust",
        "nbgrader": {
          "grade": false,
          "grade_id": "c-047",
          "locked": true,
          "schema_version": 3,
          "solution": false,
          "task": false
        }
      },
      "source": [
        "fn int64_list_opt_eq(a : Option<Vec<i64>>, b : Option<Vec<i64>>) {\n",
        "    match a {\n",
        "        None => match b {\n",
        "            None => println!(\"OK\"),\n",
        "            Some(_) => println!(\"NG\")\n",
        "        },\n",
        "        Some(x) => match b {\n",
        "            None => println!(\"NG\"),\n",
        "            Some(y) => int64_list_eq(x, y)\n",
        "        }\n",
        "    }\n",
        "}\n",
        "    int64_list_opt_eq(subset_sum(&vec![1,2,3,4,5], 8), Some(vec![1, 1, 0, 0, 1]));\n",
        "    int64_list_opt_eq(subset_sum(&vec![33, 28, 56, 35, 19, 46, 25, 58, 17, 49, 33, 39, 37, 33, 24, 52], 233),\n",
        "                      Some(vec![1, 1, 1, 1, 1, 0, 1, 0, 0, 0, 0, 0, 1, 0, 0, 0]));\n",
        "    int64_list_opt_eq(subset_sum(&vec![30, 37, 46, 41, 14, 46, 44, 40, 46, 30, 46, 28, 33, 31, 56], 171),\n",
        "                      Some(vec![1, 1, 1, 0, 1, 0, 1, 0, 0, 0, 0, 0, 0, 0, 0]));\n",
        "    int64_list_opt_eq(subset_sum(&vec![47, 39, 15, 27, 52, 31, 39, 54, 20, 26, 38, 19, 35, 28], 440), None);\n",
        "    int64_list_opt_eq(subset_sum(&vec![16, 24, 13, 20, 24, 13, 11, 31, 29, 44], 222), None)"
      ],
      "execution_count": null,
      "outputs": []
    }
  ],
  "metadata": {
    "celltoolbar": "Create Assignment",
    "kernelspec": {
      "display_name": "SoS",
      "language": "sos",
      "name": "sos"
    },
    "language_info": {
      "codemirror_mode": "sos",
      "file_extension": ".sos",
      "mimetype": "text/x-sos",
      "name": "sos",
      "nbconvert_exporter": "sos_notebook.converter.SoS_Exporter",
      "pygments_lexer": "sos"
    },
    "sos": {
      "kernels": [
        [
          "Bash",
          "bash",
          "bash",
          "",
          "shell"
        ],
        [
          "C",
          "c_kernel",
          "c",
          "",
          ""
        ],
        [
          "Go",
          "gophernotes",
          "go",
          "",
          ""
        ],
        [
          "Julia 1.11.4",
          "julia-1.11",
          "julia",
          "",
          ""
        ],
        [
          "OCaml 4.14.2",
          "ocaml-jupyter",
          "OCaml",
          "",
          "text/x-ocaml"
        ],
        [
          "Python 3 (ipykernel)",
          "python3",
          "python3",
          "",
          {
            "name": "ipython",
            "version": 3
          }
        ],
        [
          "Rust",
          "rust",
          "rust",
          "",
          ""
        ]
      ],
      "panel": {
        "displayed": true,
        "height": 0
      },
      "version": "0.23.3"
    }
  },
  "nbformat": 4,
  "nbformat_minor": 4
}