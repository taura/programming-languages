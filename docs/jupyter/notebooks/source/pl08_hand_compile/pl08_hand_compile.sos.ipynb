{
  "cells": [
    {
      "cell_type": "markdown",
      "metadata": {
        "kernel": "SoS",
        "nbgrader": {
          "grade": false,
          "grade_id": "c-001",
          "locked": true,
          "schema_version": 3,
          "solution": false,
          "task": false
        }
      },
      "source": [
        "\n",
        "#  How compilers translate C programs",
        ""
      ]
    },
    {
      "cell_type": "markdown",
      "metadata": {
        "kernel": "SoS",
        "nbgrader": {
          "grade": false,
          "grade_id": "c-002",
          "locked": false,
          "schema_version": 3,
          "solution": false,
          "task": false
        }
      },
      "source": [
        "\n",
        "Enter your name and student ID.\n",
        "\n",
        " * Name:\n",
        " * Student ID:\n",
        ""
      ]
    },
    {
      "cell_type": "markdown",
      "metadata": {
        "kernel": "SoS",
        "nbgrader": {
          "grade": false,
          "grade_id": "c-003",
          "locked": true,
          "schema_version": 3,
          "solution": false,
          "task": false
        }
      },
      "source": [
        "\n",
        "* <font color=\"red\">As this notebook is rather long, you may want to use the index shown by clicking the list icon on the left</font>\n",
        ""
      ]
    },
    {
      "cell_type": "markdown",
      "metadata": {
        "kernel": "SoS",
        "nbgrader": {
          "grade": false,
          "grade_id": "c-004",
          "locked": true,
          "schema_version": 3,
          "solution": false,
          "task": false
        }
      },
      "source": [
        "\n",
        "<a name=\"intro\"> </a>\n",
        "# 1. Introduction",
        "\n",
        "* your final goal in the course is to build a compiler\n",
        "* a compiler reads a program, builds a parse tree, and finally translates it to a _<font color=\"blue\">machine code</font>_\n",
        "* _<font color=\"blue\">a machine code</font>_ is a series of instructions a processor can directly execute and is formatted in a way a machine can easily interpret (e.g., an instruction has a fixed number of bits, a fixed part of which encodes the kind of instructions)\n",
        "* _<font color=\"blue\">an assembly code</font>_ is practically the same as a machine code (a single assembly instruction almost directly corresponds to a single machine instruction) but is formatted as a text easier for humans to read\n",
        "* it is common that a compiler actually generates an assembly code, which is then converted to a real machine code by another software (which you can consider as a stage in a compilation process), called _<font color=\"blue\">an assembler</font>_\n",
        "* before actually building a compiler, you need to know the assembly code of the target machine and at least roughly know how expressions and statements in the source language are mapped to assembly code\n",
        "* even if you are not building a compiler, such a knowledge is useful in its own right to understand how programming languages work, to write an efficient program in them, and/or to diagnose your programs (especially for unsafe languages such as C or C++)\n",
        "* to that end, the goal of this notebook is to look at and understand assembly code generated from C language and translate some C functions into assembly by hand\n",
        ""
      ]
    },
    {
      "cell_type": "markdown",
      "metadata": {
        "kernel": "SoS",
        "nbgrader": {
          "grade": false,
          "grade_id": "c-005",
          "locked": true,
          "schema_version": 3,
          "solution": false,
          "task": false
        }
      },
      "source": [
        "\n",
        "<a name=\"let_the_compiler_generate_assembly\"> </a>\n",
        "# 2. Let the compiler generate assembly code",
        "\n",
        "* `gcc/g++` is a compiler for C/C++\n",
        "* `-S` option instructs the compiler to emit assembly code and stop the compilation after that"
      ]
    },
    {
      "cell_type": "code",
      "metadata": {
        "kernel": "Python 3 (ipykernel)",
        "nbgrader": {
          "grade": false,
          "grade_id": "c-006",
          "locked": false,
          "schema_version": 3,
          "solution": false,
          "task": false
        }
      },
      "source": [
        "%%writefile call.c\n",
        "long bbb();\n",
        "\n",
        "long aaa() {\n",
        "  return bbb() + 1;\n",
        "}"
      ],
      "execution_count": null,
      "outputs": []
    },
    {
      "cell_type": "code",
      "metadata": {
        "kernel": "Bash",
        "nbgrader": {
          "grade": false,
          "grade_id": "c-007",
          "locked": false,
          "schema_version": 3,
          "solution": false,
          "task": false
        }
      },
      "source": [
        "gcc -O3 -S call.c\n",
        "cat call.s"
      ],
      "execution_count": null,
      "outputs": []
    },
    {
      "cell_type": "markdown",
      "metadata": {
        "kernel": "SoS",
        "nbgrader": {
          "grade": false,
          "grade_id": "c-008",
          "locked": true,
          "schema_version": 3,
          "solution": false,
          "task": false
        }
      },
      "source": [
        "\n",
        "* we choose 64 bit Intel x86 instruction set (called _<font color=\"blue\">x86\\_64</font>_ or _<font color=\"blue\">amd64</font>_) as the target assembly code\n",
        " * this notebook teaches you the necessary part of x86_64 assembly. don't worry if you do not know about it\n",
        " * nobody can remember all x86_64 instructions. the point is to understand the minimum set of instructions necessary by a compiler and to be able to examine instructions corresponding to specific C expressions\n",
        " * [a quick reference](https://www.felixcloutier.com/x86/)\n",
        " * [a brief introduction by a lecture in Brown University](http://cs.brown.edu/courses/cs033/docs/guides/x64_cheatsheet.pdf)\n",
        " * [A complete reference by Intel](https://cdrdv2.intel.com/v1/dl/getContent/671143)\n",
        "\n",
        "* below, you are going to learn what kind of expressions or statements are converted to what kind of assembly code, gradually changing functions from trivial ones to more substantial ones\n",
        ""
      ]
    },
    {
      "cell_type": "markdown",
      "metadata": {
        "kernel": "SoS",
        "nbgrader": {
          "grade": false,
          "grade_id": "c-009",
          "locked": true,
          "schema_version": 3,
          "solution": false,
          "task": false
        }
      },
      "source": [
        "\n",
        "<a name=\"assembly_basics\"> </a>\n",
        "# 3. CPUs and machine code (assembly code) basics",
        "\n",
        "* before looking into assembly code, here is the basics of CPUs\n",
        "\n",
        "<img src=\"img/cpu.svg\" /> \n",
        "\n",
        "* a CPU or more precisely, a (virtual) core of a CPU, has a small number (a few to dozens) of storage, called _<font color=\"blue\">registers</font>_ (a single CPU nowadays has a number of (virtual) cores in it. in this exercise we almost exclusively talk about a single virtual core)\n",
        "* registers are almost never enough to hold data of the program, so most other data are put in _<font color=\"blue\">the main memory</font>_\n",
        "* you use an _<font color=\"blue\">address</font>_ to specify the location in the memory you want to access.  an address is in fact just an integer.  you can think of it as being similar to an ordinary \"address\" in daily life.  it is not a complex string we use for our home addresses (e.g., 7-3-1 Hongo Bunkyo-ku, Tokyo), however.  it may be more similar to zip code, in this sense.\n",
        "* a virtual core executes instructions one after another. instructions are also put in the memory.  after an instruction is executed, the instruction at the immediately next address is usually executed next\n",
        "* an instruction typically does one of the following\n",
        " - (<font color=\"blue\">load</font> instruction) : gets data from an address in the memory to a register\n",
        " - (<font color=\"blue\">store</font> instruction) : gets data from a register to an address in the memory\n",
        " - (<font color=\"blue\">arithmetic</font> instructions) :  computes a value from values on one to a few registers and put the result into a register \n",
        " - (<font color=\"blue\">jump</font> instruction) : changes the address from which the next instruction is taken\n",
        " - (<font color=\"blue\">conditional</font> branch instruction) : changes the address from which the next instruction is taken depending on the result of recent operations (typically a comparison)\n",
        "* some instructions combine the effect of two; for example, there is an instruction that takes one of its operands in a memory and computes a value based on it (and some other values)\n",
        "* it may not be immediately clear to you how you can convert programs in high level languages to something like this, but the mapping is, at least conceptually, not as complex as you might think\n",
        "* the mapping is roughly the following\n",
        "\n",
        "| high-level languages       | assembly                      |\n",
        "|----------------------------|-------------------------------|\n",
        "| variable                   | register or memory            |\n",
        "| operators in an expression | combination of arithmetic instructions (+ load/store as necessary) |\n",
        "| if statements or loops     | instructions + conditional branches |\n",
        "\n",
        "* after all, assembly is just another programming language that has many restrictions, some of which are\n",
        " * you cannot have arbitrary number of variables of names you choose; you instead only have a fixed number of variables of fixed names (i.e., registers) and one huge array (the entire address space)\n",
        " * you cannot arbitrarily nest expressions (e.g., a * x + b * y) and an instruction (say '+') can only take a constant or a variable as its operands; the above expression must be broken down into a series of instructions (s = a * x; t = b * y; u = s + t)\n",
        " * you do not have structured statements (if, while, for, etc.); you instead have to implement them with a combination of jumps and conditional branches\n",
        " * you do not have a function call or variables local to functions either; you instead have to implement them with a combination of jumps and a memory allocation scheme for local variables (stacks)\n",
        "* with the above in mind, let's witness the the mapping between your language and assembly below\n",
        ""
      ]
    },
    {
      "cell_type": "markdown",
      "metadata": {
        "kernel": "SoS",
        "nbgrader": {
          "grade": false,
          "grade_id": "c-010",
          "locked": true,
          "schema_version": 3,
          "solution": false,
          "task": false
        }
      },
      "source": [
        "\n",
        "<a name=\"function_by_function\"> </a>\n",
        "# 4. A compilation is done on a function-by-function basis",
        "\n",
        "* let's first compile four functions that do nothing\n",
        ""
      ]
    },
    {
      "cell_type": "code",
      "metadata": {
        "kernel": "Python 3 (ipykernel)",
        "nbgrader": {
          "grade": false,
          "grade_id": "c-011",
          "locked": false,
          "schema_version": 3,
          "solution": false,
          "task": false
        }
      },
      "source": [
        "%%writefile empty.c\n",
        "void aaa() {  }\n",
        "\n",
        "void bbb() {  }\n",
        "\n",
        "void ccc() {  }\n",
        "\n",
        "void ddd() {  }"
      ],
      "execution_count": null,
      "outputs": []
    },
    {
      "cell_type": "code",
      "metadata": {
        "kernel": "Bash",
        "nbgrader": {
          "grade": false,
          "grade_id": "c-012",
          "locked": false,
          "schema_version": 3,
          "solution": false,
          "task": false
        }
      },
      "source": [
        "gcc -O3 -S empty.c\n",
        "cat empty.s"
      ],
      "execution_count": null,
      "outputs": []
    },
    {
      "cell_type": "markdown",
      "metadata": {
        "kernel": "SoS",
        "nbgrader": {
          "grade": false,
          "grade_id": "c-013",
          "locked": true,
          "schema_version": 3,
          "solution": false,
          "task": false
        }
      },
      "source": [
        "\n",
        "observe\n",
        "\n",
        "* you find strings aaa:, bbb:, ccc:, ddd: corresponding to function names\n",
        "* they are called _<font color=\"blue\">labels\"</font>_, whose purpose is to name addresses in the instructions so you can conveniently reference them in other instructions (e.g., jump instructions)\n",
        "* there come instructions for a function after its label\n",
        "\n",
        "* assembly code for the four empty functions naturally look the same; let's extract what seems for `aaa:`\n",
        "```\n",
        "    .p2align 4\n",
        "\t.globl\taaa\n",
        "\t.type\taaa, @function\n",
        "aaa:\n",
        ".LFB0:\n",
        "\t.cfi_startproc\n",
        "\tendbr64\n",
        "\tret\n",
        "\t.cfi_endproc\n",
        ".LFE0:\n",
        "\t.size\taaa, .-aaa\n",
        "```\n",
        "* of which the actual instructions are the only \n",
        "```\n",
        "\tendbr64\n",
        "\tret\n",
        "```\n",
        "\n",
        "* generally, lines starting from `.` do not represent actual instructions but directives to instruct the assembler in various ways such as \"put the following instruction at addresses that are multiple of four\" and you do not have to master them in depth (when you build a compiler, they are mostly boilerplate you can generate without deeply understanding them)\n",
        "\n",
        "* what kind of assembly code `aaa` ended up translated, after all?  essentially, it is only this\n",
        "```\n",
        "aaa:  ## start of aaa\n",
        "\tendbr64\n",
        "\tret\n",
        "```\n",
        "\n",
        "* `endbr64` is essentially a no-op, which is actually not necessary.  the reason why it is put despite it's doing nothing is explained the page [\"What does the endbr64 instruction actually do?\"](https://stackoverflow.com/questions/56905811/what-does-the-endbr64-instruction-actually-do)\n",
        "\n",
        "* `ret` is a _<font color=\"blue\">return instruction</font>_ and roughly speaking it ends the execution of a function\n",
        "* a more detailed explanation beyond \"it ends a function\" will come shortly.  for now, you only have to understand that it is a kind of jump instruction and instructions that textually follow it will not be executed (without `ret` instruction here, the execution continues to instructions immediately below, which are bbb. a processor does not know which instructions constitute a function but just blindly execute instructions told to execute next)\n",
        "* as this is a function that finishes without doing anything, it is natural that only `ret` instruction gets executed (except for the `endbr64` which is a no-op)\n",
        "* the point here is not so much how an empty function is compiled, but that a translation from C to assembly is basically done on a function-by-function basis.  the basic issue is therefore _how to translate a single_ C function_ into a corresponding assembly code (sequence of instructions) \n",
        "\n",
        "* __points you learned:__ \n",
        " 1. for each C function, instructions corresponding to it are generated\n",
        " 1. a label whose name is the same as the function name is put at the start of them\n",
        "\n",
        ""
      ]
    },
    {
      "cell_type": "markdown",
      "metadata": {
        "kernel": "SoS",
        "nbgrader": {
          "grade": false,
          "grade_id": "c-014",
          "locked": true,
          "schema_version": 3,
          "solution": false,
          "task": false
        }
      },
      "source": [
        "\n",
        "<a name=\"call_insn\"> </a>\n",
        "# 5. An instruction to call a function",
        "\n",
        "* labels such as `aaa:`, `bbb:`, etc. are used for using (i.e., calling) these functions\n",
        "* let's write a function aaa that calls bbb to see how it is done\n",
        ""
      ]
    },
    {
      "cell_type": "code",
      "metadata": {
        "kernel": "Python 3 (ipykernel)",
        "nbgrader": {
          "grade": false,
          "grade_id": "c-015",
          "locked": false,
          "schema_version": 3,
          "solution": false,
          "task": false
        }
      },
      "source": [
        "%%writefile call.c\n",
        "long bbb();\n",
        "\n",
        "long aaa() {\n",
        "  return bbb() + 1;\n",
        "}"
      ],
      "execution_count": null,
      "outputs": []
    },
    {
      "cell_type": "code",
      "metadata": {
        "kernel": "Bash",
        "nbgrader": {
          "grade": false,
          "grade_id": "c-016",
          "locked": false,
          "schema_version": 3,
          "solution": false,
          "task": false
        }
      },
      "source": [
        "gcc -O3 -S call.c\n",
        "cat call.s"
      ],
      "execution_count": null,
      "outputs": []
    },
    {
      "cell_type": "markdown",
      "metadata": {
        "kernel": "SoS",
        "nbgrader": {
          "grade": false,
          "grade_id": "c-017",
          "locked": true,
          "schema_version": 3,
          "solution": false,
          "task": false
        }
      },
      "source": [
        "\n",
        "* it is much more complex than the previous example, but for now, just notice the following\n",
        "```\n",
        "    call\tbbb@PLT\n",
        "```\n",
        "\n",
        "* it is a kind of jump instruction called _<font color=\"blue\">call instruction</font>_.  it is an instruction that \"calls a function named `bbb`\" = \"transfers the execution to the instruction at the label `bbb`\"\n",
        "* you may wonder what is `@PLT` but you can ignore it for a moment (you may assume you always have it)\n",
        "* when `bbb` executes `ret` instruction eventually, the control goes back to the caller, the instruction immediately after `call bbb@PLT` = `addq $8,%rsp`.  details of how it happens will be explained later.\n",
        "* details aside, a call instruction jumps to the label of the specified function to effectively start execution of the function, which eventually executes a `ret` function, which gets the execution back to the instruction immediately after the call instruction\n",
        "\n",
        "* __points you learned:__ \n",
        " 1. `call f@PLT` transfers the execution to the instruction at label `f`\n",
        " 1. `ret` instruction transfers the execution to the caller (the instruction immediately after the call instruction)\n",
        " 1. calling a function and continuing the the execution after its return is implemented in this way\n",
        " 1. it therefore suffices to look at a function at a time when you examine the translation from C to assembly\n",
        ""
      ]
    },
    {
      "cell_type": "markdown",
      "metadata": {
        "kernel": "SoS",
        "nbgrader": {
          "grade": false,
          "grade_id": "c-018",
          "locked": true,
          "schema_version": 3,
          "solution": false,
          "task": false
        }
      },
      "source": [
        "\n",
        "* now we understand the execution goes back and forth between functions by `call` and `ret` instructions\n",
        "* below, we are going to see how \"values\" are held and passed between functions\n",
        "* there are various \"values\"; global variables, function return values, function parameters, local variables, etc."
      ]
    },
    {
      "cell_type": "markdown",
      "metadata": {
        "kernel": "SoS",
        "nbgrader": {
          "grade": false,
          "grade_id": "c-019",
          "locked": true,
          "schema_version": 3,
          "solution": false,
          "task": false
        }
      },
      "source": [
        "\n",
        "<a name=\"args_and_return_value\"> </a>\n",
        "# 6. Parameters and return values",
        "\n",
        "* for values to be passed via parameters and return values, they should be placed on some registers or somewhere in memory \n",
        "* first take a look at a function that takes a single integer (long) value as a parameter\n",
        "\n",
        "<a name=\"mul_insn\"> </a>\n",
        "## 6-1. multiplication",
        ""
      ]
    },
    {
      "cell_type": "code",
      "metadata": {
        "kernel": "Python 3 (ipykernel)",
        "nbgrader": {
          "grade": false,
          "grade_id": "c-020",
          "locked": false,
          "schema_version": 3,
          "solution": false,
          "task": false
        }
      },
      "source": [
        "%%writefile mul_123.c\n",
        "long mul_123(long x) {\n",
        "  return 123 * x;\n",
        "}"
      ],
      "execution_count": null,
      "outputs": []
    },
    {
      "cell_type": "code",
      "metadata": {
        "kernel": "Bash",
        "nbgrader": {
          "grade": false,
          "grade_id": "c-021",
          "locked": false,
          "schema_version": 3,
          "solution": false,
          "task": false
        }
      },
      "source": [
        "gcc -O3 -S mul_123.c\n",
        "cat mul_123.s"
      ],
      "execution_count": null,
      "outputs": []
    },
    {
      "cell_type": "markdown",
      "metadata": {
        "kernel": "SoS",
        "nbgrader": {
          "grade": false,
          "grade_id": "c-022",
          "locked": true,
          "schema_version": 3,
          "solution": false,
          "task": false
        }
      },
      "source": [
        "\n",
        "* looking at the generated code, the only instruction other than `endbr64` and `ret` is \n",
        "\n",
        "```\n",
        "    imulq $123,%rdi,%rax\n",
        "```\n",
        "* this instruction does what `%rax = 123 * %rdi` would do in C (`%rax` and `%rdi` are both register names)\n",
        "* you can deduce the following\n",
        " 1. the first parameter `x` is on the register `%rdi`\n",
        " 1. the return value is put on `%rax`\n",
        "* note: `imulq` is an instruction name that comes from _<font color=\"blue\">Integer MULtiply Quadword</font>_.  Quadword means that its operand is 8 bytes wide (C's `long` in 64 bit environment is 8 bytes)\n",
        "* it may be a bit stretching to conclude that \"the first parameter is always on `%rdi`\" and \"the return values is always `%rax`\"; they must indeed be different if types (sizes) of them are different (e.g., larger than 8 bytes), but it is also very conceivable that there must be some uniform rules across functions\n",
        "* a called function (say `g`) and the calling function (say `f`) are not necessarily compiled at the same time.  we don't know which other functions call `g` in future and `g` may be compiled again without recompiling `f`.  given these circumstances, it would be troubling if where `f` is supposed to pass values and where `g` is supposed to receive values are not agreed by some convention.  therefore, there is a rule with which one can know how a function passes its parameters and return value without looking inside the function.  such a rule is called _<font color=\"blue\">calling convention</font>_ or _<font color=\"blue\">application binary interface (ABI)</font>_.  here is the spec, [The x86-64 psABI version 1.0](https://github.com/hjl-tools/x86-psABI/wiki/x86-64-psABI-1.0.pdf). this notebook teaches you necessary elements, so you don't have to read it thoroughly\n",
        "\n",
        "* __points you learned:__ \n",
        " 1. a first integer (long) parameter is passed via `%rdi` register\n",
        " 1. an integer (long) return value is passed via `%rax` register\n",
        ""
      ]
    },
    {
      "cell_type": "markdown",
      "metadata": {
        "kernel": "SoS",
        "nbgrader": {
          "grade": false,
          "grade_id": "c-023",
          "locked": true,
          "schema_version": 3,
          "solution": false,
          "task": false
        }
      },
      "source": [
        "\n",
        "<a name=\"sub_insn\"> </a>\n",
        "## 6-2. subtraction",
        "\n",
        "* let's confirm with another example that the first parameter is on `%rdi` and the return value on `%rax`\n",
        ""
      ]
    },
    {
      "cell_type": "code",
      "metadata": {
        "kernel": "Python 3 (ipykernel)",
        "nbgrader": {
          "grade": false,
          "grade_id": "c-024",
          "locked": false,
          "schema_version": 3,
          "solution": false,
          "task": false
        }
      },
      "source": [
        "%%writefile sub_123.c\n",
        "long sub_123(long x) {\n",
        "  return 123 - x;\n",
        "}"
      ],
      "execution_count": null,
      "outputs": []
    },
    {
      "cell_type": "code",
      "metadata": {
        "kernel": "Bash",
        "nbgrader": {
          "grade": false,
          "grade_id": "c-025",
          "locked": false,
          "schema_version": 3,
          "solution": false,
          "task": false
        }
      },
      "source": [
        "gcc -O3 -S sub_123.c\n",
        "cat sub_123.s"
      ],
      "execution_count": null,
      "outputs": []
    },
    {
      "cell_type": "markdown",
      "metadata": {
        "kernel": "SoS",
        "nbgrader": {
          "grade": false,
          "grade_id": "c-026",
          "locked": true,
          "schema_version": 3,
          "solution": false,
          "task": false
        }
      },
      "source": [
        "\n",
        "* generated instructions\n",
        "\n",
        "```\n",
        "    movl $123,%eax\n",
        "    subq %rdi,%rax\n",
        "```\n",
        "\n",
        "* `movl $123,%eax` sets 123 on `eax` register\n",
        "* an astute student may wonder why it's `eax` not `rax`.  in fact, `eax` refers to the last 32 bits of `rax`. the above instruction sets the lower 32 bits of `rax` to 123 and the higher half to 0. it is therefore essentially `%rax = 123`\n",
        "* `subq %rdi,%rax` does what `rax = rax - rdi` of C would do\n",
        "* it is thus observed that here again x (the first parameter) is on `%rdi` and the return value on `%rax` \n",
        "\n",
        "<font color=\"blue\">note:</font>\n",
        "* many x86\\_64 instructions have two operands (_op X,Y_) and perform an operation _Y = Y op X_\n",
        "* the order is a bit confusing especially for subtraction (`subq` _X,Y_ computes _Y - X_, not _X - Y_)\n",
        "* a rule to remember is the destination register is always on the right (_Y_) and `subq` _X,Y_ does _Y -= X_, which is _Y = Y - X_\n",
        "\n",
        ""
      ]
    },
    {
      "cell_type": "markdown",
      "metadata": {
        "kernel": "SoS",
        "nbgrader": {
          "grade": false,
          "grade_id": "c-027",
          "locked": true,
          "schema_version": 3,
          "solution": false,
          "task": false
        }
      },
      "source": [
        "\n",
        "* let's see that the caller also puts the first parameter on `%rdi` and receive the return value through `%rax`\n",
        ""
      ]
    },
    {
      "cell_type": "code",
      "metadata": {
        "kernel": "Python 3 (ipykernel)",
        "nbgrader": {
          "grade": false,
          "grade_id": "c-028",
          "locked": false,
          "schema_version": 3,
          "solution": false,
          "task": false
        }
      },
      "source": [
        "%%writefile f_mul_123.c\n",
        "long f(long);\n",
        "\n",
        "long f_mul_123() {\n",
        "  return f(100) * 123;\n",
        "}"
      ],
      "execution_count": null,
      "outputs": []
    },
    {
      "cell_type": "code",
      "metadata": {
        "kernel": "Bash",
        "nbgrader": {
          "grade": false,
          "grade_id": "c-029",
          "locked": false,
          "schema_version": 3,
          "solution": false,
          "task": false
        }
      },
      "source": [
        "gcc -O3 -S f_mul_123.c\n",
        "cat f_mul_123.s"
      ],
      "execution_count": null,
      "outputs": []
    },
    {
      "cell_type": "markdown",
      "metadata": {
        "kernel": "SoS",
        "nbgrader": {
          "grade": false,
          "grade_id": "c-030",
          "locked": true,
          "schema_version": 3,
          "solution": false,
          "task": false
        }
      },
      "source": [
        "\n",
        "* the first instruction \n",
        "```\n",
        "    movl $100, %edi\n",
        "```\n",
        "sets  `%rdi` to 100 (the reason why it's `%edi` is the same as before. it actually sets `%rdi`'s upper 32 bits to 0 and the lower 32 bits to 100)\n",
        "\n",
        "* the instruction after `call f@PLT`\n",
        "```\n",
        "    imulq $123, %rax, %rax\n",
        "```\n",
        "indicates that it expects that the return value is on `%rax`\n",
        ""
      ]
    },
    {
      "cell_type": "markdown",
      "metadata": {
        "kernel": "SoS",
        "nbgrader": {
          "grade": false,
          "grade_id": "c-031",
          "locked": true,
          "schema_version": 3,
          "solution": false,
          "task": false
        }
      },
      "source": [
        "\n",
        "<a name=\"div_insn\"> </a>\n",
        "## 6-3. division",
        "\n",
        "* let's take a look at division and addition too\n",
        ""
      ]
    },
    {
      "cell_type": "code",
      "metadata": {
        "kernel": "Python 3 (ipykernel)",
        "nbgrader": {
          "grade": false,
          "grade_id": "c-032",
          "locked": false,
          "schema_version": 3,
          "solution": false,
          "task": false
        }
      },
      "source": [
        "%%writefile div_123.c\n",
        "long div_123(long x) {\n",
        "  return 123 / x;\n",
        "}"
      ],
      "execution_count": null,
      "outputs": []
    },
    {
      "cell_type": "code",
      "metadata": {
        "kernel": "Bash",
        "nbgrader": {
          "grade": false,
          "grade_id": "c-033",
          "locked": false,
          "schema_version": 3,
          "solution": false,
          "task": false
        }
      },
      "source": [
        "gcc -O3 -S div_123.c\n",
        "cat div_123.s"
      ],
      "execution_count": null,
      "outputs": []
    },
    {
      "cell_type": "markdown",
      "metadata": {
        "kernel": "SoS",
        "nbgrader": {
          "grade": false,
          "grade_id": "c-034",
          "locked": true,
          "schema_version": 3,
          "solution": false,
          "task": false
        }
      },
      "source": [
        "\n",
        "```\n",
        "    movl $123,%eax\n",
        "    cqto\n",
        "    idivq %rdi\n",
        "```\n",
        "* from the instruction name we can imagine `idivq %rdi` will be a division instruction, but it apparently takes only a single operand (`%rdi`)\n",
        "* the fact of the matter is that the other operand (dividend) of `idivq` is the 128 bit number concatenating rdx (64 bit) and rax (64 bit)\n",
        "\n",
        "* `idivq %rdi` performs the following (computes both quotient and remainder)\n",
        "```\n",
        "    (%rdx,%rax) = (%rdx:%rax % %rdi, %rdx:%rax / %rdi)\n",
        "```\n",
        "* that is, it divides `%rdx:%rax` by `%rdi` and puts the quotient on `%rax` and the remainder on `%rdx`, where `%rdx:%rax` is a 128 bit number whose higher 64 bits are `%rdx` and the lower 64 bits `%rax`\n",
        "\n",
        "\n",
        "\n",
        "* details on idivq instruction can be found at [the Brown University course material](https://cs.brown.edu/courses/cs033/docs/guides/x64_cheatsheet.pdf)\n",
        "* `cqto` stands for _<font color=\"blue\">Convert Quadword To Octoword</font>_. it extends `%rax` to 128 bits and puts the upper/lower 64 bits on `%rdx` and `%rax`, respectively\n",
        "* it can be seen again that `x` (the first parameter) is on `%rdi` and `%rax` holds the return value\n",
        ""
      ]
    },
    {
      "cell_type": "markdown",
      "metadata": {
        "kernel": "SoS",
        "nbgrader": {
          "grade": false,
          "grade_id": "c-035",
          "locked": true,
          "schema_version": 3,
          "solution": false,
          "task": false
        }
      },
      "source": [
        "\n",
        "<a name=\"add_insn\"> </a>\n",
        "## 6-4. addition",
        ""
      ]
    },
    {
      "cell_type": "code",
      "metadata": {
        "kernel": "Python 3 (ipykernel)",
        "nbgrader": {
          "grade": false,
          "grade_id": "c-036",
          "locked": false,
          "schema_version": 3,
          "solution": false,
          "task": false
        }
      },
      "source": [
        "%%writefile add_123.c\n",
        "long add_123(long x) {\n",
        "  return 123 + x;\n",
        "}"
      ],
      "execution_count": null,
      "outputs": []
    },
    {
      "cell_type": "code",
      "metadata": {
        "kernel": "Bash",
        "nbgrader": {
          "grade": false,
          "grade_id": "c-037",
          "locked": false,
          "schema_version": 3,
          "solution": false,
          "task": false
        }
      },
      "source": [
        "gcc -O3 -S add_123.c\n",
        "cat add_123.s"
      ],
      "execution_count": null,
      "outputs": []
    },
    {
      "cell_type": "markdown",
      "metadata": {
        "kernel": "SoS",
        "nbgrader": {
          "grade": false,
          "grade_id": "c-038",
          "locked": true,
          "schema_version": 3,
          "solution": false,
          "task": false
        }
      },
      "source": [
        "* \n",
        "```\n",
        "    leaq 123(%rdi),%rax\n",
        "```\n",
        "is essentially an addition instruction that performs\n",
        "\n",
        "```\n",
        "    %rax = 123 + %rdi\n",
        "```\n",
        "* the mysterious name `leaq` stands for _<font color=\"blue\">Load Effective Address Quadword</font>_\n",
        "* it is so called as it can be used to calculate the address 123 bytes ahead of the address in `%rdi`, which is exactly `(%rdi + 123)`.  note that it is not a memory access instruction despite it has _load_ in its name\n",
        "\n",
        "* more naturally, we could do\n",
        "```\n",
        "    movl $123,%eax\n",
        "    addq %rdi,%rax\n",
        "```\n",
        "but using only `addq`, it always takes two instructions, which may be why `leaq` is used (note: performance won't differ in any recent superscalar processors)\n",
        ""
      ]
    },
    {
      "cell_type": "markdown",
      "metadata": {
        "kernel": "SoS",
        "nbgrader": {
          "grade": false,
          "grade_id": "c-039",
          "locked": true,
          "schema_version": 3,
          "solution": false,
          "task": false
        }
      },
      "source": [
        "\n",
        "<a name=\"summary_so_far\"> </a>\n",
        "## 6-5. summary so far",
        "\n",
        "* the first parameter of long (64 bit integer, to be more precise) type is passed via `%rdi`\n",
        "* the return value of long type is passed via `%rax`\n",
        "\n",
        "* arithmetic instructions on long types are as follows\n",
        "\n",
        "| operation      | operand               | instruction (example)  |  semantics (in C-like expression)  |\n",
        "|----------------|-----------------------|------------------------|------------------------------------|\n",
        "| addition       | 64 bit integer (long) | addq \\$123,%rax        |  %rax += 123                       |\n",
        "| addition       | 64 bit integer (long) | leaq 123(%rdi),%rax    |  %rax = 123 + %rdi                 |\n",
        "| subtraction    | 64 bit integer (long) | addq \\$123,%rax        |  %rax -= 123                       |\n",
        "| multiplication | 64 bit integer (long) | imulq \\$123,%rdi,%rax  |  %rax = 123 * %rdi                 |\n",
        "| division       | 64 bit integer (long) | idivq %rdi             | (%rdx,%rax) = (%rdx:%rax / %rdi, %rdx:%rax % %rdi) |\n",
        "\n",
        "* when you want to know the instruction that does something, write a small function that only does it and see the output of the compiler\n",
        ""
      ]
    },
    {
      "cell_type": "markdown",
      "metadata": {
        "kernel": "SoS",
        "nbgrader": {
          "grade": false,
          "grade_id": "c-040",
          "locked": true,
          "schema_version": 3,
          "solution": false,
          "task": false
        }
      },
      "source": [
        "\n",
        "* In the problems on this page, you practice manually converting a simple example into an assembly code\n",
        "\n",
        "<a name=\"problem_3x_plus_5\"> </a>\n",
        "# <font color=\"green\"> Problem 1 :  3x+5</font>",
        "\n",
        "* write a function `mul_3_add_5` that returns 3x+5 for a given input x (whose type is long) __in assembly__\n",
        "\n",
        "* that is, the translation of the following C function\n",
        "```\n",
        "    long mul_3_add_5(long x) { return 3 * x + 5; }\n",
        "```\n",
        ""
      ]
    },
    {
      "cell_type": "markdown",
      "metadata": {
        "kernel": "SoS",
        "nbgrader": {
          "grade": false,
          "grade_id": "c-041",
          "locked": true,
          "schema_version": 3,
          "solution": false,
          "task": false
        }
      },
      "source": [
        "\n",
        "* fill the following assembly function in assembly code (what follows ------- 解答をここに書く. write your answer here -------) with instructions and execute it\n",
        "\n",
        "* it is saved with the name `mul_3_add_5.s` and compiled\n",
        ""
      ]
    },
    {
      "cell_type": "code",
      "metadata": {
        "kernel": "Python 3 (ipykernel)",
        "nbgrader": {
          "grade": true,
          "grade_id": "p-001",
          "locked": false,
          "schema_version": 3,
          "solution": true,
          "task": false,
          "points": 1
        }
      },
      "source": [
        "BEGIN SOLUTION\n",
        "END SOLUTION\n",
        "%%writefile mul_3_add_5.s\n",
        "\t.file\t\"mul_3_add_5.c\"\n",
        "\t.text\n",
        "\t.p2align 4,,15\n",
        "\t.globl\tmul_3_add_5\n",
        "\t.type\tmul_3_add_5, @function\n",
        "mul_3_add_5:\n",
        ".LFB0:\n",
        "\t.cfi_startproc\n",
        "/* ------- 解答をここに書く. write your answer here ------- */\n",
        "\n",
        "\t.cfi_endproc\n",
        ".LFE0:\n",
        "\t.size\tmul_3_add_5, .-mul_3_add_5\n",
        "\t.ident\t\"GCC: (Ubuntu 7.4.0-1ubuntu1~18.04.1) 7.4.0\"\n",
        "\t.section\t.note.GNU-stack,\"\",@progbits\n",
        ""
      ],
      "execution_count": null,
      "outputs": []
    },
    {
      "cell_type": "markdown",
      "metadata": {
        "kernel": "SoS",
        "nbgrader": {
          "grade": false,
          "grade_id": "c-042",
          "locked": true,
          "schema_version": 3,
          "solution": false,
          "task": false
        }
      },
      "source": [
        "\n",
        "* then make an executable below\n",
        ""
      ]
    },
    {
      "cell_type": "code",
      "metadata": {
        "kernel": "Python 3 (ipykernel)",
        "nbgrader": {
          "grade": true,
          "grade_id": "p-002",
          "locked": false,
          "schema_version": 3,
          "solution": true,
          "task": false,
          "points": 1
        }
      },
      "source": [
        "BEGIN SOLUTION\n",
        "END SOLUTION\n",
        "%%writefile check_mul_3_add_5.c\n",
        "#include <assert.h>\n",
        "#include <stdio.h>\n",
        "#include <stdlib.h>\n",
        "long mul_3_add_5(long);\n",
        "\n",
        "int main(int argc, char ** argv) {\n",
        "  long x = atol(argv[1]);\n",
        "  long y = mul_3_add_5(x);\n",
        "  assert(y == 3 * x + 5);\n",
        "  printf(\"OK\\n\");\n",
        "  return 0;\n",
        "}"
      ],
      "execution_count": null,
      "outputs": []
    },
    {
      "cell_type": "markdown",
      "metadata": {
        "kernel": "SoS",
        "nbgrader": {
          "grade": false,
          "grade_id": "c-043",
          "locked": true,
          "schema_version": 3,
          "solution": false,
          "task": false
        }
      },
      "source": [
        "* execute the cell below; if you see three OK's and no errors, you are done"
      ]
    },
    {
      "cell_type": "code",
      "metadata": {
        "kernel": "Bash",
        "nbgrader": {
          "grade": true,
          "grade_id": "p-003",
          "locked": false,
          "schema_version": 3,
          "solution": true,
          "task": false,
          "points": 1
        }
      },
      "source": [
        "BEGIN SOLUTION\n",
        "END SOLUTION\n",
        "gcc -o check_mul_3_add_5 -O3 check_mul_3_add_5.c mul_3_add_5.s"
      ],
      "execution_count": null,
      "outputs": []
    },
    {
      "cell_type": "code",
      "metadata": {
        "kernel": "Bash",
        "nbgrader": {
          "grade": true,
          "grade_id": "p-004",
          "locked": false,
          "schema_version": 3,
          "solution": true,
          "task": false,
          "points": 1
        }
      },
      "source": [
        "BEGIN SOLUTION\n",
        "END SOLUTION\n",
        "./check_mul_3_add_5 10\n",
        "./check_mul_3_add_5 20\n",
        "./check_mul_3_add_5 30"
      ],
      "execution_count": null,
      "outputs": []
    },
    {
      "cell_type": "markdown",
      "metadata": {
        "kernel": "SoS",
        "nbgrader": {
          "grade": false,
          "grade_id": "c-044",
          "locked": true,
          "schema_version": 3,
          "solution": false,
          "task": false
        }
      },
      "source": [
        "\n",
        "#  If things do not go well",
        "\n",
        "* If your program compiles but does not produce the correct answer, run it within a debugger (gdb)\n",
        "* To that end, first compile the program with -g\n",
        ""
      ]
    },
    {
      "cell_type": "code",
      "metadata": {
        "kernel": "Bash",
        "nbgrader": {
          "grade": true,
          "grade_id": "p-005",
          "locked": false,
          "schema_version": 3,
          "solution": true,
          "task": false,
          "points": 1
        }
      },
      "source": [
        "BEGIN SOLUTION\n",
        "END SOLUTION\n",
        "gcc -o check_mul_3_add_5 -O0 -g check_mul_3_add_5.c mul_3_add_5.s"
      ],
      "execution_count": null,
      "outputs": []
    },
    {
      "cell_type": "markdown",
      "metadata": {
        "kernel": "SoS",
        "nbgrader": {
          "grade": false,
          "grade_id": "c-045",
          "locked": true,
          "schema_version": 3,
          "solution": false,
          "task": false
        }
      },
      "source": [
        "\n",
        "* Go to terminal (login with SSH) and run the debugger\n",
        "```\n",
        "cd notebooks/pl07_compile_c\n",
        "gdb check_mul_3_add_5\n",
        "(gdb) break mul_3_add_5\n",
        "(gdb) run\n",
        "```\n",
        "\n",
        "* This way, you can step into the mul_3_add_5 function\n",
        "* You continue doing `step` to execute one instruction at a time\n",
        "* At each instruction you can see the values in the registers by, e.g.,\n",
        "```\n",
        "(gdb) print $rax\n",
        "```\n",
        "or\n",
        "```\n",
        "(gdb) info registers\n",
        "```\n",
        "\n",
        "* Of course, you can use vscode or emacs for a better debugging experience"
      ]
    },
    {
      "cell_type": "markdown",
      "metadata": {
        "kernel": "SoS",
        "nbgrader": {
          "grade": false,
          "grade_id": "c-046",
          "locked": true,
          "schema_version": 3,
          "solution": false,
          "task": false
        }
      },
      "source": [
        "\n",
        "<a name=\"pointer\"> </a>\n",
        "# 7. Pointers",
        "\n",
        "* if you have trouble understanding pointers in C language, read the following and the scales may fall from your eyes\n",
        "* motto is \"pointers are just integers and nothing more than that\"\n",
        "\n",
        "<a name=\"pointer_deref\"></a>\n",
        "## 7-1. pointer dereferencing",
        ""
      ]
    },
    {
      "cell_type": "code",
      "metadata": {
        "kernel": "Python 3 (ipykernel)",
        "nbgrader": {
          "grade": false,
          "grade_id": "c-047",
          "locked": false,
          "schema_version": 3,
          "solution": false,
          "task": false
        }
      },
      "source": [
        "%%writefile ptr_deref.c \n",
        "long long_ptr_deref(long * p) {\n",
        "  return *p;\n",
        "}"
      ],
      "execution_count": null,
      "outputs": []
    },
    {
      "cell_type": "code",
      "metadata": {
        "kernel": "Bash",
        "nbgrader": {
          "grade": false,
          "grade_id": "c-048",
          "locked": false,
          "schema_version": 3,
          "solution": false,
          "task": false
        }
      },
      "source": [
        "gcc -O3 -S ptr_deref.c \n",
        "cat ptr_deref.s"
      ],
      "execution_count": null,
      "outputs": []
    },
    {
      "cell_type": "markdown",
      "metadata": {
        "kernel": "SoS",
        "nbgrader": {
          "grade": false,
          "grade_id": "c-049",
          "locked": true,
          "schema_version": 3,
          "solution": false,
          "task": false
        }
      },
      "source": [
        "\n",
        "* what is generated from `*p` seems \n",
        "```\n",
        "    movq (%rdi),%rax\n",
        "```\n",
        "which is a _<font color=\"blue\">load instruction</font>_ that uses the address in `%rdi` to read the eight bytes (the `q` of `movq` stands for quadword $=$ 8bytes) at that address and puts it on `%rax`. the following is therefore observed\n",
        "\n",
        "* __points you learned:__\n",
        " 1. a pointer parameter (`p`) is passed by `%rdi`, just like an integer parameter\n",
        " 1. a pointer value of C is in fact an \"address\", which is merely an integer in the assembly code level\n",
        " 1. dereferencing a pointer `p` (*p) refers to the value stored at the address in pointer `p`.  a load instruction is therefore used to extract the value\n",
        ""
      ]
    },
    {
      "cell_type": "markdown",
      "metadata": {
        "kernel": "SoS",
        "nbgrader": {
          "grade": false,
          "grade_id": "c-050",
          "locked": true,
          "schema_version": 3,
          "solution": false,
          "task": false
        }
      },
      "source": [
        "\n",
        "* various superficially different expressions in C all end up reading certain addresses\n",
        "* referencing an array element, for example\n",
        ""
      ]
    },
    {
      "cell_type": "code",
      "metadata": {
        "kernel": "Python 3 (ipykernel)",
        "nbgrader": {
          "grade": false,
          "grade_id": "c-051",
          "locked": false,
          "schema_version": 3,
          "solution": false,
          "task": false
        }
      },
      "source": [
        "%%writefile array_index_long.c\n",
        "long array_index_long(long * p) {\n",
        "  return p[0] + p[10];\n",
        "}"
      ],
      "execution_count": null,
      "outputs": []
    },
    {
      "cell_type": "code",
      "metadata": {
        "kernel": "Bash",
        "nbgrader": {
          "grade": false,
          "grade_id": "c-052",
          "locked": false,
          "schema_version": 3,
          "solution": false,
          "task": false
        }
      },
      "source": [
        "gcc -O3 -S array_index_long.c\n",
        "cat array_index_long.s"
      ],
      "execution_count": null,
      "outputs": []
    },
    {
      "cell_type": "markdown",
      "metadata": {
        "kernel": "SoS",
        "nbgrader": {
          "grade": false,
          "grade_id": "c-053",
          "locked": true,
          "schema_version": 3,
          "solution": false,
          "task": false
        }
      },
      "source": [
        "\n",
        "* what is generated for\n",
        "```\n",
        "    p[0] + p[10];\n",
        "```\n",
        "appears \n",
        "```\n",
        "    movq 80(%rdi),%rax\n",
        "    addq (%rdi),%rax\n",
        "```\n",
        "* the first instruction\n",
        "```\n",
        "    movq 80(%rdi), %rax\n",
        "```\n",
        "reads eight bytes from the address (the value in `%rdi` + 80) and puts it in `%rax` and corresponds to `p[10]`.  the reason for +80 is that a single long takes eight bytes\n",
        "* the next\n",
        "```\n",
        "    addq (%rdi), %rax\n",
        "```\n",
        "is a combined load and addition instruction that reads `p[0]` and adds it to `%rax`\n",
        "* note that `*p` and `p[0]` end up using the same instruction\n",
        ""
      ]
    },
    {
      "cell_type": "markdown",
      "metadata": {
        "kernel": "SoS",
        "nbgrader": {
          "grade": false,
          "grade_id": "c-054",
          "locked": true,
          "schema_version": 3,
          "solution": false,
          "task": false
        }
      },
      "source": [
        "\n",
        "* pointers are always addresses regardless of their types\n",
        "* let's do the same thing for pointers to `int` (32 bit integer)\n",
        ""
      ]
    },
    {
      "cell_type": "code",
      "metadata": {
        "kernel": "Python 3 (ipykernel)",
        "nbgrader": {
          "grade": false,
          "grade_id": "c-055",
          "locked": false,
          "schema_version": 3,
          "solution": false,
          "task": false
        }
      },
      "source": [
        "%%writefile array_index_int.c\n",
        "int array_index_int(int * p) {\n",
        "  return p[0] + p[10];\n",
        "}"
      ],
      "execution_count": null,
      "outputs": []
    },
    {
      "cell_type": "code",
      "metadata": {
        "kernel": "Bash",
        "nbgrader": {
          "grade": false,
          "grade_id": "c-056",
          "locked": false,
          "schema_version": 3,
          "solution": false,
          "task": false
        }
      },
      "source": [
        "gcc -O3 -S array_index_int.c\n",
        "cat array_index_int.s"
      ],
      "execution_count": null,
      "outputs": []
    },
    {
      "cell_type": "markdown",
      "metadata": {
        "kernel": "SoS",
        "nbgrader": {
          "grade": false,
          "grade_id": "c-057",
          "locked": true,
          "schema_version": 3,
          "solution": false,
          "task": false
        }
      },
      "source": [
        "\n",
        "* the only differences that arise by the size of `int`, which is four bytes, are that\n",
        " * `movl` (a load instruction for Long word (4 bytes)) instruction is used instead of `movq`, and\n",
        " * the address accessed for `p[10]` is p + 40 (p + 4 * 10) instead of p + 80\n",
        ""
      ]
    },
    {
      "cell_type": "markdown",
      "metadata": {
        "kernel": "SoS",
        "nbgrader": {
          "grade": false,
          "grade_id": "c-058",
          "locked": true,
          "schema_version": 3,
          "solution": false,
          "task": false
        }
      },
      "source": [
        "\n",
        "* exactly the same for structures\n",
        ""
      ]
    },
    {
      "cell_type": "code",
      "metadata": {
        "kernel": "Python 3 (ipykernel)",
        "nbgrader": {
          "grade": false,
          "grade_id": "c-059",
          "locked": false,
          "schema_version": 3,
          "solution": false,
          "task": false
        }
      },
      "source": [
        "%%writefile struct_field.c\n",
        "typedef struct {\n",
        "  long x;\n",
        "  long y;\n",
        "  long z;\n",
        "} point;\n",
        "  \n",
        "long struct_field(point * p) {\n",
        "  return p->x + p->y + p->z;\n",
        "}"
      ],
      "execution_count": null,
      "outputs": []
    },
    {
      "cell_type": "code",
      "metadata": {
        "kernel": "Bash",
        "nbgrader": {
          "grade": false,
          "grade_id": "c-060",
          "locked": false,
          "schema_version": 3,
          "solution": false,
          "task": false
        }
      },
      "source": [
        "gcc -O3 -S struct_field.c\n",
        "cat struct_field.s"
      ],
      "execution_count": null,
      "outputs": []
    },
    {
      "cell_type": "markdown",
      "metadata": {
        "kernel": "SoS",
        "nbgrader": {
          "grade": false,
          "grade_id": "c-061",
          "locked": true,
          "schema_version": 3,
          "solution": false,
          "task": false
        }
      },
      "source": [
        "\n",
        "* from the generated instructions, we can observe load instructions access\n",
        " * `(%rdi)` for `p->x`,\n",
        " * `8(%rdi)` for `p->y`, and \n",
        " * `16(%rdi)` for `p->z`\n",
        "\n",
        "* the reason why these addresses are eight bytes apart is that each of `x` and `y` is eight bytes large\n",
        ""
      ]
    },
    {
      "cell_type": "markdown",
      "metadata": {
        "kernel": "SoS",
        "nbgrader": {
          "grade": false,
          "grade_id": "c-062",
          "locked": true,
          "schema_version": 3,
          "solution": false,
          "task": false
        }
      },
      "source": [
        "\n",
        "* as you can imagine, the same for array of structures\n",
        "* guess what kind of instructions are generated for the function below and see it\n",
        ""
      ]
    },
    {
      "cell_type": "code",
      "metadata": {
        "kernel": "Python 3 (ipykernel)",
        "nbgrader": {
          "grade": false,
          "grade_id": "c-063",
          "locked": false,
          "schema_version": 3,
          "solution": false,
          "task": false
        }
      },
      "source": [
        "%%writefile struct_array_field.c\n",
        "typedef struct {\n",
        "  long x;\n",
        "  long y;\n",
        "  long z;\n",
        "} point;\n",
        "  \n",
        "long struct_array_field(point * p) {\n",
        "  return p[10].x + p[10].y + p[10].z;\n",
        "}"
      ],
      "execution_count": null,
      "outputs": []
    },
    {
      "cell_type": "code",
      "metadata": {
        "kernel": "Bash",
        "nbgrader": {
          "grade": false,
          "grade_id": "c-064",
          "locked": false,
          "schema_version": 3,
          "solution": false,
          "task": false
        }
      },
      "source": [
        "gcc -O3 -S struct_array_field.c\n",
        "cat struct_array_field.s"
      ],
      "execution_count": null,
      "outputs": []
    },
    {
      "cell_type": "markdown",
      "metadata": {
        "kernel": "SoS",
        "nbgrader": {
          "grade": false,
          "grade_id": "c-065",
          "locked": true,
          "schema_version": 3,
          "solution": false,
          "task": false
        }
      },
      "source": [
        "\n",
        "* you can observe that load instructions access\n",
        " * `240(%rdi)` for p->x,\n",
        " * `248(%rdi)` for p->y, and\n",
        " * `256(%rdi)` for p->z\n",
        "\n",
        "* the result is expected, as the size of a structure is presumably 8 bytes x 3 = 24 bytes\n",
        ""
      ]
    },
    {
      "cell_type": "markdown",
      "metadata": {
        "kernel": "SoS",
        "nbgrader": {
          "grade": false,
          "grade_id": "c-066",
          "locked": true,
          "schema_version": 3,
          "solution": false,
          "task": false
        }
      },
      "source": [
        "\n",
        "* an example of dereferencing pointers multiple times\n",
        "* guess what kind of instructions are generated for the function below and see it\n",
        "\n",
        ""
      ]
    },
    {
      "cell_type": "code",
      "metadata": {
        "kernel": "Python 3 (ipykernel)",
        "nbgrader": {
          "grade": false,
          "grade_id": "c-067",
          "locked": false,
          "schema_version": 3,
          "solution": false,
          "task": false
        }
      },
      "source": [
        "%%writefile ptr_ptr.c\n",
        "typedef struct node {\n",
        "  struct node * l;\n",
        "  struct node * r;\n",
        "} node;\n",
        "  \n",
        "node * left_right(node * n) {\n",
        "  return n->l->r;\n",
        "}"
      ],
      "execution_count": null,
      "outputs": []
    },
    {
      "cell_type": "code",
      "metadata": {
        "kernel": "Bash",
        "nbgrader": {
          "grade": false,
          "grade_id": "c-068",
          "locked": false,
          "schema_version": 3,
          "solution": false,
          "task": false
        }
      },
      "source": [
        "gcc -O3 -S ptr_ptr.c\n",
        "cat ptr_ptr.s"
      ],
      "execution_count": null,
      "outputs": []
    },
    {
      "cell_type": "markdown",
      "metadata": {
        "kernel": "SoS",
        "nbgrader": {
          "grade": false,
          "grade_id": "c-069",
          "locked": true,
          "schema_version": 3,
          "solution": false,
          "task": false
        }
      },
      "source": [
        "\n",
        "<a name=\"pointer_deref_assign\"> </a>\n",
        "## 7-2. pointer dereferencing + assignment",
        ""
      ]
    },
    {
      "cell_type": "code",
      "metadata": {
        "kernel": "Python 3 (ipykernel)",
        "nbgrader": {
          "grade": false,
          "grade_id": "c-070",
          "locked": false,
          "schema_version": 3,
          "solution": false,
          "task": false
        }
      },
      "source": [
        "%%writefile struct_array_field_assign.c\n",
        "typedef struct {\n",
        "  long x;\n",
        "  long y;\n",
        "  long z;\n",
        "} point;\n",
        "  \n",
        "void struct_array_field(point * p) {\n",
        "  p[10].x = 30;\n",
        "  p[10].y = 40;\n",
        "  p[10].z = 50;\n",
        "}"
      ],
      "execution_count": null,
      "outputs": []
    },
    {
      "cell_type": "code",
      "metadata": {
        "kernel": "Bash",
        "nbgrader": {
          "grade": false,
          "grade_id": "c-071",
          "locked": false,
          "schema_version": 3,
          "solution": false,
          "task": false
        }
      },
      "source": [
        "gcc -O3 -S struct_array_field_assign.c\n",
        "cat struct_array_field_assign.s"
      ],
      "execution_count": null,
      "outputs": []
    },
    {
      "cell_type": "markdown",
      "metadata": {
        "kernel": "SoS",
        "nbgrader": {
          "grade": false,
          "grade_id": "c-072",
          "locked": true,
          "schema_version": 3,
          "solution": false,
          "task": false
        }
      },
      "source": [
        "\n",
        "* what corresponds to\n",
        "```\n",
        "    p[10].x = 30;\n",
        "```\n",
        "appears\n",
        "```\n",
        "    movq $30,240(%rdi)\n",
        "```\n",
        "\n",
        "* this is a _<font color=\"blue\">store instruction</font>_ that stores 30 at the address `%rdi + 240`\n",
        "* the name of the instruction (`movq`) is the same as load instruction, but as it is register $\\rightarrow$ memory, it is a store instruction\n",
        "* note that we compiled this example with `-O2` (lower optimization level), as using `-O3` uses an instruction (a SIMD instruction) in a way so specific to this code. give it a try if you are interested\n",
        ""
      ]
    },
    {
      "cell_type": "markdown",
      "metadata": {
        "kernel": "SoS",
        "nbgrader": {
          "grade": false,
          "grade_id": "c-073",
          "locked": true,
          "schema_version": 3,
          "solution": false,
          "task": false
        }
      },
      "source": [
        "\n",
        "<a name=\"problem_l2_norm_long\"> </a>\n",
        "# <font color=\"green\"> Problem 2 :  square norm</font>",
        "\n",
        "* write a function `l2_norm_long` in assembly that computes the square norm of three-element vector of longs\n",
        "\n",
        "* in other words, write an assembly code corresponding to the following C function\n",
        "\n",
        "```\n",
        "long l2_norm_long(long * x) {\n",
        "    return x[0] * x[0] + x[1] * x[1] + x[2] * x[2];\n",
        "}\n",
        "```\n",
        "\n",
        "* _<font color=\"blue\">hint:</font>_ if you need registers other than `%rdi`, `%rax`, use `%rdx`, `%rcx` etc. as necessary. see details at <a href=\"#registers\">list of registers</a>\n",
        ""
      ]
    },
    {
      "cell_type": "code",
      "metadata": {
        "kernel": "Python 3 (ipykernel)",
        "nbgrader": {
          "grade": true,
          "grade_id": "p-006",
          "locked": false,
          "schema_version": 3,
          "solution": true,
          "task": false,
          "points": 1
        }
      },
      "source": [
        "BEGIN SOLUTION\n",
        "END SOLUTION\n",
        "%%writefile l2_norm_long.s\n",
        "\t.file\t\"l2_norm_long.c\"\n",
        "\t.text\n",
        "\t.p2align 4,,15\n",
        "\t.globl\tl2_norm_long\n",
        "\t.type\tl2_norm_long, @function\n",
        "l2_norm_long:\n",
        ".LFB0:\n",
        "\t.cfi_startproc\n",
        "/* ------- 解答をここに書く. write your answer here ------- */\n",
        "\n",
        "\t.cfi_endproc\n",
        ".LFE0:\n",
        "\t.size\tl2_norm_long, .-l2_norm_long\n",
        "\t.ident\t\"GCC: (Ubuntu 7.4.0-1ubuntu1~18.04.1) 7.4.0\"\n",
        "\t.section\t.note.GNU-stack,\"\",@progbits\n",
        ""
      ],
      "execution_count": null,
      "outputs": []
    },
    {
      "cell_type": "code",
      "metadata": {
        "kernel": "Python 3 (ipykernel)",
        "nbgrader": {
          "grade": true,
          "grade_id": "p-007",
          "locked": false,
          "schema_version": 3,
          "solution": true,
          "task": false,
          "points": 1
        }
      },
      "source": [
        "BEGIN SOLUTION\n",
        "END SOLUTION\n",
        "%%writefile check_l2_norm_long.c\n",
        "#include <assert.h>\n",
        "#include <stdio.h>\n",
        "#include <stdlib.h>\n",
        "long l2_norm_long(long *);\n",
        "\n",
        "int main(int argc, char ** argv) {\n",
        "  long x[3] = { atol(argv[1]), atol(argv[2]), atol(argv[3]) };\n",
        "  long l2 = l2_norm_long(x);\n",
        "  assert(l2 == x[0] * x[0] + x[1] * x[1] + x[2] * x[2]);\n",
        "  printf(\"OK\\n\");\n",
        "  return 0;\n",
        "}"
      ],
      "execution_count": null,
      "outputs": []
    },
    {
      "cell_type": "code",
      "metadata": {
        "kernel": "Bash",
        "nbgrader": {
          "grade": true,
          "grade_id": "p-008",
          "locked": false,
          "schema_version": 3,
          "solution": true,
          "task": false,
          "points": 1
        }
      },
      "source": [
        "BEGIN SOLUTION\n",
        "END SOLUTION\n",
        "gcc -o check_l2_norm_long -O3 check_l2_norm_long.c l2_norm_long.s"
      ],
      "execution_count": null,
      "outputs": []
    },
    {
      "cell_type": "code",
      "metadata": {
        "kernel": "Bash",
        "nbgrader": {
          "grade": true,
          "grade_id": "p-009",
          "locked": false,
          "schema_version": 3,
          "solution": true,
          "task": false,
          "points": 1
        }
      },
      "source": [
        "BEGIN SOLUTION\n",
        "END SOLUTION\n",
        "./check_l2_norm_long 1 2 3\n",
        "./check_l2_norm_long 3 4 5"
      ],
      "execution_count": null,
      "outputs": []
    },
    {
      "cell_type": "markdown",
      "metadata": {
        "kernel": "SoS",
        "nbgrader": {
          "grade": false,
          "grade_id": "c-074",
          "locked": true,
          "schema_version": 3,
          "solution": false,
          "task": false
        }
      },
      "source": [
        "\n",
        "<a name=\"passing_args\"> </a>\n",
        "# 8. Passing more arguments",
        ""
      ]
    },
    {
      "cell_type": "markdown",
      "metadata": {
        "kernel": "SoS",
        "nbgrader": {
          "grade": false,
          "grade_id": "c-075",
          "locked": true,
          "schema_version": 3,
          "solution": false,
          "task": false
        }
      },
      "source": [
        "\n",
        "* we have seen that the first parameter is put on `%rdi` but how about second and subsequent parameters\n",
        "\n",
        "* let's see how it works by compiling a function taking six parameters\n",
        ""
      ]
    },
    {
      "cell_type": "code",
      "metadata": {
        "kernel": "Python 3 (ipykernel)",
        "nbgrader": {
          "grade": false,
          "grade_id": "c-076",
          "locked": false,
          "schema_version": 3,
          "solution": false,
          "task": false
        }
      },
      "source": [
        "%%writefile args.c\n",
        "long add6(long a, long b, long c, long d, long e, long f) {\n",
        "  return 1111 * a + 2222 * b + 3333 * c + 4444 * d + 5555 * e + 6666 * f;\n",
        "}"
      ],
      "execution_count": null,
      "outputs": []
    },
    {
      "cell_type": "code",
      "metadata": {
        "kernel": "Bash",
        "nbgrader": {
          "grade": false,
          "grade_id": "c-077",
          "locked": false,
          "schema_version": 3,
          "solution": false,
          "task": false
        }
      },
      "source": [
        "gcc -O3 -S args.c\n",
        "cat args.s"
      ],
      "execution_count": null,
      "outputs": []
    },
    {
      "cell_type": "markdown",
      "metadata": {
        "kernel": "SoS",
        "nbgrader": {
          "grade": false,
          "grade_id": "c-078",
          "locked": true,
          "schema_version": 3,
          "solution": false,
          "task": false
        }
      },
      "source": [
        "\n",
        "* observing it with clues that it multiplies the first parameter by 1111 and the second by 2222, etc. we can deduce the following\n",
        "\n",
        "|parameter number|location|\n",
        "|--------|----|\n",
        "| 1      |%rdi|\n",
        "| 2      |%rsi|\n",
        "| 3      |%rdx|\n",
        "| 4      |%rcx|\n",
        "| 5      |%r8|\n",
        "| 6      |%r9|\n",
        "\n",
        "\n",
        "* you can confirm this by <a href=\"https://github.com/hjl-tools/x86-psABI/wiki/x86-64-psABI-1.0.pdf\">ABI specification</a> too, but also by writing a simple program like this\n",
        ""
      ]
    },
    {
      "cell_type": "markdown",
      "metadata": {
        "kernel": "SoS",
        "nbgrader": {
          "grade": false,
          "grade_id": "c-079",
          "locked": true,
          "schema_version": 3,
          "solution": false,
          "task": false
        }
      },
      "source": [
        "\n",
        "<a name=\"more_args\"> </a>\n",
        "## 8-1. more registers",
        "\n",
        "* with only a small number of registers, there must be a limit on the number of parameters passed via registers\n",
        "* as a matter of fact, seventh and subsequent parameters are passed differently\n",
        ""
      ]
    },
    {
      "cell_type": "code",
      "metadata": {
        "kernel": "Python 3 (ipykernel)",
        "nbgrader": {
          "grade": false,
          "grade_id": "c-080",
          "locked": false,
          "schema_version": 3,
          "solution": false,
          "task": false
        }
      },
      "source": [
        "%%writefile args_many.c\n",
        "long add9(long a, long b, long c, long d, long e, long f,\n",
        "          long g, long h, long i) {\n",
        "  long x = 1111 * a;\n",
        "  x += 2222 * b;\n",
        "  x += 3333 * c;\n",
        "  x += 4444 * d;\n",
        "  x += 5555 * e;\n",
        "  x += 6666 * f;\n",
        "  x += 7777 * g;\n",
        "  x += 8888 * h;\n",
        "  x += 9999 * i;\n",
        "  return x;\n",
        "}"
      ],
      "execution_count": null,
      "outputs": []
    },
    {
      "cell_type": "code",
      "metadata": {
        "kernel": "Bash",
        "nbgrader": {
          "grade": false,
          "grade_id": "c-081",
          "locked": false,
          "schema_version": 3,
          "solution": false,
          "task": false
        }
      },
      "source": [
        "gcc -O3 -S args_many.c\n",
        "cat args_many.s"
      ],
      "execution_count": null,
      "outputs": []
    },
    {
      "cell_type": "markdown",
      "metadata": {
        "kernel": "SoS",
        "nbgrader": {
          "grade": false,
          "grade_id": "c-082",
          "locked": true,
          "schema_version": 3,
          "solution": false,
          "task": false
        }
      },
      "source": [
        "\n",
        "* you can deduce the following\n",
        " * the 7th parameter is at 8(%rsp)\n",
        " * the 8th parameter is at 16(%rsp)\n",
        " * the 9th parameter is at 24(%rsp)\n",
        "`%rsp` is called a _<font color=\"blue\">stack pointer</font>_ and adjusted upon a function call; details are described below\n",
        "\n",
        "* at this point, understand that seventh and further parameters are arranged as above from the perspective of a called function\n",
        ""
      ]
    },
    {
      "cell_type": "markdown",
      "metadata": {
        "kernel": "SoS",
        "nbgrader": {
          "grade": false,
          "grade_id": "c-083",
          "locked": true,
          "schema_version": 3,
          "solution": false,
          "task": false
        }
      },
      "source": [
        "\n",
        "<a name=\"float_args\"> </a>\n",
        "## 8-2.  parameters of floating point numbers",
        "\n",
        "* despite being numbers, floating point numbers use different instructions for operations and different registers as operands\n",
        "* accordingly, ABI therefore specifies different ways to pass and return floating point numbers\n",
        ""
      ]
    },
    {
      "cell_type": "code",
      "metadata": {
        "kernel": "Python 3 (ipykernel)",
        "nbgrader": {
          "grade": false,
          "grade_id": "c-084",
          "locked": false,
          "schema_version": 3,
          "solution": false,
          "task": false
        }
      },
      "source": [
        "%%writefile fadd.c\n",
        "double fadd(double a, double b) {\n",
        "  return a + b + b;\n",
        "}"
      ],
      "execution_count": null,
      "outputs": []
    },
    {
      "cell_type": "code",
      "metadata": {
        "kernel": "Bash",
        "nbgrader": {
          "grade": false,
          "grade_id": "c-085",
          "locked": false,
          "schema_version": 3,
          "solution": false,
          "task": false
        }
      },
      "source": [
        "gcc -O3 -S fadd.c\n",
        "cat fadd.s"
      ],
      "execution_count": null,
      "outputs": []
    },
    {
      "cell_type": "markdown",
      "metadata": {
        "kernel": "SoS",
        "nbgrader": {
          "grade": false,
          "grade_id": "c-086",
          "locked": true,
          "schema_version": 3,
          "solution": false,
          "task": false
        }
      },
      "source": [
        "\n",
        "* instructions\n",
        "```\n",
        "    addsd %xmm1, %xmm0  # %xmm0 += %xmm1\n",
        "    addsd %xmm1, %xmm0  # %xmm0 += %xmm1\n",
        "```\n",
        "* what can be observed (inferred)\n",
        " * the first parameter (a) is on `%xmm0`\n",
        " * the second parameter (b) on `%xmm1`\n",
        " * the return value on `%xmm0`\n",
        ""
      ]
    },
    {
      "cell_type": "markdown",
      "metadata": {
        "kernel": "SoS",
        "nbgrader": {
          "grade": false,
          "grade_id": "c-087",
          "locked": true,
          "schema_version": 3,
          "solution": false,
          "task": false
        }
      },
      "source": [
        "\n",
        "* confirm with another example (multiplication)\n",
        ""
      ]
    },
    {
      "cell_type": "code",
      "metadata": {
        "kernel": "Python 3 (ipykernel)",
        "nbgrader": {
          "grade": false,
          "grade_id": "c-088",
          "locked": false,
          "schema_version": 3,
          "solution": false,
          "task": false
        }
      },
      "source": [
        "%%writefile fmul.c\n",
        "double fmul(double a, double b, double c, double d) {\n",
        "  return a * b + c * d;\n",
        "}"
      ],
      "execution_count": null,
      "outputs": []
    },
    {
      "cell_type": "code",
      "metadata": {
        "kernel": "Bash",
        "nbgrader": {
          "grade": false,
          "grade_id": "c-089",
          "locked": false,
          "schema_version": 3,
          "solution": false,
          "task": false
        }
      },
      "source": [
        "gcc -O3 -S fmul.c\n",
        "cat fmul.s"
      ],
      "execution_count": null,
      "outputs": []
    },
    {
      "cell_type": "markdown",
      "metadata": {
        "kernel": "SoS",
        "nbgrader": {
          "grade": false,
          "grade_id": "c-090",
          "locked": true,
          "schema_version": 3,
          "solution": false,
          "task": false
        }
      },
      "source": [
        "\n",
        "* instructions\n",
        "```\n",
        "    mulsd %xmm1, %xmm0  # xmm0 *= xmm1 (a = a * b)\n",
        "    mulsd %xmm2, %xmm3  # xmm3 *= xmm2 (d = c * d)\n",
        "    addsd %xmm3, %xmm0  # xmm0 += xmm3 (a = a + d)\n",
        "```\n",
        "* observations\n",
        " * the first parameter `xmm0`\n",
        " * the second parameter `xmm1`\n",
        " * the third parameter `xmm2`\n",
        " * the fourth parameter `xmm3`\n",
        " * the return value `xmm0`\n",
        ""
      ]
    },
    {
      "cell_type": "markdown",
      "metadata": {
        "kernel": "SoS",
        "nbgrader": {
          "grade": false,
          "grade_id": "c-091",
          "locked": true,
          "schema_version": 3,
          "solution": false,
          "task": false
        }
      },
      "source": [
        "\n",
        "<a name=\"many_args\"> </a>\n",
        "## 8-3. when there are many parameters",
        ""
      ]
    },
    {
      "cell_type": "code",
      "metadata": {
        "kernel": "Python 3 (ipykernel)",
        "nbgrader": {
          "grade": false,
          "grade_id": "c-092",
          "locked": false,
          "schema_version": 3,
          "solution": false,
          "task": false
        }
      },
      "source": [
        "%%writefile fadd10.c\n",
        "double fadd10(double a, double b, double c, double d, double e, double f,\n",
        "            double g, double h, double i, double j) {\n",
        "  return a + b + c + d + e + f + g + h + i + j;\n",
        "}"
      ],
      "execution_count": null,
      "outputs": []
    },
    {
      "cell_type": "code",
      "metadata": {
        "kernel": "Bash",
        "nbgrader": {
          "grade": false,
          "grade_id": "c-093",
          "locked": false,
          "schema_version": 3,
          "solution": false,
          "task": false
        }
      },
      "source": [
        "gcc -O3 -S fadd10.c\n",
        "cat fadd10.s"
      ],
      "execution_count": null,
      "outputs": []
    },
    {
      "cell_type": "markdown",
      "metadata": {
        "kernel": "SoS",
        "nbgrader": {
          "grade": false,
          "grade_id": "c-094",
          "locked": true,
          "schema_version": 3,
          "solution": false,
          "task": false
        }
      },
      "source": [
        "\n",
        "* observations\n",
        " * the 1st parameter `%xmm0`\n",
        " * the 2nd parameter `%xmm1`\n",
        " * ...\n",
        " * the 7th parameter `%xmm6`\n",
        " * the 8th parameter `%xmm7`\n",
        " * the 9th parameter `8(%rsp)`\n",
        " * the 10th parameter `16(%rsp)`\n",
        "\n",
        ""
      ]
    },
    {
      "cell_type": "markdown",
      "metadata": {
        "kernel": "SoS",
        "nbgrader": {
          "grade": false,
          "grade_id": "c-095",
          "locked": true,
          "schema_version": 3,
          "solution": false,
          "task": false
        }
      },
      "source": [
        "\n",
        "<a name=\"many_types_of_args\"> </a>\n",
        "## 8-4. when integers, pointers, and float point numbers are mixed",
        ""
      ]
    },
    {
      "cell_type": "code",
      "metadata": {
        "kernel": "Python 3 (ipykernel)",
        "nbgrader": {
          "grade": false,
          "grade_id": "c-096",
          "locked": false,
          "schema_version": 3,
          "solution": false,
          "task": false
        }
      },
      "source": [
        "%%writefile args_mixed_many.c\n",
        "long x;\n",
        "double y;\n",
        "long gg(double * A, double a, double * B, double b, double * C, double c,\n",
        "        double * D, double d, double * E, double e, double * F, double f,\n",
        "        double * G, double g, double * H, double h, double * I, double i,\n",
        "        double * J, double j) {\n",
        "  return A[0] + a + B[0] + b + C[0] + c + D[0] + d + E[0] + e\n",
        "    + F[0] + f + G[0] + g + H[0] + h + I[0] + i + J[0] + j;\n",
        "}"
      ],
      "execution_count": null,
      "outputs": []
    },
    {
      "cell_type": "code",
      "metadata": {
        "kernel": "Bash",
        "nbgrader": {
          "grade": false,
          "grade_id": "c-097",
          "locked": false,
          "schema_version": 3,
          "solution": false,
          "task": false
        }
      },
      "source": [
        "gcc -O3 -S args_mixed_many.c\n",
        "cat args_mixed_many.s"
      ],
      "execution_count": null,
      "outputs": []
    },
    {
      "cell_type": "markdown",
      "metadata": {
        "kernel": "SoS",
        "nbgrader": {
          "grade": false,
          "grade_id": "c-098",
          "locked": true,
          "schema_version": 3,
          "solution": false,
          "task": false
        }
      },
      "source": [
        "\n",
        "* generated instructions\n",
        "```\n",
        "    addsd (%rdi), %xmm0   # A[0] + a\n",
        "    movq 8(%rsp), %rax    # %rax = G\n",
        "    addsd (%rsi), %xmm0   # + B[0]\n",
        "    addsd %xmm1, %xmm0    # + b\n",
        "    addsd (%rdx), %xmm0   # + C[0]\n",
        "    addsd %xmm2, %xmm0    # + c\n",
        "    addsd (%rcx), %xmm0   # + D[0]\n",
        "    addsd %xmm3, %xmm0    # + d\n",
        "    addsd (%r8), %xmm0    # + E[0]\n",
        "    addsd %xmm4, %xmm0    # + e\n",
        "    addsd (%r9), %xmm0    # + F[0]\n",
        "    addsd %xmm5, %xmm0    # + f\n",
        "    addsd (%rax), %xmm0   # + G[0]\n",
        "    movq 16(%rsp), %rax   # %rax = H\n",
        "    addsd %xmm6, %xmm0    # + g\n",
        "    addsd (%rax), %xmm0   # + H[0]\n",
        "    movq 24(%rsp), %rax   # %rax = I\n",
        "    addsd %xmm7, %xmm0    # + h\n",
        "    addsd (%rax), %xmm0   # + I[0]\n",
        "    movq 40(%rsp), %rax   # %rax = J\n",
        "    addsd 32(%rsp), %xmm0 # + i\n",
        "    addsd (%rax), %xmm0   # + J[0]\n",
        "    addsd\t48(%rsp), %xmm0 # + j\n",
        "```\n",
        "* the observed relationship between parameters and locations\n",
        "\n",
        "|param|location  |\n",
        "|----|----------|\n",
        "| A  | %rdi     |\n",
        "| a  | %xmm0    |\n",
        "| B  | %rsi     |\n",
        "| b  | %xmm1    |\n",
        "| C  | %rdx     |\n",
        "| c  | %xmm2    |\n",
        "| D  | %rcx     |\n",
        "| d  | %xmm3    |\n",
        "| E  | %r8      |\n",
        "| e  | %xmm4    |\n",
        "| F  | %r9      |\n",
        "| f  | %xmm5    |\n",
        "| G  | 8(%rsp)  |\n",
        "| g  | %xmm6    |\n",
        "| H  | 16(%rsp) |\n",
        "| h  | %xmm7    |\n",
        "| I  | 24(%rsp) |\n",
        "| i  | 32(%rsp) |\n",
        "| J  | 40(%rsp) |\n",
        "| j  | 48(%rsp) |\n",
        "\n",
        "* to summarize how parameters are passed,\n",
        "\n",
        "* __points you learned:__\n",
        " 1. the first six integers and pointers are put on `%rdi`, `%rsi`, `%rdx`, `%rcx`, `%r8`, `%r9`\n",
        " 1. the first eight floating point numbers are put on `%xmm0`, `%xmm1`, ..., `%xmm7`\n",
        " 1. spilled parameters are put them in `8(%rsp)`, `16(%rsp)`, ... regardless of the type\n",
        ""
      ]
    },
    {
      "cell_type": "markdown",
      "metadata": {
        "kernel": "SoS",
        "nbgrader": {
          "grade": false,
          "grade_id": "c-099",
          "locked": true,
          "schema_version": 3,
          "solution": false,
          "task": false
        }
      },
      "source": [
        "\n",
        "<a name=\"registers\"> </a>\n",
        "# 9. List of registers",
        "\n",
        "* for those who wonder how many registers are there, [the Brown University course material](https://cs.brown.edu/courses/cs033/docs/guides/x64_cheatsheet.pdf) lists all integer registers\n",
        "* in addition, `%xmm0` ... `%xmm15` are floating point registers\n",
        "* to summarize here are the available registers\n",
        "\n",
        "|-|-|-|-|-|-|-|-|\n",
        "|-------|-------|---------|--------|--------|--------|--------|--------|\n",
        "| %rax  | %rbx  | %rcx    | %rdx   | %rdi   | %rsi   | %rbp   |        |\n",
        "| %r8   | %r9   | %r10    | %r11   | %r12   | %r13   | %r14   | %r15   |\n",
        "| %xmm0 | %xmm1 | %xmm2   | %xmm3  | %xmm4  | %xmm5  | %xmm6  | %xmm7  |\n",
        "| %xmm8 | %xmm9 | %xmm10  | %xmm11 | %xmm12 | %xmm13 | %xmm14 | %xmm15 |\n",
        "| %rsp  |%eflags | %rip   |        |        |        |        |        |\n",
        "\n",
        "* of which\n",
        " * `%rsp` is the _<font color=\"blue\">stack pointer</font>_ used to point to an end of the stack (described below) and cannot be used for arbitrary purposes\n",
        " * `%rip` is the _<font color=\"blue\">instruction pointer</font>_ that holds the address from which the next instruction will be read\n",
        " * `%eflags` is the _<font color=\"blue\">flag</font>_ register that holds the result of the last compare instruction.  it is not explicitly used in programs but is set by a compare (cmp) instruction and implicitly referenced by conditional branch instructions\n",
        "\n",
        "* minor remarks\n",
        " * a single `%xmm` register is in fact able to hold two double (64 bit) values or 4 float (32 bit) values and there are (SIMD) instructions that can operate on all of them, but such details are not important in this exercise\n",
        " * more recent processors have `%ymm` registers that can hold twice as many (4 double or 8 float) values and even more recent ones have `%zmm` registers that can hold another twice as many (8 double or 16 float) values\n",
        "\n",
        ""
      ]
    },
    {
      "cell_type": "markdown",
      "metadata": {
        "kernel": "SoS",
        "nbgrader": {
          "grade": false,
          "grade_id": "c-100",
          "locked": true,
          "schema_version": 3,
          "solution": false,
          "task": false
        }
      },
      "source": [
        "\n",
        "<a name=\"control_flows\"> </a>\n",
        "# 10. Control flows",
        "\n",
        "* how control flows such as if statements or loops (while or for) are compiled?\n",
        ""
      ]
    },
    {
      "cell_type": "markdown",
      "metadata": {
        "kernel": "SoS",
        "nbgrader": {
          "grade": false,
          "grade_id": "c-101",
          "locked": true,
          "schema_version": 3,
          "solution": false,
          "task": false
        }
      },
      "source": [
        "\n",
        "<a name=\"if_stmt\"> </a>\n",
        "## 10-1. if statement",
        ""
      ]
    },
    {
      "cell_type": "code",
      "metadata": {
        "kernel": "Python 3 (ipykernel)",
        "nbgrader": {
          "grade": false,
          "grade_id": "c-102",
          "locked": false,
          "schema_version": 3,
          "solution": false,
          "task": false
        }
      },
      "source": [
        "%%writefile add_or_mul_long.c\n",
        "long add_or_mul_long(long x, long y, long z) {\n",
        "  if (x < y) {\n",
        "    return y + z;\n",
        "  } else {\n",
        "    return y * z;\n",
        "  }\n",
        "}"
      ],
      "execution_count": null,
      "outputs": []
    },
    {
      "cell_type": "code",
      "metadata": {
        "kernel": "Bash",
        "nbgrader": {
          "grade": false,
          "grade_id": "c-103",
          "locked": false,
          "schema_version": 3,
          "solution": false,
          "task": false
        }
      },
      "source": [
        "gcc -O3 -S add_or_mul_long.c\n",
        "cat add_or_mul_long.s"
      ],
      "execution_count": null,
      "outputs": []
    },
    {
      "cell_type": "markdown",
      "metadata": {
        "kernel": "SoS",
        "nbgrader": {
          "grade": false,
          "grade_id": "c-104",
          "locked": true,
          "schema_version": 3,
          "solution": false,
          "task": false
        }
      },
      "source": [
        "\n",
        "* processors have a compare instruction and conditional branch instructions that change the address of the next instruction depending on the result of the last compare instruction\n",
        "* this illustrates how the above if statement gets compiled\n",
        "```\n",
        "    compare x and y\n",
        "    conditionally jump to L if x < y\n",
        "    compute y + z\n",
        "L:\n",
        "    compute y * z\n",
        "```\n",
        "* the actual result\n",
        "```\n",
        "    cmpq %rsi, %rdi  # compare %rdi(x) and %rsi(y) (computes rdi - rsi)\n",
        "    jl .L2           # jump if less (jump to .L2 if rdi - rsi < 0)\n",
        "    movq %rsi, %rax  # rax = rsi (y)\n",
        "    imulq %rdx, %rax # rax *= rdx (z)\n",
        "    ret\n",
        "    .p2align 4,,10\n",
        "    .p2align 3\n",
        ".L2:\n",
        "    leaq (%rsi,%rdx), %rax # rax = rsi (y) + rdx (z)\n",
        "    ret\n",
        "```\n",
        "* two lines before label .L2\n",
        "```\n",
        "    .p2align 4,,10\n",
        "    .p2align 3\n",
        "```\n",
        "are not instructions and can be ignored for the purpose of understanding how they work, but \n",
        "* to summarize, it ensures the address .L2 is a multiple of 16, inserting no-op instructions as necessary [details](https://sourceware.org/binutils/docs/as/P2align.html#P2align)\n",
        ""
      ]
    },
    {
      "cell_type": "markdown",
      "metadata": {
        "kernel": "SoS",
        "nbgrader": {
          "grade": false,
          "grade_id": "c-105",
          "locked": true,
          "schema_version": 3,
          "solution": false,
          "task": false
        }
      },
      "source": [
        "\n",
        "<a name=\"cmp_insn\"> </a>\n",
        "## 10-2. on cmp instruction",
        "\n",
        "```\n",
        "    cmpq %rsi,%rdi\n",
        "```\n",
        "basically compares `%rsi` (y) and `%rdi` (x)\n",
        "* some remarks\n",
        " * as always `q` stands for quadword\n",
        "* you can consider that `cmpq A,B` does what `subq A,B` does, except that the result goes to `%eflags` register not B (i.e., `%eflags = B - A`)\n",
        "* conditional branches (many instructions starting with `j`) may jump to a specified label depending on  `%eflags` (whether it's $< 0$, $\\leq 0$, $=0$, etc.)\n",
        "\n",
        "|instruction | meaning                   | an equivalent C statement  |\n",
        "|--------|-------------------------------|----------------------------|\n",
        "|jl .Lx  | jump if less than             | if (%eflags < 0) goto .Lx  |\n",
        "|jle .Lx | jump if less than or equal    | if (%eflags <= 0) goto .Lx |\n",
        "|jg .Lx  | jump if greater than          | if (%eflags > 0) goto .Lx  |\n",
        "|jge .Lx | jump if greater than or equal | if (%eflags >= 0) goto .Lx |\n",
        "|je .Lx  | jump if equal                 | if (%eflags == 0) goto .Lx |\n",
        "|jne .Lx | jump if equal                 | if (%eflags != 0) goto .Lx |\n",
        "\n",
        "* [list of all jump instructions](http://unixwiz.net/techtips/x86-jumps.html)\n",
        "* it's actually a bit inaccurate to say \"`%eflags` holds the result of the subtraction\"; as a matter of actual implementation, it only holds the sign of the result, whether it is zero, etc. as a set of bits.  the distinction does not matter much, however, as you never explicitly extract bits in `%eflags`\n",
        "* another remark: there is a choice as to whether a comparison is made as signed integers (int, long, etc. in C) or as unsigned integers (unsigned int, unsigned long, etc. in C).  above instructions are for signed comparisons\n",
        "* just for your information, below are instructions for comparing unsigned values\n",
        "\n",
        "\n",
        "|instruction | meaning                   | an equivalent C statement  |\n",
        "|--------|------------------------|----------------------------|\n",
        "|jb .Lx  | jump if below          | if (%eflags < 0) goto .Lx  |\n",
        "|jbe .Lx | jump if below or equal | if (%eflags <= 0) goto .Lx |\n",
        "|ja .Lx  | jump if above          | if (%eflags > 0) goto .Lx  |\n",
        "|jae .Lx | jump if above or equal | if (%eflags >= 0) goto .Lx |\n",
        ""
      ]
    },
    {
      "cell_type": "markdown",
      "metadata": {
        "kernel": "SoS",
        "nbgrader": {
          "grade": false,
          "grade_id": "c-106",
          "locked": true,
          "schema_version": 3,
          "solution": false,
          "task": false
        }
      },
      "source": [
        "\n",
        "<a name=\"cmp_floats\"> </a>\n",
        "## 10-3. comparing floating point numbers",
        "\n",
        "* if you think you need different instructions to compare floating point numbers, you are getting used to assembly languages\n",
        "* do not think you have to remember each of them, let `gcc -S` teach you instruction name and google it\n",
        ""
      ]
    },
    {
      "cell_type": "code",
      "metadata": {
        "kernel": "Python 3 (ipykernel)",
        "nbgrader": {
          "grade": false,
          "grade_id": "c-107",
          "locked": false,
          "schema_version": 3,
          "solution": false,
          "task": false
        }
      },
      "source": [
        "%%writefile add_or_mul_double.c\n",
        "double add_or_mul_double(double x, double y, double z) {\n",
        "  if (x < y) {\n",
        "    return y + z;\n",
        "  } else {\n",
        "    return y * z;\n",
        "  }\n",
        "}"
      ],
      "execution_count": null,
      "outputs": []
    },
    {
      "cell_type": "code",
      "metadata": {
        "kernel": "Bash",
        "nbgrader": {
          "grade": false,
          "grade_id": "c-108",
          "locked": false,
          "schema_version": 3,
          "solution": false,
          "task": false
        }
      },
      "source": [
        "gcc -O3 -S add_or_mul_double.c\n",
        "cat add_or_mul_double.s"
      ],
      "execution_count": null,
      "outputs": []
    },
    {
      "cell_type": "markdown",
      "metadata": {
        "kernel": "SoS",
        "nbgrader": {
          "grade": false,
          "grade_id": "c-109",
          "locked": true,
          "schema_version": 3,
          "solution": false,
          "task": false
        }
      },
      "source": [
        "\n",
        "* if you look at generated instructions,\n",
        "\n",
        "```\n",
        "add_or_mul_double:\n",
        ".LFB0:\n",
        "    .cfi_startproc\n",
        "    comisd %xmm0, %xmm1   # %eflags = xmm1 (y) - xmm0 (x)\n",
        "    ja .L7                # if (%eflags (= y - x) > 0) goto .L7\n",
        "    mulsd %xmm2, %xmm1    # y *= z\n",
        "    movapd %xmm1, %xmm0   # xmm0 = y\n",
        "    ret\n",
        ".L7:\n",
        "    addsd %xmm2, %xmm1    #y += z\n",
        "    movapd %xmm1, %xmm0   # xmm0 = y\n",
        "    ret\n",
        "```\n",
        "\n",
        "* you can easily imagine `comisd` is the comparison instruction\n",
        "* if you google `comisd instruction` this mysterious instruction stands for _<font color=\"blue\">COMpare Scalar Double</font>_\n",
        "* just like `cmpq`, `comisd A,B` computes B - A and puts the result into `%eflags`\n",
        ""
      ]
    },
    {
      "cell_type": "markdown",
      "metadata": {
        "kernel": "SoS",
        "nbgrader": {
          "grade": false,
          "grade_id": "c-110",
          "locked": true,
          "schema_version": 3,
          "solution": false,
          "task": false
        }
      },
      "source": [
        "\n",
        "<a name=\"loops\"> </a>\n",
        "## 10-4. loops (while and for)",
        "\n",
        "* in assembly languages, loops are made of comparison and conditional branches just as if statements are\n",
        "* the following is compiled with `-O1`, as `-O3` produces code that is difficult to understand\n",
        "* to be sure, you don't have to become able to understand all the generated code to make a compiler, but only have to know a general method/template to translate each construct \n",
        ""
      ]
    },
    {
      "cell_type": "code",
      "metadata": {
        "kernel": "Python 3 (ipykernel)",
        "nbgrader": {
          "grade": false,
          "grade_id": "c-111",
          "locked": false,
          "schema_version": 3,
          "solution": false,
          "task": false
        }
      },
      "source": [
        "%%writefile fact.c\n",
        "long fact (long n) {\n",
        "  long i = 1;\n",
        "  long p = 1;\n",
        "  while (i <= n) {\n",
        "    p = p * i;\n",
        "    i = i + 1;\n",
        "  }\n",
        "  return p;\n",
        "}"
      ],
      "execution_count": null,
      "outputs": []
    },
    {
      "cell_type": "code",
      "metadata": {
        "kernel": "Bash",
        "nbgrader": {
          "grade": false,
          "grade_id": "c-112",
          "locked": false,
          "schema_version": 3,
          "solution": false,
          "task": false
        }
      },
      "source": [
        "gcc -O3 -S fact.c\n",
        "cat fact.s"
      ],
      "execution_count": null,
      "outputs": []
    },
    {
      "cell_type": "markdown",
      "metadata": {
        "kernel": "SoS",
        "nbgrader": {
          "grade": false,
          "grade_id": "c-113",
          "locked": true,
          "schema_version": 3,
          "solution": false,
          "task": false
        }
      },
      "source": [
        "\n",
        "* comments to generated instructions\n",
        "\n",
        "```\n",
        "fact:\n",
        ".LFB0:\n",
        "    .cfi_startproc\n",
        "    testq %rdi, %rdi   # %eflags = %rdi (n) & %rdi (n)\n",
        "    jle .L4            # if (%eflags (= n) <= 0) goto .L4\n",
        "    movl $1, %eax      # rax (p) = 1\n",
        "    movl $1, %edx      # rdx (i) = 1\n",
        ".L3:\n",
        "    imulq %rdx, %rax   # p = p * i\n",
        "    addq $1, %rdx      # i = i + 1\n",
        "    cmpq %rdx, %rdi    # %eflags = rdi (n) - rdx (i)\n",
        "    jge .L3            # if (%eflags (= n - i) >= 0) goto .L3\n",
        "    rep ret\n",
        ".L4:\n",
        "    movl $1, %eax\n",
        " ret\n",
        "```\n",
        ""
      ]
    },
    {
      "cell_type": "markdown",
      "metadata": {
        "kernel": "SoS",
        "nbgrader": {
          "grade": false,
          "grade_id": "c-114",
          "locked": true,
          "schema_version": 3,
          "solution": false,
          "task": false
        }
      },
      "source": [
        "\n",
        "* in general\n",
        "```\n",
        "while (condition) \n",
        "    S;\n",
        "```\n",
        "is equivalent to\n",
        "```\n",
        "    goto LC;\n",
        "LB:\n",
        "    S;\n",
        "LC:\n",
        "    c = condition;\n",
        "    if (c) goto LB;\n",
        "```\n",
        "and you can translate $S$ and _condition_\n",
        "\n",
        "* the following code is more common (both are correct)\n",
        "\n",
        "```\n",
        "    c = condition;\n",
        "    if (!c) goto LE;\n",
        "LB:\n",
        "    S;\n",
        "    c = condition;\n",
        "    if (c) goto LB;\n",
        "LE:\n",
        "```\n",
        ""
      ]
    },
    {
      "cell_type": "markdown",
      "metadata": {
        "kernel": "SoS",
        "nbgrader": {
          "grade": false,
          "grade_id": "c-115",
          "locked": true,
          "schema_version": 3,
          "solution": false,
          "task": false
        }
      },
      "source": [
        "\n",
        "* for-statement has a different syntax but is a special case of while-statement\n",
        "\n",
        "```\n",
        "for (init ; condition; increment)\n",
        "    S;\n",
        "```\n",
        "\n",
        "is equivalent to\n",
        "\n",
        "```\n",
        "init;\n",
        "while (condition) {\n",
        "    S;\n",
        "    increment;\n",
        "}\n",
        "```\n",
        "\n",
        ""
      ]
    },
    {
      "cell_type": "code",
      "metadata": {
        "kernel": "Python 3 (ipykernel)",
        "nbgrader": {
          "grade": false,
          "grade_id": "c-116",
          "locked": false,
          "schema_version": 3,
          "solution": false,
          "task": false
        }
      },
      "source": [
        "%%writefile ax_b.c\n",
        "double ax_b(double x0, double a, double b, long n) {\n",
        "  double x = x0;\n",
        "  for (long i = 0; i < n; i++) {\n",
        "    x = a * x + b;\n",
        "  }\n",
        "  return x;\n",
        "}"
      ],
      "execution_count": null,
      "outputs": []
    },
    {
      "cell_type": "code",
      "metadata": {
        "kernel": "Bash",
        "nbgrader": {
          "grade": false,
          "grade_id": "c-117",
          "locked": false,
          "schema_version": 3,
          "solution": false,
          "task": false
        }
      },
      "source": [
        "gcc -O3 -S ax_b.c\n",
        "cat ax_b.s"
      ],
      "execution_count": null,
      "outputs": []
    },
    {
      "cell_type": "markdown",
      "metadata": {
        "kernel": "SoS",
        "nbgrader": {
          "grade": false,
          "grade_id": "c-118",
          "locked": true,
          "schema_version": 3,
          "solution": false,
          "task": false
        }
      },
      "source": [
        "\n",
        "<a name=\"problem_sum_array_long\"> </a>\n",
        "# <font color=\"green\"> Problem 3 :  sum of long arrays</font>",
        "\n",
        "* write a function `sum_array(a, n)` that computes the sum of an n-element array of longs `a` in assembly\n",
        "* see the following sum_array_c for the equivalent C function (your jobs is to write sum_array in assembly language equivalent to it)\n",
        ""
      ]
    },
    {
      "cell_type": "code",
      "metadata": {
        "kernel": "Python 3 (ipykernel)",
        "nbgrader": {
          "grade": true,
          "grade_id": "p-010",
          "locked": false,
          "schema_version": 3,
          "solution": true,
          "task": false,
          "points": 1
        }
      },
      "source": [
        "BEGIN SOLUTION\n",
        "END SOLUTION\n",
        "%%writefile sum_array.s\n",
        "\t.file\t\"sum_array.c\"\n",
        "\t.text\n",
        "\t.globl\tsum_array\n",
        "\t.type\tsum_array, @function\n",
        "sum_array:\n",
        ".LFB0:\n",
        "\t.cfi_startproc\n",
        "/* ------- 解答をここに書く. write your answer here ------- */\n",
        "        \n",
        "\t.cfi_endproc\n",
        ".LFE0:\n",
        "\t.size\tsum_array, .-sum_array\n",
        "\t.ident\t\"GCC: (Ubuntu 7.4.0-1ubuntu1~18.04.1) 7.4.0\"\n",
        "\t.section\t.note.GNU-stack,\"\",@progbits"
      ],
      "execution_count": null,
      "outputs": []
    },
    {
      "cell_type": "code",
      "metadata": {
        "kernel": "Python 3 (ipykernel)",
        "nbgrader": {
          "grade": true,
          "grade_id": "p-011",
          "locked": false,
          "schema_version": 3,
          "solution": true,
          "task": false,
          "points": 1
        }
      },
      "source": [
        "BEGIN SOLUTION\n",
        "END SOLUTION\n",
        "%%writefile check_sum_array.c\n",
        "#include <assert.h>\n",
        "#include <stdio.h>\n",
        "#include <stdlib.h>\n",
        "long sum_array(long *, long);\n",
        "\n",
        "long sum_array_c(long * a, long n) {\n",
        "  long s = 0;\n",
        "  for (long i = 0; i < n; i++) {\n",
        "    s += a[i];\n",
        "  }\n",
        "  return s;\n",
        "}\n",
        "\n",
        "int main(int argc, char ** argv) {\n",
        "  long n = argc - 1;\n",
        "  long * a = (long *)malloc(sizeof(long) * n);\n",
        "  for (long i = 0; i < n; i++) {\n",
        "    a[i] = atol(argv[i + 1]);\n",
        "  }\n",
        "  long sa = sum_array(a, n);\n",
        "  assert(sa == sum_array_c(a, n));\n",
        "  printf(\"OK\\n\");\n",
        "  return 0;\n",
        "}"
      ],
      "execution_count": null,
      "outputs": []
    },
    {
      "cell_type": "code",
      "metadata": {
        "kernel": "Bash",
        "nbgrader": {
          "grade": true,
          "grade_id": "p-012",
          "locked": false,
          "schema_version": 3,
          "solution": true,
          "task": false,
          "points": 1
        }
      },
      "source": [
        "BEGIN SOLUTION\n",
        "END SOLUTION\n",
        "gcc -o check_sum_array -O3 check_sum_array.c sum_array.s"
      ],
      "execution_count": null,
      "outputs": []
    },
    {
      "cell_type": "code",
      "metadata": {
        "kernel": "Bash",
        "nbgrader": {
          "grade": true,
          "grade_id": "p-013",
          "locked": false,
          "schema_version": 3,
          "solution": true,
          "task": false,
          "points": 1
        }
      },
      "source": [
        "BEGIN SOLUTION\n",
        "END SOLUTION\n",
        "./check_sum_array 1 2 3 4 5\n",
        "./check_sum_array 1 2 3 4 5 -6\n",
        "./check_sum_array 1 -2 3 -4 5 -6 7"
      ],
      "execution_count": null,
      "outputs": []
    },
    {
      "cell_type": "markdown",
      "metadata": {
        "kernel": "SoS",
        "nbgrader": {
          "grade": false,
          "grade_id": "c-119",
          "locked": true,
          "schema_version": 3,
          "solution": false,
          "task": false
        }
      },
      "source": [
        "\n",
        "<a name=\"problem_max_array_double\"> </a>\n",
        "# <font color=\"green\"> Problem 4 :  maximum value in double array</font>",
        "\n",
        "* write a function `max_array(a, n)` that computes the maximum value of an n-element array of doubles `a` in assembly\n",
        "* you may assume all elements are positive and return 0 if there are no elements (i.e., n = 0)\n",
        "* see `max_array_c` for an equivalent C function\n",
        ""
      ]
    },
    {
      "cell_type": "code",
      "metadata": {
        "kernel": "Python 3 (ipykernel)",
        "nbgrader": {
          "grade": true,
          "grade_id": "p-014",
          "locked": false,
          "schema_version": 3,
          "solution": true,
          "task": false,
          "points": 1
        }
      },
      "source": [
        "BEGIN SOLUTION\n",
        "END SOLUTION\n",
        "%%writefile max_array.s\n",
        "\t.file\t\"max_array.c\"\n",
        "\t.text\n",
        "\t.globl\tmax_array\n",
        "\t.type\tmax_array, @function\n",
        "max_array:\n",
        ".LFB0:\n",
        "\t.cfi_startproc\n",
        "/* ------- 解答をここに書く. write your answer here ------- */\n",
        "\n",
        "\t.cfi_endproc\n",
        ".LFE0:\n",
        "\t.size\tmax_array, .-max_array\n",
        "\t.ident\t\"GCC: (Ubuntu 7.4.0-1ubuntu1~18.04.1) 7.4.0\"\n",
        "\t.section\t.note.GNU-stack,\"\",@progbits"
      ],
      "execution_count": null,
      "outputs": []
    },
    {
      "cell_type": "code",
      "metadata": {
        "kernel": "Python 3 (ipykernel)",
        "nbgrader": {
          "grade": true,
          "grade_id": "p-015",
          "locked": false,
          "schema_version": 3,
          "solution": true,
          "task": false,
          "points": 1
        }
      },
      "source": [
        "BEGIN SOLUTION\n",
        "END SOLUTION\n",
        "%%writefile check_max_array.c\n",
        "#include <assert.h>\n",
        "#include <stdio.h>\n",
        "#include <stdlib.h>\n",
        "double max_array(double *, long);\n",
        "\n",
        "double max_array_c(double * a, long n) {\n",
        "  double m = 0.0;\n",
        "  for (long i = 0; i < n; i++) {\n",
        "    if (a[i] > m) m = a[i];\n",
        "  }\n",
        "  return m;\n",
        "}\n",
        "\n",
        "int main(int argc, char ** argv) {\n",
        "  long n = argc - 1;\n",
        "  double * a = (double *)malloc(sizeof(double) * n);\n",
        "  for (long i = 0; i < n; i++) {\n",
        "    a[i] = atof(argv[i + 1]);\n",
        "  }\n",
        "  double sa = max_array(a, n);\n",
        "  assert(sa == max_array_c(a, n));\n",
        "  printf(\"OK\\n\");\n",
        "  return 0;\n",
        "}"
      ],
      "execution_count": null,
      "outputs": []
    },
    {
      "cell_type": "code",
      "metadata": {
        "kernel": "Bash",
        "nbgrader": {
          "grade": true,
          "grade_id": "p-016",
          "locked": false,
          "schema_version": 3,
          "solution": true,
          "task": false,
          "points": 1
        }
      },
      "source": [
        "BEGIN SOLUTION\n",
        "END SOLUTION\n",
        "gcc -o check_max_array -O3 check_max_array.c max_array.s"
      ],
      "execution_count": null,
      "outputs": []
    },
    {
      "cell_type": "code",
      "metadata": {
        "kernel": "Bash",
        "nbgrader": {
          "grade": true,
          "grade_id": "p-017",
          "locked": false,
          "schema_version": 3,
          "solution": true,
          "task": false,
          "points": 1
        }
      },
      "source": [
        "BEGIN SOLUTION\n",
        "END SOLUTION\n",
        "./check_max_array 1.2 2.3 3.4\n",
        "./check_max_array 1.2 3.4 2.3\n",
        "./check_max_array 3.4 1.2 2.3\n",
        "./check_max_array"
      ],
      "execution_count": null,
      "outputs": []
    },
    {
      "cell_type": "markdown",
      "metadata": {
        "kernel": "SoS",
        "nbgrader": {
          "grade": false,
          "grade_id": "c-120",
          "locked": true,
          "schema_version": 3,
          "solution": false,
          "task": false
        }
      },
      "source": [
        "\n",
        "<a name=\"functions_that_call_functions\"> </a>\n",
        "# 11. A general mechanism behind function calls (stack)",
        "\n",
        "* functions we have seen so far never call another function\n",
        "* in them, it has been enough to carry out the specified computation, given which registers hold inputs and which register should hold the return value\n",
        "* there are few more things you have to understand when the function calls another function\n",
        "* let's consider the following\n",
        ""
      ]
    },
    {
      "cell_type": "code",
      "metadata": {
        "kernel": "Python 3 (ipykernel)",
        "nbgrader": {
          "grade": false,
          "grade_id": "c-121",
          "locked": false,
          "schema_version": 3,
          "solution": false,
          "task": false
        }
      },
      "source": [
        "%%writefile call_gg_hh.c \n",
        "long gg(long);\n",
        "long hh(long);\n",
        "long ff() {\n",
        "  long x = gg(1);\n",
        "  long y = hh(2);\n",
        "  return x + y;\n",
        "}"
      ],
      "execution_count": null,
      "outputs": []
    },
    {
      "cell_type": "code",
      "metadata": {
        "kernel": "Bash",
        "nbgrader": {
          "grade": false,
          "grade_id": "c-122",
          "locked": false,
          "schema_version": 3,
          "solution": false,
          "task": false
        }
      },
      "source": [
        "gcc -O3 -S call_gg_hh.c \n",
        "cat call_gg_hh.cs"
      ],
      "execution_count": null,
      "outputs": []
    },
    {
      "cell_type": "markdown",
      "metadata": {
        "kernel": "SoS",
        "nbgrader": {
          "grade": false,
          "grade_id": "c-123",
          "locked": true,
          "schema_version": 3,
          "solution": false,
          "task": false
        }
      },
      "source": [
        "\n",
        "* consider you are at `-->`, the instruction right after `gg(1)` returns\n",
        "\n",
        "```\n",
        "    call gg@PLT\n",
        "--> ...\n",
        "```\n",
        "\n",
        "* at this point the return value of `gg(1)` should be on `%rax`\n",
        "* what to do next is to call `hh(2)`, but just calling it would obviously destroy the return value of `gg(1)`, as `hh(2)` too will put the return value on `%rax`\n",
        "* it is therefore necessary to save the return value of `gg(1)` somewhere, before calling `hh(2)`\n",
        "* a similar situation arises whenever a value (local variables, arrays, intermediate results of an expression, etc.) needs to be preserved _<font color=\"blue\">across function calls</font>_\n",
        "* where should we save such values? it must be regions that are not destroyed across function calls\n",
        "* there are two such regions\n",
        " 1. a memory area, called the _<font color=\"blue\">stack</font>_\n",
        " 1. _<font color=\"blue\">callee-save registers</font>_ registers so designated by ABI that they ought to be preserved across function calls\n",
        ""
      ]
    },
    {
      "cell_type": "markdown",
      "metadata": {
        "kernel": "SoS",
        "nbgrader": {
          "grade": false,
          "grade_id": "c-124",
          "locked": true,
          "schema_version": 3,
          "solution": false,
          "task": false
        }
      },
      "source": [
        "\n",
        "<a name=\"stack\"> </a>\n",
        "## 11-1. stack region",
        "\n",
        "* a stack region is a part of address space that is managed by a convention and used for holding values that cannot be held on registers\n",
        "* as a basis, a designated register called `%rsp` always points to an end of the stack region\n",
        "* the addresses equal to or higher than the address in `%rsp` ($a \\geq$ `%rsp`) are the region \"being used\" and the addresses below `%rsp` ($a <$ `%rsp`) are free\n",
        "\n",
        "<img src=\"img/stack_1.svg\" /> \n",
        ""
      ]
    },
    {
      "cell_type": "markdown",
      "metadata": {
        "kernel": "SoS",
        "nbgrader": {
          "grade": false,
          "grade_id": "c-125",
          "locked": true,
          "schema_version": 3,
          "solution": false,
          "task": false
        }
      },
      "source": [
        "\n",
        "<a name=\"callee_save_regs\"> </a>\n",
        "## 11-2. callee-save registers",
        "\n",
        "* callee-save registers are registers so specified in ABI that they should be preserved across function calls\n",
        "* in x86_64 ABI, following registers are designated as callee-save registers\n",
        "\n",
        "|callee-save registers|\n",
        "|----------|\n",
        "|%rbx      |\n",
        "|%rbp      |\n",
        "|%r12      |\n",
        "|%r13      |\n",
        "|%r14      |\n",
        "|%r15      |\n",
        "\n",
        "* let's say a function `f` calls another function `g`\n",
        "* if `f` wants to preserve a value across the call to `g()`, it could put it on a callee-save register instead of the stack \n",
        "* in that case, on the other hand, `f` needs to preserve the value originally in that register when `f` starts execution and restores it when `f` returns; the reason is obvious, as any caller of `f` also expects `f` to preserve values on callee-save registers as well (there are no free lunch)\n",
        "* a function needs to use the stack region to save and restore callee-save registers\n",
        "* a function usually saves and restores them upon entry to the function and return from it, respectively\n",
        ""
      ]
    },
    {
      "cell_type": "markdown",
      "metadata": {
        "kernel": "SoS",
        "nbgrader": {
          "grade": false,
          "grade_id": "c-126",
          "locked": true,
          "schema_version": 3,
          "solution": false,
          "task": false
        }
      },
      "source": [
        "\n",
        "* with that in mind, let's take another look at the compilation result of that function\n",
        ""
      ]
    },
    {
      "cell_type": "code",
      "metadata": {
        "kernel": "Python 3 (ipykernel)",
        "nbgrader": {
          "grade": false,
          "grade_id": "c-127",
          "locked": false,
          "schema_version": 3,
          "solution": false,
          "task": false
        }
      },
      "source": [
        "%%writefile call_gg_hh.c \n",
        "long gg(long);\n",
        "long hh(long);\n",
        "long ff() {\n",
        "  long x = gg(1);\n",
        "  long y = hh(2);\n",
        "  return x + y;\n",
        "}"
      ],
      "execution_count": null,
      "outputs": []
    },
    {
      "cell_type": "code",
      "metadata": {
        "kernel": "Bash",
        "nbgrader": {
          "grade": false,
          "grade_id": "c-128",
          "locked": false,
          "schema_version": 3,
          "solution": false,
          "task": false
        }
      },
      "source": [
        "gcc -O3 -S call_gg_hh.c \n",
        "cat call_gg_hh.cs"
      ],
      "execution_count": null,
      "outputs": []
    },
    {
      "cell_type": "markdown",
      "metadata": {
        "kernel": "SoS",
        "nbgrader": {
          "grade": false,
          "grade_id": "c-129",
          "locked": true,
          "schema_version": 3,
          "solution": false,
          "task": false
        }
      },
      "source": [
        "\n",
        "* generated instructions\n",
        "```\n",
        "ff:\n",
        ".LFB0:\n",
        "    pushq %rbx      # save rbx (a callee-save register) on stack\n",
        "    movl $1, %edi   # rdi = 1\n",
        "    call gg@PLT     # gg(1)\n",
        "    movq %rax, %rbx # save the return value on rbx\n",
        "    movl $2, %edi   # rdi = 2\n",
        "    call hh@PLT     # hh(2)\n",
        "    addq %rbx, %rax # rax += rbx\n",
        "    popq %rbx       # restore rbx\n",
        "    ret\n",
        "```\n",
        "\n",
        "* here\n",
        "```\n",
        "    pushq %rbx\n",
        "```\n",
        "is an instruction that (1) decrements `%rsp` by eight (quadword) and stores the value of `%rbx` there.  it is equivalent to\n",
        "```\n",
        "    subq $8,%rsp\n",
        "    movlq %rbx,(%rsp)\n",
        "```\n",
        "* recall that addresses below (lower than) `%rsp` are free, so `push X` essentially allocates a space for X and stores it there\n",
        "* the operation is often expressed as _<font color=\"blue\">\"pushing `%rbx` onto the stack\"</font>_\n",
        "* on the contrary, \n",
        "```\n",
        "    popq %rbx       # restore rbx\n",
        "```\n",
        "reads the value at the address pointed to by `%rsp` into `%rbx` and increments `%rsp` by eight.  it is equivalent to\n",
        "```\n",
        "    movlq (%rsp),%rbx\n",
        "    addq $8,%rsp\n",
        "```\n",
        "* it is often expressed as _<font color=\"blue\">\"popping a value (from the stack) to `%rbx`\"</font>_\n",
        "\n",
        "* `ret` instruction is in fact an instruction that (1) pops an address from the stack and (2) jumps to the address.  semantically it is equivalent to this (remember that `%rip` is the register holding the address to fetch the next instruction from)\n",
        "```\n",
        "    popq %rip\n",
        "```\n",
        ""
      ]
    },
    {
      "cell_type": "markdown",
      "metadata": {
        "kernel": "SoS",
        "nbgrader": {
          "grade": false,
          "grade_id": "c-130",
          "locked": true,
          "schema_version": 3,
          "solution": false,
          "task": false
        }
      },
      "source": [
        "\n",
        "* the above example used the stack merely to save/restore ``rbx`\n",
        "* let's look at an example that uses the stack more extensively\n",
        "* functions that use lots of values that must be preserved across function call tend to do so\n",
        ""
      ]
    },
    {
      "cell_type": "code",
      "metadata": {
        "kernel": "Python 3 (ipykernel)",
        "nbgrader": {
          "grade": false,
          "grade_id": "c-131",
          "locked": false,
          "schema_version": 3,
          "solution": false,
          "task": false
        }
      },
      "source": [
        "%%writefile many_vars.c\n",
        "long gg(long);\n",
        "long ff() {\n",
        "  long a0 = gg(0);\n",
        "  long a1 = gg(1);\n",
        "  long a2 = gg(2);\n",
        "  long a3 = gg(3);\n",
        "  long a4 = gg(4);\n",
        "  long a5 = gg(5);\n",
        "  long a6 = gg(6);\n",
        "  long a7 = gg(7);\n",
        "  long a8 = gg(8);\n",
        "  long a9 = gg(9);\n",
        "  long x = gg(10);\n",
        "  if (x < 0) return a0;\n",
        "  if (x < 1) return a1;\n",
        "  if (x < 2) return a2;\n",
        "  if (x < 3) return a3;\n",
        "  if (x < 4) return a4;\n",
        "  if (x < 5) return a5;\n",
        "  if (x < 6) return a6;\n",
        "  if (x < 7) return a7;\n",
        "  if (x < 8) return a8;\n",
        "  return a9;\n",
        "}"
      ],
      "execution_count": null,
      "outputs": []
    },
    {
      "cell_type": "code",
      "metadata": {
        "kernel": "Bash",
        "nbgrader": {
          "grade": false,
          "grade_id": "c-132",
          "locked": false,
          "schema_version": 3,
          "solution": false,
          "task": false
        }
      },
      "source": [
        "gcc -O1 -S many_vars.c\n",
        "cat many_vars.s"
      ],
      "execution_count": null,
      "outputs": []
    },
    {
      "cell_type": "markdown",
      "metadata": {
        "kernel": "SoS",
        "nbgrader": {
          "grade": false,
          "grade_id": "c-133",
          "locked": true,
          "schema_version": 3,
          "solution": false,
          "task": false
        }
      },
      "source": [
        "\n",
        "* observe\n",
        " * part of return values of `gg()` use callee-save registers\n",
        " * other values that do not fit callee-save registers use the stack\n",
        ""
      ]
    },
    {
      "cell_type": "markdown",
      "metadata": {
        "kernel": "SoS",
        "nbgrader": {
          "grade": false,
          "grade_id": "c-134",
          "locked": true,
          "schema_version": 3,
          "solution": false,
          "task": false
        }
      },
      "source": [
        "\n",
        "* you can observe the stack being used for large data structures such as arrays\n",
        "* omitting details, the compilation flag `-fno-stack-protector` below simplifies the generated code\n",
        ""
      ]
    },
    {
      "cell_type": "code",
      "metadata": {
        "kernel": "Python 3 (ipykernel)",
        "nbgrader": {
          "grade": false,
          "grade_id": "c-135",
          "locked": false,
          "schema_version": 3,
          "solution": false,
          "task": false
        }
      },
      "source": [
        "%%writefile large_stack.c\n",
        "long gg(long *);\n",
        "long hh(long *);\n",
        "long ff() {\n",
        "  long a[100];\n",
        "  long x = gg(a);\n",
        "  long y = hh(a);\n",
        "  return x + y;\n",
        "}"
      ],
      "execution_count": null,
      "outputs": []
    },
    {
      "cell_type": "code",
      "metadata": {
        "kernel": "Bash",
        "nbgrader": {
          "grade": false,
          "grade_id": "c-136",
          "locked": false,
          "schema_version": 3,
          "solution": false,
          "task": false
        }
      },
      "source": [
        "gcc -O1 -fno-stack-protector -S large_stack.c\n",
        "cat large_stack.s"
      ],
      "execution_count": null,
      "outputs": []
    },
    {
      "cell_type": "markdown",
      "metadata": {
        "kernel": "SoS",
        "nbgrader": {
          "grade": false,
          "grade_id": "c-137",
          "locked": true,
          "schema_version": 3,
          "solution": false,
          "task": false
        }
      },
      "source": [
        "\n",
        "* observe\n",
        " * two callee-save registers, `%rbp` and `%rbx`, are used\n",
        " * they are accordingly `pushq`'ed prior to execution of the function\n",
        " * in addition, a memory block for `long a[100]` (800 bytes) is allocated on the stack\n",
        "```\n",
        "    subq $808, %rsp\n",
        "```\n",
        "* `%rbp` holds the address of `a`\n",
        "* `%rbx` holds the return value of `gg` (`x`)\n",
        ""
      ]
    },
    {
      "cell_type": "markdown",
      "metadata": {
        "kernel": "SoS",
        "nbgrader": {
          "grade": false,
          "grade_id": "c-138",
          "locked": true,
          "schema_version": 3,
          "solution": false,
          "task": false
        }
      },
      "source": [
        "\n",
        "* x86_64 ABI specifies that during the execution of a function (right before it calls another function, more precisely), `%rsp` must be a multiple of sixteen\n",
        "* in other words, at the beginning of a function, the remainder of `%rsp` divided by sixteen is eight (as the `call` instruction decrements rsp by eight)\n",
        "* a function calling another function takes this into consideration when adjusting `%rsp`\n",
        "* observe that after the above function executes `subq $808, %rsp`, `%rsp` is a multiple of sixteen (the remainder of `%rsp` is eight at the beginning; the function then performs two pushq's (rsp -= 16) and rsp -= 808;\n",
        ""
      ]
    },
    {
      "cell_type": "markdown",
      "metadata": {
        "kernel": "SoS",
        "nbgrader": {
          "grade": false,
          "grade_id": "c-139",
          "locked": true,
          "schema_version": 3,
          "solution": false,
          "task": false
        }
      },
      "source": [
        "\n",
        "<a name=\"summary_of_stack\"> </a>\n",
        "## 11-3. summary of how the stack works",
        ""
      ]
    },
    {
      "cell_type": "markdown",
      "metadata": {
        "kernel": "SoS",
        "nbgrader": {
          "grade": false,
          "grade_id": "c-140",
          "locked": true,
          "schema_version": 3,
          "solution": false,
          "task": false
        }
      },
      "source": [
        "\n",
        "say function `f` calls `g`\n",
        "\n",
        "1.  right before the `call` instruction (`call g@PLT`)\n",
        "\n",
        "<img src=\"img/stack_1.svg\" /> \n",
        "\n",
        "2\\. right after the `call` instruction = at the beginning of `g`\n",
        "\n",
        "<img src=\"img/stack_2.svg\" /> \n",
        "\n",
        "the `call` instruction decrements rsp and stores the address immediately following the call instruction at the end of the stack\n",
        "\n",
        "3\\. if `g` uses any callee-save register, it saves whatever are used on the stack with `pushq` (the stack right after those `pushq`s)\n",
        "\n",
        "<img src=\"img/stack_3.svg\" /> \n",
        "\n",
        "4\\. if `g` needs more memory space on the stack it allocates the space by decrementing `%rsp` as necessary (the stack right after that)\n",
        "\n",
        "<img src=\"img/stack_4.svg\" /> \n",
        "\n",
        "5\\. executes `g`\n",
        "\n",
        "6\\. when `g` returns, it deallocates the space by incrementing `%rsp` accordingly (the stack right after that)\n",
        "\n",
        "<img src=\"img/stack_3.svg\" /> \n",
        "\n",
        "7\\. it restores callee-save registers by necessary `popq` instructions (the stack right after `popq`s)\n",
        "\n",
        "<img src=\"img/stack_2.svg\" /> \n",
        "\n",
        "8\\. it executes `ret` instruction (the stack right after `ret`)\n",
        "\n",
        "<img src=\"img/stack_1.svg\" /> \n",
        ""
      ]
    }
  ],
  "metadata": {
    "celltoolbar": "Create Assignment",
    "kernelspec": {
      "display_name": "SoS",
      "language": "sos",
      "name": "sos"
    },
    "language_info": {
      "codemirror_mode": "sos",
      "file_extension": ".sos",
      "mimetype": "text/x-sos",
      "name": "sos",
      "nbconvert_exporter": "sos_notebook.converter.SoS_Exporter",
      "pygments_lexer": "sos"
    },
    "sos": {
      "kernels": [
        [
          "Bash",
          "bash",
          "bash",
          "",
          "shell"
        ],
        [
          "C",
          "c_kernel",
          "c",
          "",
          ""
        ],
        [
          "Go",
          "gophernotes",
          "go",
          "",
          ""
        ],
        [
          "Julia 1.11.4",
          "julia-1.11",
          "julia",
          "",
          ""
        ],
        [
          "OCaml 4.14.2",
          "ocaml-jupyter",
          "OCaml",
          "",
          "text/x-ocaml"
        ],
        [
          "Python 3 (ipykernel)",
          "python3",
          "python3",
          "",
          {
            "name": "ipython",
            "version": 3
          }
        ],
        [
          "Rust",
          "rust",
          "rust",
          "",
          ""
        ]
      ],
      "panel": {
        "displayed": true,
        "height": 0
      },
      "version": "0.23.3"
    }
  },
  "nbformat": 4,
  "nbformat_minor": 4
}